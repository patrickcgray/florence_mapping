{
 "cells": [
  {
   "cell_type": "markdown",
   "metadata": {},
   "source": [
    "# Manual Labeling Data Preparation"
   ]
  },
  {
   "cell_type": "code",
   "execution_count": 1,
   "metadata": {},
   "outputs": [],
   "source": [
    "import rasterio\n",
    "import random\n",
    "import matplotlib.pyplot as plt\n",
    "import os\n",
    "import sys\n",
    "from sklearn.utils import class_weight\n",
    "module_path = os.path.abspath(os.path.join('..'))\n",
    "if module_path not in sys.path:\n",
    "    sys.path.append(module_path)\n",
    "    \n",
    "module_path = os.path.abspath(os.path.join('rcnn'))\n",
    "if module_path not in sys.path:\n",
    "    sys.path.append(module_path)\n",
    "\n",
    "import utilities as util\n",
    "import importlib\n",
    "import rnn_tiles\n",
    "import rnn_pixels\n",
    "import numpy as np\n",
    "\n",
    "import pandas as pd\n",
    "import geopandas as gpd\n",
    "from shapely.geometry import Point"
   ]
  },
  {
   "cell_type": "code",
   "execution_count": 19,
   "metadata": {},
   "outputs": [
    {
     "data": {
      "text/plain": [
       "<module 'utilities' from '/host/Code/florence_mapping/utilities.py'>"
      ]
     },
     "execution_count": 19,
     "metadata": {},
     "output_type": "execute_result"
    }
   ],
   "source": [
    "importlib.reload(rnn_pixels)\n",
    "importlib.reload(rnn_tiles)\n",
    "importlib.reload(util)"
   ]
  },
  {
   "cell_type": "markdown",
   "metadata": {},
   "source": [
    "Load in the training data"
   ]
  },
  {
   "cell_type": "code",
   "execution_count": 3,
   "metadata": {},
   "outputs": [],
   "source": [
    "lc_labels = rasterio.open('/deep_data/recurrent_data/NLCD_DATA/landcover/NLCD_2011_Land_Cover_L48_20190424.img')\n",
    "canopy_labels = rasterio.open('/deep_data/recurrent_data/NLCD_DATA/canopy/CONUSCartographic_2_8_16/Cartographic/nlcd2011_usfs_conus_canopy_cartographic.img')"
   ]
  },
  {
   "cell_type": "markdown",
   "metadata": {},
   "source": [
    "### Ingest the landsat imagery stacked into yearly seasonal tiles\n",
    "\n",
    "We don't really need to do this here but the code is just copied from the rcnn code"
   ]
  },
  {
   "cell_type": "code",
   "execution_count": 4,
   "metadata": {},
   "outputs": [],
   "source": [
    "tiles = {}\n",
    "landsat_datasets = {}\n",
    "tiles['028012'] = ['20110324', '20110612', '20110831', '20111103']\n",
    "tiles['029011'] = ['20110308', '20110425', '20110831', '20111103']\n",
    "tiles['028011'] = ['20110308', '20110628', '20110831', '20111103']\n",
    "for tile_number, dates in tiles.items():\n",
    "    tile_datasets = []\n",
    "    l8_image_paths = []\n",
    "    for date in dates:\n",
    "        l8_image_paths.append('/deep_data/recurrent_data/tile{}/combined/combined{}.tif'.format(tile_number, date))\n",
    "    for fp in l8_image_paths:\n",
    "        tile_datasets.append(rasterio.open(fp))\n",
    "    landsat_datasets[tile_number] = tile_datasets"
   ]
  },
  {
   "cell_type": "markdown",
   "metadata": {},
   "source": [
    "### The next two cells are for making pixels and prepping them for training (balancing)"
   ]
  },
  {
   "cell_type": "code",
   "execution_count": 33,
   "metadata": {},
   "outputs": [
    {
     "name": "stdout",
     "output_type": "stream",
     "text": [
      "2019-11-07 02:15:42.495754\n"
     ]
    }
   ],
   "source": [
    "import datetime\n",
    "\n",
    "print(datetime.datetime.now())"
   ]
  },
  {
   "cell_type": "code",
   "execution_count": 34,
   "metadata": {
    "scrolled": true
   },
   "outputs": [],
   "source": [
    "tile_size = 5\n",
    "tile_list = ['028012', '029011', '028011']\n",
    "px = rnn_pixels.make_pixels(tile_size, tile_list)\n",
    "px_to_use = px[:3000000]\n",
    "pixels = rnn_pixels.delete_bad_tiles(landsat_datasets,lc_labels, canopy_labels, px_to_use, tile_size, buffer_pix=1)"
   ]
  },
  {
   "cell_type": "code",
   "execution_count": 35,
   "metadata": {},
   "outputs": [
    {
     "name": "stdout",
     "output_type": "stream",
     "text": [
      "2019-11-07 03:20:09.997691\n"
     ]
    }
   ],
   "source": [
    "print(datetime.datetime.now())"
   ]
  },
  {
   "cell_type": "code",
   "execution_count": 36,
   "metadata": {},
   "outputs": [
    {
     "data": {
      "text/plain": [
       "3000000"
      ]
     },
     "execution_count": 36,
     "metadata": {},
     "output_type": "execute_result"
    }
   ],
   "source": [
    "# this should be equal to 5000*5000 * 3 / (7*7) ~ 1,530,000\n",
    "len(px)"
   ]
  },
  {
   "cell_type": "code",
   "execution_count": 37,
   "metadata": {},
   "outputs": [
    {
     "data": {
      "text/plain": [
       "1036509"
      ]
     },
     "execution_count": 37,
     "metadata": {},
     "output_type": "execute_result"
    }
   ],
   "source": [
    "len(pixels)"
   ]
  },
  {
   "cell_type": "code",
   "execution_count": 18,
   "metadata": {},
   "outputs": [
    {
     "data": {
      "text/plain": [
       "array([[[0, 1, 1],\n",
       "        [0, 1, 1],\n",
       "        [0, 1, 1]]])"
      ]
     },
     "execution_count": 18,
     "metadata": {},
     "output_type": "execute_result"
    }
   ],
   "source": [
    "np.vectorize(util.class_to_index.get)(np.array([[[11,22,23], [11,22,23], [11,22,23]]]))"
   ]
  },
  {
   "cell_type": "code",
   "execution_count": 17,
   "metadata": {},
   "outputs": [
    {
     "data": {
      "text/plain": [
       "array([[[1., 1., 1.],\n",
       "        [1., 1., 1.],\n",
       "        [1., 1., 1.]],\n",
       "\n",
       "       [[1., 1., 1.],\n",
       "        [1., 1., 1.],\n",
       "        [1., 1., 1.]],\n",
       "\n",
       "       [[1., 1., 1.],\n",
       "        [1., 1., 1.],\n",
       "        [1., 1., 1.]]])"
      ]
     },
     "execution_count": 17,
     "metadata": {},
     "output_type": "execute_result"
    }
   ],
   "source": [
    "np.ones((3,3,3))"
   ]
  },
  {
   "cell_type": "code",
   "execution_count": 38,
   "metadata": {
    "scrolled": false
   },
   "outputs": [
    {
     "name": "stdout",
     "output_type": "stream",
     "text": [
      "0 416533\n",
      "1 4379\n",
      "2 408096\n",
      "3 186823\n",
      "4 1500\n",
      "5 19178\n",
      "1036509\n"
     ]
    }
   ],
   "source": [
    "class_count = 6\n",
    "\n",
    "# gets balanced pixels locations \n",
    "w_tile_gen = rnn_tiles.rnn_tile_gen(landsat_datasets, lc_labels, canopy_labels, tile_size, class_count)\n",
    "w_generator = w_tile_gen.tile_generator(pixels, batch_size=1, flatten=True, canopy=True)\n",
    "total_labels = list()\n",
    "count = 0\n",
    "#buckets = {0:[], 1:[], 2:[], 3:[], 4:[], 5:[]}\n",
    "buckets = {0:[], 1:[], 2:[], 3:[], 4:[], 5:[]}\n",
    "\n",
    "while count < len(pixels):\n",
    "        image_b, label_b = next(w_generator)\n",
    "        buckets[np.argmax(label_b[\"landcover\"])].append({\n",
    "            \"pixel_loc\" : pixels[count][0],\n",
    "            \"tile_name\" : pixels[count][1],\n",
    "            \"landcover\" : np.argmax(label_b[\"landcover\"]),\n",
    "            \"canopy\" : float(label_b[\"canopy\"])\n",
    "                                }) # appends pixels to dictionary\n",
    "        count+=1\n",
    "count = 0 \n",
    "for z, j in buckets.items():\n",
    "    print(z, len(j))\n",
    "    count += len(j)\n",
    "print(count) "
   ]
  },
  {
   "cell_type": "code",
   "execution_count": null,
   "metadata": {},
   "outputs": [],
   "source": [
    "# no buf size 5 tiles\n",
    "0 219518\n",
    "1 10449\n",
    "2 256214\n",
    "3 137680\n",
    "4 1925\n",
    "5 20608\n",
    "646394\n",
    "\n",
    "# there is clearly an issue with the buffer in developed regions, not enough data\n",
    "\n",
    "# size 5 tiles\n",
    "0 213004\n",
    "1 275\n",
    "2 152670\n",
    "3 84883\n",
    "4 729\n",
    "5 9741\n",
    "461302\n",
    "\n",
    "# size 7 tiles\n",
    "0 209406\n",
    "1 260\n",
    "2 149739\n",
    "3 84025\n",
    "4 651\n",
    "5 9392\n",
    "453473"
   ]
  },
  {
   "cell_type": "markdown",
   "metadata": {},
   "source": [
    "run through the pixels, buffer each pixel and add it to a geopandas dataset, convert that CRS to 4326 then save that geopandas dataset as a shapefile "
   ]
  },
  {
   "cell_type": "code",
   "execution_count": 39,
   "metadata": {},
   "outputs": [],
   "source": [
    "#count_per_class = 3000\n",
    "count_per_class = 1667 # 1667 * 6 ~= 10,000\n",
    "pixel_coords = []\n",
    "\n",
    "for lc_class in buckets.keys():\n",
    "    for i, pixel in enumerate(buckets[lc_class]):\n",
    "        landsat_ds = landsat_datasets[pixel[\"tile_name\"]][0] # get the stack of ls datasets from that location and take the first\n",
    "        x, y = landsat_ds.xy(pixel[\"pixel_loc\"][0], pixel[\"pixel_loc\"][1])\n",
    "        pixel_coords.append({\n",
    "        \"x\" : x,\n",
    "        \"y\" : y,\n",
    "        \"label\" : pixel[\"landcover\"],\n",
    "        \"canopy\" : pixel[\"canopy\"],\n",
    "        \"tile_name\" : pixel[\"tile_name\"]\n",
    "                        })\n",
    "        if i > count_per_class:\n",
    "            break"
   ]
  },
  {
   "cell_type": "code",
   "execution_count": 40,
   "metadata": {},
   "outputs": [
    {
     "data": {
      "text/plain": [
       "array([[<matplotlib.axes._subplots.AxesSubplot object at 0x7f3da5222080>]],\n",
       "      dtype=object)"
      ]
     },
     "execution_count": 40,
     "metadata": {},
     "output_type": "execute_result"
    },
    {
     "data": {
      "image/png": "[encoded data removed]",
      "text/plain": [
       "<Figure size 432x288 with 1 Axes>"
      ]
     },
     "metadata": {
      "needs_background": "light"
     },
     "output_type": "display_data"
    }
   ],
   "source": [
    "# create a dataframe from the pixel coordinates\n",
    "df = pd.DataFrame(pixel_coords)\n",
    "df.hist(column=\"label\")"
   ]
  },
  {
   "cell_type": "code",
   "execution_count": 41,
   "metadata": {},
   "outputs": [
    {
     "data": {
      "text/plain": [
       "CRS.from_wkt('PROJCS[\"Albers\",GEOGCS[\"WGS 84\",DATUM[\"WGS_1984\",SPHEROID[\"WGS 84\",6378140,298.2569999999957,AUTHORITY[\"EPSG\",\"7030\"]],AUTHORITY[\"EPSG\",\"6326\"]],PRIMEM[\"Greenwich\",0],UNIT[\"degree\",0.0174532925199433],AUTHORITY[\"EPSG\",\"4326\"]],PROJECTION[\"Albers_Conic_Equal_Area\"],PARAMETER[\"standard_parallel_1\",29.5],PARAMETER[\"standard_parallel_2\",45.5],PARAMETER[\"latitude_of_center\",23],PARAMETER[\"longitude_of_center\",-96],PARAMETER[\"false_easting\",0],PARAMETER[\"false_northing\",0],UNIT[\"metre\",1,AUTHORITY[\"EPSG\",\"9001\"]]]')"
      ]
     },
     "execution_count": 41,
     "metadata": {},
     "output_type": "execute_result"
    }
   ],
   "source": [
    "landsat_datasets[\"029011\"][0].crs"
   ]
  },
  {
   "cell_type": "code",
   "execution_count": 42,
   "metadata": {},
   "outputs": [
    {
     "data": {
      "text/plain": [
       "<matplotlib.axes._subplots.AxesSubplot at 0x7f3d9c57b710>"
      ]
     },
     "execution_count": 42,
     "metadata": {},
     "output_type": "execute_result"
    },
    {
     "data": {
      "image/png": "[encoded data removed]",
      "text/plain": [
       "<Figure size 432x288 with 1 Axes>"
      ]
     },
     "metadata": {
      "needs_background": "light"
     },
     "output_type": "display_data"
    }
   ],
   "source": [
    "gdf = gpd.GeoDataFrame(df, geometry = gpd.points_from_xy(df.x, df.y), crs=landsat_datasets[\"028011\"][0].crs)\n",
    "gdf.plot()"
   ]
  },
  {
   "cell_type": "code",
   "execution_count": 43,
   "metadata": {},
   "outputs": [
    {
     "data": {
      "text/html": [
       "<div>\n",
       "<style scoped>\n",
       "    .dataframe tbody tr th:only-of-type {\n",
       "        vertical-align: middle;\n",
       "    }\n",
       "\n",
       "    .dataframe tbody tr th {\n",
       "        vertical-align: top;\n",
       "    }\n",
       "\n",
       "    .dataframe thead th {\n",
       "        text-align: right;\n",
       "    }\n",
       "</style>\n",
       "<table border=\"1\" class=\"dataframe\">\n",
       "  <thead>\n",
       "    <tr style=\"text-align: right;\">\n",
       "      <th></th>\n",
       "      <th>canopy</th>\n",
       "      <th>label</th>\n",
       "      <th>tile_name</th>\n",
       "      <th>x</th>\n",
       "      <th>y</th>\n",
       "      <th>geometry</th>\n",
       "    </tr>\n",
       "  </thead>\n",
       "  <tbody>\n",
       "    <tr>\n",
       "      <th>0</th>\n",
       "      <td>0.0</td>\n",
       "      <td>0</td>\n",
       "      <td>028011</td>\n",
       "      <td>1783740.0</td>\n",
       "      <td>1635480.0</td>\n",
       "      <td>POLYGON ((1783725 1635465, 1783755 1635465, 17...</td>\n",
       "    </tr>\n",
       "    <tr>\n",
       "      <th>1</th>\n",
       "      <td>0.0</td>\n",
       "      <td>0</td>\n",
       "      <td>029011</td>\n",
       "      <td>1822440.0</td>\n",
       "      <td>1598430.0</td>\n",
       "      <td>POLYGON ((1822425 1598415, 1822455 1598415, 18...</td>\n",
       "    </tr>\n",
       "    <tr>\n",
       "      <th>2</th>\n",
       "      <td>0.0</td>\n",
       "      <td>0</td>\n",
       "      <td>029011</td>\n",
       "      <td>1798290.0</td>\n",
       "      <td>1579380.0</td>\n",
       "      <td>POLYGON ((1798275 1579365, 1798305 1579365, 17...</td>\n",
       "    </tr>\n",
       "    <tr>\n",
       "      <th>3</th>\n",
       "      <td>0.0</td>\n",
       "      <td>0</td>\n",
       "      <td>028012</td>\n",
       "      <td>1751790.0</td>\n",
       "      <td>1475280.0</td>\n",
       "      <td>POLYGON ((1751775 1475265, 1751805 1475265, 17...</td>\n",
       "    </tr>\n",
       "    <tr>\n",
       "      <th>4</th>\n",
       "      <td>0.0</td>\n",
       "      <td>0</td>\n",
       "      <td>029011</td>\n",
       "      <td>1829640.0</td>\n",
       "      <td>1545630.0</td>\n",
       "      <td>POLYGON ((1829625 1545615, 1829655 1545615, 18...</td>\n",
       "    </tr>\n",
       "  </tbody>\n",
       "</table>\n",
       "</div>"
      ],
      "text/plain": [
       "   canopy  label tile_name          x          y  \\\n",
       "0     0.0      0    028011  1783740.0  1635480.0   \n",
       "1     0.0      0    029011  1822440.0  1598430.0   \n",
       "2     0.0      0    029011  1798290.0  1579380.0   \n",
       "3     0.0      0    028012  1751790.0  1475280.0   \n",
       "4     0.0      0    029011  1829640.0  1545630.0   \n",
       "\n",
       "                                            geometry  \n",
       "0  POLYGON ((1783725 1635465, 1783755 1635465, 17...  \n",
       "1  POLYGON ((1822425 1598415, 1822455 1598415, 18...  \n",
       "2  POLYGON ((1798275 1579365, 1798305 1579365, 17...  \n",
       "3  POLYGON ((1751775 1475265, 1751805 1475265, 17...  \n",
       "4  POLYGON ((1829625 1545615, 1829655 1545615, 18...  "
      ]
     },
     "execution_count": 43,
     "metadata": {},
     "output_type": "execute_result"
    }
   ],
   "source": [
    "# buffer by 15 meters to make 30x30 pixel\n",
    "buffer = gdf.buffer(15)\n",
    "\n",
    "envelope = buffer.envelope  \n",
    "gdf.geometry = envelope\n",
    "gdf.head()"
   ]
  },
  {
   "cell_type": "code",
   "execution_count": 44,
   "metadata": {},
   "outputs": [
    {
     "data": {
      "text/html": [
       "<div>\n",
       "<style scoped>\n",
       "    .dataframe tbody tr th:only-of-type {\n",
       "        vertical-align: middle;\n",
       "    }\n",
       "\n",
       "    .dataframe tbody tr th {\n",
       "        vertical-align: top;\n",
       "    }\n",
       "\n",
       "    .dataframe thead th {\n",
       "        text-align: right;\n",
       "    }\n",
       "</style>\n",
       "<table border=\"1\" class=\"dataframe\">\n",
       "  <thead>\n",
       "    <tr style=\"text-align: right;\">\n",
       "      <th></th>\n",
       "      <th>canopy</th>\n",
       "      <th>label</th>\n",
       "      <th>tile_name</th>\n",
       "      <th>x</th>\n",
       "      <th>y</th>\n",
       "      <th>geometry</th>\n",
       "    </tr>\n",
       "  </thead>\n",
       "  <tbody>\n",
       "    <tr>\n",
       "      <th>0</th>\n",
       "      <td>0.0</td>\n",
       "      <td>0</td>\n",
       "      <td>028011</td>\n",
       "      <td>1783740.0</td>\n",
       "      <td>1635480.0</td>\n",
       "      <td>POLYGON ((-75.86736105150854 36.06319781040016...</td>\n",
       "    </tr>\n",
       "    <tr>\n",
       "      <th>1</th>\n",
       "      <td>0.0</td>\n",
       "      <td>0</td>\n",
       "      <td>029011</td>\n",
       "      <td>1822440.0</td>\n",
       "      <td>1598430.0</td>\n",
       "      <td>POLYGON ((-75.53253728043329 35.66656089362623...</td>\n",
       "    </tr>\n",
       "    <tr>\n",
       "      <th>2</th>\n",
       "      <td>0.0</td>\n",
       "      <td>0</td>\n",
       "      <td>029011</td>\n",
       "      <td>1798290.0</td>\n",
       "      <td>1579380.0</td>\n",
       "      <td>POLYGON ((-75.84033753004364 35.54602683335875...</td>\n",
       "    </tr>\n",
       "    <tr>\n",
       "      <th>3</th>\n",
       "      <td>0.0</td>\n",
       "      <td>0</td>\n",
       "      <td>028012</td>\n",
       "      <td>1751790.0</td>\n",
       "      <td>1475280.0</td>\n",
       "      <td>POLYGON ((-76.58199946402259 34.72172447001045...</td>\n",
       "    </tr>\n",
       "    <tr>\n",
       "      <th>4</th>\n",
       "      <td>0.0</td>\n",
       "      <td>0</td>\n",
       "      <td>029011</td>\n",
       "      <td>1829640.0</td>\n",
       "      <td>1545630.0</td>\n",
       "      <td>POLYGON ((-75.57961009781188 35.19198272134367...</td>\n",
       "    </tr>\n",
       "  </tbody>\n",
       "</table>\n",
       "</div>"
      ],
      "text/plain": [
       "   canopy  label tile_name          x          y  \\\n",
       "0     0.0      0    028011  1783740.0  1635480.0   \n",
       "1     0.0      0    029011  1822440.0  1598430.0   \n",
       "2     0.0      0    029011  1798290.0  1579380.0   \n",
       "3     0.0      0    028012  1751790.0  1475280.0   \n",
       "4     0.0      0    029011  1829640.0  1545630.0   \n",
       "\n",
       "                                            geometry  \n",
       "0  POLYGON ((-75.86736105150854 36.06319781040016...  \n",
       "1  POLYGON ((-75.53253728043329 35.66656089362623...  \n",
       "2  POLYGON ((-75.84033753004364 35.54602683335875...  \n",
       "3  POLYGON ((-76.58199946402259 34.72172447001045...  \n",
       "4  POLYGON ((-75.57961009781188 35.19198272134367...  "
      ]
     },
     "execution_count": 44,
     "metadata": {},
     "output_type": "execute_result"
    }
   ],
   "source": [
    "gdf = gdf.to_crs(\"+proj=longlat +ellps=WGS84 +datum=WGS84 +no_defs\")\n",
    "gdf.head()"
   ]
  },
  {
   "cell_type": "code",
   "execution_count": 45,
   "metadata": {},
   "outputs": [
    {
     "data": {
      "text/plain": [
       "array([[<matplotlib.axes._subplots.AxesSubplot object at 0x7f3d9c09b630>]],\n",
       "      dtype=object)"
      ]
     },
     "execution_count": 45,
     "metadata": {},
     "output_type": "execute_result"
    },
    {
     "data": {
      "image/png": "[encoded data removed]",
      "text/plain": [
       "<Figure size 432x288 with 1 Axes>"
      ]
     },
     "metadata": {
      "needs_background": "light"
     },
     "output_type": "display_data"
    }
   ],
   "source": [
    "gdf.hist(column=\"label\", bins=11)"
   ]
  },
  {
   "cell_type": "code",
   "execution_count": 46,
   "metadata": {},
   "outputs": [],
   "source": [
    "gdf.to_file(\"buffered_points.shp\",driver='ESRI Shapefile')"
   ]
  },
  {
   "cell_type": "code",
   "execution_count": 127,
   "metadata": {},
   "outputs": [
    {
     "data": {
      "text/html": [
       "<div>\n",
       "<style scoped>\n",
       "    .dataframe tbody tr th:only-of-type {\n",
       "        vertical-align: middle;\n",
       "    }\n",
       "\n",
       "    .dataframe tbody tr th {\n",
       "        vertical-align: top;\n",
       "    }\n",
       "\n",
       "    .dataframe thead th {\n",
       "        text-align: right;\n",
       "    }\n",
       "</style>\n",
       "<table border=\"1\" class=\"dataframe\">\n",
       "  <thead>\n",
       "    <tr style=\"text-align: right;\">\n",
       "      <th></th>\n",
       "      <th>canopy</th>\n",
       "      <th>label</th>\n",
       "      <th>tile_name</th>\n",
       "      <th>x</th>\n",
       "      <th>y</th>\n",
       "      <th>geometry</th>\n",
       "    </tr>\n",
       "  </thead>\n",
       "  <tbody>\n",
       "    <tr>\n",
       "      <th>0</th>\n",
       "      <td>0.0</td>\n",
       "      <td>0</td>\n",
       "      <td>028012</td>\n",
       "      <td>1761360.0</td>\n",
       "      <td>1488030.0</td>\n",
       "      <td>POLYGON ((-76.45020728592766 34.81590242273489...</td>\n",
       "    </tr>\n",
       "    <tr>\n",
       "      <th>1</th>\n",
       "      <td>0.0</td>\n",
       "      <td>0</td>\n",
       "      <td>028011</td>\n",
       "      <td>1681560.0</td>\n",
       "      <td>1662390.0</td>\n",
       "      <td>POLYGON ((-76.92900325896298 36.48521077384399...</td>\n",
       "    </tr>\n",
       "    <tr>\n",
       "      <th>2</th>\n",
       "      <td>0.0</td>\n",
       "      <td>0</td>\n",
       "      <td>028012</td>\n",
       "      <td>1716840.0</td>\n",
       "      <td>1502310.0</td>\n",
       "      <td>POLYGON ((-76.89957784087977 35.02127890428567...</td>\n",
       "    </tr>\n",
       "    <tr>\n",
       "      <th>3</th>\n",
       "      <td>0.0</td>\n",
       "      <td>0</td>\n",
       "      <td>028012</td>\n",
       "      <td>1755480.0</td>\n",
       "      <td>1474380.0</td>\n",
       "      <td>POLYGON ((-76.54424306552457 34.70714544743746...</td>\n",
       "    </tr>\n",
       "    <tr>\n",
       "      <th>4</th>\n",
       "      <td>0.0</td>\n",
       "      <td>0</td>\n",
       "      <td>028011</td>\n",
       "      <td>1746030.0</td>\n",
       "      <td>1604430.0</td>\n",
       "      <td>POLYGON ((-76.35222097208796 35.86193505990429...</td>\n",
       "    </tr>\n",
       "  </tbody>\n",
       "</table>\n",
       "</div>"
      ],
      "text/plain": [
       "   canopy  label tile_name          x          y  \\\n",
       "0     0.0      0    028012  1761360.0  1488030.0   \n",
       "1     0.0      0    028011  1681560.0  1662390.0   \n",
       "2     0.0      0    028012  1716840.0  1502310.0   \n",
       "3     0.0      0    028012  1755480.0  1474380.0   \n",
       "4     0.0      0    028011  1746030.0  1604430.0   \n",
       "\n",
       "                                            geometry  \n",
       "0  POLYGON ((-76.45020728592766 34.81590242273489...  \n",
       "1  POLYGON ((-76.92900325896298 36.48521077384399...  \n",
       "2  POLYGON ((-76.89957784087977 35.02127890428567...  \n",
       "3  POLYGON ((-76.54424306552457 34.70714544743746...  \n",
       "4  POLYGON ((-76.35222097208796 35.86193505990429...  "
      ]
     },
     "execution_count": 127,
     "metadata": {},
     "output_type": "execute_result"
    }
   ],
   "source": [
    "reopened_gdf = gpd.read_file(\"buffered_points.shp\")\n",
    "reopened_gdf.head()"
   ]
  },
  {
   "cell_type": "code",
   "execution_count": 146,
   "metadata": {},
   "outputs": [
    {
     "data": {
      "text/plain": [
       "array([[<matplotlib.axes._subplots.AxesSubplot object at 0x7f7ebdeba320>]],\n",
       "      dtype=object)"
      ]
     },
     "execution_count": 146,
     "metadata": {},
     "output_type": "execute_result"
    },
    {
     "data": {
      "image/png": "[encoded data removed]",
      "text/plain": [
       "<Figure size 432x288 with 1 Axes>"
      ]
     },
     "metadata": {
      "needs_background": "light"
     },
     "output_type": "display_data"
    }
   ],
   "source": [
    "reopened_gdf.hist(column=\"canopy\")"
   ]
  },
  {
   "cell_type": "code",
   "execution_count": 130,
   "metadata": {},
   "outputs": [
    {
     "data": {
      "text/plain": [
       "{'init': 'epsg:4326'}"
      ]
     },
     "execution_count": 130,
     "metadata": {},
     "output_type": "execute_result"
    }
   ],
   "source": [
    "reopened_gdf.crs"
   ]
  },
  {
   "cell_type": "code",
   "execution_count": 133,
   "metadata": {},
   "outputs": [
    {
     "data": {
      "text/html": [
       "<div>\n",
       "<style scoped>\n",
       "    .dataframe tbody tr th:only-of-type {\n",
       "        vertical-align: middle;\n",
       "    }\n",
       "\n",
       "    .dataframe tbody tr th {\n",
       "        vertical-align: top;\n",
       "    }\n",
       "\n",
       "    .dataframe thead th {\n",
       "        text-align: right;\n",
       "    }\n",
       "</style>\n",
       "<table border=\"1\" class=\"dataframe\">\n",
       "  <thead>\n",
       "    <tr style=\"text-align: right;\">\n",
       "      <th></th>\n",
       "      <th>canopy</th>\n",
       "      <th>label</th>\n",
       "      <th>tile_name</th>\n",
       "      <th>x</th>\n",
       "      <th>y</th>\n",
       "      <th>geometry</th>\n",
       "    </tr>\n",
       "  </thead>\n",
       "  <tbody>\n",
       "    <tr>\n",
       "      <th>0</th>\n",
       "      <td>0.0</td>\n",
       "      <td>0</td>\n",
       "      <td>028012</td>\n",
       "      <td>1761360.0</td>\n",
       "      <td>1488030.0</td>\n",
       "      <td>POLYGON ((-76.45020728592766 34.81590242273489...</td>\n",
       "    </tr>\n",
       "    <tr>\n",
       "      <th>1</th>\n",
       "      <td>0.0</td>\n",
       "      <td>0</td>\n",
       "      <td>028011</td>\n",
       "      <td>1681560.0</td>\n",
       "      <td>1662390.0</td>\n",
       "      <td>POLYGON ((-76.92900325896298 36.48521077384399...</td>\n",
       "    </tr>\n",
       "    <tr>\n",
       "      <th>2</th>\n",
       "      <td>0.0</td>\n",
       "      <td>0</td>\n",
       "      <td>028012</td>\n",
       "      <td>1716840.0</td>\n",
       "      <td>1502310.0</td>\n",
       "      <td>POLYGON ((-76.89957784087977 35.02127890428567...</td>\n",
       "    </tr>\n",
       "    <tr>\n",
       "      <th>3</th>\n",
       "      <td>0.0</td>\n",
       "      <td>0</td>\n",
       "      <td>028012</td>\n",
       "      <td>1755480.0</td>\n",
       "      <td>1474380.0</td>\n",
       "      <td>POLYGON ((-76.54424306552457 34.70714544743746...</td>\n",
       "    </tr>\n",
       "    <tr>\n",
       "      <th>4</th>\n",
       "      <td>0.0</td>\n",
       "      <td>0</td>\n",
       "      <td>028011</td>\n",
       "      <td>1746030.0</td>\n",
       "      <td>1604430.0</td>\n",
       "      <td>POLYGON ((-76.35222097208796 35.86193505990429...</td>\n",
       "    </tr>\n",
       "  </tbody>\n",
       "</table>\n",
       "</div>"
      ],
      "text/plain": [
       "   canopy  label tile_name          x          y  \\\n",
       "0     0.0      0    028012  1761360.0  1488030.0   \n",
       "1     0.0      0    028011  1681560.0  1662390.0   \n",
       "2     0.0      0    028012  1716840.0  1502310.0   \n",
       "3     0.0      0    028012  1755480.0  1474380.0   \n",
       "4     0.0      0    028011  1746030.0  1604430.0   \n",
       "\n",
       "                                            geometry  \n",
       "0  POLYGON ((-76.45020728592766 34.81590242273489...  \n",
       "1  POLYGON ((-76.92900325896298 36.48521077384399...  \n",
       "2  POLYGON ((-76.89957784087977 35.02127890428567...  \n",
       "3  POLYGON ((-76.54424306552457 34.70714544743746...  \n",
       "4  POLYGON ((-76.35222097208796 35.86193505990429...  "
      ]
     },
     "execution_count": 133,
     "metadata": {},
     "output_type": "execute_result"
    }
   ],
   "source": [
    "reopened_gdf.head()"
   ]
  },
  {
   "cell_type": "code",
   "execution_count": 144,
   "metadata": {},
   "outputs": [
    {
     "name": "stdout",
     "output_type": "stream",
     "text": [
      "028012\n",
      "0.0\n",
      "POLYGON ((1761345 1488015, 1761375 1488015, 1761375 1488045, 1761345 1488045, 1761345 1488015))\n",
      "POINT (1761360 1488030)\n"
     ]
    }
   ],
   "source": [
    "for index, row in df.iterrows():\n",
    "    print(row['tile_name'])\n",
    "    print(row['canopy'])\n",
    "    print(row['geometry'])\n",
    "    print(row['geometry'].centroid)\n",
    "    break"
   ]
  },
  {
   "cell_type": "code",
   "execution_count": 148,
   "metadata": {},
   "outputs": [
    {
     "data": {
      "text/plain": [
       "(-0.001, 0.1]    10490\n",
       "(0.1, 0.2]         625\n",
       "(0.2, 0.3]         827\n",
       "(0.3, 0.4]         656\n",
       "(0.4, 0.5]         417\n",
       "(0.5, 0.6]         312\n",
       "(0.6, 0.7]         376\n",
       "(0.7, 0.8]         502\n",
       "(0.8, 0.9]         779\n",
       "(0.9, 1.0]        1757\n",
       "Name: canopy, dtype: int64"
      ]
     },
     "execution_count": 148,
     "metadata": {},
     "output_type": "execute_result"
    }
   ],
   "source": [
    "pd.cut(reopened_gdf['canopy'], 10).value_counts().sort_index()"
   ]
  },
  {
   "cell_type": "code",
   "execution_count": null,
   "metadata": {},
   "outputs": [],
   "source": []
  }
 ],
 "metadata": {
  "kernelspec": {
   "display_name": "Python 3",
   "language": "python",
   "name": "python3"
  },
  "language_info": {
   "codemirror_mode": {
    "name": "ipython",
    "version": 3
   },
   "file_extension": ".py",
   "mimetype": "text/x-python",
   "name": "python",
   "nbconvert_exporter": "python",
   "pygments_lexer": "ipython3",
   "version": "3.5.2"
  }
 },
 "nbformat": 4,
 "nbformat_minor": 2
}
