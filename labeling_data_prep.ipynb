{
 "cells": [
  {
   "cell_type": "markdown",
   "metadata": {},
   "source": [
    "# Manual Labeling Data Preparation"
   ]
  },
  {
   "cell_type": "code",
   "execution_count": 1,
   "metadata": {},
   "outputs": [],
   "source": [
    "import rasterio\n",
    "import random\n",
    "import matplotlib.pyplot as plt\n",
    "import os\n",
    "import sys\n",
    "import datetime\n",
    "from sklearn.utils import class_weight\n",
    "module_path = os.path.abspath(os.path.join('..'))\n",
    "if module_path not in sys.path:\n",
    "    sys.path.append(module_path)\n",
    "    \n",
    "module_path = os.path.abspath(os.path.join('rcnn'))\n",
    "if module_path not in sys.path:\n",
    "    sys.path.append(module_path)\n",
    "\n",
    "import utilities as util\n",
    "import importlib\n",
    "import rnn_tiles\n",
    "import rnn_pixels\n",
    "import numpy as np\n",
    "\n",
    "import pandas as pd\n",
    "import geopandas as gpd\n",
    "from shapely.geometry import Point"
   ]
  },
  {
   "cell_type": "code",
   "execution_count": 18,
   "metadata": {},
   "outputs": [
    {
     "data": {
      "text/plain": [
       "<module 'utilities' from '/host/Code/florence_mapping/utilities.py'>"
      ]
     },
     "execution_count": 18,
     "metadata": {},
     "output_type": "execute_result"
    }
   ],
   "source": [
    "importlib.reload(rnn_pixels)\n",
    "importlib.reload(rnn_tiles)\n",
    "importlib.reload(util)"
   ]
  },
  {
   "cell_type": "markdown",
   "metadata": {},
   "source": [
    "Load in the training data"
   ]
  },
  {
   "cell_type": "code",
   "execution_count": 2,
   "metadata": {},
   "outputs": [],
   "source": [
    "lc_labels = rasterio.open('/deep_data/recurrent_data/NLCD_DATA/landcover/NLCD_2011_Land_Cover_L48_20190424.img')\n",
    "canopy_labels = rasterio.open('/deep_data/recurrent_data/NLCD_DATA/canopy/CONUSCartographic_2_8_16/Cartographic/nlcd2011_usfs_conus_canopy_cartographic.img')"
   ]
  },
  {
   "cell_type": "markdown",
   "metadata": {},
   "source": [
    "### Ingest the landsat imagery stacked into yearly seasonal tiles\n",
    "\n",
    "We don't really need to do this here but the code is just copied from the rcnn code"
   ]
  },
  {
   "cell_type": "code",
   "execution_count": 3,
   "metadata": {},
   "outputs": [],
   "source": [
    "tiles = {}\n",
    "landsat_datasets = {}\n",
    "tiles['028012'] = ['20110324', '20110612', '20110831', '20111103']\n",
    "tiles['029011'] = ['20110308', '20110425', '20110831', '20111103']\n",
    "tiles['028011'] = ['20110308', '20110628', '20110831', '20111103']\n",
    "for tile_number, dates in tiles.items():\n",
    "    tile_datasets = []\n",
    "    l8_image_paths = []\n",
    "    for date in dates:\n",
    "        l8_image_paths.append('/deep_data/recurrent_data/tile{}/combined/combined{}.tif'.format(tile_number, date))\n",
    "    for fp in l8_image_paths:\n",
    "        tile_datasets.append(rasterio.open(fp))\n",
    "    landsat_datasets[tile_number] = tile_datasets"
   ]
  },
  {
   "cell_type": "code",
   "execution_count": 5,
   "metadata": {
    "scrolled": true
   },
   "outputs": [],
   "source": [
    "tile_size = 9\n",
    "tile_list = ['028012', '029011', '028011']\n",
    "class_dict = util.indexed_dictionary\n",
    "#px = rnn_pixels.make_pixels(tile_size, tile_list)"
   ]
  },
  {
   "cell_type": "code",
   "execution_count": 19,
   "metadata": {},
   "outputs": [],
   "source": [
    "#clean_px = rnn_pixels.make_clean_pix(tile_list, tile_size, landsat_datasets,lc_labels, canopy_labels, 100, buffer_pix=1)"
   ]
  },
  {
   "cell_type": "markdown",
   "metadata": {},
   "source": [
    "### Testing for Runtime and Memory Usage"
   ]
  },
  {
   "cell_type": "code",
   "execution_count": 55,
   "metadata": {},
   "outputs": [],
   "source": [
    "%load_ext line_profiler"
   ]
  },
  {
   "cell_type": "code",
   "execution_count": 57,
   "metadata": {},
   "outputs": [
    {
     "name": "stdout",
     "output_type": "stream",
     "text": [
      "Beginning TVT pixel creation.\n",
      "Iterating through data and clipping for balance.\n",
      "\n",
      "Processing Complete.\n"
     ]
    }
   ],
   "source": [
    "%lprun -f rnn_pixels.tvt_pix_locations rnn_pixels.tvt_pix_locations(landsat_datasets, lc_labels, canopy_labels, tile_size, tile_list, clean_pixels, 10, 10, 10, class_dict)"
   ]
  },
  {
   "cell_type": "code",
   "execution_count": 67,
   "metadata": {},
   "outputs": [],
   "source": [
    "w_tile_gen = rnn_tiles.rnn_tile_gen(landsat_datasets, lc_labels, canopy_labels, tile_size, class_count)\n",
    "w_generator = w_tile_gen.tile_generator(clean_pixels, batch_size=1, flatten=True, canopy=True)"
   ]
  },
  {
   "cell_type": "code",
   "execution_count": 73,
   "metadata": {},
   "outputs": [],
   "source": [
    "%lprun -f w_tile_gen.tile_generator w_tile_gen.tile_generator(clean_pixels[:2], batch_size=1, flatten=True, canopy=True)"
   ]
  },
  {
   "cell_type": "code",
   "execution_count": 74,
   "metadata": {},
   "outputs": [
    {
     "name": "stdout",
     "output_type": "stream",
     "text": [
      "6.15 ms ± 111 µs per loop (mean ± std. dev. of 7 runs, 100 loops each)\n"
     ]
    }
   ],
   "source": [
    "%timeit w_tile_gen.tile_generator(clean_pixels[:2], batch_size=1, flatten=True, canopy=True)"
   ]
  },
  {
   "cell_type": "code",
   "execution_count": null,
   "metadata": {},
   "outputs": [],
   "source": [
    "# effectively make_clean_pix"
   ]
  },
  {
   "cell_type": "markdown",
   "metadata": {},
   "source": [
    "### Generate Data for TVT"
   ]
  },
  {
   "cell_type": "code",
   "execution_count": 6,
   "metadata": {},
   "outputs": [],
   "source": [
    "px = rnn_pixels.make_pixels(1, tile_list)"
   ]
  },
  {
   "cell_type": "code",
   "execution_count": 9,
   "metadata": {},
   "outputs": [
    {
     "data": {
      "text/plain": [
       "75000000"
      ]
     },
     "execution_count": 9,
     "metadata": {},
     "output_type": "execute_result"
    }
   ],
   "source": [
    "len(px)"
   ]
  },
  {
   "cell_type": "code",
   "execution_count": 7,
   "metadata": {},
   "outputs": [
    {
     "name": "stdout",
     "output_type": "stream",
     "text": [
      "2019-11-30 00:52:58.994537\n",
      "2019-11-30 00:53:02.030771\n",
      "341\n"
     ]
    }
   ],
   "source": [
    "tile_size = 5\n",
    "print(datetime.datetime.now())\n",
    "px_to_use1 = px[:1000]\n",
    "clean_pixels1 = rnn_pixels.delete_bad_tiles(landsat_datasets,lc_labels, canopy_labels, px_to_use1, tile_size, buffer_pix=1)\n",
    "print(datetime.datetime.now())\n",
    "print(len(clean_pixels1))"
   ]
  },
  {
   "cell_type": "code",
   "execution_count": 34,
   "metadata": {},
   "outputs": [
    {
     "name": "stdout",
     "output_type": "stream",
     "text": [
      "2019-12-02 18:26:55.950124\n",
      "Beginning TVT pixel creation.\n",
      "Iterating through data and clipping for balance.\n",
      "\n",
      "Processing Complete.\n",
      "2019-12-02 18:26:58.093211\n",
      "0 15 150\n"
     ]
    }
   ],
   "source": [
    "tile_size = 1\n",
    "print(datetime.datetime.now())\n",
    "tvt_pixels2 = rnn_pixels.tvt_pix_locations(landsat_datasets, lc_labels, \n",
    "    canopy_labels, tile_size, tile_list, clean_pixels1, 150, 150, 1000, class_dict)\n",
    "print(datetime.datetime.now())\n",
    "print(len(tvt_pixels2[0]), len(tvt_pixels2[1]), len(tvt_pixels2[2]))"
   ]
  },
  {
   "cell_type": "markdown",
   "metadata": {},
   "source": [
    "#### See if Data is Actually Balanced"
   ]
  },
  {
   "cell_type": "code",
   "execution_count": 258,
   "metadata": {
    "scrolled": false
   },
   "outputs": [
    {
     "name": "stdout",
     "output_type": "stream",
     "text": [
      "0 125\n",
      "1 0\n",
      "2 139\n",
      "3 64\n",
      "4 0\n",
      "5 5\n",
      "333\n"
     ]
    }
   ],
   "source": [
    "class_count = 6\n",
    "\n",
    "pixels = tvt_pixels[2]\n",
    "\n",
    "# gets balanced pixels locations \n",
    "w_tile_gen = rnn_tiles.rnn_tile_gen(landsat_datasets, lc_labels, canopy_labels, tile_size, class_count)\n",
    "w_generator = w_tile_gen.tile_generator(pixels, batch_size=1, flatten=True, canopy=True)\n",
    "total_labels = list()\n",
    "count = 0\n",
    "#buckets = {0:[], 1:[], 2:[], 3:[], 4:[], 5:[]}\n",
    "buckets = {0:[], 1:[], 2:[], 3:[], 4:[], 5:[]}\n",
    "\n",
    "while count < len(pixels):\n",
    "        image_b, label_b = next(w_generator)\n",
    "        #print(image_b['tile_input'].shape)\n",
    "        buckets[np.argmax(label_b[\"landcover\"])].append({\n",
    "            \"pixel_loc\" : pixels[count][0],\n",
    "            \"tile_name\" : pixels[count][1],\n",
    "            \"landcover\" : np.argmax(label_b[\"landcover\"]),\n",
    "            \"canopy\" : float(label_b[\"canopy\"])\n",
    "                                }) # appends pixels to dictionary\n",
    "        count+=1\n",
    "count = 0 \n",
    "for z, j in buckets.items():\n",
    "    print(z, len(j))\n",
    "    count += len(j)\n",
    "print(count) "
   ]
  },
  {
   "cell_type": "markdown",
   "metadata": {},
   "source": [
    "run through the pixels, buffer each pixel and add it to a geopandas dataset, convert that CRS to 4326 then save that geopandas dataset as a shapefile "
   ]
  },
  {
   "cell_type": "code",
   "execution_count": 199,
   "metadata": {},
   "outputs": [],
   "source": [
    "#count_per_class = 3000\n",
    "count_per_class = 1500 # 1667 * 6 ~= 10,000\n",
    "pixel_coords = []\n",
    "\n",
    "for lc_class in buckets.keys():\n",
    "    for i, pixel in enumerate(buckets[lc_class]):\n",
    "        landsat_ds = landsat_datasets[pixel[\"tile_name\"]][0] # get the stack of ls datasets from that location and take the first\n",
    "        x, y = landsat_ds.xy(pixel[\"pixel_loc\"][0], pixel[\"pixel_loc\"][1])\n",
    "        pixel_coords.append({\n",
    "        \"x\" : x,\n",
    "        \"y\" : y,\n",
    "        \"label\" : pixel[\"landcover\"],\n",
    "        \"canopy\" : pixel[\"canopy\"],\n",
    "        \"tile_name\" : pixel[\"tile_name\"]\n",
    "                        })\n",
    "        if i > count_per_class:\n",
    "            break"
   ]
  },
  {
   "cell_type": "code",
   "execution_count": 200,
   "metadata": {},
   "outputs": [
    {
     "data": {
      "text/plain": [
       "array([[<matplotlib.axes._subplots.AxesSubplot object at 0x7ff7eebf8198>]],\n",
       "      dtype=object)"
      ]
     },
     "execution_count": 200,
     "metadata": {},
     "output_type": "execute_result"
    },
    {
     "data": {
      "image/png": "[encoded data removed]",
      "text/plain": [
       "<Figure size 432x288 with 1 Axes>"
      ]
     },
     "metadata": {
      "needs_background": "light"
     },
     "output_type": "display_data"
    }
   ],
   "source": [
    "# create a dataframe from the pixel coordinates\n",
    "df = pd.DataFrame(pixel_coords)\n",
    "df.hist(column=\"label\")"
   ]
  },
  {
   "cell_type": "code",
   "execution_count": 201,
   "metadata": {},
   "outputs": [
    {
     "data": {
      "text/plain": [
       "CRS.from_wkt('PROJCS[\"Albers\",GEOGCS[\"WGS 84\",DATUM[\"WGS_1984\",SPHEROID[\"WGS 84\",6378140,298.2569999999957,AUTHORITY[\"EPSG\",\"7030\"]],AUTHORITY[\"EPSG\",\"6326\"]],PRIMEM[\"Greenwich\",0],UNIT[\"degree\",0.0174532925199433],AUTHORITY[\"EPSG\",\"4326\"]],PROJECTION[\"Albers_Conic_Equal_Area\"],PARAMETER[\"standard_parallel_1\",29.5],PARAMETER[\"standard_parallel_2\",45.5],PARAMETER[\"latitude_of_center\",23],PARAMETER[\"longitude_of_center\",-96],PARAMETER[\"false_easting\",0],PARAMETER[\"false_northing\",0],UNIT[\"metre\",1,AUTHORITY[\"EPSG\",\"9001\"]]]')"
      ]
     },
     "execution_count": 201,
     "metadata": {},
     "output_type": "execute_result"
    }
   ],
   "source": [
    "landsat_datasets[\"029011\"][0].crs"
   ]
  },
  {
   "cell_type": "code",
   "execution_count": 202,
   "metadata": {},
   "outputs": [
    {
     "data": {
      "text/plain": [
       "<matplotlib.axes._subplots.AxesSubplot at 0x7ff7f9cb8dd8>"
      ]
     },
     "execution_count": 202,
     "metadata": {},
     "output_type": "execute_result"
    },
    {
     "data": {
      "image/png": "[encoded data removed]",
      "text/plain": [
       "<Figure size 432x288 with 1 Axes>"
      ]
     },
     "metadata": {
      "needs_background": "light"
     },
     "output_type": "display_data"
    }
   ],
   "source": [
    "gdf = gpd.GeoDataFrame(df, geometry = gpd.points_from_xy(df.x, df.y), crs=landsat_datasets[\"028011\"][0].crs)\n",
    "gdf.plot()"
   ]
  },
  {
   "cell_type": "code",
   "execution_count": 203,
   "metadata": {},
   "outputs": [
    {
     "data": {
      "text/html": [
       "<div>\n",
       "<style scoped>\n",
       "    .dataframe tbody tr th:only-of-type {\n",
       "        vertical-align: middle;\n",
       "    }\n",
       "\n",
       "    .dataframe tbody tr th {\n",
       "        vertical-align: top;\n",
       "    }\n",
       "\n",
       "    .dataframe thead th {\n",
       "        text-align: right;\n",
       "    }\n",
       "</style>\n",
       "<table border=\"1\" class=\"dataframe\">\n",
       "  <thead>\n",
       "    <tr style=\"text-align: right;\">\n",
       "      <th></th>\n",
       "      <th>canopy</th>\n",
       "      <th>label</th>\n",
       "      <th>tile_name</th>\n",
       "      <th>x</th>\n",
       "      <th>y</th>\n",
       "      <th>geometry</th>\n",
       "    </tr>\n",
       "  </thead>\n",
       "  <tbody>\n",
       "    <tr>\n",
       "      <th>0</th>\n",
       "      <td>0.0</td>\n",
       "      <td>0</td>\n",
       "      <td>028011</td>\n",
       "      <td>1750110.0</td>\n",
       "      <td>1529580.0</td>\n",
       "      <td>POLYGON ((1750095 1529565, 1750125 1529565, 17...</td>\n",
       "    </tr>\n",
       "    <tr>\n",
       "      <th>1</th>\n",
       "      <td>0.0</td>\n",
       "      <td>0</td>\n",
       "      <td>029011</td>\n",
       "      <td>1811340.0</td>\n",
       "      <td>1612260.0</td>\n",
       "      <td>POLYGON ((1811325 1612245, 1811355 1612245, 18...</td>\n",
       "    </tr>\n",
       "    <tr>\n",
       "      <th>2</th>\n",
       "      <td>0.0</td>\n",
       "      <td>0</td>\n",
       "      <td>028012</td>\n",
       "      <td>1729920.0</td>\n",
       "      <td>1463220.0</td>\n",
       "      <td>POLYGON ((1729905 1463205, 1729935 1463205, 17...</td>\n",
       "    </tr>\n",
       "    <tr>\n",
       "      <th>3</th>\n",
       "      <td>0.0</td>\n",
       "      <td>0</td>\n",
       "      <td>029011</td>\n",
       "      <td>1792140.0</td>\n",
       "      <td>1563300.0</td>\n",
       "      <td>POLYGON ((1792125 1563285, 1792155 1563285, 17...</td>\n",
       "    </tr>\n",
       "    <tr>\n",
       "      <th>4</th>\n",
       "      <td>0.0</td>\n",
       "      <td>0</td>\n",
       "      <td>028011</td>\n",
       "      <td>1740000.0</td>\n",
       "      <td>1549830.0</td>\n",
       "      <td>POLYGON ((1739985 1549815, 1740015 1549815, 17...</td>\n",
       "    </tr>\n",
       "  </tbody>\n",
       "</table>\n",
       "</div>"
      ],
      "text/plain": [
       "   canopy  label tile_name          x          y  \\\n",
       "0     0.0      0    028011  1750110.0  1529580.0   \n",
       "1     0.0      0    029011  1811340.0  1612260.0   \n",
       "2     0.0      0    028012  1729920.0  1463220.0   \n",
       "3     0.0      0    029011  1792140.0  1563300.0   \n",
       "4     0.0      0    028011  1740000.0  1549830.0   \n",
       "\n",
       "                                            geometry  \n",
       "0  POLYGON ((1750095 1529565, 1750125 1529565, 17...  \n",
       "1  POLYGON ((1811325 1612245, 1811355 1612245, 18...  \n",
       "2  POLYGON ((1729905 1463205, 1729935 1463205, 17...  \n",
       "3  POLYGON ((1792125 1563285, 1792155 1563285, 17...  \n",
       "4  POLYGON ((1739985 1549815, 1740015 1549815, 17...  "
      ]
     },
     "execution_count": 203,
     "metadata": {},
     "output_type": "execute_result"
    }
   ],
   "source": [
    "# buffer by 15 meters to make 30x30 pixel\n",
    "buffer = gdf.buffer(15)\n",
    "\n",
    "envelope = buffer.envelope  \n",
    "gdf.geometry = envelope\n",
    "gdf.head()"
   ]
  },
  {
   "cell_type": "code",
   "execution_count": 204,
   "metadata": {},
   "outputs": [
    {
     "data": {
      "text/html": [
       "<div>\n",
       "<style scoped>\n",
       "    .dataframe tbody tr th:only-of-type {\n",
       "        vertical-align: middle;\n",
       "    }\n",
       "\n",
       "    .dataframe tbody tr th {\n",
       "        vertical-align: top;\n",
       "    }\n",
       "\n",
       "    .dataframe thead th {\n",
       "        text-align: right;\n",
       "    }\n",
       "</style>\n",
       "<table border=\"1\" class=\"dataframe\">\n",
       "  <thead>\n",
       "    <tr style=\"text-align: right;\">\n",
       "      <th></th>\n",
       "      <th>canopy</th>\n",
       "      <th>label</th>\n",
       "      <th>tile_name</th>\n",
       "      <th>x</th>\n",
       "      <th>y</th>\n",
       "      <th>geometry</th>\n",
       "    </tr>\n",
       "  </thead>\n",
       "  <tbody>\n",
       "    <tr>\n",
       "      <th>0</th>\n",
       "      <td>0.0</td>\n",
       "      <td>0</td>\n",
       "      <td>028011</td>\n",
       "      <td>1750110.0</td>\n",
       "      <td>1529580.0</td>\n",
       "      <td>POLYGON ((-76.47818059035893 35.19996697552198...</td>\n",
       "    </tr>\n",
       "    <tr>\n",
       "      <th>1</th>\n",
       "      <td>0.0</td>\n",
       "      <td>0</td>\n",
       "      <td>029011</td>\n",
       "      <td>1811340.0</td>\n",
       "      <td>1612260.0</td>\n",
       "      <td>POLYGON ((-75.62060662848327 35.80838807905699...</td>\n",
       "    </tr>\n",
       "    <tr>\n",
       "      <th>2</th>\n",
       "      <td>0.0</td>\n",
       "      <td>0</td>\n",
       "      <td>028012</td>\n",
       "      <td>1729920.0</td>\n",
       "      <td>1463220.0</td>\n",
       "      <td>POLYGON ((-76.84444404460845 34.65552426088583...</td>\n",
       "    </tr>\n",
       "    <tr>\n",
       "      <th>3</th>\n",
       "      <td>0.0</td>\n",
       "      <td>0</td>\n",
       "      <td>029011</td>\n",
       "      <td>1792140.0</td>\n",
       "      <td>1563300.0</td>\n",
       "      <td>POLYGON ((-75.94472638526729 35.41711544777062...</td>\n",
       "    </tr>\n",
       "    <tr>\n",
       "      <th>4</th>\n",
       "      <td>0.0</td>\n",
       "      <td>0</td>\n",
       "      <td>028011</td>\n",
       "      <td>1740000.0</td>\n",
       "      <td>1549830.0</td>\n",
       "      <td>POLYGON ((-76.54222015356031 35.39550828043658...</td>\n",
       "    </tr>\n",
       "  </tbody>\n",
       "</table>\n",
       "</div>"
      ],
      "text/plain": [
       "   canopy  label tile_name          x          y  \\\n",
       "0     0.0      0    028011  1750110.0  1529580.0   \n",
       "1     0.0      0    029011  1811340.0  1612260.0   \n",
       "2     0.0      0    028012  1729920.0  1463220.0   \n",
       "3     0.0      0    029011  1792140.0  1563300.0   \n",
       "4     0.0      0    028011  1740000.0  1549830.0   \n",
       "\n",
       "                                            geometry  \n",
       "0  POLYGON ((-76.47818059035893 35.19996697552198...  \n",
       "1  POLYGON ((-75.62060662848327 35.80838807905699...  \n",
       "2  POLYGON ((-76.84444404460845 34.65552426088583...  \n",
       "3  POLYGON ((-75.94472638526729 35.41711544777062...  \n",
       "4  POLYGON ((-76.54222015356031 35.39550828043658...  "
      ]
     },
     "execution_count": 204,
     "metadata": {},
     "output_type": "execute_result"
    }
   ],
   "source": [
    "gdf = gdf.to_crs(\"+proj=longlat +ellps=WGS84 +datum=WGS84 +no_defs\")\n",
    "gdf.head()"
   ]
  },
  {
   "cell_type": "code",
   "execution_count": 205,
   "metadata": {},
   "outputs": [
    {
     "data": {
      "text/plain": [
       "array([[<matplotlib.axes._subplots.AxesSubplot object at 0x7ff7ae9cf320>]],\n",
       "      dtype=object)"
      ]
     },
     "execution_count": 205,
     "metadata": {},
     "output_type": "execute_result"
    },
    {
     "data": {
      "image/png": "[encoded data removed]",
      "text/plain": [
       "<Figure size 432x288 with 1 Axes>"
      ]
     },
     "metadata": {
      "needs_background": "light"
     },
     "output_type": "display_data"
    }
   ],
   "source": [
    "gdf.hist(column=\"label\", bins=11)"
   ]
  },
  {
   "cell_type": "code",
   "execution_count": 206,
   "metadata": {},
   "outputs": [],
   "source": [
    "gdf.to_file(\"buffered_points.shp\",driver='ESRI Shapefile')"
   ]
  },
  {
   "cell_type": "code",
   "execution_count": 127,
   "metadata": {},
   "outputs": [
    {
     "data": {
      "text/html": [
       "<div>\n",
       "<style scoped>\n",
       "    .dataframe tbody tr th:only-of-type {\n",
       "        vertical-align: middle;\n",
       "    }\n",
       "\n",
       "    .dataframe tbody tr th {\n",
       "        vertical-align: top;\n",
       "    }\n",
       "\n",
       "    .dataframe thead th {\n",
       "        text-align: right;\n",
       "    }\n",
       "</style>\n",
       "<table border=\"1\" class=\"dataframe\">\n",
       "  <thead>\n",
       "    <tr style=\"text-align: right;\">\n",
       "      <th></th>\n",
       "      <th>canopy</th>\n",
       "      <th>label</th>\n",
       "      <th>tile_name</th>\n",
       "      <th>x</th>\n",
       "      <th>y</th>\n",
       "      <th>geometry</th>\n",
       "    </tr>\n",
       "  </thead>\n",
       "  <tbody>\n",
       "    <tr>\n",
       "      <th>0</th>\n",
       "      <td>0.0</td>\n",
       "      <td>0</td>\n",
       "      <td>028012</td>\n",
       "      <td>1761360.0</td>\n",
       "      <td>1488030.0</td>\n",
       "      <td>POLYGON ((-76.45020728592766 34.81590242273489...</td>\n",
       "    </tr>\n",
       "    <tr>\n",
       "      <th>1</th>\n",
       "      <td>0.0</td>\n",
       "      <td>0</td>\n",
       "      <td>028011</td>\n",
       "      <td>1681560.0</td>\n",
       "      <td>1662390.0</td>\n",
       "      <td>POLYGON ((-76.92900325896298 36.48521077384399...</td>\n",
       "    </tr>\n",
       "    <tr>\n",
       "      <th>2</th>\n",
       "      <td>0.0</td>\n",
       "      <td>0</td>\n",
       "      <td>028012</td>\n",
       "      <td>1716840.0</td>\n",
       "      <td>1502310.0</td>\n",
       "      <td>POLYGON ((-76.89957784087977 35.02127890428567...</td>\n",
       "    </tr>\n",
       "    <tr>\n",
       "      <th>3</th>\n",
       "      <td>0.0</td>\n",
       "      <td>0</td>\n",
       "      <td>028012</td>\n",
       "      <td>1755480.0</td>\n",
       "      <td>1474380.0</td>\n",
       "      <td>POLYGON ((-76.54424306552457 34.70714544743746...</td>\n",
       "    </tr>\n",
       "    <tr>\n",
       "      <th>4</th>\n",
       "      <td>0.0</td>\n",
       "      <td>0</td>\n",
       "      <td>028011</td>\n",
       "      <td>1746030.0</td>\n",
       "      <td>1604430.0</td>\n",
       "      <td>POLYGON ((-76.35222097208796 35.86193505990429...</td>\n",
       "    </tr>\n",
       "  </tbody>\n",
       "</table>\n",
       "</div>"
      ],
      "text/plain": [
       "   canopy  label tile_name          x          y  \\\n",
       "0     0.0      0    028012  1761360.0  1488030.0   \n",
       "1     0.0      0    028011  1681560.0  1662390.0   \n",
       "2     0.0      0    028012  1716840.0  1502310.0   \n",
       "3     0.0      0    028012  1755480.0  1474380.0   \n",
       "4     0.0      0    028011  1746030.0  1604430.0   \n",
       "\n",
       "                                            geometry  \n",
       "0  POLYGON ((-76.45020728592766 34.81590242273489...  \n",
       "1  POLYGON ((-76.92900325896298 36.48521077384399...  \n",
       "2  POLYGON ((-76.89957784087977 35.02127890428567...  \n",
       "3  POLYGON ((-76.54424306552457 34.70714544743746...  \n",
       "4  POLYGON ((-76.35222097208796 35.86193505990429...  "
      ]
     },
     "execution_count": 127,
     "metadata": {},
     "output_type": "execute_result"
    }
   ],
   "source": [
    "reopened_gdf = gpd.read_file(\"buffered_points.shp\")\n",
    "reopened_gdf.head()"
   ]
  },
  {
   "cell_type": "code",
   "execution_count": 146,
   "metadata": {},
   "outputs": [
    {
     "data": {
      "text/plain": [
       "array([[<matplotlib.axes._subplots.AxesSubplot object at 0x7f7ebdeba320>]],\n",
       "      dtype=object)"
      ]
     },
     "execution_count": 146,
     "metadata": {},
     "output_type": "execute_result"
    },
    {
     "data": {
      "image/png": "[encoded data removed]",
      "text/plain": [
       "<Figure size 432x288 with 1 Axes>"
      ]
     },
     "metadata": {
      "needs_background": "light"
     },
     "output_type": "display_data"
    }
   ],
   "source": [
    "reopened_gdf.hist(column=\"canopy\")"
   ]
  },
  {
   "cell_type": "code",
   "execution_count": 130,
   "metadata": {},
   "outputs": [
    {
     "data": {
      "text/plain": [
       "{'init': 'epsg:4326'}"
      ]
     },
     "execution_count": 130,
     "metadata": {},
     "output_type": "execute_result"
    }
   ],
   "source": [
    "reopened_gdf.crs"
   ]
  },
  {
   "cell_type": "code",
   "execution_count": 133,
   "metadata": {},
   "outputs": [
    {
     "data": {
      "text/html": [
       "<div>\n",
       "<style scoped>\n",
       "    .dataframe tbody tr th:only-of-type {\n",
       "        vertical-align: middle;\n",
       "    }\n",
       "\n",
       "    .dataframe tbody tr th {\n",
       "        vertical-align: top;\n",
       "    }\n",
       "\n",
       "    .dataframe thead th {\n",
       "        text-align: right;\n",
       "    }\n",
       "</style>\n",
       "<table border=\"1\" class=\"dataframe\">\n",
       "  <thead>\n",
       "    <tr style=\"text-align: right;\">\n",
       "      <th></th>\n",
       "      <th>canopy</th>\n",
       "      <th>label</th>\n",
       "      <th>tile_name</th>\n",
       "      <th>x</th>\n",
       "      <th>y</th>\n",
       "      <th>geometry</th>\n",
       "    </tr>\n",
       "  </thead>\n",
       "  <tbody>\n",
       "    <tr>\n",
       "      <th>0</th>\n",
       "      <td>0.0</td>\n",
       "      <td>0</td>\n",
       "      <td>028012</td>\n",
       "      <td>1761360.0</td>\n",
       "      <td>1488030.0</td>\n",
       "      <td>POLYGON ((-76.45020728592766 34.81590242273489...</td>\n",
       "    </tr>\n",
       "    <tr>\n",
       "      <th>1</th>\n",
       "      <td>0.0</td>\n",
       "      <td>0</td>\n",
       "      <td>028011</td>\n",
       "      <td>1681560.0</td>\n",
       "      <td>1662390.0</td>\n",
       "      <td>POLYGON ((-76.92900325896298 36.48521077384399...</td>\n",
       "    </tr>\n",
       "    <tr>\n",
       "      <th>2</th>\n",
       "      <td>0.0</td>\n",
       "      <td>0</td>\n",
       "      <td>028012</td>\n",
       "      <td>1716840.0</td>\n",
       "      <td>1502310.0</td>\n",
       "      <td>POLYGON ((-76.89957784087977 35.02127890428567...</td>\n",
       "    </tr>\n",
       "    <tr>\n",
       "      <th>3</th>\n",
       "      <td>0.0</td>\n",
       "      <td>0</td>\n",
       "      <td>028012</td>\n",
       "      <td>1755480.0</td>\n",
       "      <td>1474380.0</td>\n",
       "      <td>POLYGON ((-76.54424306552457 34.70714544743746...</td>\n",
       "    </tr>\n",
       "    <tr>\n",
       "      <th>4</th>\n",
       "      <td>0.0</td>\n",
       "      <td>0</td>\n",
       "      <td>028011</td>\n",
       "      <td>1746030.0</td>\n",
       "      <td>1604430.0</td>\n",
       "      <td>POLYGON ((-76.35222097208796 35.86193505990429...</td>\n",
       "    </tr>\n",
       "  </tbody>\n",
       "</table>\n",
       "</div>"
      ],
      "text/plain": [
       "   canopy  label tile_name          x          y  \\\n",
       "0     0.0      0    028012  1761360.0  1488030.0   \n",
       "1     0.0      0    028011  1681560.0  1662390.0   \n",
       "2     0.0      0    028012  1716840.0  1502310.0   \n",
       "3     0.0      0    028012  1755480.0  1474380.0   \n",
       "4     0.0      0    028011  1746030.0  1604430.0   \n",
       "\n",
       "                                            geometry  \n",
       "0  POLYGON ((-76.45020728592766 34.81590242273489...  \n",
       "1  POLYGON ((-76.92900325896298 36.48521077384399...  \n",
       "2  POLYGON ((-76.89957784087977 35.02127890428567...  \n",
       "3  POLYGON ((-76.54424306552457 34.70714544743746...  \n",
       "4  POLYGON ((-76.35222097208796 35.86193505990429...  "
      ]
     },
     "execution_count": 133,
     "metadata": {},
     "output_type": "execute_result"
    }
   ],
   "source": [
    "reopened_gdf.head()"
   ]
  },
  {
   "cell_type": "code",
   "execution_count": 144,
   "metadata": {},
   "outputs": [
    {
     "name": "stdout",
     "output_type": "stream",
     "text": [
      "028012\n",
      "0.0\n",
      "POLYGON ((1761345 1488015, 1761375 1488015, 1761375 1488045, 1761345 1488045, 1761345 1488015))\n",
      "POINT (1761360 1488030)\n"
     ]
    }
   ],
   "source": [
    "for index, row in df.iterrows():\n",
    "    print(row['tile_name'])\n",
    "    print(row['canopy'])\n",
    "    print(row['geometry'])\n",
    "    print(row['geometry'].centroid)\n",
    "    break"
   ]
  },
  {
   "cell_type": "code",
   "execution_count": 148,
   "metadata": {},
   "outputs": [
    {
     "data": {
      "text/plain": [
       "(-0.001, 0.1]    10490\n",
       "(0.1, 0.2]         625\n",
       "(0.2, 0.3]         827\n",
       "(0.3, 0.4]         656\n",
       "(0.4, 0.5]         417\n",
       "(0.5, 0.6]         312\n",
       "(0.6, 0.7]         376\n",
       "(0.7, 0.8]         502\n",
       "(0.8, 0.9]         779\n",
       "(0.9, 1.0]        1757\n",
       "Name: canopy, dtype: int64"
      ]
     },
     "execution_count": 148,
     "metadata": {},
     "output_type": "execute_result"
    }
   ],
   "source": [
    "pd.cut(reopened_gdf['canopy'], 10).value_counts().sort_index()"
   ]
  },
  {
   "cell_type": "code",
   "execution_count": null,
   "metadata": {},
   "outputs": [],
   "source": []
  }
 ],
 "metadata": {
  "kernelspec": {
   "display_name": "Python 3",
   "language": "python",
   "name": "python3"
  },
  "language_info": {
   "codemirror_mode": {
    "name": "ipython",
    "version": 3
   },
   "file_extension": ".py",
   "mimetype": "text/x-python",
   "name": "python",
   "nbconvert_exporter": "python",
   "pygments_lexer": "ipython3",
   "version": "3.5.2"
  }
 },
 "nbformat": 4,
 "nbformat_minor": 2
}
