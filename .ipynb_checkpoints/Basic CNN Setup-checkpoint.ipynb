{
 "cells": [
  {
   "cell_type": "code",
   "execution_count": null,
   "metadata": {},
   "outputs": [],
   "source": [
    "import labeled data and imagery\n",
    "\n",
    "# What is the raster's projection?\n",
    "image_proj = image_dataset.crs\n",
    "print('Image projection:')\n",
    "print(image_proj)\n",
    "\n",
    "# What is the raster's projection?\n",
    "label_proj = label_dataset.crs\n",
    "print('Labels projection:')\n",
    "print(label_proj)"
   ]
  },
  {
   "cell_type": "markdown",
   "metadata": {},
   "source": [
    "### Data Generator"
   ]
  },
  {
   "cell_type": "code",
   "execution_count": null,
   "metadata": {},
   "outputs": [],
   "source": [
    "training_img_list = []\n",
    "training_label_list = []\n",
    "\n",
    "# dataset = input image\n",
    "# label_image = image w colors\n",
    "# tile height/width \n",
    "# stride = 1\n",
    "# \n",
    "\n",
    "def tile_generator(image_dataset, label_dataset, tile_height, tile_width, batch_size, stride=1):\n",
    "  img_height, img_width = image_dataset.shape\n",
    "  label_image = label_dataset.read()\n",
    "    \n",
    "  c = r = 0\n",
    "  b = 0\n",
    "  \n",
    "  inProj = Proj(image_dataset.crs)\n",
    "  outProj = Proj(label_dataset.crs)\n",
    "  \n",
    "  band_count = image_dataset.count\n",
    "  class_count = len(np.unique(label_image))\n",
    "  \n",
    "  while True:\n",
    "\n",
    "    # potentially don't want to go in order because that means you're not training the network randomly\n",
    "    # so you might want to just sample randomly from the label_dataset\n",
    "    for r in range(0, img_height - tile_height+1, stride):\n",
    "        for c in range(0, img_width-tile_width+1, stride):\n",
    "            image_batch = np.zeros((batch_size, tile_height, tile_width, band_count))\n",
    "            label_batch = np.zeros((batch_size,class_count))\n",
    "            while b < batch_size:\n",
    "              tile = image_dataset.read(list(np.arange(1, band_count+1)), window=Window(c, r, tile_width, tile_height))\n",
    "              tile = adjust_band(tile)\n",
    "              if np.amax(tile) == 0: # don't include if it is part of the image with no pixels\n",
    "                  pass\n",
    "              else:\n",
    "                  # reshape from raster format to image format\n",
    "                  reshaped_tile = reshape_as_image(tile)\n",
    "                  middle_pixel_r = r + np.ceil(tile_width/2)\n",
    "                  middle_pixel_c = c + np.ceil(tile_height/2)\n",
    "\n",
    "                  # find gps of that pixel within the image\n",
    "                  (x, y) = image_dataset.xy(middle_pixel_r, middle_pixel_c)\n",
    "\n",
    "                  # convert the point we're sampling from to the same projection as the label dataset if necessary\n",
    "                  if inProj != outProj:\n",
    "                    x,y = transform(inProj,outProj,x,y)\n",
    "\n",
    "                  # reference gps in label_image\n",
    "                  row, col = label_dataset.index(x,y)\n",
    "\n",
    "                  # find label\n",
    "                  label = label_image[:, row, col]\n",
    "                  if label == 0:\n",
    "                    pass\n",
    "                  \n",
    "                  else:\n",
    "                    # add label to the batch in a one hot encoding style\n",
    "                    label_batch[b][label] = 1\n",
    "                    image_batch[b] = reshaped_tile\n",
    "                    b += 1\n",
    "            yield (image_batch, label_batch)\n",
    "              "
   ]
  },
  {
   "cell_type": "code",
   "execution_count": null,
   "metadata": {},
   "outputs": [],
   "source": [
    "im_batch = None\n",
    "\n",
    "count = 0\n",
    "for (im, label) in tile_generator(image_dataset, label_dataset, 11, 11, 5):\n",
    "  if count == 1:\n",
    "    break\n",
    "  print('Image')\n",
    "  print(im.shape)\n",
    "  print(type(im))\n",
    "  #print(im)\n",
    "  print('Label')\n",
    "  print(label)\n",
    "  print(label.shape)\n",
    "  print(type(label))\n",
    "  print('----')\n",
    "  count += 1\n",
    "  im_batch = im"
   ]
  },
  {
   "cell_type": "code",
   "execution_count": null,
   "metadata": {},
   "outputs": [],
   "source": [
    "fig, axs = plt.subplots(1, 1, figsize=(18, 5)) \n",
    "\n",
    "axs.imshow(im_batch[0,:,:,0:3])"
   ]
  }
 ],
 "metadata": {
  "kernelspec": {
   "display_name": "Python 3",
   "language": "python",
   "name": "python3"
  },
  "language_info": {
   "codemirror_mode": {
    "name": "ipython",
    "version": 3
   },
   "file_extension": ".py",
   "mimetype": "text/x-python",
   "name": "python",
   "nbconvert_exporter": "python",
   "pygments_lexer": "ipython3",
   "version": "3.5.2"
  }
 },
 "nbformat": 4,
 "nbformat_minor": 2
}
