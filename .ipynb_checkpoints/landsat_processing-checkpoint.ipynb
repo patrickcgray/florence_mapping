{
 "cells": [
  {
   "cell_type": "markdown",
   "metadata": {},
   "source": [
    "## Processing Landsat Imagery for our CNN\n",
    "\n",
    "You'll likely want to add some more Landsat 8 Imagery as you progress\n",
    "\n",
    "Find path and row of interest here: https://landsatlook.usgs.gov/viewer.html and make sure it generally overlaps with out labeled dataset.\n",
    "\n",
    "Now you can go download Analysis Ready Data here by putting in the path and row, a date set, and then make sure you click on Analysis Ready Data (ARD) from the datasets: https://earthexplorer.usgs.gov/. Just make sure it is Landsat 8 and we want it to generally be from July-October and from 2013-2015.\n",
    "\n",
    "When you find an image you want you need to make and account, login, and just click download. You only need the Surface Reflectance bands."
   ]
  },
  {
   "cell_type": "code",
   "execution_count": 17,
   "metadata": {},
   "outputs": [],
   "source": [
    "import rasterio\n",
    "import numpy as np\n",
    "from glob import glob\n",
    "import os # we need os to do some basic file operations\n"
   ]
  },
  {
   "cell_type": "code",
   "execution_count": 18,
   "metadata": {},
   "outputs": [],
   "source": [
    "#combines surface reflectance bands\n",
    "def srbCombiner(ls8_bands, nameOfCombined):\n",
    "    # Read metadata of first file and assume all other bands are the same\n",
    "    with rasterio.open(ls8_bands[0]) as src0:\n",
    "        meta = src0.meta\n",
    "    \n",
    "    # Update metadata to reflect the number of layers\n",
    "    meta.update(count = len(ls8_bands))\n",
    "    \n",
    "    # Read each layer and write it to stack\n",
    "    with rasterio.open(img_fp, 'w', **meta) as dst: \n",
    "        for id, layer in enumerate(ls8_bands, start=1):\n",
    "            print(layer)\n",
    "            with rasterio.open(layer) as src1:\n",
    "                dst.write_band(id, src1.read(1))"
   ]
  },
  {
   "cell_type": "code",
   "execution_count": 23,
   "metadata": {},
   "outputs": [
    {
     "name": "stdout",
     "output_type": "stream",
     "text": [
      "C:\\Users\\diego\\Box Sync\\Bass_Connections\\NC_habitat_classifier\\data\\tile028012\\LC08_CU_028012_20140814_20171017_C01_V01_SRB1.tif\n",
      "C:\\Users\\diego\\Box Sync\\Bass_Connections\\NC_habitat_classifier\\data\\tile028012\\LC08_CU_028012_20140814_20171017_C01_V01_SRB2.tif\n",
      "C:\\Users\\diego\\Box Sync\\Bass_Connections\\NC_habitat_classifier\\data\\tile028012\\LC08_CU_028012_20140814_20171017_C01_V01_SRB3.tif\n",
      "C:\\Users\\diego\\Box Sync\\Bass_Connections\\NC_habitat_classifier\\data\\tile028012\\LC08_CU_028012_20140814_20171017_C01_V01_SRB4.tif\n",
      "C:\\Users\\diego\\Box Sync\\Bass_Connections\\NC_habitat_classifier\\data\\tile028012\\LC08_CU_028012_20140814_20171017_C01_V01_SRB5.tif\n",
      "C:\\Users\\diego\\Box Sync\\Bass_Connections\\NC_habitat_classifier\\data\\tile028012\\LC08_CU_028012_20140814_20171017_C01_V01_SRB6.tif\n",
      "C:\\Users\\diego\\Box Sync\\Bass_Connections\\NC_habitat_classifier\\data\\tile028012\\LC08_CU_028012_20140814_20171017_C01_V01_SRB7.tif\n",
      "---- TILE -----028012\n",
      "(5000, 5000)\n",
      "7\n",
      "C:\\Users\\diego\\Box Sync\\Bass_Connections\\NC_habitat_classifier\\data\\tile029011\\LC08_CU_029011_20130430_20171016_C01_V01_SRB1.tif\n",
      "C:\\Users\\diego\\Box Sync\\Bass_Connections\\NC_habitat_classifier\\data\\tile029011\\LC08_CU_029011_20130430_20171016_C01_V01_SRB2.tif\n",
      "C:\\Users\\diego\\Box Sync\\Bass_Connections\\NC_habitat_classifier\\data\\tile029011\\LC08_CU_029011_20130430_20171016_C01_V01_SRB3.tif\n",
      "C:\\Users\\diego\\Box Sync\\Bass_Connections\\NC_habitat_classifier\\data\\tile029011\\LC08_CU_029011_20130430_20171016_C01_V01_SRB4.tif\n",
      "C:\\Users\\diego\\Box Sync\\Bass_Connections\\NC_habitat_classifier\\data\\tile029011\\LC08_CU_029011_20130430_20171016_C01_V01_SRB5.tif\n",
      "C:\\Users\\diego\\Box Sync\\Bass_Connections\\NC_habitat_classifier\\data\\tile029011\\LC08_CU_029011_20130430_20171016_C01_V01_SRB6.tif\n",
      "C:\\Users\\diego\\Box Sync\\Bass_Connections\\NC_habitat_classifier\\data\\tile029011\\LC08_CU_029011_20130430_20171016_C01_V01_SRB7.tif\n",
      "---- TILE -----029011\n",
      "(5000, 5000)\n",
      "7\n"
     ]
    }
   ],
   "source": [
    "\n",
    "tiles = ['028012', '029011']\n",
    "\n",
    "for tile in tiles:\n",
    "    ls8_fp = \"C:\\\\Users\\\\diego\\\\Box Sync\\\\Bass_Connections\\\\NC_habitat_classifier\\\\data\\\\tile\" + tile\n",
    "    ls8_band_paths = glob(ls8_fp + \"\\\\*SRB*\")\n",
    "    ls8_band_paths.sort()\n",
    "    img_fp = \"C:\\\\Users\\\\diego\\\\Box Sync\\\\Bass_Connections\\\\NC_habitat_classifier\\\\data\\\\combined\" + \"\\\\combined\" + tile + \".tif\"\n",
    "    srbCombiner(ls8_band_paths, img_fp)"
   ]
  },
  {
   "cell_type": "code",
   "execution_count": 22,
   "metadata": {},
   "outputs": [
    {
     "name": "stdout",
     "output_type": "stream",
     "text": [
      "(5000, 5000)\n",
      "7\n"
     ]
    }
   ],
   "source": [
    "full_dataset = rasterio.open(img_fp)\n",
    "img_rows, img_cols = full_dataset.shape\n",
    "img_bands = full_dataset.count\n",
    "print(full_dataset.shape) # dimensions\n",
    "print(full_dataset.count) # bands"
   ]
  },
  {
   "cell_type": "markdown",
   "metadata": {},
   "source": [
    "Looks good!"
   ]
  },
  {
   "cell_type": "code",
   "execution_count": null,
   "metadata": {},
   "outputs": [],
   "source": []
  }
 ],
 "metadata": {
  "kernelspec": {
   "display_name": "Python 3",
   "language": "python",
   "name": "python3"
  },
  "language_info": {
   "codemirror_mode": {
    "name": "ipython",
    "version": 3
   },
   "file_extension": ".py",
   "mimetype": "text/x-python",
   "name": "python",
   "nbconvert_exporter": "python",
   "pygments_lexer": "ipython3",
   "version": "3.6.7"
  }
 },
 "nbformat": 4,
 "nbformat_minor": 2
}
