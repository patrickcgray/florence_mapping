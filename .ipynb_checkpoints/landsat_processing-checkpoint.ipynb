{
 "cells": [
  {
   "cell_type": "markdown",
   "metadata": {},
   "source": [
    "## Processing Landsat Imagery for our CNN\n",
    "\n",
    "You'll likely want to add some more Landsat 8 Imagery as you progress\n",
    "\n",
    "Find path and row of interest here: https://landsatlook.usgs.gov/viewer.html and make sure it generally overlaps with out labeled dataset.\n",
    "\n",
    "Now you can go download Analysis Ready Data here by putting in the path and row, a date set, and then make sure you click on Analysis Ready Data (ARD) from the datasets: https://earthexplorer.usgs.gov/. Just make sure it is Landsat 8 and we want it to generally be from July-October and from 2013-2015.\n",
    "\n",
    "When you find an image you want you need to make and account, login, and just click download. You only need the Surface Reflectance bands."
   ]
  },
  {
   "cell_type": "code",
   "execution_count": 1,
   "metadata": {},
   "outputs": [],
   "source": [
    "import rasterio\n",
    "import numpy as np"
   ]
  },
  {
   "cell_type": "code",
   "execution_count": 2,
   "metadata": {},
   "outputs": [
    {
     "name": "stdout",
     "output_type": "stream",
     "text": [
      "LC08_CU_027012_20170907_20181121_C01_V01_SR  data\r\n",
      "LC08_CU_028011_20170907_20181130_C01_V01_SR  landcover_reproject.tif\r\n",
      "LC08_CU_028012_20140814_20171017_C01_V01_SR  processed_landsat\r\n",
      "LC08_CU_028012_20171002_20171019_C01_V01_SR\r\n"
     ]
    }
   ],
   "source": [
    "# check where the data is located\n",
    "! ls /deep_data/"
   ]
  },
  {
   "cell_type": "code",
   "execution_count": 20,
   "metadata": {},
   "outputs": [],
   "source": [
    "import os # we need os to do some basic file operations\n",
    "\n",
    "# this is the location of our files for this specific landsat SR (surface reflectance) image\n",
    "ls8_fp = \"/deep_data/LC08_CU_028012_20171002_20171019_C01_V01_SR/\""
   ]
  },
  {
   "cell_type": "code",
   "execution_count": 21,
   "metadata": {},
   "outputs": [
    {
     "name": "stdout",
     "output_type": "stream",
     "text": [
      "LC08_CU_028012_20140814_20171017_C01_V01.xml\r\n",
      "LC08_CU_028012_20140814_20171017_C01_V01_LINEAGEQA.tif\r\n",
      "LC08_CU_028012_20140814_20171017_C01_V01_PIXELQA.tif\r\n",
      "LC08_CU_028012_20140814_20171017_C01_V01_RADSATQA.tif\r\n",
      "LC08_CU_028012_20140814_20171017_C01_V01_SRAEROSOLQA.tif\r\n",
      "LC08_CU_028012_20140814_20171017_C01_V01_SRB1.tif\r\n",
      "LC08_CU_028012_20140814_20171017_C01_V01_SRB2.tif\r\n",
      "LC08_CU_028012_20140814_20171017_C01_V01_SRB3.tif\r\n",
      "LC08_CU_028012_20140814_20171017_C01_V01_SRB4.tif\r\n",
      "LC08_CU_028012_20140814_20171017_C01_V01_SRB5.tif\r\n",
      "LC08_CU_028012_20140814_20171017_C01_V01_SRB6.tif\r\n",
      "LC08_CU_028012_20140814_20171017_C01_V01_SRB7.tif\r\n",
      "combined.tif\r\n"
     ]
    }
   ],
   "source": [
    "! ls /deep_data/LC08_CU_028012_20140814_20171017_C01_V01_SR/"
   ]
  },
  {
   "cell_type": "code",
   "execution_count": 22,
   "metadata": {},
   "outputs": [],
   "source": [
    "from glob import glob\n",
    "# this finds all files that have SRB at the end which stands for Surface Reflectance Band and then will have the band number\n",
    "ls8_band_paths = glob(ls8_fp + '*SRB*')"
   ]
  },
  {
   "cell_type": "code",
   "execution_count": 23,
   "metadata": {
    "scrolled": true
   },
   "outputs": [
    {
     "data": {
      "text/plain": [
       "['/deep_data/LC08_CU_028012_20171002_20171019_C01_V01_SR/LC08_CU_027012_20170907_20181121_C01_V01_SRB1.tif',\n",
       " '/deep_data/LC08_CU_028012_20171002_20171019_C01_V01_SR/LC08_CU_027012_20170907_20181121_C01_V01_SRB2.tif',\n",
       " '/deep_data/LC08_CU_028012_20171002_20171019_C01_V01_SR/LC08_CU_027012_20170907_20181121_C01_V01_SRB3.tif',\n",
       " '/deep_data/LC08_CU_028012_20171002_20171019_C01_V01_SR/LC08_CU_027012_20170907_20181121_C01_V01_SRB4.tif',\n",
       " '/deep_data/LC08_CU_028012_20171002_20171019_C01_V01_SR/LC08_CU_027012_20170907_20181121_C01_V01_SRB5.tif',\n",
       " '/deep_data/LC08_CU_028012_20171002_20171019_C01_V01_SR/LC08_CU_027012_20170907_20181121_C01_V01_SRB6.tif',\n",
       " '/deep_data/LC08_CU_028012_20171002_20171019_C01_V01_SR/LC08_CU_027012_20170907_20181121_C01_V01_SRB7.tif',\n",
       " '/deep_data/LC08_CU_028012_20171002_20171019_C01_V01_SR/LC08_CU_027012_20170907_20181121_C01_V01_PIXELQA.tif']"
      ]
     },
     "execution_count": 23,
     "metadata": {},
     "output_type": "execute_result"
    }
   ],
   "source": [
    "# we want to make sure the bands are in the same order so all the final images look the same\n",
    "ls8_band_paths.sort()\n",
    "ls8_band_paths += glob(ls8_fp + '*PIXELQA*') # add the pixel QA band\n",
    "ls8_band_paths"
   ]
  },
  {
   "cell_type": "code",
   "execution_count": 24,
   "metadata": {},
   "outputs": [
    {
     "data": {
      "text/plain": [
       "'LC08_CU_028012_20171002_20171019_C01_V01_SR'"
      ]
     },
     "execution_count": 24,
     "metadata": {},
     "output_type": "execute_result"
    }
   ],
   "source": [
    "ls8_fp.split('/')[-2]"
   ]
  },
  {
   "cell_type": "code",
   "execution_count": 25,
   "metadata": {},
   "outputs": [
    {
     "name": "stdout",
     "output_type": "stream",
     "text": [
      "/deep_data/LC08_CU_028012_20171002_20171019_C01_V01_SR/LC08_CU_027012_20170907_20181121_C01_V01_SRB1.tif\n",
      "/deep_data/LC08_CU_028012_20171002_20171019_C01_V01_SR/LC08_CU_027012_20170907_20181121_C01_V01_SRB2.tif\n",
      "/deep_data/LC08_CU_028012_20171002_20171019_C01_V01_SR/LC08_CU_027012_20170907_20181121_C01_V01_SRB3.tif\n",
      "/deep_data/LC08_CU_028012_20171002_20171019_C01_V01_SR/LC08_CU_027012_20170907_20181121_C01_V01_SRB4.tif\n",
      "/deep_data/LC08_CU_028012_20171002_20171019_C01_V01_SR/LC08_CU_027012_20170907_20181121_C01_V01_SRB5.tif\n",
      "/deep_data/LC08_CU_028012_20171002_20171019_C01_V01_SR/LC08_CU_027012_20170907_20181121_C01_V01_SRB6.tif\n",
      "/deep_data/LC08_CU_028012_20171002_20171019_C01_V01_SR/LC08_CU_027012_20170907_20181121_C01_V01_SRB7.tif\n",
      "/deep_data/LC08_CU_028012_20171002_20171019_C01_V01_SR/LC08_CU_027012_20170907_20181121_C01_V01_PIXELQA.tif\n"
     ]
    }
   ],
   "source": [
    "# filepath for image we're writing out\n",
    "img_fp = '/deep_data/processed_landsat/' + ls8_fp.split('/')[-2] + '_combined.tif'\n",
    "\n",
    "# Read metadata of first file and assume all other bands are the same\n",
    "with rasterio.open(ls8_band_paths[0]) as src0:\n",
    "    meta = src0.meta\n",
    "\n",
    "# Update metadata to reflect the number of layers\n",
    "meta.update(count = len(ls8_band_paths))\n",
    "\n",
    "\n",
    "# Read each layer and write it to stack\n",
    "with rasterio.open(img_fp, 'w', **meta) as dst:\n",
    "    for id, layer in enumerate(ls8_band_paths, start=1):\n",
    "        print(layer)\n",
    "        if id < 8:\n",
    "            with rasterio.open(layer) as src1:\n",
    "                dst.write_band(id, src1.read(1))\n",
    "        else:\n",
    "            with rasterio.open(layer) as src1:\n",
    "                dst.write_band(id, src1.read(1).astype(np.int16)) # this one otherwise is uint16 for some reason"
   ]
  },
  {
   "cell_type": "code",
   "execution_count": 26,
   "metadata": {},
   "outputs": [
    {
     "data": {
      "text/plain": [
       "'/deep_data/processed_landsat/LC08_CU_028012_20171002_20171019_C01_V01_SR_combined.tif'"
      ]
     },
     "execution_count": 26,
     "metadata": {},
     "output_type": "execute_result"
    }
   ],
   "source": [
    "img_fp"
   ]
  },
  {
   "cell_type": "code",
   "execution_count": 27,
   "metadata": {},
   "outputs": [
    {
     "name": "stdout",
     "output_type": "stream",
     "text": [
      "(5000, 5000)\n",
      "8\n"
     ]
    }
   ],
   "source": [
    "full_dataset = rasterio.open(img_fp)\n",
    "print(full_dataset.shape) # dimensions\n",
    "print(full_dataset.count) # bands"
   ]
  },
  {
   "cell_type": "markdown",
   "metadata": {},
   "source": [
    "Looks good!"
   ]
  },
  {
   "cell_type": "code",
   "execution_count": 28,
   "metadata": {},
   "outputs": [
    {
     "name": "stdout",
     "output_type": "stream",
     "text": [
      "(5000, 5000)\n",
      "[  1 322 324 328 352 386 392 416 480 834 840 864 898 904 928 992]\n"
     ]
    }
   ],
   "source": [
    "# looking into pixel quality\n",
    "pixel_qa_image = full_dataset.read(8)\n",
    "print(pixel_qa_image.shape) # dimensions\n",
    "print(np.unique(pixel_qa_image))"
   ]
  },
  {
   "cell_type": "code",
   "execution_count": 29,
   "metadata": {},
   "outputs": [],
   "source": [
    "full_dataset.close()"
   ]
  },
  {
   "cell_type": "code",
   "execution_count": null,
   "metadata": {},
   "outputs": [],
   "source": []
  }
 ],
 "metadata": {
  "kernelspec": {
   "display_name": "Python 3",
   "language": "python",
   "name": "python3"
  },
  "language_info": {
   "codemirror_mode": {
    "name": "ipython",
    "version": 3
   },
   "file_extension": ".py",
   "mimetype": "text/x-python",
   "name": "python",
   "nbconvert_exporter": "python",
   "pygments_lexer": "ipython3",
   "version": "3.5.2"
  }
 },
 "nbformat": 4,
 "nbformat_minor": 2
}
