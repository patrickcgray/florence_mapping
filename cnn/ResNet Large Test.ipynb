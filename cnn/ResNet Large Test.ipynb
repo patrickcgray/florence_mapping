{
 "cells": [
  {
   "cell_type": "code",
   "execution_count": 1,
   "metadata": {},
   "outputs": [
    {
     "name": "stderr",
     "output_type": "stream",
     "text": [
      "Using TensorFlow backend.\n"
     ]
    },
    {
     "data": {
      "text/plain": [
       "<module 'tile' from '/host/Desktop/cnn_dev/florence_mapping/tile.py'>"
      ]
     },
     "execution_count": 1,
     "metadata": {},
     "output_type": "execute_result"
    }
   ],
   "source": [
    "import os\n",
    "import sys\n",
    "import numpy as np\n",
    "module_path = os.path.abspath(os.path.join('..'))\n",
    "if module_path not in sys.path:\n",
    "    sys.path.append(module_path)\n",
    "import pixel as pix\n",
    "import utilities as util\n",
    "import tile\n",
    "import importlib\n",
    "import resnet as rs\n",
    "import keras\n",
    "from keras.optimizers import Adam\n",
    "importlib.reload(tile)"
   ]
  },
  {
   "cell_type": "code",
   "execution_count": 2,
   "metadata": {},
   "outputs": [],
   "source": [
    "landsat, sentinel, dem, label = util.load_data()\n",
    "tile_size = 64\n",
    "num_classes = util.get_class_count()\n",
    "pixel_gen = pix.pixel_gen(landsat, sentinel, dem, label, tile_size, num_classes)\n",
    "tile_gen = tile.tile_gen(landsat, sentinel, dem, label, tile_size, num_classes)"
   ]
  },
  {
   "cell_type": "code",
   "execution_count": 3,
   "metadata": {},
   "outputs": [],
   "source": [
    "os.environ[\"CUDA_VISIBLE_DEVICES\"]=\"3\";"
   ]
  },
  {
   "cell_type": "code",
   "execution_count": null,
   "metadata": {
    "scrolled": true
   },
   "outputs": [],
   "source": [
    "#pixels = pixel_gen.gen_pixels(1000000, not_include=5, balanced=True)\n",
    "#train_px, val_px, test_px = pixel_gen.train_val_test_split(pixels, 0.7, 0.7)\n",
    "#pixel_gen.print_balance()"
   ]
  },
  {
   "cell_type": "code",
   "execution_count": 4,
   "metadata": {},
   "outputs": [],
   "source": [
    "pixels = util.read_txt([\"train_px.txt\", \"val_px.txt\", \"test_px.txt\"])"
   ]
  },
  {
   "cell_type": "code",
   "execution_count": 5,
   "metadata": {},
   "outputs": [],
   "source": [
    "train_px, val_px, test_px = (pixels[0], pixels[1], pixels[2])"
   ]
  },
  {
   "cell_type": "code",
   "execution_count": 6,
   "metadata": {},
   "outputs": [
    {
     "name": "stdout",
     "output_type": "stream",
     "text": [
      "(10, 64, 64)\n"
     ]
    }
   ],
   "source": [
    "epochs = 20\n",
    "batch_size = 25\n",
    "input_shape = tile_gen.get_tile_shape(reshape=True)\n",
    "print(input_shape)"
   ]
  },
  {
   "cell_type": "code",
   "execution_count": 7,
   "metadata": {},
   "outputs": [],
   "source": [
    "model = rs.ResnetBuilder.build_resnet_101(input_shape,num_classes)"
   ]
  },
  {
   "cell_type": "code",
   "execution_count": 8,
   "metadata": {},
   "outputs": [],
   "source": [
    "opt = Adam()\n",
    "model.compile(optimizer=opt, loss='categorical_crossentropy', metrics=['accuracy'])"
   ]
  },
  {
   "cell_type": "code",
   "execution_count": 11,
   "metadata": {},
   "outputs": [
    {
     "name": "stdout",
     "output_type": "stream",
     "text": [
      "Epoch 1/20\n",
      "20791/20791 [==============================] - 15760s 758ms/step - loss: 1.5104 - acc: 0.5286 - val_loss: 1.6191 - val_acc: 0.5019\n",
      "Epoch 2/20\n",
      "20791/20791 [==============================] - 13157s 633ms/step - loss: 1.5024 - acc: 0.5313 - val_loss: 1.5708 - val_acc: 0.5094\n",
      "Epoch 3/20\n",
      "20791/20791 [==============================] - 12682s 610ms/step - loss: 1.4958 - acc: 0.5330 - val_loss: 1.5471 - val_acc: 0.5208\n",
      "Epoch 4/20\n",
      "20791/20791 [==============================] - 12988s 625ms/step - loss: 1.4896 - acc: 0.5357 - val_loss: 1.5676 - val_acc: 0.5054\n",
      "Epoch 5/20\n",
      "20791/20791 [==============================] - 12531s 603ms/step - loss: 1.4857 - acc: 0.5368 - val_loss: 1.5954 - val_acc: 0.5065\n",
      "Epoch 6/20\n",
      "20791/20791 [==============================] - 12559s 604ms/step - loss: 1.4812 - acc: 0.5377 - val_loss: 1.5336 - val_acc: 0.5188\n",
      "Epoch 7/20\n",
      "20791/20791 [==============================] - 12256s 590ms/step - loss: 1.4780 - acc: 0.5382 - val_loss: 1.5886 - val_acc: 0.5112\n",
      "Epoch 8/20\n",
      "20791/20791 [==============================] - 12805s 616ms/step - loss: 1.4759 - acc: 0.5397 - val_loss: 1.5267 - val_acc: 0.5278\n",
      "Epoch 9/20\n",
      "20791/20791 [==============================] - 12820s 617ms/step - loss: 1.4739 - acc: 0.5404 - val_loss: 1.5624 - val_acc: 0.5131\n",
      "Epoch 10/20\n",
      "20791/20791 [==============================] - 12798s 616ms/step - loss: 1.4707 - acc: 0.5413 - val_loss: 1.5257 - val_acc: 0.5254\n",
      "Epoch 11/20\n",
      "20791/20791 [==============================] - 12756s 614ms/step - loss: 1.4683 - acc: 0.5417 - val_loss: 1.5073 - val_acc: 0.5321\n",
      "Epoch 12/20\n",
      "20791/20791 [==============================] - 12722s 612ms/step - loss: 1.4659 - acc: 0.5427 - val_loss: 1.5867 - val_acc: 0.5061\n",
      "Epoch 13/20\n",
      "20791/20791 [==============================] - 12852s 618ms/step - loss: 1.4626 - acc: 0.5440 - val_loss: 1.4901 - val_acc: 0.5346\n",
      "Epoch 14/20\n",
      "20791/20791 [==============================] - 13413s 645ms/step - loss: 1.4617 - acc: 0.5440 - val_loss: 1.6396 - val_acc: 0.4980\n",
      "Epoch 15/20\n",
      "20791/20791 [==============================] - 12797s 616ms/step - loss: 1.4608 - acc: 0.5440 - val_loss: 1.4795 - val_acc: 0.5383\n",
      "Epoch 16/20\n",
      "20791/20791 [==============================] - 12912s 621ms/step - loss: 1.4585 - acc: 0.5453 - val_loss: 1.4942 - val_acc: 0.5337\n",
      "Epoch 17/20\n",
      "20791/20791 [==============================] - 13176s 634ms/step - loss: 1.4574 - acc: 0.5452 - val_loss: 1.4739 - val_acc: 0.5403\n",
      "Epoch 18/20\n",
      "20791/20791 [==============================] - 13025s 626ms/step - loss: 1.4570 - acc: 0.5452 - val_loss: 1.5570 - val_acc: 0.5207\n",
      "Epoch 19/20\n",
      "20791/20791 [==============================] - 12109s 582ms/step - loss: 1.4553 - acc: 0.5465 - val_loss: 1.5396 - val_acc: 0.5220\n",
      "Epoch 20/20\n",
      "20791/20791 [==============================] - 12389s 596ms/step - loss: 1.4547 - acc: 0.5463 - val_loss: 1.4716 - val_acc: 0.5397\n"
     ]
    },
    {
     "data": {
      "text/plain": [
       "<keras.callbacks.History at 0x7f77002ee748>"
      ]
     },
     "execution_count": 11,
     "metadata": {},
     "output_type": "execute_result"
    }
   ],
   "source": [
    "model.fit_generator(generator=tile_gen.tile_generator(train_px, batch_size), \n",
    "                    steps_per_epoch=len(train_px) // batch_size, epochs=epochs, verbose=1,\n",
    "                    validation_data=tile_gen.tile_generator(val_px, batch_size),\n",
    "                    validation_steps=len(val_px) // batch_size)"
   ]
  },
  {
   "cell_type": "code",
   "execution_count": 12,
   "metadata": {},
   "outputs": [],
   "source": [
    "model.save('resnet_fixed.h5')"
   ]
  },
  {
   "cell_type": "markdown",
   "metadata": {},
   "source": [
    "# Test Pixels"
   ]
  },
  {
   "cell_type": "code",
   "execution_count": null,
   "metadata": {},
   "outputs": [],
   "source": [
    "tile_gen.evaluate_cnn(model, test_px)"
   ]
  },
  {
   "cell_type": "markdown",
   "metadata": {},
   "source": [
    "# Test Pixels on specific tiles"
   ]
  },
  {
   "cell_type": "code",
   "execution_count": null,
   "metadata": {},
   "outputs": [],
   "source": [
    "pixel_buckets = { 0: list(), 1: list(), 2: list(), 3: list(), 4: list()}\n",
    "for pix in test_px:\n",
    "    pixel_buckets[pix[1]].append(pix)"
   ]
  },
  {
   "cell_type": "markdown",
   "metadata": {},
   "source": [
    "# Tile 0"
   ]
  },
  {
   "cell_type": "code",
   "execution_count": null,
   "metadata": {},
   "outputs": [],
   "source": [
    "tile_gen.evaluate_cnn(model, pixel_buckets[0])"
   ]
  },
  {
   "cell_type": "markdown",
   "metadata": {},
   "source": [
    "# Tile 1"
   ]
  },
  {
   "cell_type": "code",
   "execution_count": null,
   "metadata": {},
   "outputs": [],
   "source": [
    "tile_gen.evaluate_cnn(model, pixel_buckets[1])"
   ]
  },
  {
   "cell_type": "markdown",
   "metadata": {},
   "source": [
    "# Tile 2"
   ]
  },
  {
   "cell_type": "code",
   "execution_count": null,
   "metadata": {},
   "outputs": [],
   "source": [
    "tile_gen.evaluate_cnn(model, pixel_buckets[2])"
   ]
  },
  {
   "cell_type": "markdown",
   "metadata": {},
   "source": [
    "# Tile 3"
   ]
  },
  {
   "cell_type": "code",
   "execution_count": null,
   "metadata": {},
   "outputs": [],
   "source": [
    "tile_gen.evaluate_cnn(model, pixel_buckets[3])"
   ]
  },
  {
   "cell_type": "markdown",
   "metadata": {},
   "source": [
    "# Tile 4"
   ]
  },
  {
   "cell_type": "code",
   "execution_count": null,
   "metadata": {},
   "outputs": [],
   "source": [
    "tile_gen.evaluate_cnn(model, pixel_buckets[4])"
   ]
  }
 ],
 "metadata": {
  "kernelspec": {
   "display_name": "Python 3",
   "language": "python",
   "name": "python3"
  },
  "language_info": {
   "codemirror_mode": {
    "name": "ipython",
    "version": 3
   },
   "file_extension": ".py",
   "mimetype": "text/x-python",
   "name": "python",
   "nbconvert_exporter": "python",
   "pygments_lexer": "ipython3",
   "version": "3.5.2"
  }
 },
 "nbformat": 4,
 "nbformat_minor": 2
}
