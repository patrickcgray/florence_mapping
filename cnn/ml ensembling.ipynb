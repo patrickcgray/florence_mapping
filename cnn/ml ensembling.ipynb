{
 "cells": [
  {
   "cell_type": "code",
   "execution_count": 20,
   "metadata": {},
   "outputs": [],
   "source": [
    "import keras\n",
    "import os\n",
    "import sys\n",
    "module_path = os.path.abspath(os.path.join('..'))\n",
    "if module_path not in sys.path:\n",
    "    sys.path.append(module_path)\n",
    "import utilities as util\n",
    "import pixel as pix\n",
    "import tile\n",
    "import numpy as np"
   ]
  },
  {
   "cell_type": "code",
   "execution_count": null,
   "metadata": {},
   "outputs": [],
   "source": [
    "os.environ[\"CUDA_VISIBLE_DEVICES\"]=\"1\";"
   ]
  },
  {
   "cell_type": "code",
   "execution_count": 3,
   "metadata": {},
   "outputs": [],
   "source": [
    "landsat, sentinel, dem, label = util.load_data()\n",
    "num_classes = util.get_class_count()\n",
    "tile_gen_cnn = tile.tile_gen(landsat, sentinel, dem, label, 64, num_classes)\n",
    "tile_gen_small = tile.tile_gen(landsat, sentinel, dem, label, 10, num_classes)\n",
    "tile_gen_single = tile.tile_gen(landsat, sentinel, dem, label, 1, num_classes)"
   ]
  },
  {
   "cell_type": "code",
   "execution_count": 4,
   "metadata": {},
   "outputs": [],
   "source": [
    "pixels = util.read_txt([\"train_px.txt\", \"val_px.txt\", \"test_px.txt\"])"
   ]
  },
  {
   "cell_type": "code",
   "execution_count": 5,
   "metadata": {},
   "outputs": [],
   "source": [
    "train_px, val_px, test_px = (pixels[0], pixels[1], pixels[2])"
   ]
  },
  {
   "cell_type": "code",
   "execution_count": 7,
   "metadata": {},
   "outputs": [],
   "source": [
    "image_train = tile_gen_single.tile_generator(train_px, len(train_px))\n",
    "image_val = tile_gen_single.tile_generator(val_px, len(val_px))\n",
    "image_test = tile_gen_single.tile_generator(test_px, len(test_px))\n",
    "\n",
    "image_sk_train, train_labels = next(image_train) \n",
    "image_sk_val, val_labels = next(image_val) \n",
    "image_sk_test, test_labels = next(image_test)\n",
    "\n",
    "image_sk_train = image_sk_train.reshape(len(train_px), 10)\n",
    "image_sk_val = image_sk_val.reshape(len(val_px), 10)\n",
    "image_sk_test = image_sk_test.reshape(len(test_px), 10)"
   ]
  },
  {
   "cell_type": "code",
   "execution_count": 9,
   "metadata": {},
   "outputs": [
    {
     "name": "stdout",
     "output_type": "stream",
     "text": [
      "(519793, 16)\n",
      "(155938, 16)\n",
      "(113613, 16)\n"
     ]
    }
   ],
   "source": [
    "print(train_labels.shape)\n",
    "print(val_labels.shape)\n",
    "print(test_labels.shape)"
   ]
  },
  {
   "cell_type": "code",
   "execution_count": 50,
   "metadata": {},
   "outputs": [],
   "source": [
    "cnn_large = keras.models.load_model('/deep_data/resnet_fixed.h5')\n",
    "cnn_small = keras.models.load_model('/deep_data/small_cnn_fixed.h5')\n",
    "nn_single = keras.models.load_model('/deep_data/nn_model_fixed.h5')"
   ]
  },
  {
   "cell_type": "code",
   "execution_count": 51,
   "metadata": {},
   "outputs": [],
   "source": [
    "batch_size = 25"
   ]
  },
  {
   "cell_type": "code",
   "execution_count": 52,
   "metadata": {},
   "outputs": [
    {
     "name": "stdout",
     "output_type": "stream",
     "text": [
      "6237/6237 [==============================] - 549s 88ms/step\n"
     ]
    }
   ],
   "source": [
    "train_predictions_single = nn_single.predict_generator(generator = tile_gen_single.tile_generator(val_px, batch_size=batch_size, flat=True), steps=len(val_px) // batch_size, verbose=1)"
   ]
  },
  {
   "cell_type": "code",
   "execution_count": 53,
   "metadata": {},
   "outputs": [
    {
     "name": "stdout",
     "output_type": "stream",
     "text": [
      "6237/6237 [==============================] - 561s 90ms/step\n"
     ]
    }
   ],
   "source": [
    "train_predictions_small = cnn_small.predict_generator(generator = tile_gen_small.tile_generator(val_px, batch_size=batch_size), steps=len(val_px) // batch_size, verbose=1)"
   ]
  },
  {
   "cell_type": "code",
   "execution_count": 54,
   "metadata": {},
   "outputs": [
    {
     "name": "stdout",
     "output_type": "stream",
     "text": [
      "6237/6237 [==============================] - 641s 103ms/step\n"
     ]
    }
   ],
   "source": [
    "train_predictions_large = cnn_large.predict_generator(generator = tile_gen_cnn.tile_generator(val_px, batch_size=batch_size), steps=len(val_px) // batch_size, verbose=1)"
   ]
  },
  {
   "cell_type": "code",
   "execution_count": 55,
   "metadata": {},
   "outputs": [
    {
     "name": "stdout",
     "output_type": "stream",
     "text": [
      "155925\n"
     ]
    }
   ],
   "source": [
    "print(len(train_predictions_single))\n",
    "input_data = list()\n",
    "for i in range(len(train_predictions_single)):\n",
    "    input_data.append(np.concatenate((train_predictions_single[i], train_predictions_small[i], train_predictions_large[i])))"
   ]
  },
  {
   "cell_type": "code",
   "execution_count": 56,
   "metadata": {},
   "outputs": [],
   "source": [
    "from keras import models\n",
    "from keras import layers"
   ]
  },
  {
   "cell_type": "code",
   "execution_count": 57,
   "metadata": {},
   "outputs": [],
   "source": [
    "model = models.Sequential()\n",
    "model.add(layers.Dense(128, activation = \"relu\", input_shape=(48,)))\n",
    "model.add(layers.Dense(128, activation = \"relu\"))\n",
    "model.add(layers.Dense(128, activation = \"relu\"))\n",
    "model.add(layers.Dense(16, activation = \"softmax\"))"
   ]
  },
  {
   "cell_type": "code",
   "execution_count": 58,
   "metadata": {},
   "outputs": [],
   "source": [
    "from keras.optimizers import Adam\n",
    "model.compile(optimizer=Adam(lr=0.0001), loss = 'categorical_crossentropy', metrics=['accuracy'])"
   ]
  },
  {
   "cell_type": "code",
   "execution_count": 59,
   "metadata": {
    "scrolled": true
   },
   "outputs": [
    {
     "name": "stdout",
     "output_type": "stream",
     "text": [
      "Epoch 1/20\n",
      "155925/155925 [==============================] - 56s 360us/step - loss: 1.2935 - acc: 0.5842\n",
      "Epoch 2/20\n",
      "155925/155925 [==============================] - 36s 229us/step - loss: 1.2023 - acc: 0.5978\n",
      "Epoch 3/20\n",
      "155925/155925 [==============================] - 36s 230us/step - loss: 1.1923 - acc: 0.5992\n",
      "Epoch 4/20\n",
      "155925/155925 [==============================] - 35s 226us/step - loss: 1.1849 - acc: 0.6007\n",
      "Epoch 5/20\n",
      "155925/155925 [==============================] - 35s 227us/step - loss: 1.1789 - acc: 0.6014\n",
      "Epoch 6/20\n",
      "155925/155925 [==============================] - 36s 228us/step - loss: 1.1736 - acc: 0.6031\n",
      "Epoch 7/20\n",
      "155925/155925 [==============================] - 35s 227us/step - loss: 1.1697 - acc: 0.6032\n",
      "Epoch 8/20\n",
      "155925/155925 [==============================] - 36s 229us/step - loss: 1.1660 - acc: 0.6032\n",
      "Epoch 9/20\n",
      "155925/155925 [==============================] - 36s 228us/step - loss: 1.1627 - acc: 0.6050\n",
      "Epoch 10/20\n",
      "155925/155925 [==============================] - 36s 228us/step - loss: 1.1600 - acc: 0.6051\n",
      "Epoch 11/20\n",
      "155925/155925 [==============================] - 35s 227us/step - loss: 1.1577 - acc: 0.6059\n",
      "Epoch 12/20\n",
      "155925/155925 [==============================] - 34s 221us/step - loss: 1.1555 - acc: 0.6051\n",
      "Epoch 13/20\n",
      "155925/155925 [==============================] - 35s 222us/step - loss: 1.1532 - acc: 0.6059\n",
      "Epoch 14/20\n",
      "155925/155925 [==============================] - 36s 230us/step - loss: 1.1513 - acc: 0.6061\n",
      "Epoch 15/20\n",
      "155925/155925 [==============================] - 36s 228us/step - loss: 1.1495 - acc: 0.6062\n",
      "Epoch 16/20\n",
      "155925/155925 [==============================] - 35s 224us/step - loss: 1.1479 - acc: 0.6070\n",
      "Epoch 17/20\n",
      "155925/155925 [==============================] - 35s 222us/step - loss: 1.1463 - acc: 0.6070\n",
      "Epoch 18/20\n",
      "155925/155925 [==============================] - 35s 222us/step - loss: 1.1450 - acc: 0.6076\n",
      "Epoch 19/20\n",
      "155925/155925 [==============================] - 35s 226us/step - loss: 1.1433 - acc: 0.6076\n",
      "Epoch 20/20\n",
      "155925/155925 [==============================] - 35s 226us/step - loss: 1.1421 - acc: 0.6087\n"
     ]
    },
    {
     "data": {
      "text/plain": [
       "<keras.callbacks.History at 0x7f503dd62a20>"
      ]
     },
     "execution_count": 59,
     "metadata": {},
     "output_type": "execute_result"
    }
   ],
   "source": [
    "model.fit(np.asarray(input_data), val_labels[:len(input_data)], epochs = 20, batch_size = 25)"
   ]
  },
  {
   "cell_type": "code",
   "execution_count": 60,
   "metadata": {},
   "outputs": [
    {
     "name": "stdout",
     "output_type": "stream",
     "text": [
      "4544/4544 [==============================] - 388s 85ms/step\n",
      "4544/4544 [==============================] - 399s 88ms/step\n",
      "4544/4544 [==============================] - 458s 101ms/step\n"
     ]
    }
   ],
   "source": [
    "test_single = nn_single.predict_generator(generator = tile_gen_single.tile_generator(test_px, batch_size=batch_size, flat=True), steps=len(test_px) // batch_size, verbose=1)\n",
    "test_small = cnn_small.predict_generator(generator = tile_gen_small.tile_generator(test_px, batch_size=batch_size), steps=len(test_px) // batch_size, verbose=1)\n",
    "test_cnn = cnn_large.predict_generator(generator = tile_gen_cnn.tile_generator(test_px, batch_size=batch_size), steps=len(test_px) // batch_size, verbose=1)"
   ]
  },
  {
   "cell_type": "code",
   "execution_count": 61,
   "metadata": {
    "scrolled": true
   },
   "outputs": [
    {
     "name": "stdout",
     "output_type": "stream",
     "text": [
      "4544/4544 [==============================] - 395s 87ms/step\n",
      "4544/4544 [==============================] - 408s 90ms/step\n",
      "4544/4544 [==============================] - 468s 103ms/step\n"
     ]
    }
   ],
   "source": [
    "result_single = nn_single.evaluate_generator(generator = tile_gen_single.tile_generator(test_px, batch_size=batch_size, flat=True), steps=len(test_px) // batch_size, verbose=1)\n",
    "result_small = cnn_small.evaluate_generator(generator = tile_gen_small.tile_generator(test_px, batch_size=batch_size), steps=len(test_px) // batch_size, verbose=1)\n",
    "result_cnn = cnn_large.evaluate_generator(generator = tile_gen_cnn.tile_generator(test_px, batch_size=batch_size), steps=len(test_px) // batch_size, verbose=1)"
   ]
  },
  {
   "cell_type": "code",
   "execution_count": 62,
   "metadata": {},
   "outputs": [
    {
     "name": "stdout",
     "output_type": "stream",
     "text": [
      "[1.3583110762418995, 0.5438556336555105]\n",
      "[1.4874448318847677, 0.5260827462221692]\n",
      "[1.4589961525446302, 0.542112675734835]\n"
     ]
    }
   ],
   "source": [
    "print(result_single)\n",
    "print(result_small)\n",
    "print(result_cnn)"
   ]
  },
  {
   "cell_type": "code",
   "execution_count": 63,
   "metadata": {},
   "outputs": [
    {
     "name": "stdout",
     "output_type": "stream",
     "text": [
      "113600\n",
      "113600\n",
      "113600\n"
     ]
    }
   ],
   "source": [
    "print(len(test_cnn))\n",
    "print(len(test_single))\n",
    "print(len(test_small))"
   ]
  },
  {
   "cell_type": "code",
   "execution_count": 64,
   "metadata": {},
   "outputs": [],
   "source": [
    "test_input_data = list()\n",
    "for i in range(len(test_cnn)):\n",
    "    test_input_data.append(np.concatenate((test_single[i], test_small[i], test_cnn[i])))"
   ]
  },
  {
   "cell_type": "code",
   "execution_count": 65,
   "metadata": {},
   "outputs": [
    {
     "name": "stdout",
     "output_type": "stream",
     "text": [
      "113600/113600 [==============================] - 13s 110us/step\n"
     ]
    },
    {
     "data": {
      "text/plain": [
       "[1.1476774147194875, 0.6060299295774648]"
      ]
     },
     "execution_count": 65,
     "metadata": {},
     "output_type": "execute_result"
    }
   ],
   "source": [
    "model.evaluate(x=np.asarray(test_input_data), y=test_labels[:len(test_input_data)], batch_size=128)"
   ]
  },
  {
   "cell_type": "code",
   "execution_count": null,
   "metadata": {},
   "outputs": [],
   "source": []
  }
 ],
 "metadata": {
  "kernelspec": {
   "display_name": "Python 3",
   "language": "python",
   "name": "python3"
  },
  "language_info": {
   "codemirror_mode": {
    "name": "ipython",
    "version": 3
   },
   "file_extension": ".py",
   "mimetype": "text/x-python",
   "name": "python",
   "nbconvert_exporter": "python",
   "pygments_lexer": "ipython3",
   "version": "3.5.2"
  }
 },
 "nbformat": 4,
 "nbformat_minor": 2
}
