{
 "cells": [
  {
   "cell_type": "code",
   "execution_count": 1,
   "metadata": {},
   "outputs": [
    {
     "name": "stderr",
     "output_type": "stream",
     "text": [
      "Using TensorFlow backend.\n"
     ]
    }
   ],
   "source": [
    "import os\n",
    "import sys\n",
    "import numpy as np\n",
    "module_path = os.path.abspath(os.path.join('..'))\n",
    "if module_path not in sys.path:\n",
    "    sys.path.append(module_path)\n",
    "import pixel as pix\n",
    "import utilities as util\n",
    "import tile\n",
    "import importlib\n",
    "import resnet as rs\n",
    "import keras\n",
    "from keras.optimizers import Adam"
   ]
  },
  {
   "cell_type": "code",
   "execution_count": 2,
   "metadata": {},
   "outputs": [],
   "source": [
    "os.environ[\"CUDA_VISIBLE_DEVICES\"]=\"2\";"
   ]
  },
  {
   "cell_type": "code",
   "execution_count": 3,
   "metadata": {},
   "outputs": [],
   "source": [
    "landsat, sentinel, dem, label = util.load_data()\n",
    "tile_size = 10\n",
    "num_classes = util.get_class_count()\n",
    "pixel_gen = pix.pixel_gen(landsat, sentinel, dem, label, tile_size, num_classes)\n",
    "tile_gen = tile.tile_gen(landsat, sentinel, dem, label, tile_size, num_classes)"
   ]
  },
  {
   "cell_type": "code",
   "execution_count": 4,
   "metadata": {},
   "outputs": [],
   "source": [
    "pixels = util.read_txt([\"train_px.txt\", \"val_px.txt\", \"test_px.txt\"])\n",
    "train_px, val_px, test_px = (pixels[0], pixels[1], pixels[2])"
   ]
  },
  {
   "cell_type": "code",
   "execution_count": 5,
   "metadata": {},
   "outputs": [
    {
     "name": "stdout",
     "output_type": "stream",
     "text": [
      "(10, 10, 10)\n"
     ]
    }
   ],
   "source": [
    "epochs = 100\n",
    "batch_size = 25\n",
    "input_shape = tile_gen.get_tile_shape(reshape=True)\n",
    "print(input_shape)"
   ]
  },
  {
   "cell_type": "code",
   "execution_count": 8,
   "metadata": {},
   "outputs": [],
   "source": [
    "model = rs.ResnetBuilder.build_resnet_18(input_shape,num_classes)\n",
    "#model = make_model(input_shape)"
   ]
  },
  {
   "cell_type": "code",
   "execution_count": 9,
   "metadata": {
    "scrolled": false
   },
   "outputs": [],
   "source": [
    "model.summary()"
   ]
  },
  {
   "cell_type": "code",
   "execution_count": 10,
   "metadata": {},
   "outputs": [],
   "source": [
    "opt = Adam()\n",
    "model.compile(optimizer=opt, loss='categorical_crossentropy', metrics=['accuracy'])"
   ]
  },
  {
   "cell_type": "code",
   "execution_count": 13,
   "metadata": {
    "scrolled": true
   },
   "outputs": [
    {
     "name": "stdout",
     "output_type": "stream",
     "text": [
      "Epoch 1/100\n",
      "20791/20791 [==============================] - 2290s 110ms/step - loss: 1.4693 - acc: 0.5303 - val_loss: 1.4814 - val_acc: 0.5252\n",
      "Epoch 2/100\n",
      "20791/20791 [==============================] - 2284s 110ms/step - loss: 1.4688 - acc: 0.5305 - val_loss: 1.4999 - val_acc: 0.5147\n",
      "Epoch 3/100\n",
      "20791/20791 [==============================] - 2286s 110ms/step - loss: 1.4682 - acc: 0.5312 - val_loss: 1.4829 - val_acc: 0.5227\n",
      "Epoch 4/100\n",
      "20791/20791 [==============================] - 2286s 110ms/step - loss: 1.4676 - acc: 0.5306 - val_loss: 1.5134 - val_acc: 0.5084\n",
      "Epoch 5/100\n",
      "20791/20791 [==============================] - 2282s 110ms/step - loss: 1.4673 - acc: 0.5311 - val_loss: 1.4985 - val_acc: 0.5177\n",
      "Epoch 6/100\n",
      "20791/20791 [==============================] - 2290s 110ms/step - loss: 1.4663 - acc: 0.5316 - val_loss: 1.4743 - val_acc: 0.5246\n",
      "Epoch 7/100\n",
      "20791/20791 [==============================] - 2276s 109ms/step - loss: 1.4660 - acc: 0.5316 - val_loss: 1.5042 - val_acc: 0.5172\n",
      "Epoch 8/100\n",
      "20791/20791 [==============================] - 2272s 109ms/step - loss: 1.4653 - acc: 0.5312 - val_loss: 1.4986 - val_acc: 0.5170\n",
      "Epoch 9/100\n",
      "20791/20791 [==============================] - 2281s 110ms/step - loss: 1.4653 - acc: 0.5318 - val_loss: 1.4915 - val_acc: 0.5213\n",
      "Epoch 10/100\n",
      "20791/20791 [==============================] - 2273s 109ms/step - loss: 1.4652 - acc: 0.5318 - val_loss: 1.4740 - val_acc: 0.5289\n",
      "Epoch 11/100\n",
      "20791/20791 [==============================] - 2273s 109ms/step - loss: 1.4646 - acc: 0.5320 - val_loss: 1.4996 - val_acc: 0.5174\n",
      "Epoch 12/100\n",
      "20791/20791 [==============================] - 2273s 109ms/step - loss: 1.4645 - acc: 0.5311 - val_loss: 1.5297 - val_acc: 0.5097\n",
      "Epoch 13/100\n",
      "20791/20791 [==============================] - 2270s 109ms/step - loss: 1.4639 - acc: 0.5320 - val_loss: 1.4892 - val_acc: 0.5257\n",
      "Epoch 14/100\n",
      "20791/20791 [==============================] - 2267s 109ms/step - loss: 1.4640 - acc: 0.5313 - val_loss: 1.5053 - val_acc: 0.5182\n",
      "Epoch 15/100\n",
      "20791/20791 [==============================] - 2267s 109ms/step - loss: 1.4636 - acc: 0.5320 - val_loss: 1.4837 - val_acc: 0.5245\n",
      "Epoch 16/100\n",
      "20791/20791 [==============================] - 2271s 109ms/step - loss: 1.4633 - acc: 0.5325 - val_loss: 1.5904 - val_acc: 0.4996\n",
      "Epoch 17/100\n",
      "20791/20791 [==============================] - 2274s 109ms/step - loss: 1.4635 - acc: 0.5325 - val_loss: 1.5103 - val_acc: 0.5157\n",
      "Epoch 18/100\n",
      "20791/20791 [==============================] - 2266s 109ms/step - loss: 1.4626 - acc: 0.5322 - val_loss: 1.4998 - val_acc: 0.5179\n",
      "Epoch 19/100\n",
      "20791/20791 [==============================] - 2263s 109ms/step - loss: 1.4623 - acc: 0.5321 - val_loss: 1.4825 - val_acc: 0.5278\n",
      "Epoch 20/100\n",
      "20791/20791 [==============================] - 2262s 109ms/step - loss: 1.4616 - acc: 0.5321 - val_loss: 1.5221 - val_acc: 0.5139\n",
      "Epoch 21/100\n",
      "20791/20791 [==============================] - 2270s 109ms/step - loss: 1.4613 - acc: 0.5331 - val_loss: 1.5161 - val_acc: 0.5135\n",
      "Epoch 22/100\n",
      "20791/20791 [==============================] - 2270s 109ms/step - loss: 1.4613 - acc: 0.5326 - val_loss: 1.5034 - val_acc: 0.5176\n",
      "Epoch 23/100\n",
      "20791/20791 [==============================] - 2269s 109ms/step - loss: 1.4608 - acc: 0.5330 - val_loss: 1.5178 - val_acc: 0.5145\n",
      "Epoch 24/100\n",
      "20791/20791 [==============================] - 2271s 109ms/step - loss: 1.4609 - acc: 0.5333 - val_loss: 1.5420 - val_acc: 0.5092\n",
      "Epoch 25/100\n",
      "20791/20791 [==============================] - 2262s 109ms/step - loss: 1.4602 - acc: 0.5327 - val_loss: 1.6517 - val_acc: 0.4892\n",
      "Epoch 26/100\n",
      "20791/20791 [==============================] - 2261s 109ms/step - loss: 1.4596 - acc: 0.5328 - val_loss: 1.5500 - val_acc: 0.5046\n",
      "Epoch 27/100\n",
      "20791/20791 [==============================] - 2265s 109ms/step - loss: 1.4603 - acc: 0.5325 - val_loss: 1.5061 - val_acc: 0.5181\n",
      "Epoch 28/100\n",
      "20791/20791 [==============================] - 2263s 109ms/step - loss: 1.4598 - acc: 0.5335 - val_loss: 1.5315 - val_acc: 0.5090\n",
      "Epoch 29/100\n",
      "20791/20791 [==============================] - 2261s 109ms/step - loss: 1.4594 - acc: 0.5331 - val_loss: 1.6223 - val_acc: 0.4798\n",
      "Epoch 30/100\n",
      "20791/20791 [==============================] - 2264s 109ms/step - loss: 1.4593 - acc: 0.5333 - val_loss: 1.5320 - val_acc: 0.5087\n",
      "Epoch 31/100\n",
      "20791/20791 [==============================] - 2266s 109ms/step - loss: 1.4591 - acc: 0.5331 - val_loss: 1.5179 - val_acc: 0.5147\n",
      "Epoch 32/100\n",
      "20791/20791 [==============================] - 2261s 109ms/step - loss: 1.4590 - acc: 0.5337 - val_loss: 1.6525 - val_acc: 0.4753\n",
      "Epoch 33/100\n",
      "20791/20791 [==============================] - 2265s 109ms/step - loss: 1.4588 - acc: 0.5331 - val_loss: 1.5731 - val_acc: 0.5005\n",
      "Epoch 34/100\n",
      "20791/20791 [==============================] - 2269s 109ms/step - loss: 1.4595 - acc: 0.5334 - val_loss: 1.5474 - val_acc: 0.5055\n",
      "Epoch 35/100\n",
      "20791/20791 [==============================] - 2267s 109ms/step - loss: 1.4585 - acc: 0.5339 - val_loss: 1.5320 - val_acc: 0.5107\n",
      "Epoch 36/100\n",
      "20791/20791 [==============================] - 2263s 109ms/step - loss: 1.4583 - acc: 0.5338 - val_loss: 1.5498 - val_acc: 0.5057\n",
      "Epoch 37/100\n",
      "20791/20791 [==============================] - 2268s 109ms/step - loss: 1.4583 - acc: 0.5333 - val_loss: 1.5449 - val_acc: 0.5095\n",
      "Epoch 38/100\n",
      "20791/20791 [==============================] - 2266s 109ms/step - loss: 1.4578 - acc: 0.5339 - val_loss: 1.5970 - val_acc: 0.4892\n",
      "Epoch 39/100\n",
      "20791/20791 [==============================] - 2264s 109ms/step - loss: 1.4583 - acc: 0.5337 - val_loss: 1.5753 - val_acc: 0.4954\n",
      "Epoch 40/100\n",
      "20791/20791 [==============================] - 2268s 109ms/step - loss: 1.4582 - acc: 0.5336 - val_loss: 1.5488 - val_acc: 0.5052\n",
      "Epoch 41/100\n",
      "20791/20791 [==============================] - 2267s 109ms/step - loss: 1.4581 - acc: 0.5341 - val_loss: 1.5028 - val_acc: 0.5208\n",
      "Epoch 42/100\n",
      "20791/20791 [==============================] - 2271s 109ms/step - loss: 1.4574 - acc: 0.5340 - val_loss: 1.6071 - val_acc: 0.4849\n",
      "Epoch 43/100\n",
      "20791/20791 [==============================] - 2264s 109ms/step - loss: 1.4577 - acc: 0.5339 - val_loss: 1.5151 - val_acc: 0.5165\n",
      "Epoch 44/100\n",
      "20791/20791 [==============================] - 2262s 109ms/step - loss: 1.4575 - acc: 0.5338 - val_loss: 1.5175 - val_acc: 0.5178\n",
      "Epoch 45/100\n",
      "20791/20791 [==============================] - 2271s 109ms/step - loss: 1.4577 - acc: 0.5336 - val_loss: 1.5334 - val_acc: 0.5087\n",
      "Epoch 46/100\n",
      "20791/20791 [==============================] - 2266s 109ms/step - loss: 1.4575 - acc: 0.5344 - val_loss: 1.5629 - val_acc: 0.5046\n",
      "Epoch 47/100\n",
      "20791/20791 [==============================] - 2265s 109ms/step - loss: 1.4575 - acc: 0.5340 - val_loss: 1.5254 - val_acc: 0.5138\n",
      "Epoch 48/100\n",
      "20791/20791 [==============================] - 2264s 109ms/step - loss: 1.4570 - acc: 0.5343 - val_loss: 1.5794 - val_acc: 0.4940\n",
      "Epoch 49/100\n",
      "20791/20791 [==============================] - 2263s 109ms/step - loss: 1.4567 - acc: 0.5345 - val_loss: 1.5850 - val_acc: 0.4941\n",
      "Epoch 50/100\n",
      "20791/20791 [==============================] - 2266s 109ms/step - loss: 1.4569 - acc: 0.5339 - val_loss: 1.5085 - val_acc: 0.5181\n",
      "Epoch 51/100\n",
      "20791/20791 [==============================] - 2271s 109ms/step - loss: 1.4567 - acc: 0.5341 - val_loss: 1.5230 - val_acc: 0.5149\n",
      "Epoch 52/100\n",
      "20791/20791 [==============================] - 2271s 109ms/step - loss: 1.4570 - acc: 0.5340 - val_loss: 1.4898 - val_acc: 0.5248\n",
      "Epoch 53/100\n",
      "20791/20791 [==============================] - 2264s 109ms/step - loss: 1.4569 - acc: 0.5345 - val_loss: 1.5261 - val_acc: 0.5107\n",
      "Epoch 54/100\n",
      "20791/20791 [==============================] - 2259s 109ms/step - loss: 1.4565 - acc: 0.5343 - val_loss: 1.4787 - val_acc: 0.5247\n",
      "Epoch 55/100\n",
      "20791/20791 [==============================] - 2267s 109ms/step - loss: 1.4563 - acc: 0.5337 - val_loss: 1.4799 - val_acc: 0.5254\n",
      "Epoch 56/100\n",
      "20791/20791 [==============================] - 2265s 109ms/step - loss: 1.4561 - acc: 0.5342 - val_loss: 1.5655 - val_acc: 0.5001\n",
      "Epoch 57/100\n",
      "20791/20791 [==============================] - 2262s 109ms/step - loss: 1.4565 - acc: 0.5346 - val_loss: 1.5252 - val_acc: 0.5127\n",
      "Epoch 58/100\n"
     ]
    },
    {
     "name": "stdout",
     "output_type": "stream",
     "text": [
      "20791/20791 [==============================] - 2262s 109ms/step - loss: 1.4563 - acc: 0.5343 - val_loss: 1.5754 - val_acc: 0.5038\n",
      "Epoch 59/100\n",
      "20791/20791 [==============================] - 2263s 109ms/step - loss: 1.4570 - acc: 0.5343 - val_loss: 1.5536 - val_acc: 0.5070\n",
      "Epoch 60/100\n",
      "20791/20791 [==============================] - 2263s 109ms/step - loss: 1.4560 - acc: 0.5348 - val_loss: 1.5114 - val_acc: 0.5190\n",
      "Epoch 61/100\n",
      "20791/20791 [==============================] - 2265s 109ms/step - loss: 1.4561 - acc: 0.5345 - val_loss: 1.4694 - val_acc: 0.5305\n",
      "Epoch 62/100\n",
      "20791/20791 [==============================] - 2263s 109ms/step - loss: 1.4567 - acc: 0.5336 - val_loss: 1.4757 - val_acc: 0.5288\n",
      "Epoch 63/100\n",
      "20791/20791 [==============================] - 2265s 109ms/step - loss: 1.4552 - acc: 0.5340 - val_loss: 1.5184 - val_acc: 0.5175\n",
      "Epoch 64/100\n",
      "20791/20791 [==============================] - 2264s 109ms/step - loss: 1.4556 - acc: 0.5344 - val_loss: 1.5262 - val_acc: 0.5130\n",
      "Epoch 65/100\n",
      "20791/20791 [==============================] - 2266s 109ms/step - loss: 1.4563 - acc: 0.5346 - val_loss: 1.4821 - val_acc: 0.5267\n",
      "Epoch 66/100\n",
      "20791/20791 [==============================] - 2264s 109ms/step - loss: 1.4559 - acc: 0.5344 - val_loss: 1.5269 - val_acc: 0.5189\n",
      "Epoch 67/100\n",
      "20791/20791 [==============================] - 2263s 109ms/step - loss: 1.4559 - acc: 0.5351 - val_loss: 1.5454 - val_acc: 0.5087\n",
      "Epoch 68/100\n",
      "20791/20791 [==============================] - 2274s 109ms/step - loss: 1.4559 - acc: 0.5350 - val_loss: 1.4702 - val_acc: 0.5310\n",
      "Epoch 69/100\n",
      "20791/20791 [==============================] - 2267s 109ms/step - loss: 1.4555 - acc: 0.5345 - val_loss: 1.5070 - val_acc: 0.5216\n",
      "Epoch 70/100\n",
      "20791/20791 [==============================] - 2272s 109ms/step - loss: 1.4554 - acc: 0.5342 - val_loss: 1.4666 - val_acc: 0.5309\n",
      "Epoch 71/100\n",
      "20791/20791 [==============================] - 2262s 109ms/step - loss: 1.4554 - acc: 0.5351 - val_loss: 1.4745 - val_acc: 0.5285\n",
      "Epoch 72/100\n",
      "20791/20791 [==============================] - 2266s 109ms/step - loss: 1.4552 - acc: 0.5348 - val_loss: 1.4874 - val_acc: 0.5268\n",
      "Epoch 73/100\n",
      "20791/20791 [==============================] - 2267s 109ms/step - loss: 1.4560 - acc: 0.5347 - val_loss: 1.5014 - val_acc: 0.5243\n",
      "Epoch 74/100\n",
      "20791/20791 [==============================] - 2262s 109ms/step - loss: 1.4544 - acc: 0.5348 - val_loss: 1.4840 - val_acc: 0.5249\n",
      "Epoch 75/100\n",
      "20791/20791 [==============================] - 2273s 109ms/step - loss: 1.4549 - acc: 0.5350 - val_loss: 1.5137 - val_acc: 0.5149\n",
      "Epoch 76/100\n",
      "20791/20791 [==============================] - 2264s 109ms/step - loss: 1.4549 - acc: 0.5349 - val_loss: 1.4967 - val_acc: 0.5223\n",
      "Epoch 77/100\n",
      "20791/20791 [==============================] - 2265s 109ms/step - loss: 1.4551 - acc: 0.5348 - val_loss: 1.4955 - val_acc: 0.5208\n",
      "Epoch 78/100\n",
      "20791/20791 [==============================] - 2264s 109ms/step - loss: 1.4551 - acc: 0.5351 - val_loss: 1.5074 - val_acc: 0.5221\n",
      "Epoch 79/100\n",
      "20791/20791 [==============================] - 2265s 109ms/step - loss: 1.4552 - acc: 0.5346 - val_loss: 1.4409 - val_acc: 0.5400\n",
      "Epoch 80/100\n",
      "20791/20791 [==============================] - 2271s 109ms/step - loss: 1.4554 - acc: 0.5349 - val_loss: 1.4892 - val_acc: 0.5247\n",
      "Epoch 81/100\n",
      "20791/20791 [==============================] - 2263s 109ms/step - loss: 1.4549 - acc: 0.5350 - val_loss: 1.5313 - val_acc: 0.5103\n",
      "Epoch 82/100\n",
      "20791/20791 [==============================] - 2274s 109ms/step - loss: 1.4549 - acc: 0.5349 - val_loss: 1.4641 - val_acc: 0.5323\n",
      "Epoch 83/100\n",
      "20791/20791 [==============================] - 2268s 109ms/step - loss: 1.4547 - acc: 0.5354 - val_loss: 1.4932 - val_acc: 0.5221\n",
      "Epoch 84/100\n",
      "20791/20791 [==============================] - 2266s 109ms/step - loss: 1.4553 - acc: 0.5345 - val_loss: 1.4838 - val_acc: 0.5242\n",
      "Epoch 85/100\n",
      "20791/20791 [==============================] - 2271s 109ms/step - loss: 1.4543 - acc: 0.5352 - val_loss: 1.4754 - val_acc: 0.5294\n",
      "Epoch 86/100\n",
      "20791/20791 [==============================] - 2264s 109ms/step - loss: 1.4552 - acc: 0.5348 - val_loss: 1.4789 - val_acc: 0.5298\n",
      "Epoch 87/100\n",
      "20791/20791 [==============================] - 2263s 109ms/step - loss: 1.4546 - acc: 0.5343 - val_loss: 1.4915 - val_acc: 0.5225\n",
      "Epoch 88/100\n",
      "20791/20791 [==============================] - 2271s 109ms/step - loss: 1.4541 - acc: 0.5351 - val_loss: 1.4751 - val_acc: 0.5282\n",
      "Epoch 89/100\n",
      "20791/20791 [==============================] - 2268s 109ms/step - loss: 1.4545 - acc: 0.5345 - val_loss: 1.4603 - val_acc: 0.5324\n",
      "Epoch 90/100\n",
      "20791/20791 [==============================] - 2265s 109ms/step - loss: 1.4546 - acc: 0.5347 - val_loss: 1.4652 - val_acc: 0.5343\n",
      "Epoch 91/100\n",
      "20791/20791 [==============================] - 2269s 109ms/step - loss: 1.4542 - acc: 0.5347 - val_loss: 1.4774 - val_acc: 0.5317\n",
      "Epoch 92/100\n",
      "20791/20791 [==============================] - 2267s 109ms/step - loss: 1.4540 - acc: 0.5348 - val_loss: 1.5266 - val_acc: 0.5159\n",
      "Epoch 93/100\n",
      "20791/20791 [==============================] - 2262s 109ms/step - loss: 1.4542 - acc: 0.5348 - val_loss: 1.4897 - val_acc: 0.5259\n",
      "Epoch 94/100\n",
      "20791/20791 [==============================] - 2275s 109ms/step - loss: 1.4540 - acc: 0.5349 - val_loss: 1.5259 - val_acc: 0.5163\n",
      "Epoch 95/100\n",
      "20791/20791 [==============================] - 2263s 109ms/step - loss: 1.4536 - acc: 0.5345 - val_loss: 1.4619 - val_acc: 0.5351\n",
      "Epoch 96/100\n",
      "20791/20791 [==============================] - 2266s 109ms/step - loss: 1.4530 - acc: 0.5353 - val_loss: 1.4745 - val_acc: 0.5294\n",
      "Epoch 97/100\n",
      "20791/20791 [==============================] - 2262s 109ms/step - loss: 1.4529 - acc: 0.5351 - val_loss: 1.4296 - val_acc: 0.5452\n",
      "Epoch 98/100\n",
      "20791/20791 [==============================] - 2263s 109ms/step - loss: 1.4539 - acc: 0.5350 - val_loss: 1.4498 - val_acc: 0.5405\n",
      "Epoch 99/100\n",
      "20791/20791 [==============================] - 2263s 109ms/step - loss: 1.4535 - acc: 0.5351 - val_loss: 1.4814 - val_acc: 0.5274\n",
      "Epoch 100/100\n",
      "20791/20791 [==============================] - 2270s 109ms/step - loss: 1.4533 - acc: 0.5352 - val_loss: 1.5013 - val_acc: 0.5218\n"
     ]
    },
    {
     "data": {
      "text/plain": [
       "<keras.callbacks.History at 0x7f894c7332e8>"
      ]
     },
     "execution_count": 13,
     "metadata": {},
     "output_type": "execute_result"
    }
   ],
   "source": [
    "model.fit_generator(generator=tile_gen.tile_generator(train_px, batch_size), \n",
    "                    steps_per_epoch=len(train_px) // batch_size, epochs=epochs, verbose=1,\n",
    "                    validation_data=tile_gen.tile_generator(val_px, batch_size),\n",
    "                    validation_steps=len(val_px) // batch_size)"
   ]
  },
  {
   "cell_type": "code",
   "execution_count": 14,
   "metadata": {},
   "outputs": [],
   "source": [
    "model.save('small_cnn_fixed.h5')"
   ]
  },
  {
   "cell_type": "markdown",
   "metadata": {},
   "source": [
    "# Test Pixels"
   ]
  },
  {
   "cell_type": "code",
   "execution_count": null,
   "metadata": {},
   "outputs": [],
   "source": [
    "tile_gen.evaluate_cnn(model, test_px)"
   ]
  },
  {
   "cell_type": "markdown",
   "metadata": {},
   "source": [
    "# Test Pixels on specific tiles"
   ]
  },
  {
   "cell_type": "code",
   "execution_count": null,
   "metadata": {},
   "outputs": [],
   "source": [
    "pixel_buckets = { 0: list(), 1: list(), 2: list(), 3: list(), 4: list()}\n",
    "for pix in test_px:\n",
    "    pixel_buckets[pix[1]].append(pix)"
   ]
  },
  {
   "cell_type": "markdown",
   "metadata": {},
   "source": [
    "# Tile 0"
   ]
  },
  {
   "cell_type": "code",
   "execution_count": null,
   "metadata": {},
   "outputs": [],
   "source": [
    "tile_gen.evaluate_cnn(model, pixel_buckets[0])"
   ]
  },
  {
   "cell_type": "markdown",
   "metadata": {},
   "source": [
    "# Tile 1"
   ]
  },
  {
   "cell_type": "code",
   "execution_count": null,
   "metadata": {},
   "outputs": [],
   "source": [
    "tile_gen.evaluate_cnn(model, pixel_buckets[1])"
   ]
  },
  {
   "cell_type": "markdown",
   "metadata": {},
   "source": [
    "# Tile 2"
   ]
  },
  {
   "cell_type": "code",
   "execution_count": null,
   "metadata": {},
   "outputs": [],
   "source": [
    "tile_gen.evaluate_cnn(model, pixel_buckets[2])"
   ]
  },
  {
   "cell_type": "markdown",
   "metadata": {},
   "source": [
    "# Tile 3"
   ]
  },
  {
   "cell_type": "code",
   "execution_count": null,
   "metadata": {},
   "outputs": [],
   "source": [
    "tile_gen.evaluate_cnn(model, pixel_buckets[3])"
   ]
  },
  {
   "cell_type": "markdown",
   "metadata": {},
   "source": [
    "# Tile 4"
   ]
  },
  {
   "cell_type": "code",
   "execution_count": null,
   "metadata": {},
   "outputs": [],
   "source": [
    "tile_gen.evaluate_cnn(model, pixel_buckets[4])"
   ]
  }
 ],
 "metadata": {
  "kernelspec": {
   "display_name": "Python 3",
   "language": "python",
   "name": "python3"
  },
  "language_info": {
   "codemirror_mode": {
    "name": "ipython",
    "version": 3
   },
   "file_extension": ".py",
   "mimetype": "text/x-python",
   "name": "python",
   "nbconvert_exporter": "python",
   "pygments_lexer": "ipython3",
   "version": "3.5.2"
  }
 },
 "nbformat": 4,
 "nbformat_minor": 2
}
