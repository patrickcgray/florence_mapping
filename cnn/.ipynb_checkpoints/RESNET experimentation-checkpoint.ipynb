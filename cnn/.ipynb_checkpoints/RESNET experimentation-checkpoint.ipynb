{
 "cells": [
  {
   "cell_type": "code",
   "execution_count": 1,
   "metadata": {},
   "outputs": [
    {
     "name": "stderr",
     "output_type": "stream",
     "text": [
      "Using TensorFlow backend.\n"
     ]
    }
   ],
   "source": [
    "import rasterio\n",
    "import numpy as np\n",
    "import os\n",
    "import resnet as rs\n",
    "import sys\n",
    "import importlib\n",
    "module_path = os.path.abspath(os.path.join('..'))\n",
    "if module_path not in sys.path:\n",
    "    sys.path.append(module_path)\n",
    "import classifier_utilities as cu"
   ]
  },
  {
   "cell_type": "code",
   "execution_count": 2,
   "metadata": {},
   "outputs": [
    {
     "data": {
      "text/plain": [
       "<module 'classifier_utilities' from '/host/Desktop/cnn_dev/florence_mapping/classifier_utilities.py'>"
      ]
     },
     "execution_count": 2,
     "metadata": {},
     "output_type": "execute_result"
    }
   ],
   "source": [
    "importlib.reload(cu)"
   ]
  },
  {
   "cell_type": "code",
   "execution_count": 3,
   "metadata": {},
   "outputs": [],
   "source": [
    "os.environ[\"CUDA_VISIBLE_DEVICES\"]=\"3\";"
   ]
  },
  {
   "cell_type": "code",
   "execution_count": 4,
   "metadata": {},
   "outputs": [],
   "source": [
    "landsat_datasets, sentinel_datasets, dem_datasets, label_dataset = cu.load_data()"
   ]
  },
  {
   "cell_type": "code",
   "execution_count": 5,
   "metadata": {},
   "outputs": [
    {
     "name": "stdout",
     "output_type": "stream",
     "text": [
      "(10, 64, 64)\n"
     ]
    }
   ],
   "source": [
    "batch_size = 25\n",
    "epochs = 200\n",
    "num_classes = len(cu.indexed_dictionary)\n",
    "\n",
    "# input image dimensions\n",
    "tile_side = 64\n",
    "img_rows, img_cols = tile_side, tile_side\n",
    "img_bands = landsat_datasets[0].count + sentinel_datasets[0].count + dem_datasets[0].count - 1\n",
    "\n",
    "input_shape = (img_bands, img_rows, img_cols)\n",
    "print(input_shape)"
   ]
  },
  {
   "cell_type": "code",
   "execution_count": 6,
   "metadata": {},
   "outputs": [
    {
     "name": "stderr",
     "output_type": "stream",
     "text": [
      "100%|██████████| 5/5 [08:34<00:00, 96.88s/it] \n"
     ]
    }
   ],
   "source": [
    "pixels = cu.gen_balanced_pixel_locations(image_datasets=landsat_datasets, train_count=300000, tile_size = tile_side,\n",
    "                                            label_dataset=label_dataset)"
   ]
  },
  {
   "cell_type": "code",
   "execution_count": null,
   "metadata": {},
   "outputs": [],
   "source": [
    "buckets = cu.pixel_balance(pixels, landsat_datasets, label_dataset)\n",
    "for i in range(len(cu.indexed_dictionary)):\n",
    "    print(\"{}:{}\".format(cu.indexed_dictionary[i], buckets[i]))"
   ]
  },
  {
   "cell_type": "code",
   "execution_count": 11,
   "metadata": {},
   "outputs": [
    {
     "name": "stdout",
     "output_type": "stream",
     "text": [
      "Water:15613.0\n",
      "Snow/Ice:0.0\n",
      "Open Space Developed:18750.0\n",
      "Low Intensity Developed:0.0\n",
      "Medium Intensity Developed:18581.0\n",
      "High Intensity Developed:0.0\n",
      "Barren Land:11103.0\n",
      "Deciduous Forest:15020.0\n",
      "Evergreen Forest:18750.0\n",
      "Mixed Forest:15420.0\n",
      "Scrub/Shrub:18750.0\n",
      "Grassland / Herbaceous:16993.0\n",
      "Pasture/Hay:15000.0\n",
      "Cultivated Land:18750.0\n",
      "Woody Wetland:18750.0\n",
      "Emergent Herbaceous Wetlands:16607.0\n"
     ]
    }
   ],
   "source": []
  },
  {
   "cell_type": "code",
   "execution_count": 12,
   "metadata": {},
   "outputs": [
    {
     "name": "stdout",
     "output_type": "stream",
     "text": [
      "218087\n"
     ]
    }
   ],
   "source": [
    "print(len(pixels))"
   ]
  },
  {
   "cell_type": "code",
   "execution_count": 13,
   "metadata": {},
   "outputs": [],
   "source": [
    "train_px, val_px, test_px = cu.train_val_test_split(pixels, 0.7, 0.7)"
   ]
  },
  {
   "cell_type": "code",
   "execution_count": 14,
   "metadata": {},
   "outputs": [
    {
     "name": "stdout",
     "output_type": "stream",
     "text": [
      "152660\n",
      "45798\n",
      "33369\n"
     ]
    }
   ],
   "source": [
    "print(len(train_px))\n",
    "print(len(val_px))\n",
    "print(len(test_px))"
   ]
  },
  {
   "cell_type": "code",
   "execution_count": 15,
   "metadata": {},
   "outputs": [],
   "source": [
    "import keras\n",
    "from keras.optimizers import SGD, Adam"
   ]
  },
  {
   "cell_type": "code",
   "execution_count": 20,
   "metadata": {},
   "outputs": [],
   "source": [
    "model = rs.ResnetBuilder.build_resnet_101(input_shape,num_classes)"
   ]
  },
  {
   "cell_type": "code",
   "execution_count": 21,
   "metadata": {},
   "outputs": [],
   "source": [
    "opt = Adam()\n",
    "model.compile(optimizer=opt, loss='categorical_crossentropy', metrics=['accuracy'])"
   ]
  },
  {
   "cell_type": "code",
   "execution_count": null,
   "metadata": {},
   "outputs": [
    {
     "name": "stdout",
     "output_type": "stream",
     "text": [
      "Epoch 1/200\n",
      " 370/6106 [>.............................] - ETA: 1:18:59 - loss: 9.0567 - acc: 0.2802"
     ]
    }
   ],
   "source": [
    "model.fit_generator(generator=cu.tile_generator(landsat_datasets, sentinel_datasets, dem_datasets, label_dataset, tile_side, tile_side, train_px, batch_size), \n",
    "                    steps_per_epoch=len(train_px) // batch_size, epochs=epochs, verbose=1,\n",
    "                    validation_data=cu.tile_generator(landsat_datasets, sentinel_datasets, dem_datasets, label_dataset, tile_side, tile_side, val_px, batch_size),\n",
    "                    validation_steps=len(val_px) // batch_size)"
   ]
  },
  {
   "cell_type": "code",
   "execution_count": null,
   "metadata": {
    "scrolled": true
   },
   "outputs": [],
   "source": [
    "pixels_1 = cu.gen_balanced_pixel_locations(image_datasets=landsat_datasets[0:1], train_count = 50000, tile_size = tile_side,\n",
    "                                            label_dataset=label_dataset)\n",
    "pixels_2 = cu.gen_balanced_pixel_locations(image_datasets=landsat_datasets[1:2], train_count = 50000, tile_size = tile_side,\n",
    "                                            label_dataset=label_dataset)\n",
    "pixels_3 = cu.gen_balanced_pixel_locations(image_datasets=landsat_datasets[2:3], train_count = 50000, tile_size = tile_side,\n",
    "                                            label_dataset=label_dataset)\n",
    "pixels_4 = cu.gen_balanced_pixel_locations(image_datasets=landsat_datasets[3:4], train_count = 50000, tile_size = tile_side,\n",
    "                                            label_dataset=label_dataset)\n",
    "pixels_5 = cu.gen_balanced_pixel_locations(image_datasets=landsat_datasets[4:], train_count = 50000, tile_size = tile_side,\n",
    "                                            label_dataset=label_dataset)"
   ]
  },
  {
   "cell_type": "code",
   "execution_count": null,
   "metadata": {},
   "outputs": [],
   "source": [
    "cu.evaluate_cnn(model, landsat_datasets, sentinel_datasets, dem_datasets, label_dataset, tile_side, pixels_1)"
   ]
  },
  {
   "cell_type": "code",
   "execution_count": null,
   "metadata": {},
   "outputs": [],
   "source": [
    "cu.evaluate_cnn(model, landsat_datasets, sentinel_datasets, dem_datasets, label_dataset, tile_side, pixels_2)"
   ]
  },
  {
   "cell_type": "code",
   "execution_count": null,
   "metadata": {},
   "outputs": [],
   "source": [
    "cu.evaluate_cnn(model, landsat_datasets, sentinel_datasets, dem_datasets, label_dataset, tile_side, pixels_2)"
   ]
  },
  {
   "cell_type": "code",
   "execution_count": null,
   "metadata": {},
   "outputs": [],
   "source": [
    "cu.evaluate_cnn(model, landsat_datasets, sentinel_datasets, dem_datasets, label_dataset, tile_side, pixels_2)"
   ]
  },
  {
   "cell_type": "code",
   "execution_count": null,
   "metadata": {},
   "outputs": [],
   "source": [
    "cu.evaluate_cnn(model, landsat_datasets, sentinel_datasets, dem_datasets, label_dataset, tile_side, pixels_2)"
   ]
  }
 ],
 "metadata": {
  "kernelspec": {
   "display_name": "Python 3",
   "language": "python",
   "name": "python3"
  },
  "language_info": {
   "codemirror_mode": {
    "name": "ipython",
    "version": 3
   },
   "file_extension": ".py",
   "mimetype": "text/x-python",
   "name": "python",
   "nbconvert_exporter": "python",
   "pygments_lexer": "ipython3",
   "version": "3.5.2"
  }
 },
 "nbformat": 4,
 "nbformat_minor": 2
}
