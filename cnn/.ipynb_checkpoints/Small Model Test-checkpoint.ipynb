{
 "cells": [
  {
   "cell_type": "code",
   "execution_count": 8,
   "metadata": {},
   "outputs": [
    {
     "data": {
      "text/plain": [
       "<module 'tile' from '/host/Desktop/cnn_dev/florence_mapping/tile.py'>"
      ]
     },
     "execution_count": 8,
     "metadata": {},
     "output_type": "execute_result"
    }
   ],
   "source": [
    "import os\n",
    "import sys\n",
    "import numpy as np\n",
    "module_path = os.path.abspath(os.path.join('..'))\n",
    "if module_path not in sys.path:\n",
    "    sys.path.append(module_path)\n",
    "import pixel as pix\n",
    "import utilities as util\n",
    "import tile\n",
    "import importlib\n",
    "import resnet as rs\n",
    "import keras\n",
    "from keras.optimizers import Adam\n",
    "importlib.reload(tile)"
   ]
  },
  {
   "cell_type": "code",
   "execution_count": 38,
   "metadata": {},
   "outputs": [],
   "source": [
    "landsat, sentinel, dem, label = util.load_data()\n",
    "tile_size = 10\n",
    "num_classes = util.get_class_count()\n",
    "pixel_gen = pix.pixel_gen(landsat, sentinel, dem, label, tile_size, num_classes)\n",
    "tile_gen = tile.tile_gen(landsat, sentinel, dem, label, tile_size, num_classes)"
   ]
  },
  {
   "cell_type": "code",
   "execution_count": 33,
   "metadata": {},
   "outputs": [],
   "source": [
    "os.environ[\"CUDA_VISIBLE_DEVICES\"]=\"3\";"
   ]
  },
  {
   "cell_type": "code",
   "execution_count": null,
   "metadata": {
    "scrolled": true
   },
   "outputs": [],
   "source": [
    "pixels = pixel_gen.gen_pixels(1000000, balanced=True)\n",
    "train_px, val_px, test_px = pixel_gen.train_val_test_split(pixels, 0.7, 0.7)\n",
    "pixel_gen.print_balance()"
   ]
  },
  {
   "cell_type": "code",
   "execution_count": 39,
   "metadata": {},
   "outputs": [
    {
     "name": "stdout",
     "output_type": "stream",
     "text": [
      "(10, 10, 10)\n"
     ]
    }
   ],
   "source": [
    "epochs = 20\n",
    "batch_size = 25\n",
    "input_shape = tile_gen.get_tile_shape(reshape=True)\n",
    "print(input_shape)"
   ]
  },
  {
   "cell_type": "code",
   "execution_count": 40,
   "metadata": {},
   "outputs": [],
   "source": [
    "import keras\n",
    "from keras import backend as K\n",
    "from keras.models import Sequential\n",
    "from keras.layers import Dense, Dropout, Flatten\n",
    "from keras.layers import Conv2D, MaxPooling2D, SeparableConv2D\n",
    "from keras.layers import Activation, BatchNormalization\n",
    "from keras.optimizers import SGD, Adadelta, Adam\n",
    "from keras import Input\n",
    "from keras import Model"
   ]
  },
  {
   "cell_type": "code",
   "execution_count": 41,
   "metadata": {},
   "outputs": [],
   "source": [
    "def make_model(in_shape, filters = 128, dense_neurons = 256):\n",
    "    input_tensor = Input(shape = in_shape)\n",
    "    \n",
    "    conv_1 = SeparableConv2D(128, kernel_size=(2,2), activation='elu') (input_tensor)\n",
    "    norm_1 = BatchNormalization() (conv_1)\n",
    "    dropout_1 = Dropout(rate=0.5) (norm_1)\n",
    "    pool_1 = MaxPooling2D() (dropout_1)\n",
    "    \n",
    "    \n",
    "    conv_2 = SeparableConv2D(128, kernel_size=(2,2), activation='elu') (pool_1)\n",
    "    norm_2 = BatchNormalization() (conv_2)\n",
    "    pool_2 = MaxPooling2D() (norm_2)\n",
    "    \n",
    "    #conv_3 = SeparableConv2D(64, kernel_size=(2,2), activation='elu') (pool_2)\n",
    "    #norm_3 = BatchNormalization() (conv_3)\n",
    "    #dropout_3 = Dropout(rate=0.5) (norm_3)\n",
    "    #pool_3 = MaxPooling2D() (dropout_3)\n",
    "\n",
    "    \n",
    "    flatten = Flatten() (pool_2)\n",
    "    dense = Dense(256, activation='elu') (flatten)\n",
    "    output = Dense(num_classes,activation='softmax') (dense)\n",
    "    model = Model(inputs=input_tensor, outputs=output)\n",
    "    return model\n",
    "#model = rs.ResnetBuilder.build_resnet_18((10,64,64),num_classes)"
   ]
  },
  {
   "cell_type": "code",
   "execution_count": 43,
   "metadata": {},
   "outputs": [],
   "source": [
    "model = make_model(input_shape)"
   ]
  },
  {
   "cell_type": "code",
   "execution_count": 44,
   "metadata": {},
   "outputs": [
    {
     "name": "stdout",
     "output_type": "stream",
     "text": [
      "_________________________________________________________________\n",
      "Layer (type)                 Output Shape              Param #   \n",
      "=================================================================\n",
      "input_8 (InputLayer)         (None, 10, 10, 10)        0         \n",
      "_________________________________________________________________\n",
      "separable_conv2d_17 (Separab (None, 9, 9, 64)          744       \n",
      "_________________________________________________________________\n",
      "batch_normalization_15 (Batc (None, 9, 9, 64)          256       \n",
      "_________________________________________________________________\n",
      "dropout_8 (Dropout)          (None, 9, 9, 64)          0         \n",
      "_________________________________________________________________\n",
      "max_pooling2d_15 (MaxPooling (None, 4, 4, 64)          0         \n",
      "_________________________________________________________________\n",
      "separable_conv2d_18 (Separab (None, 3, 3, 64)          4416      \n",
      "_________________________________________________________________\n",
      "batch_normalization_16 (Batc (None, 3, 3, 64)          256       \n",
      "_________________________________________________________________\n",
      "max_pooling2d_16 (MaxPooling (None, 1, 1, 64)          0         \n",
      "_________________________________________________________________\n",
      "flatten_5 (Flatten)          (None, 64)                0         \n",
      "_________________________________________________________________\n",
      "dense_9 (Dense)              (None, 128)               8320      \n",
      "_________________________________________________________________\n",
      "dense_10 (Dense)             (None, 16)                2064      \n",
      "=================================================================\n",
      "Total params: 16,056\n",
      "Trainable params: 15,800\n",
      "Non-trainable params: 256\n",
      "_________________________________________________________________\n"
     ]
    }
   ],
   "source": [
    "model.summary()"
   ]
  },
  {
   "cell_type": "code",
   "execution_count": null,
   "metadata": {},
   "outputs": [],
   "source": [
    "opt = Adam(lr=0.000001)\n",
    "model.compile(optimizer=opt, loss='categorical_crossentropy', metrics=['accuracy'])"
   ]
  },
  {
   "cell_type": "code",
   "execution_count": null,
   "metadata": {},
   "outputs": [],
   "source": [
    "model.fit_generator(generator=tile_gen.tile_generator(train_px, batch_size), \n",
    "                    steps_per_epoch=len(train_px) // batch_size, epochs=epochs, verbose=1,\n",
    "                    validation_data=tile_gen.tile_generator(val_px, batch_size),\n",
    "                    validation_steps=len(val_px) // batch_size)"
   ]
  },
  {
   "cell_type": "code",
   "execution_count": null,
   "metadata": {},
   "outputs": [],
   "source": [
    "model.save('resnet_1.h5')"
   ]
  },
  {
   "cell_type": "markdown",
   "metadata": {},
   "source": [
    "# Test Pixels"
   ]
  },
  {
   "cell_type": "code",
   "execution_count": null,
   "metadata": {},
   "outputs": [],
   "source": [
    "tile_gen.evaluate_cnn(model, test_px)"
   ]
  },
  {
   "cell_type": "markdown",
   "metadata": {},
   "source": [
    "# Test Pixels on specific tiles"
   ]
  },
  {
   "cell_type": "code",
   "execution_count": null,
   "metadata": {},
   "outputs": [],
   "source": [
    "pixel_buckets = { 0: list(), 1: list(), 2: list(), 3: list(), 4: list()}\n",
    "for pix in test_px:\n",
    "    pixel_buckets[pix[1]].append(pix)"
   ]
  },
  {
   "cell_type": "markdown",
   "metadata": {},
   "source": [
    "# Tile 0"
   ]
  },
  {
   "cell_type": "code",
   "execution_count": null,
   "metadata": {},
   "outputs": [],
   "source": [
    "tile_gen.evaluate_cnn(model, pixel_buckets[0])"
   ]
  },
  {
   "cell_type": "markdown",
   "metadata": {},
   "source": [
    "# Tile 1"
   ]
  },
  {
   "cell_type": "code",
   "execution_count": null,
   "metadata": {},
   "outputs": [],
   "source": [
    "tile_gen.evaluate_cnn(model, pixel_buckets[1])"
   ]
  },
  {
   "cell_type": "markdown",
   "metadata": {},
   "source": [
    "# Tile 2"
   ]
  },
  {
   "cell_type": "code",
   "execution_count": null,
   "metadata": {},
   "outputs": [],
   "source": [
    "tile_gen.evaluate_cnn(model, pixel_buckets[2])"
   ]
  },
  {
   "cell_type": "markdown",
   "metadata": {},
   "source": [
    "# Tile 3"
   ]
  },
  {
   "cell_type": "code",
   "execution_count": null,
   "metadata": {},
   "outputs": [],
   "source": [
    "tile_gen.evaluate_cnn(model, pixel_buckets[3])"
   ]
  },
  {
   "cell_type": "markdown",
   "metadata": {},
   "source": [
    "# Tile 4"
   ]
  },
  {
   "cell_type": "code",
   "execution_count": null,
   "metadata": {},
   "outputs": [],
   "source": [
    "tile_gen.evaluate_cnn(model, pixel_buckets[4])"
   ]
  }
 ],
 "metadata": {
  "kernelspec": {
   "display_name": "Python 3",
   "language": "python",
   "name": "python3"
  },
  "language_info": {
   "codemirror_mode": {
    "name": "ipython",
    "version": 3
   },
   "file_extension": ".py",
   "mimetype": "text/x-python",
   "name": "python",
   "nbconvert_exporter": "python",
   "pygments_lexer": "ipython3",
   "version": "3.5.2"
  }
 },
 "nbformat": 4,
 "nbformat_minor": 2
}
