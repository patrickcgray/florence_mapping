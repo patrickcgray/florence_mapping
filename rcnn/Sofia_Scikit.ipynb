{
 "cells": [
  {
   "cell_type": "markdown",
   "metadata": {},
   "source": [
    "## Strange Network Development"
   ]
  },
  {
   "cell_type": "code",
   "execution_count": 1,
   "metadata": {},
   "outputs": [
    {
     "name": "stderr",
     "output_type": "stream",
     "text": [
      "Using TensorFlow backend.\n"
     ]
    }
   ],
   "source": [
    "import rasterio\n",
    "import keras\n",
    "import random\n",
    "from keras import backend as K\n",
    "from keras.callbacks import ModelCheckpoint\n",
    "from keras.models import Sequential\n",
    "from keras.layers import Dense, Dropout, Flatten, Reshape, Bidirectional\n",
    "from keras.layers import Conv2D, MaxPooling2D, ConvLSTM2D, TimeDistributed, UpSampling2D, Concatenate, LSTM\n",
    "from keras.layers import Activation, BatchNormalization\n",
    "from keras.optimizers import SGD, Adadelta, Adam\n",
    "from keras import Input\n",
    "from keras import Model\n",
    "import matplotlib.pyplot as plt\n",
    "import os\n",
    "import sys\n",
    "from sklearn.utils import class_weight\n",
    "module_path = os.path.abspath(os.path.join('..'))\n",
    "if module_path not in sys.path:\n",
    "    sys.path.append(module_path)\n",
    "import utilities as util\n",
    "import importlib\n",
    "import rnn_tiles\n",
    "import rnn_pixels\n",
    "import numpy as np\n",
    "from rasterio.plot import show\n",
    "importlib.reload(rnn_pixels)\n",
    "importlib.reload(rnn_tiles)\n",
    "importlib.reload(util)\n",
    "\n",
    "from sklearn.ensemble import RandomForestClassifier\n",
    "from sklearn.svm import SVC\n",
    "from sklearn import svm\n",
    "from sklearn.metrics import confusion_matrix, classification_report, accuracy_score\n",
    "from sklearn.neighbors import KNeighborsClassifier\n",
    "from sklearn.linear_model import LogisticRegression"
   ]
  },
  {
   "cell_type": "markdown",
   "metadata": {},
   "source": [
    "Assign your specific GPU so we don't overlap"
   ]
  },
  {
   "cell_type": "code",
   "execution_count": 2,
   "metadata": {},
   "outputs": [],
   "source": [
    "os.environ[\"CUDA_VISIBLE_DEVICES\"]=\"3\"; # Would I change this to 3?"
   ]
  },
  {
   "cell_type": "markdown",
   "metadata": {},
   "source": [
    "Is that GPU and only that GPU visible?\n",
    "\n",
    "Note that it will always say GPU:0 but you should just see one"
   ]
  },
  {
   "cell_type": "code",
   "execution_count": 3,
   "metadata": {},
   "outputs": [
    {
     "data": {
      "text/plain": [
       "['/job:localhost/replica:0/task:0/device:GPU:0']"
      ]
     },
     "execution_count": 3,
     "metadata": {},
     "output_type": "execute_result"
    }
   ],
   "source": [
    "from keras import backend as K\n",
    "K.tensorflow_backend._get_available_gpus()"
   ]
  },
  {
   "cell_type": "markdown",
   "metadata": {},
   "source": [
    "Ingest Training Labels\n",
    "\n",
    "Note that these are monster files so be careful how you inspect them, typically you only want to use the `rasterio` windows option"
   ]
  },
  {
   "cell_type": "code",
   "execution_count": 4,
   "metadata": {},
   "outputs": [],
   "source": [
    "lc_labels = rasterio.open('/deep_data/recurrent_data/NLCD_DATA/landcover/NLCD_2011_Land_Cover_L48_20190424.img')\n",
    "canopy_labels = rasterio.open('/deep_data/recurrent_data/NLCD_DATA/canopy/CONUSCartographic_2_8_16/Cartographic/nlcd2011_usfs_conus_canopy_cartographic.img')"
   ]
  },
  {
   "cell_type": "markdown",
   "metadata": {},
   "source": [
    "Ingest the landsat imagery stacked into yearly seasonal tiles"
   ]
  },
  {
   "cell_type": "code",
   "execution_count": 5,
   "metadata": {},
   "outputs": [],
   "source": [
    "tiles = {}\n",
    "landsat_datasets = {}\n",
    "# Could change to test one season at a time\n",
    "tiles['028012'] = ['20110324', '20110612', '20110831', '20111103']\n",
    "tiles['029011'] = ['20110308', '20110425', '20110831', '20111103']\n",
    "tiles['028011'] = ['20110308', '20110628', '20110831', '20111103']\n",
    "for tile_number, dates in tiles.items():\n",
    "    tile_datasets = []\n",
    "    l8_image_paths = []\n",
    "    for date in dates:\n",
    "        l8_image_paths.append('/deep_data/recurrent_data/tile{}/combined/combined{}.tif'.format(tile_number, date))\n",
    "    for fp in l8_image_paths:\n",
    "        tile_datasets.append(rasterio.open(fp))\n",
    "    landsat_datasets[tile_number] = tile_datasets\n",
    "    "
   ]
  },
  {
   "cell_type": "code",
   "execution_count": 6,
   "metadata": {},
   "outputs": [],
   "source": [
    "tile_size = 1\n",
    "tile_list = ['028012', '029011', '028011']\n",
    "class_count = 6\n",
    "epochs = 200\n",
    "batch_size = 25"
   ]
  },
  {
   "cell_type": "markdown",
   "metadata": {},
   "source": [
    "# The next two cells are for making pixels and prepping them for training (balancing)\n",
    "### This is unnecessary to run because I already saved them to text files so now you load them"
   ]
  },
  {
   "cell_type": "code",
   "execution_count": 7,
   "metadata": {
    "scrolled": false
   },
   "outputs": [
    {
     "name": "stdout",
     "output_type": "stream",
     "text": [
      "1000\n"
     ]
    }
   ],
   "source": [
    "# px = rnn_pixels.make_pixels(tile_size, tile_list) \n",
    "# px_to_use = px[:1000]\n",
    "# pixels = rnn_pixels.delete_bad_tiles(landsat_datasets,lc_labels, canopy_labels, px_to_use, tile_size)"
   ]
  },
  {
   "cell_type": "code",
   "execution_count": 8,
   "metadata": {},
   "outputs": [],
   "source": [
    "# w_tile_gen = rnn_tiles.rnn_tile_gen(landsat_datasets, lc_labels, canopy_labels, tile_size, class_count)\n",
    "# w_generator = w_tile_gen.tile_generator(pixels, batch_size=1, flatten=True, canopy=False)"
   ]
  },
  {
   "cell_type": "code",
   "execution_count": 9,
   "metadata": {
    "scrolled": false
   },
   "outputs": [
    {
     "name": "stdout",
     "output_type": "stream",
     "text": [
      "(1, 4, 7)\n",
      "(1, 6)\n",
      "[[[ 0.17117379  0.69376077  0.44830328 -0.71005923 -0.71699672\n",
      "   -0.60468886  0.76824581]\n",
      "  [ 0.37668718  1.22220946  0.71870909 -0.50477272 -0.459505\n",
      "   -0.29789757  0.05581075]\n",
      "  [ 0.09712853  0.63045702  0.5047358  -0.67046082 -0.63593451\n",
      "   -0.55090078  0.01061688]\n",
      "  [ 0.0850395   0.2864149  -0.05723802 -0.81426558 -0.74560691\n",
      "   -0.6764063   0.66157705]]]\n",
      "[[1. 0. 0. 0. 0. 0.]]\n",
      "1\n",
      "0\n",
      "0\n",
      "0\n",
      "0\n",
      "0\n",
      "1\n",
      "train:0 val:0 test:1\n"
     ]
    }
   ],
   "source": [
    "# # gets balanced pixels locations \n",
    "# w_tile_gen = rnn_tiles.rnn_tile_gen(landsat_datasets, lc_labels, canopy_labels, tile_size, class_count)\n",
    "# w_generator = w_tile_gen.tile_generator(pixels, batch_size=1, flatten=True, canopy=False)\n",
    "# total_labels = list()\n",
    "# count = 0\n",
    "# #buckets = {0:[], 1:[], 2:[], 3:[], 4:[], 5:[]}\n",
    "# buckets = {0:[], 1:[], 2:[], 3:[], 4:[], 5:[]}\n",
    "\n",
    "# while count < len(pixels):\n",
    "#         image_b, label_b = next(w_generator)\n",
    "#         print(image_b.shape)\n",
    "#         print(label_b.shape)\n",
    "#         print(image_b)\n",
    "#         print(label_b)\n",
    "#         label_b = np.argmax(label_b)\n",
    "#         buckets[label_b].append(pixels[count]) # appends pixels to dictionary\n",
    "#         total_labels.append(label_b)\n",
    "#         count+=1\n",
    "#         break\n",
    "# total_labels = np.asarray(total_labels)\n",
    "# total_labels = total_labels.reshape(len(total_labels)*tile_size*tile_size)\n",
    "# #weights_list = class_weight.compute_class_weight('balanced', np.unique(total_labels), total_labels)\n",
    "# count = 0 \n",
    "# for z, j in buckets.items():\n",
    "#     print(len(j))\n",
    "#     count += len(j)\n",
    "# print(count) \n",
    "# use_px = []\n",
    "# use_px+=buckets[0][:3000]\n",
    "# use_px+=(buckets[1][:3000])\n",
    "# use_px+=(buckets[2][:3000])\n",
    "# use_px+=(buckets[3][:3000])\n",
    "# use_px+=(buckets[4][:3000])\n",
    "# use_px+=(buckets[5][:3000])\n",
    "# random.shuffle(use_px)\n",
    "# train_px, val_px, test_px = rnn_pixels.train_val_test_split(use_px, 0.7, 0.7)\n"
   ]
  },
  {
   "cell_type": "code",
   "execution_count": 14,
   "metadata": {},
   "outputs": [
    {
     "ename": "IndexError",
     "evalue": "list index out of range",
     "output_type": "error",
     "traceback": [
      "\u001b[0;31m---------------------------------------------------------------------------\u001b[0m",
      "\u001b[0;31mIndexError\u001b[0m                                Traceback (most recent call last)",
      "\u001b[0;32m<ipython-input-14-de0e8922e15a>\u001b[0m in \u001b[0;36m<module>\u001b[0;34m\u001b[0m\n\u001b[0;32m----> 1\u001b[0;31m \u001b[0mtrain_px\u001b[0m\u001b[0;34m[\u001b[0m\u001b[0;36m0\u001b[0m\u001b[0;34m]\u001b[0m\u001b[0;34m\u001b[0m\u001b[0m\n\u001b[0m",
      "\u001b[0;31mIndexError\u001b[0m: list index out of range"
     ]
    }
   ],
   "source": [
    "# train_px[0]"
   ]
  },
  {
   "cell_type": "markdown",
   "metadata": {},
   "source": [
    "# Load pixels"
   ]
  },
  {
   "cell_type": "code",
   "execution_count": 26,
   "metadata": {
    "scrolled": true
   },
   "outputs": [
    {
     "name": "stdout",
     "output_type": "stream",
     "text": [
      "1000\n",
      "2000\n",
      "3000\n",
      "4000\n",
      "5000\n",
      "6000\n",
      "7000\n",
      "8000\n",
      "9000\n",
      "10000\n",
      "11000\n",
      "1000\n",
      "2000\n",
      "3000\n",
      "1000\n",
      "2000\n",
      "(array([[[ 0.16815154,  0.49284017,  0.77749296,  0.52270188,\n",
      "          1.15101033,  1.19621583, -0.39444371],\n",
      "        [ 0.28601951,  0.79834957,  0.83862819,  0.88950823,\n",
      "          1.18558098,  1.18625507, -0.42447939],\n",
      "        [-0.0887402 ,  0.03870458,  0.37541128,  0.524786  ,\n",
      "          0.81007222,  0.80973849, -0.43121637],\n",
      "        [-0.19451915, -0.04661786, -0.00550822,  0.24447093,\n",
      "          0.402377  ,  0.26588122, -0.60469346]]]), {'canopy': array([[0.]]), 'landcover': array([[0., 0., 0., 0., 0., 1.]])})\n",
      "Seperated\n",
      "[ 0.16815154  0.49284017  0.77749296  0.52270188  1.15101033  1.19621583\n",
      " -0.39444371  0.28601951  0.79834957  0.83862819  0.88950823  1.18558098\n",
      "  1.18625507 -0.42447939 -0.0887402   0.03870458  0.37541128  0.524786\n",
      "  0.81007222  0.80973849 -0.43121637 -0.19451915 -0.04661786 -0.00550822\n",
      "  0.24447093  0.402377    0.26588122 -0.60469346]\n",
      "{'canopy': array([[0.]]), 'landcover': array([[0., 0., 0., 0., 0., 1.]])}\n"
     ]
    }
   ],
   "source": [
    "train_px, val_px, test_px = util.read_txt(['train_px.txt', 'val_px.txt', 'test_px.txt'])\n",
    "train_px = rnn_pixels.delete_bad_tiles(landsat_datasets,lc_labels, canopy_labels, train_px, tile_size)\n",
    "val_px =  rnn_pixels.delete_bad_tiles(landsat_datasets,lc_labels, canopy_labels, val_px, tile_size)\n",
    "test_px =  rnn_pixels.delete_bad_tiles(landsat_datasets,lc_labels, canopy_labels, test_px, tile_size)\n",
    "pixel_1 = train_px[0]\n",
    "\n",
    "\n",
    "tile_gen = rnn_tiles.rnn_tile_gen(landsat_datasets, lc_labels, canopy_labels, tile_size, class_count)\n",
    "train_generator = tile_gen.tile_generator(train_px, batch_size=1, flatten=True, canopy= False)\n",
    "test_generator = tile_gen.tile_generator(test_px, batch_size =1, flatten = True, canopy = False)\n",
    "\n",
    "train_generator_canopy = tile_gen.tile_generator(train_px, batch_size=1, flatten=True, canopy= True)\n",
    "test_generator_canopy = tile_gen.tile_generator(test_px, batch_size =1, flatten = True, canopy = True)\n",
    "\n",
    "tiles_train = []\n",
    "landcover_train = []\n",
    "\n",
    "tiles_test = []\n",
    "landcover_test = []\n",
    "\n",
    "l = next(train_generator_canopy)\n",
    "print(l)\n",
    "print(\"Seperated\")\n",
    "print(np.ndarray.flatten(l[0][0]))\n",
    "canopy_landcover = l[1]\n",
    "canopy_landcover['canopy']\n",
    "print(l[1])\n",
    "\n",
    "# for x in range(0,1000):\n",
    "#     l = next(train_generator)\n",
    "#     tiles_train.append(np.ndarray.flatten(l[0][0]))\n",
    "#     landcover_train.append(np.ndarray.flatten(l[1][0]))\n",
    "    \n",
    "# for x in range(0,1000):\n",
    "#     l = next(test_generator)\n",
    "#     tiles_test.append(np.ndarray.flatten(l[0][0]))\n",
    "#     landcover_test.append(np.ndarray.flatten(l[1][0]))\n",
    "    \n",
    "# for x in range(0,1000):\n",
    "#     l = next(train_generator_canopy)\n",
    "#     tiles_train.append(np.ndarray.flatten(l[0][0]))\n",
    "#     landcover_train.append(np.ndarray.flatten(l[1][0]))\n",
    "    \n",
    "# for x in range(0,1000):\n",
    "#     l = next(test_generator)\n",
    "#     tiles_test.append(np.ndarray.flatten(l[0][0]))\n",
    "#     landcover_test.append(np.ndarray.flatten(l[1][0]))\n",
    "\n",
    "# print('first',x[0])\n",
    "# print('second',x[1])\n",
    "# for x in generator:\n",
    "#     tiles.append(x[0])\n",
    "#     landcover.append(x[1])\n",
    "#     print(1)\n"
   ]
  },
  {
   "cell_type": "markdown",
   "metadata": {},
   "source": [
    "## Balance Check "
   ]
  },
  {
   "cell_type": "code",
   "execution_count": 11,
   "metadata": {},
   "outputs": [
    {
     "ename": "NameError",
     "evalue": "name 'landcover_test' is not defined",
     "output_type": "error",
     "traceback": [
      "\u001b[0;31m---------------------------------------------------------------------------\u001b[0m",
      "\u001b[0;31mNameError\u001b[0m                                 Traceback (most recent call last)",
      "\u001b[0;32m<ipython-input-11-a8ca0e7bdeb9>\u001b[0m in \u001b[0;36m<module>\u001b[0;34m\u001b[0m\n\u001b[0;32m----> 1\u001b[0;31m \u001b[0mlandcover_class_test\u001b[0m \u001b[0;34m=\u001b[0m \u001b[0mnp\u001b[0m\u001b[0;34m.\u001b[0m\u001b[0margmax\u001b[0m\u001b[0;34m(\u001b[0m\u001b[0mlandcover_test\u001b[0m\u001b[0;34m,\u001b[0m\u001b[0maxis\u001b[0m \u001b[0;34m=\u001b[0m \u001b[0;36m1\u001b[0m\u001b[0;34m)\u001b[0m\u001b[0;34m\u001b[0m\u001b[0m\n\u001b[0m\u001b[1;32m      2\u001b[0m \u001b[0mtest_class_count\u001b[0m \u001b[0;34m=\u001b[0m \u001b[0;34m[\u001b[0m\u001b[0;36m0\u001b[0m\u001b[0;34m,\u001b[0m \u001b[0;36m0\u001b[0m\u001b[0;34m,\u001b[0m \u001b[0;36m0\u001b[0m\u001b[0;34m,\u001b[0m \u001b[0;36m0\u001b[0m\u001b[0;34m,\u001b[0m \u001b[0;36m0\u001b[0m\u001b[0;34m,\u001b[0m \u001b[0;36m0\u001b[0m\u001b[0;34m]\u001b[0m\u001b[0;34m\u001b[0m\u001b[0m\n\u001b[1;32m      3\u001b[0m \u001b[0;32mfor\u001b[0m \u001b[0mx\u001b[0m \u001b[0;32min\u001b[0m \u001b[0mlandcover_class_test\u001b[0m\u001b[0;34m:\u001b[0m\u001b[0;34m\u001b[0m\u001b[0m\n\u001b[1;32m      4\u001b[0m     \u001b[0mtest_class_count\u001b[0m\u001b[0;34m[\u001b[0m\u001b[0mx\u001b[0m\u001b[0;34m]\u001b[0m \u001b[0;34m+=\u001b[0m \u001b[0;36m1\u001b[0m\u001b[0;34m\u001b[0m\u001b[0m\n\u001b[1;32m      5\u001b[0m \u001b[0;34m\u001b[0m\u001b[0m\n",
      "\u001b[0;31mNameError\u001b[0m: name 'landcover_test' is not defined"
     ]
    }
   ],
   "source": [
    "landcover_class_test = np.argmax(landcover_test,axis = 1)\n",
    "test_class_count = [0, 0, 0, 0, 0, 0]\n",
    "for x in landcover_class_test:\n",
    "    test_class_count[x] += 1\n",
    "\n",
    "\n",
    "%matplotlib inline \n",
    "plt.figure(1)\n",
    "plt.bar(range(0,6), test_class_count)\n",
    "\n",
    "print(test_class_count)\n",
    "\n",
    "landcover_class_train = np.argmax(landcover_train,axis = 1)\n",
    "train_class_count = [0, 0, 0, 0, 0, 0]\n",
    "for x in landcover_class_train:\n",
    "    train_class_count[x] += 1\n",
    "\n",
    "\n",
    "\n",
    "plt.figure(2)\n",
    "plt.bar(range(0,6), train_class_count)"
   ]
  },
  {
   "cell_type": "markdown",
   "metadata": {},
   "source": [
    "## Training Data Set Size Check"
   ]
  },
  {
   "cell_type": "code",
   "execution_count": null,
   "metadata": {},
   "outputs": [],
   "source": [
    "rfc = RandomForestClassifier(n_estimators = 350)\n",
    "set_sizes = [] \n",
    "for x in range(0,1000,10):\n",
    "    set_sizes.append(x)\n",
    "\n",
    "new_train_landcover = np.argmax(landcover_train, axis=1)\n",
    "set_accuracy = []\n",
    "\n",
    "print(tiles_train)\n",
    "\n",
    "print(tiles_select)\n",
    "for y in set_sizes:\n",
    "    rfc.fit(tiles_train, new_train_landcover)\n",
    "    pred_rfc = rfc.predict(tiles_test)\n",
    "    set_accuracy.append(accuracy_score(np.argmax(landcover_test,axis =1),pred_rfc))"
   ]
  },
  {
   "cell_type": "code",
   "execution_count": null,
   "metadata": {},
   "outputs": [],
   "source": [
    "#SVM\n",
    "clf = svm.SVC()\n",
    "clf.fit(tiles_train,np.argmax(landcover_train, axis=1))\n",
    "pred_clf = clf.predict(tiles_test)\n",
    "print('Classification Report')\n",
    "print(classification_report(np.argmax(landcover_test,axis = 1), pred_clf))\n",
    "print('Confusion Matrix')\n",
    "print(confusion_matrix(np.argmax(landcover_test,axis = 1), pred_clf))\n"
   ]
  },
  {
   "cell_type": "code",
   "execution_count": null,
   "metadata": {},
   "outputs": [],
   "source": []
  },
  {
   "cell_type": "code",
   "execution_count": null,
   "metadata": {},
   "outputs": [],
   "source": [
    "# RFC Neighbor Testing\n",
    "n_range = range(1,1000,10)\n",
    "scores_n = []\n",
    "for n in n_range:\n",
    "    rfc_test = RandomForestClassifier(n_estimators = n)\n",
    "    rfc_test.fit(tiles_train, np.argmax(landcover_train,axis = 1))\n",
    "    pred_rfc_test = rfc_test.predict(tiles_test)\n",
    "    scores_n.append(accuracy_score(np.argmax(landcover_test,axis = 1), pred_rfc_test))"
   ]
  },
  {
   "cell_type": "code",
   "execution_count": null,
   "metadata": {},
   "outputs": [],
   "source": [
    "# RFC Testing Plot\n",
    "%matplotlib inline \n",
    "plt.figure(1);\n",
    "plt.plot(n_range,scores_n)\n",
    "plt.xlabel('Value of n_estimators for RFC')\n",
    "plt.ylabel('Testing Accuracy')\n",
    "plt.title('0 to 1000')"
   ]
  },
  {
   "cell_type": "code",
   "execution_count": null,
   "metadata": {},
   "outputs": [],
   "source": [
    "#RFC\n",
    "\n",
    "rfc = RandomForestClassifier(n_estimators = 350)\n",
    "rfc.fit(tiles_train,np.argmax(landcover_train, axis=1))\n",
    "pred_rfc = rfc.predict(tiles_test)\n",
    "print('Classification Report')\n",
    "print(classification_report(np.argmax(landcover_test,axis = 1), pred_rfc))\n",
    "print('Confusion Matrix')\n",
    "print(confusion_matrix(np.argmax(landcover_test,axis = 1), pred_rfc))"
   ]
  },
  {
   "cell_type": "code",
   "execution_count": null,
   "metadata": {},
   "outputs": [],
   "source": [
    "# KNN Neighbor Testing\n",
    "k_range = range(1,100)\n",
    "scores = []\n",
    "for k in k_range:\n",
    "    knn_test = KNeighborsClassifier(n_neighbors = k)\n",
    "    knn_test.fit(tiles_train,np.argmax(landcover_train, axis=1))\n",
    "    pred_knn_test = knn_test.predict(tiles_test)\n",
    "    scores.append(accuracy_score(np.argmax(landcover_test,axis =1),pred_knn_test))\n",
    "    "
   ]
  },
  {
   "cell_type": "code",
   "execution_count": null,
   "metadata": {},
   "outputs": [],
   "source": [
    "# KNN Testing Plot\n",
    "%matplotlib inline \n",
    "plt.figure(1);\n",
    "plt.plot(k_range,scores)\n",
    "plt.xlabel('Value of K for KNN')\n",
    "plt.ylabel('Testing Accuracy')\n",
    "plt.title('0 to 100')\n",
    "\n",
    "\n",
    "plt.figure(2);\n",
    "plt.plot(k_range[15:36],scores[15:36])\n",
    "plt.xlabel('Value of K for KNN')\n",
    "plt.ylabel('Testing Accuracy')\n",
    "plt.title('15 to 35')"
   ]
  },
  {
   "cell_type": "code",
   "execution_count": null,
   "metadata": {},
   "outputs": [],
   "source": [
    "# KNN\n",
    "\n",
    "knn = KNeighborsClassifier(n_neighbors = 23)\n",
    "knn.fit(tiles_train,np.argmax(landcover_train, axis=1))\n",
    "pred_knn = knn.predict(tiles_test)\n",
    "print('Classification Report')\n",
    "print(classification_report(np.argmax(landcover_test,axis = 1), pred_knn))\n",
    "print('Confusion Matrix')\n",
    "print(confusion_matrix(np.argmax(landcover_test,axis = 1), pred_knn))"
   ]
  },
  {
   "cell_type": "code",
   "execution_count": null,
   "metadata": {},
   "outputs": [],
   "source": [
    "# Logistic Regression\n",
    "\n",
    "logreg = LogisticRegression()\n",
    "logreg.fit(tiles_train,np.argmax(landcover_train, axis=1))\n",
    "pred_logreg = logreg.predict(tiles_test)\n",
    "print('Classification Report')\n",
    "print(classification_report(np.argmax(landcover_test,axis = 1), pred_logreg))\n",
    "print('Confusion Matrix')\n",
    "print(confusion_matrix(np.argmax(landcover_test,axis = 1), pred_logreg))"
   ]
  },
  {
   "cell_type": "markdown",
   "metadata": {},
   "source": [
    "### Create the RNN"
   ]
  },
  {
   "cell_type": "code",
   "execution_count": null,
   "metadata": {},
   "outputs": [],
   "source": [
    "# def strangeBlock_v4(input_block, nb_layers, filters):\n",
    "#     x_list = [input_block]\n",
    "#     c_temp = input_block\n",
    "#     for i in range(nb_layers):\n",
    "#         c_l = LSTM(units=filters, activation='elu', return_sequences=True) (c_temp)\n",
    "#         x_list.append(c_l)\n",
    "#         merge = Concatenate()(x_list)\n",
    "#         c_temp = merge\n",
    "#     return c_temp\n",
    "    "
   ]
  },
  {
   "cell_type": "code",
   "execution_count": null,
   "metadata": {},
   "outputs": [],
   "source": [
    "# def make_MLT_dense(in_shape, num_classes):\n",
    "#     input_tensor = Input(shape = in_shape)\n",
    "#     block = strangeBlock_v4(input_tensor, 5, 12)\n",
    "#     block_2 = strangeBlock_v4(block, 3, 20)\n",
    "#     landcover = LSTM(num_classes,activation='softmax', return_sequences=False, name='landcover') (block_2)\n",
    "#     canopy = LSTM(1, return_sequences=False, name='canopy') (block_2)\n",
    "#     model = Model(inputs=input_tensor, outputs=[landcover, canopy])\n",
    "#     return model"
   ]
  },
  {
   "cell_type": "markdown",
   "metadata": {},
   "source": [
    "#### Train the Model"
   ]
  },
  {
   "cell_type": "code",
   "execution_count": null,
   "metadata": {},
   "outputs": [],
   "source": [
    "# filepath = 'mlt_dense_model_pcg.hdf5'#your filepath here\n",
    "# checkpoint = ModelCheckpoint(filepath, monitor='val_landcover_acc', verbose=1, save_best_only=True, mode='max')\n",
    "# callbacks_list = [checkpoint]\n",
    "# tile_gen = rnn_tiles.rnn_tile_gen(landsat_datasets, lc_labels, canopy_labels, tile_size, class_count)"
   ]
  },
  {
   "cell_type": "code",
   "execution_count": null,
   "metadata": {},
   "outputs": [],
   "source": [
    "# model.compile(optimizer=Adam(), loss={'landcover':'categorical_crossentropy', 'canopy':'mae'}, metrics={'landcover':['accuracy'], 'canopy':['mae']}, loss_weights={\"landcover\":1, \"canopy\":1})"
   ]
  },
  {
   "cell_type": "code",
   "execution_count": null,
   "metadata": {
    "scrolled": true
   },
   "outputs": [],
   "source": [
    "# model.fit_generator(generator=tile_gen.tile_generator(train_px, batch_size, flatten=True, canopy=True), \n",
    "#                     steps_per_epoch=len(train_px) // batch_size, epochs=epochs, verbose=1,\n",
    "#                    validation_data=tile_gen.tile_generator(val_px, batch_size, flatten=True, canopy=True),\n",
    "# #                   validation_steps=len(val_px) // batch_size, callbacks=callbacks_list)# class_weight=weights_list)# callbacks=callbacks_list) #class_weight=weights, callbacks=callbacks_list) "
   ]
  },
  {
   "cell_type": "code",
   "execution_count": null,
   "metadata": {},
   "outputs": [],
   "source": [
    "# model.save('mlt_dense_pcg.h5')"
   ]
  },
  {
   "cell_type": "markdown",
   "metadata": {},
   "source": [
    "### Inspect Training Data"
   ]
  },
  {
   "cell_type": "code",
   "execution_count": null,
   "metadata": {},
   "outputs": [],
   "source": [
    "# predictions = model.predict_generator(generator = tile_gen.tile_generator(train_px, batch_size=1, flatten=True, canopy=True), steps=len(train_px) // 1, verbose=1)\n",
    "# eval_generator = tile_gen.tile_generator(train_px, batch_size=1, flatten=True, canopy=True)"
   ]
  },
  {
   "cell_type": "code",
   "execution_count": null,
   "metadata": {},
   "outputs": [],
   "source": [
    "# lc_predictions_train = np.asarray(predictions[0])\n",
    "# canopy_pred_train = np.asarray(predictions[1])\n",
    "# lc_predictions_train = np.argmax(lc_predictions_train,axis=-1)"
   ]
  },
  {
   "cell_type": "code",
   "execution_count": null,
   "metadata": {},
   "outputs": [],
   "source": [
    "# lc_lab_train = np.empty(lc_predictions_train.shape)\n",
    "# canopy_true_train = np.empty(canopy_pred_train.shape)\n",
    "# count = 0\n",
    "# while count < len(lc_predictions_train):\n",
    "#         image_b, label_b = next(eval_generator)\n",
    "#         #label_b = np.argmax(label_b, axis=-1)\n",
    "#         label_lc = np.argmax(label_b['landcover'], axis=-1)\n",
    "#         canopy_true_train[count] = label_b['canopy']\n",
    "#         lc_lab_train[count] = label_lc\n",
    "#         count += 1\n",
    "# label_index = lc_lab_train.reshape(len(train_px)*tile_size*tile_size)\n",
    "# pred_index = lc_predictions_train.reshape(len(train_px)*tile_size*tile_size)"
   ]
  },
  {
   "cell_type": "code",
   "execution_count": null,
   "metadata": {},
   "outputs": [],
   "source": [
    "# plt.hist(canopy_true_train, alpha=0.75), plt.hist(canopy_pred_train, alpha=0.5)"
   ]
  },
  {
   "cell_type": "code",
   "execution_count": null,
   "metadata": {},
   "outputs": [],
   "source": [
    "# from sklearn.metrics import r2_score\n",
    "# r2_score(canopy_true_train, canopy_pred_train)"
   ]
  },
  {
   "cell_type": "code",
   "execution_count": null,
   "metadata": {},
   "outputs": [],
   "source": [
    "# from scipy.stats import gaussian_kde\n",
    "\n",
    "# x = (canopy_pred_train * 100).flatten()\n",
    "# y = (canopy_true_train * 100).flatten()\n",
    "\n",
    "# xy = np.vstack([x,y])\n",
    "# z = gaussian_kde(xy)(xy)\n",
    "\n",
    "# idx = z.argsort()\n",
    "\n",
    "# fig,ax = plt.subplots()\n",
    "# ax.scatter(x,y,c=z,s=50,edgecolor='')\n",
    "# ax.set_xlabel(\"Predictions\")\n",
    "# ax.set_ylabel(\"Annotations\")\n",
    "# ax.set_title(\"Canopy Cover Predictions\")\n",
    "# plt.show()"
   ]
  },
  {
   "cell_type": "markdown",
   "metadata": {},
   "source": [
    "# Evaluate model"
   ]
  },
  {
   "cell_type": "code",
   "execution_count": null,
   "metadata": {},
   "outputs": [],
   "source": [
    "# # Hands the generator to the keras model -> says to make predictions\n",
    "# predictions = model.predict_generator(generator = tile_gen.tile_generator(test_px, batch_size=1, flatten=True, canopy=True), steps=len(test_px) // 1, verbose=1)\n",
    "# eval_generator = tile_gen.tile_generator(test_px, batch_size=1, flatten=True, canopy=True)"
   ]
  },
  {
   "cell_type": "code",
   "execution_count": null,
   "metadata": {},
   "outputs": [],
   "source": [
    "# lc_predictions = np.asarray(predictions[0])\n",
    "# canopy_pred = np.asarray(predictions[1])\n",
    "# lc_predictions = np.argmax(lc_predictions,axis=-1)"
   ]
  },
  {
   "cell_type": "code",
   "execution_count": null,
   "metadata": {},
   "outputs": [],
   "source": [
    "# lc_lab = np.empty(lc_predictions.shape)\n",
    "# canopy_true = np.empty(canopy_pred.shape)\n",
    "# count = 0\n",
    "# while count < len(lc_predictions):\n",
    "#         image_b, label_b = next(eval_generator)\n",
    "#         #label_b = np.argmax(label_b, axis=-1)\n",
    "#         label_lc = np.argmax(label_b['landcover'], axis=-1)\n",
    "#         canopy_true[count] = label_b['canopy']\n",
    "#         lc_lab[count] = label_lc\n",
    "#         count += 1\n",
    "# label_index = lc_lab.reshape(len(test_px)*tile_size*tile_size)\n",
    "# pred_index = lc_predictions.reshape(len(test_px)*tile_size*tile_size)"
   ]
  },
  {
   "cell_type": "code",
   "execution_count": null,
   "metadata": {
    "scrolled": false
   },
   "outputs": [],
   "source": [
    "# np.set_printoptions(precision=2)\n",
    "# # Plot non-normalized confusion matrix\n",
    "# util.plot_confusion_matrix(label_index.astype(np.int), pred_index.astype(np.int), classes=np.array(list(util.indexed_dictionary)),\n",
    "#                       class_dict=util.indexed_dictionary)\n",
    "# # Plot normalized confusion matrix\n",
    "# util.plot_confusion_matrix(label_index.astype(np.int), pred_index.astype(np.int), classes=np.array(list(util.indexed_dictionary)),\n",
    "#                       class_dict=util.indexed_dictionary,\n",
    "#                       normalize=True)\n",
    "# count = 0\n",
    "# for i in range(len(label_index)):\n",
    "#     if(label_index[i] == pred_index[i]):\n",
    "#         count+=1\n",
    "# print(\"Accuracy is {}\".format(count/len(label_index)))\n",
    "\n",
    "# plt.savefig(\"confusion_matrix.png\", dpi=1000)"
   ]
  },
  {
   "cell_type": "code",
   "execution_count": null,
   "metadata": {},
   "outputs": [],
   "source": [
    "# total = 0\n",
    "# tot = 0\n",
    "# for count in range(len(canopy_pred)):\n",
    "#     if canopy_true[count] != 0 and canopy_pred[count] !=0:\n",
    "#         if canopy_pred[count] < 0:\n",
    "#             canopy_pred[count] = 0\n",
    "#         total+= np.absolute(canopy_pred[count] - canopy_true[count])\n",
    "#         tot+=1\n",
    "# print(total/tot)"
   ]
  },
  {
   "cell_type": "code",
   "execution_count": null,
   "metadata": {},
   "outputs": [],
   "source": [
    "# label_index.shape"
   ]
  },
  {
   "cell_type": "code",
   "execution_count": null,
   "metadata": {},
   "outputs": [],
   "source": [
    "# label_index, "
   ]
  },
  {
   "cell_type": "code",
   "execution_count": null,
   "metadata": {},
   "outputs": [],
   "source": [
    "# import pandas as pd\n",
    "# pred_df = pd.DataFrame({'lc_pred': pred_index,\n",
    "#                         'lc_true': label_index,\n",
    "#                         'canopy_pred': canopy_pred.flatten(),\n",
    "#                         'canopy_true': canopy_true.flatten()})\n",
    "# pred_df[pred_df[\"lc_true\"] == 0].head()"
   ]
  },
  {
   "cell_type": "code",
   "execution_count": null,
   "metadata": {},
   "outputs": [],
   "source": [
    "# sns.jointplot(pred_df['canopy_pred'], y=pred_df['canopy_true'], kind='scatter')"
   ]
  },
  {
   "cell_type": "code",
   "execution_count": null,
   "metadata": {},
   "outputs": [],
   "source": [
    "# g = sns.jointplot(x=pred_df['canopy_pred'], y=pred_df['canopy_true'], kind='reg', scatter=False)\n",
    "\n",
    "# g.ax_joint.scatter(x=pred_df['canopy_pred'], y=pred_df['canopy_true'], c=pred_df['lc_true'])"
   ]
  },
  {
   "cell_type": "code",
   "execution_count": null,
   "metadata": {},
   "outputs": [],
   "source": [
    "# plt.hist(canopy_pred)"
   ]
  },
  {
   "cell_type": "code",
   "execution_count": null,
   "metadata": {},
   "outputs": [],
   "source": [
    "# plt.hist(canopy_true)"
   ]
  },
  {
   "cell_type": "code",
   "execution_count": null,
   "metadata": {},
   "outputs": [],
   "source": [
    "# from scipy.stats import gaussian_kde\n",
    "\n",
    "# x = (canopy_pred * 100).flatten()\n",
    "# y = (canopy_true * 100).flatten()\n",
    "\n",
    "\n",
    "# xy = np.vstack([x,y])\n",
    "# z = gaussian_kde(xy)(xy)\n",
    "\n",
    "# idx = z.argsort()\n",
    "\n",
    "# fig,ax = plt.subplots()\n",
    "# ax.scatter(x,y,c=z,s=50,edgecolor='', alpha=0.7)\n",
    "# ax.set_xlabel(\"Predictions\")\n",
    "# ax.set_ylabel(\"Annotations\")\n",
    "# ax.set_title(\"Canopy Cover Predictions\")\n",
    "# plt.savefig(\"canopy_regression.png\", dpi=1000)"
   ]
  },
  {
   "cell_type": "code",
   "execution_count": null,
   "metadata": {},
   "outputs": [],
   "source": [
    "# plt.scatter(canopy_pred, canopy_true)\n",
    "# plt.xlabel(\"Canopy Fraction Predictions\")\n",
    "# plt.ylabel(\"Canopy Fraction Annotations\")\n",
    "# plt.savefig(\"canopy_regression.png\", dpi=1000)"
   ]
  },
  {
   "cell_type": "code",
   "execution_count": null,
   "metadata": {},
   "outputs": [],
   "source": [
    "# from sklearn.metrics import r2_score\n",
    "# r2_score(canopy_true, canopy_pred)"
   ]
  },
  {
   "cell_type": "code",
   "execution_count": null,
   "metadata": {},
   "outputs": [],
   "source": []
  },
  {
   "cell_type": "code",
   "execution_count": null,
   "metadata": {},
   "outputs": [],
   "source": [
    "# # library & dataset\n",
    "# import seaborn as sns\n",
    "# df = sns.load_dataset('iris')\n",
    " \n",
    "\n",
    "# sns.jointplot(y=(canopy_true*100).flatten(), x=(canopy_pred*100).flatten(), kind='scatter')\n",
    "# sns.jointplot(pred_df['canopy_pred'], y=pred_df['canopy_true'], kind='scatter')\n",
    "\n",
    "# sns.jointplot(x=(canopy_true*100).flatten(), y=(canopy_pred*100).flatten(), kind='hex')\n",
    "# sns.jointplot(x=(canopy_true*100).flatten(), y=(canopy_pred*100).flatten(), kind='kde')\n"
   ]
  },
  {
   "cell_type": "code",
   "execution_count": null,
   "metadata": {},
   "outputs": [],
   "source": []
  }
 ],
 "metadata": {
  "kernelspec": {
   "display_name": "Python 3",
   "language": "python",
   "name": "python3"
  },
  "language_info": {
   "codemirror_mode": {
    "name": "ipython",
    "version": 3
   },
   "file_extension": ".py",
   "mimetype": "text/x-python",
   "name": "python",
   "nbconvert_exporter": "python",
   "pygments_lexer": "ipython3",
   "version": "3.5.2"
  }
 },
 "nbformat": 4,
 "nbformat_minor": 2
}
