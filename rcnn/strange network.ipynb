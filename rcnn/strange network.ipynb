{
 "cells": [
  {
   "cell_type": "code",
   "execution_count": 59,
   "metadata": {},
   "outputs": [],
   "source": [
    "import keras\n",
    "from keras import backend as K\n",
    "from keras.models import Sequential\n",
    "from keras.layers import Dense, Dropout, Flatten\n",
    "from keras.layers import MaxPooling3D, Conv2D, MaxPooling2D, SeparableConv2D, ConvLSTM2D, TimeDistributed, UpSampling2D, Concatenate\n",
    "from keras.layers import Activation, BatchNormalization\n",
    "from keras.optimizers import SGD, Adadelta, Adam\n",
    "from keras import Input\n",
    "from keras import Model"
   ]
  },
  {
   "cell_type": "code",
   "execution_count": 69,
   "metadata": {},
   "outputs": [],
   "source": [
    "def strange_network(input_shape):\n",
    "    input_img =  Input(input_shape)\n",
    "    c_l1 = ConvLSTM2D(filters=32,kernel_size=(2,2), padding = 'same', return_sequences=True) (input_img)\n",
    "    c_l2 = ConvLSTM2D(filters=32,kernel_size=(2,2), padding = 'same', return_sequences=True) (c_l1)\n",
    "    c_l3 = ConvLSTM2D(filters=32,kernel_size=(2,2), padding = 'same', return_sequences=True) (c_l2)\n",
    "    pool_1 = TimeDistributed(MaxPooling2D((3,3), padding='same')) (c_l3)\n",
    "    c_l4 = ConvLSTM2D(filters=32,kernel_size=(2,2), padding = 'same', return_sequences=True) (pool_1)\n",
    "    c_l5 = ConvLSTM2D(filters=32,kernel_size=(2,2), padding = 'same', return_sequences=True) (c_l4)\n",
    "    c_l6 = ConvLSTM2D(filters=32,kernel_size=(2,2), padding = 'same', return_sequences=True) (c_l5)\n",
    "    \n",
    "    upsample_1 = TimeDistributed(UpSampling2D((3,3))) (c_l6)\n",
    "    conv_1 = TimeDistributed(Conv2D(32, (3,3)))(upsample_1)\n",
    "    merge = Concatenate()([c_l3, conv_1])\n",
    "    \n",
    "    conv_lc = ConvLSTM2D(filters=16,kernel_size=(1,1), padding = 'same', return_sequences=False) (merge)\n",
    "    conv_out_cc = ConvLSTM2D(filters=1,kernel_size=(1,1), padding = 'same', return_sequences=False)(merge)\n",
    "\n",
    "    model = Model(inputs=input_img, outputs=[conv_lc, conv_out_cc])\n",
    "    return model\n",
    "\n",
    "    \n"
   ]
  },
  {
   "cell_type": "code",
   "execution_count": 70,
   "metadata": {},
   "outputs": [],
   "source": [
    "model = strange_network((4, 64, 64, 7))"
   ]
  },
  {
   "cell_type": "code",
   "execution_count": 71,
   "metadata": {},
   "outputs": [
    {
     "name": "stdout",
     "output_type": "stream",
     "text": [
      "__________________________________________________________________________________________________\n",
      "Layer (type)                    Output Shape         Param #     Connected to                     \n",
      "==================================================================================================\n",
      "input_23 (InputLayer)           (None, 4, 64, 64, 7) 0                                            \n",
      "__________________________________________________________________________________________________\n",
      "conv_lst_m2d_105 (ConvLSTM2D)   (None, 4, 64, 64, 32 20096       input_23[0][0]                   \n",
      "__________________________________________________________________________________________________\n",
      "conv_lst_m2d_106 (ConvLSTM2D)   (None, 4, 64, 64, 32 32896       conv_lst_m2d_105[0][0]           \n",
      "__________________________________________________________________________________________________\n",
      "conv_lst_m2d_107 (ConvLSTM2D)   (None, 4, 64, 64, 32 32896       conv_lst_m2d_106[0][0]           \n",
      "__________________________________________________________________________________________________\n",
      "time_distributed_45 (TimeDistri (None, 4, 22, 22, 32 0           conv_lst_m2d_107[0][0]           \n",
      "__________________________________________________________________________________________________\n",
      "conv_lst_m2d_108 (ConvLSTM2D)   (None, 4, 22, 22, 32 32896       time_distributed_45[0][0]        \n",
      "__________________________________________________________________________________________________\n",
      "conv_lst_m2d_109 (ConvLSTM2D)   (None, 4, 22, 22, 32 32896       conv_lst_m2d_108[0][0]           \n",
      "__________________________________________________________________________________________________\n",
      "conv_lst_m2d_110 (ConvLSTM2D)   (None, 4, 22, 22, 32 32896       conv_lst_m2d_109[0][0]           \n",
      "__________________________________________________________________________________________________\n",
      "time_distributed_46 (TimeDistri (None, 4, 66, 66, 32 0           conv_lst_m2d_110[0][0]           \n",
      "__________________________________________________________________________________________________\n",
      "time_distributed_47 (TimeDistri (None, 4, 64, 64, 32 9248        time_distributed_46[0][0]        \n",
      "__________________________________________________________________________________________________\n",
      "concatenate_10 (Concatenate)    (None, 4, 64, 64, 64 0           conv_lst_m2d_107[0][0]           \n",
      "                                                                 time_distributed_47[0][0]        \n",
      "__________________________________________________________________________________________________\n",
      "conv_lst_m2d_111 (ConvLSTM2D)   (None, 64, 64, 16)   5184        concatenate_10[0][0]             \n",
      "__________________________________________________________________________________________________\n",
      "conv_lst_m2d_112 (ConvLSTM2D)   (None, 64, 64, 1)    264         concatenate_10[0][0]             \n",
      "==================================================================================================\n",
      "Total params: 199,272\n",
      "Trainable params: 199,272\n",
      "Non-trainable params: 0\n",
      "__________________________________________________________________________________________________\n"
     ]
    }
   ],
   "source": [
    "model.summary()"
   ]
  },
  {
   "cell_type": "code",
   "execution_count": null,
   "metadata": {},
   "outputs": [],
   "source": []
  }
 ],
 "metadata": {
  "kernelspec": {
   "display_name": "Python 3",
   "language": "python",
   "name": "python3"
  },
  "language_info": {
   "codemirror_mode": {
    "name": "ipython",
    "version": 3
   },
   "file_extension": ".py",
   "mimetype": "text/x-python",
   "name": "python",
   "nbconvert_exporter": "python",
   "pygments_lexer": "ipython3",
   "version": "3.5.2"
  }
 },
 "nbformat": 4,
 "nbformat_minor": 2
}
