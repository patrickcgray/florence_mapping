{
 "cells": [
  {
   "cell_type": "code",
   "execution_count": 6,
   "metadata": {},
   "outputs": [],
   "source": [
    "import rasterio\n",
    "import numpy as np\n",
    "import matplotlib.pyplot as plt\n",
    "import os\n",
    "from glob import glob"
   ]
  },
  {
   "cell_type": "code",
   "execution_count": 7,
   "metadata": {},
   "outputs": [
    {
     "name": "stdout",
     "output_type": "stream",
     "text": [
      "combined  date20110324\tdate20110612  date20110831  date20111103\r\n"
     ]
    }
   ],
   "source": [
    "! ls /deep_data/recurrent_data/tile028012"
   ]
  },
  {
   "cell_type": "code",
   "execution_count": 19,
   "metadata": {},
   "outputs": [
    {
     "data": {
      "text/plain": [
       "['/deep_data/recurrent_data/tile028012/date20110324/LT05_CU_028012_20110324_20181214_C01_V01_SRB5.tif',\n",
       " '/deep_data/recurrent_data/tile028012/date20110324/LT05_CU_028012_20110324_20181214_C01_V01_SRB1.tif',\n",
       " '/deep_data/recurrent_data/tile028012/date20110324/LT05_CU_028012_20110324_20181214_C01_V01_SRB3.tif',\n",
       " '/deep_data/recurrent_data/tile028012/date20110324/LT05_CU_028012_20110324_20181214_C01_V01_SRB4.tif',\n",
       " '/deep_data/recurrent_data/tile028012/date20110324/LT05_CU_028012_20110324_20181214_C01_V01_SRB7.tif',\n",
       " '/deep_data/recurrent_data/tile028012/date20110324/LT05_CU_028012_20110324_20181214_C01_V01_SRB2.tif',\n",
       " '/deep_data/recurrent_data/tile028012/date20110324/LT05_CU_028012_20110324_20181214_C01_V01_PIXELQA.tif']"
      ]
     },
     "execution_count": 19,
     "metadata": {},
     "output_type": "execute_result"
    }
   ],
   "source": [
    "# tiles 028012 dates\n",
    "dates = ['20110324', '20110612', '20110831', '20111103']\n",
    "ls8_band_paths = glob(ls8_filepaths[0] + '*SRB*')\n",
    "ls8_band_paths += glob(ls8_filepaths[0] + '*PIXELQA*')\n",
    "ls8_band_paths"
   ]
  },
  {
   "cell_type": "code",
   "execution_count": 12,
   "metadata": {},
   "outputs": [],
   "source": [
    "ls8_filepaths = []\n",
    "for date in dates:\n",
    "    ls8_filepaths.append(\"/deep_data/recurrent_data/tile028012/date\"+date+'/')"
   ]
  },
  {
   "cell_type": "code",
   "execution_count": 9,
   "metadata": {},
   "outputs": [],
   "source": [
    "def make_combined(tile_number, ls8_filepaths, dates)\n",
    "    j = 0\n",
    "    for ls8_fp in ls8_filepaths:\n",
    "        ls8_band_paths = glob(ls8_fp + '*SRB*')\n",
    "        ls8_band_paths += glob(ls8_fp + '*PIXELQA*')\n",
    "        img_fp = '/deep_data/reccurent_data/' + 'tile' + tile_number + '/' + 'combined/' + 'combined_' +dates[j]+'.tif'\n",
    "        "
   ]
  },
  {
   "cell_type": "code",
   "execution_count": null,
   "metadata": {},
   "outputs": [],
   "source": [
    "# filepath for image we're writing out\n",
    "img_fp = '/deep_data/processed_landsat/' + ls8_fp.split('/')[-2] + '_combined.tif'\n",
    "\n",
    "# Read metadata of first file and assume all other bands are the same\n",
    "with rasterio.open(ls8_band_paths[0]) as src0:\n",
    "    meta = src0.meta\n",
    "\n",
    "# Update metadata to reflect the number of layers\n",
    "meta.update(count = len(ls8_band_paths))\n",
    "\n",
    "\n",
    "# Read each layer and write it to stack\n",
    "with rasterio.open(img_fp, 'w', **meta) as dst:\n",
    "    for id, layer in enumerate(ls8_band_paths, start=1):\n",
    "        print(layer)\n",
    "        if id < 8:\n",
    "            with rasterio.open(layer) as src1:\n",
    "                dst.write_band(id, src1.read(1))\n",
    "        else:\n",
    "            with rasterio.open(layer) as src1:\n",
    "                dst.write_band(id, src1.read(1).astype(np.int16)) # this one otherwise is uint16 for some reason"
   ]
  }
 ],
 "metadata": {
  "kernelspec": {
   "display_name": "Python 3",
   "language": "python",
   "name": "python3"
  },
  "language_info": {
   "codemirror_mode": {
    "name": "ipython",
    "version": 3
   },
   "file_extension": ".py",
   "mimetype": "text/x-python",
   "name": "python",
   "nbconvert_exporter": "python",
   "pygments_lexer": "ipython3",
   "version": "3.5.2"
  }
 },
 "nbformat": 4,
 "nbformat_minor": 2
}
