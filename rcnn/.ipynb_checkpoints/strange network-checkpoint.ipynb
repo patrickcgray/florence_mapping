{
 "cells": [
  {
   "cell_type": "code",
   "execution_count": 2,
   "metadata": {},
   "outputs": [],
   "source": [
    "import keras\n",
    "from keras import backend as K\n",
    "from keras.models import Sequential\n",
    "from keras.layers import Dense, Dropout, Flatten\n",
    "from keras.layers import Conv2D, MaxPooling2D, SeparableConv2D, ConvLSTM2D, TimeDistributed\n",
    "from keras.layers import Activation, BatchNormalization\n",
    "from keras.optimizers import SGD, Adadelta, Adam\n",
    "from keras import Input\n",
    "from keras import Model"
   ]
  },
  {
   "cell_type": "code",
   "execution_count": null,
   "metadata": {},
   "outputs": [],
   "source": [
    "def strange_network(input_shape):\n",
    "    input_img =  Input(input_shape)\n",
    "    c_l1 = ConvLSTM2D(filters=32,kernel_size=(2,2), padding = 'same', return_sequences=True)\n",
    "    c_l2 = ConvLSTM2D(filters=32,kernel_size=(2,2), padding = 'same', return_sequences=True) (c_l1)\n",
    "    c_l2 = ConvLSTM2D(filters=32,kernel_size=(2,2), padding =\n",
    "                      'same', return_sequences=True) (c_l2)\n",
    "    pool_1 = TimeDistributed(MaxPooling2D((3,3))) (c_l2)\n",
    "\n",
    "    \n"
   ]
  }
 ],
 "metadata": {
  "kernelspec": {
   "display_name": "Python 3",
   "language": "python",
   "name": "python3"
  },
  "language_info": {
   "codemirror_mode": {
    "name": "ipython",
    "version": 3
   },
   "file_extension": ".py",
   "mimetype": "text/x-python",
   "name": "python",
   "nbconvert_exporter": "python",
   "pygments_lexer": "ipython3",
   "version": "3.5.2"
  }
 },
 "nbformat": 4,
 "nbformat_minor": 2
}
