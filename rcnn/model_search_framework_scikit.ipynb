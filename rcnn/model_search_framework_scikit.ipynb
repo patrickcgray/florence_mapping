{
 "cells": [
  {
   "cell_type": "markdown",
   "metadata": {},
   "source": [
    "## LC Model Search Framework Scikit-Learn"
   ]
  },
  {
   "cell_type": "markdown",
   "metadata": {},
   "source": [
    "* Compare 1 season (summer) and 4 temporal steps\n",
    "* Compare 0 - 1500 training training samples per class in 100 sample increments\n",
    "* CNN component and RNN components in isolation\n",
    "* regular CNN+RNN vs conv2dlstm and RNN vs just conv2dLSTM\n",
    "* Compare to scikit-learn methods using same val and test datasets\n",
    "* Compare best model across time\n",
    "    * if major decrease in accuracy then consider training on both 2010 and 2011 data for initial time step\n",
    "        * consider training on 1999 data to see how it changes the model"
   ]
  },
  {
   "cell_type": "code",
   "execution_count": 1,
   "metadata": {},
   "outputs": [
    {
     "name": "stderr",
     "output_type": "stream",
     "text": [
      "Using TensorFlow backend.\n"
     ]
    }
   ],
   "source": [
    "import comet_ml\n",
    "from comet_ml import Experiment\n",
    "import datetime\n",
    "import rasterio\n",
    "import keras\n",
    "import pandas as pd\n",
    "import seaborn as sns\n",
    "import random\n",
    "from keras import backend as K\n",
    "from keras.callbacks import ModelCheckpoint\n",
    "from keras.models import Sequential\n",
    "from keras.layers import Dense, Dropout, Flatten, Reshape, Bidirectional\n",
    "from keras.layers import Conv2D, MaxPooling2D, MaxPooling3D, ConvLSTM2D, TimeDistributed, UpSampling2D, Concatenate, LSTM, concatenate\n",
    "from keras.layers import Activation, BatchNormalization\n",
    "from keras.optimizers import SGD, Adadelta, Adam\n",
    "from keras import Input\n",
    "from keras import Model\n",
    "import matplotlib.pyplot as plt\n",
    "import geopandas as gpd\n",
    "import os\n",
    "import sys\n",
    "from sklearn.utils import class_weight\n",
    "module_path = os.path.abspath(os.path.join('..'))\n",
    "if module_path not in sys.path:\n",
    "    sys.path.append(module_path)\n",
    "import utilities as util\n",
    "import importlib\n",
    "import rnn_tiles\n",
    "import rnn_pixels\n",
    "import numpy as np"
   ]
  },
  {
   "cell_type": "code",
   "execution_count": 2,
   "metadata": {},
   "outputs": [
    {
     "data": {
      "text/plain": [
       "<module 'utilities' from '/host/Code/florence_mapping/utilities.py'>"
      ]
     },
     "execution_count": 2,
     "metadata": {},
     "output_type": "execute_result"
    }
   ],
   "source": [
    "importlib.reload(rnn_pixels)\n",
    "importlib.reload(rnn_tiles)\n",
    "importlib.reload(util)"
   ]
  },
  {
   "cell_type": "code",
   "execution_count": 3,
   "metadata": {},
   "outputs": [],
   "source": [
    "exp_name = 'fullval_sklearn'\n",
    "model_name = 'rf_1'"
   ]
  },
  {
   "cell_type": "markdown",
   "metadata": {},
   "source": [
    "Ingest Training Labels\n",
    "\n",
    "Note that these are monster files so be careful how you inspect them, typically you only want to use the `rasterio` windows option"
   ]
  },
  {
   "cell_type": "code",
   "execution_count": 4,
   "metadata": {},
   "outputs": [],
   "source": [
    "lc_labels = rasterio.open('/deep_data/recurrent_data/NLCD_DATA/landcover/NLCD_2011_Land_Cover_L48_20190424.img')\n",
    "canopy_labels = rasterio.open('/deep_data/recurrent_data/NLCD_DATA/canopy/CONUSCartographic_2_8_16/Cartographic/nlcd2011_usfs_conus_canopy_cartographic.img')\n",
    "class_dict = util.indexed_dictionary"
   ]
  },
  {
   "cell_type": "markdown",
   "metadata": {},
   "source": [
    "Ingest the landsat imagery stacked into yearly seasonal tiles"
   ]
  },
  {
   "cell_type": "code",
   "execution_count": 5,
   "metadata": {},
   "outputs": [],
   "source": [
    "tiles = {}\n",
    "landsat_datasets = {}\n",
    "tiles['028012'] = ['20110103', '20110308', '20110730', '20110831', '20111103']\n",
    "tiles['029011'] = ['20110103', '20110308', '20110730', '20110831', '20111018']\n",
    "tiles['028011'] = ['20110103', '20110308', '20110831', '20111018', '20111103']\n",
    "\n",
    "# tiles['028012'] = ['20110730']\n",
    "# tiles['029011'] = ['20110730']\n",
    "# tiles['028011'] = ['20110831']\n",
    "\n",
    "# 2000 tiles\n",
    "# updated tiles\n",
    "#tiles['028012'] = ['20000105', '20000410', '20000816', '20001003', '20001019']\n",
    "#tiles['029011'] = ['20000222', '20000410', '20000816', '20001003', '20001019']\n",
    "#tiles['028011'] = ['20000121', '20000410', '20000512', '20000816', '20001019']\n",
    "\n",
    "#tiles['028012'] = ['20000816']\n",
    "#tiles['029011'] = ['20000816']\n",
    "#tiles['028011'] = ['20000816']\n",
    "\n",
    "for tile_number, dates in tiles.items():\n",
    "    tile_datasets = []\n",
    "    l8_image_paths = []\n",
    "    for date in dates:\n",
    "        l8_image_paths.append('/deep_data/recurrent_data/tile{}/combined/combined{}.tif'.format(tile_number, date))\n",
    "    for fp in l8_image_paths:\n",
    "        tile_datasets.append(rasterio.open(fp))\n",
    "    landsat_datasets[tile_number] = tile_datasets"
   ]
  },
  {
   "cell_type": "markdown",
   "metadata": {},
   "source": [
    "### Load pixels from shapefiles"
   ]
  },
  {
   "cell_type": "code",
   "execution_count": 6,
   "metadata": {},
   "outputs": [
    {
     "data": {
      "text/plain": [
       "(9000, ((1418, 3403), '028012', 1))"
      ]
     },
     "execution_count": 6,
     "metadata": {},
     "output_type": "execute_result"
    }
   ],
   "source": [
    "train_gdf = gpd.read_file('../shapefiles/train_buffered_points140520.shp')\n",
    "train_px = []\n",
    "for index, row in train_gdf.iterrows():\n",
    "    train_px.append(((row['row'], row['col']), row['tile_name'], row['label']))\n",
    "\n",
    "random.shuffle(train_px)\n",
    "\n",
    "len(train_px), train_px[0]"
   ]
  },
  {
   "cell_type": "code",
   "execution_count": 7,
   "metadata": {},
   "outputs": [
    {
     "data": {
      "text/plain": [
       "(720, ((1883.0, 1015.0), '029011', 4))"
      ]
     },
     "execution_count": 7,
     "metadata": {},
     "output_type": "execute_result"
    }
   ],
   "source": [
    "val_gdf = gpd.read_file('../shapefiles/val_buffered_points140520_val.shp')\n",
    "val_px = []\n",
    "\n",
    "per_class_count = [0] * 6\n",
    "total_per_class_count = [0] * 6\n",
    "\n",
    "for index, row in val_gdf.iterrows():\n",
    "    if not row['reject']:\n",
    "        total_per_class_count[int(row['manual_val'])] = total_per_class_count[int(row['manual_val'])] + 1\n",
    "        if per_class_count[int(row['manual_val'])] < 120:\n",
    "            per_class_count[int(row['manual_val'])] = per_class_count[int(row['manual_val'])] + 1\n",
    "            val_px.append(((row['row'], row['col']), row['tile_name'], row['manual_val']))\n",
    "    \n",
    "random.shuffle(val_px)\n",
    "\n",
    "len(val_px), val_px[0]"
   ]
  },
  {
   "cell_type": "code",
   "execution_count": 8,
   "metadata": {},
   "outputs": [
    {
     "data": {
      "text/plain": [
       "([153, 152, 152, 137, 132, 139], [120, 120, 120, 120, 120, 120])"
      ]
     },
     "execution_count": 8,
     "metadata": {},
     "output_type": "execute_result"
    }
   ],
   "source": [
    "total_per_class_count, per_class_count"
   ]
  },
  {
   "cell_type": "code",
   "execution_count": 9,
   "metadata": {},
   "outputs": [
    {
     "data": {
      "text/html": [
       "<div>\n",
       "<style scoped>\n",
       "    .dataframe tbody tr th:only-of-type {\n",
       "        vertical-align: middle;\n",
       "    }\n",
       "\n",
       "    .dataframe tbody tr th {\n",
       "        vertical-align: top;\n",
       "    }\n",
       "\n",
       "    .dataframe thead th {\n",
       "        text-align: right;\n",
       "    }\n",
       "</style>\n",
       "<table border=\"1\" class=\"dataframe\">\n",
       "  <thead>\n",
       "    <tr style=\"text-align: right;\">\n",
       "      <th></th>\n",
       "      <th>canopy</th>\n",
       "      <th>col</th>\n",
       "      <th>label</th>\n",
       "      <th>row</th>\n",
       "      <th>tile_name</th>\n",
       "      <th>x</th>\n",
       "      <th>y</th>\n",
       "      <th>manual_val</th>\n",
       "      <th>dubious</th>\n",
       "      <th>reject</th>\n",
       "      <th>geometry</th>\n",
       "    </tr>\n",
       "  </thead>\n",
       "  <tbody>\n",
       "    <tr>\n",
       "      <th>0</th>\n",
       "      <td>0.0</td>\n",
       "      <td>596.0</td>\n",
       "      <td>0.0</td>\n",
       "      <td>698.0</td>\n",
       "      <td>029011</td>\n",
       "      <td>1802310.0</td>\n",
       "      <td>1643850.0</td>\n",
       "      <td>0</td>\n",
       "      <td>0</td>\n",
       "      <td>0</td>\n",
       "      <td>POLYGON ((-75.6441512084 36.10119086803808, -7...</td>\n",
       "    </tr>\n",
       "    <tr>\n",
       "      <th>1</th>\n",
       "      <td>0.0</td>\n",
       "      <td>467.0</td>\n",
       "      <td>0.0</td>\n",
       "      <td>3956.0</td>\n",
       "      <td>029011</td>\n",
       "      <td>1798440.0</td>\n",
       "      <td>1546110.0</td>\n",
       "      <td>0</td>\n",
       "      <td>0</td>\n",
       "      <td>0</td>\n",
       "      <td>POLYGON ((-75.91635673586633 35.25513889890946...</td>\n",
       "    </tr>\n",
       "    <tr>\n",
       "      <th>2</th>\n",
       "      <td>0.0</td>\n",
       "      <td>749.0</td>\n",
       "      <td>0.0</td>\n",
       "      <td>4096.0</td>\n",
       "      <td>029011</td>\n",
       "      <td>1806900.0</td>\n",
       "      <td>1541910.0</td>\n",
       "      <td>0</td>\n",
       "      <td>0</td>\n",
       "      <td>0</td>\n",
       "      <td>POLYGON ((-75.83449049734953 35.20255815179633...</td>\n",
       "    </tr>\n",
       "    <tr>\n",
       "      <th>3</th>\n",
       "      <td>0.0</td>\n",
       "      <td>4780.0</td>\n",
       "      <td>0.0</td>\n",
       "      <td>4536.0</td>\n",
       "      <td>028011</td>\n",
       "      <td>1777830.0</td>\n",
       "      <td>1528710.0</td>\n",
       "      <td>0</td>\n",
       "      <td>0</td>\n",
       "      <td>0</td>\n",
       "      <td>POLYGON ((-76.17979015822588 35.14144967077146...</td>\n",
       "    </tr>\n",
       "    <tr>\n",
       "      <th>4</th>\n",
       "      <td>0.0</td>\n",
       "      <td>1120.0</td>\n",
       "      <td>0.0</td>\n",
       "      <td>3425.0</td>\n",
       "      <td>028012</td>\n",
       "      <td>1668030.0</td>\n",
       "      <td>1412040.0</td>\n",
       "      <td>0</td>\n",
       "      <td>0</td>\n",
       "      <td>0</td>\n",
       "      <td>POLYGON ((-77.6206367137414 34.31532226132933,...</td>\n",
       "    </tr>\n",
       "  </tbody>\n",
       "</table>\n",
       "</div>"
      ],
      "text/plain": [
       "   canopy     col  label     row tile_name          x          y  manual_val  \\\n",
       "0     0.0   596.0    0.0   698.0    029011  1802310.0  1643850.0           0   \n",
       "1     0.0   467.0    0.0  3956.0    029011  1798440.0  1546110.0           0   \n",
       "2     0.0   749.0    0.0  4096.0    029011  1806900.0  1541910.0           0   \n",
       "3     0.0  4780.0    0.0  4536.0    028011  1777830.0  1528710.0           0   \n",
       "4     0.0  1120.0    0.0  3425.0    028012  1668030.0  1412040.0           0   \n",
       "\n",
       "   dubious  reject                                           geometry  \n",
       "0        0       0  POLYGON ((-75.6441512084 36.10119086803808, -7...  \n",
       "1        0       0  POLYGON ((-75.91635673586633 35.25513889890946...  \n",
       "2        0       0  POLYGON ((-75.83449049734953 35.20255815179633...  \n",
       "3        0       0  POLYGON ((-76.17979015822588 35.14144967077146...  \n",
       "4        0       0  POLYGON ((-77.6206367137414 34.31532226132933,...  "
      ]
     },
     "execution_count": 9,
     "metadata": {},
     "output_type": "execute_result"
    }
   ],
   "source": [
    "val_gdf.head()"
   ]
  },
  {
   "cell_type": "markdown",
   "metadata": {},
   "source": [
    "Start the experiments here:"
   ]
  },
  {
   "cell_type": "code",
   "execution_count": 10,
   "metadata": {},
   "outputs": [
    {
     "name": "stderr",
     "output_type": "stream",
     "text": [
      "COMET INFO: old comet version (3.1.6) detected. current: 3.1.12 please update your comet lib with command: `pip install --no-cache-dir --upgrade comet_ml`\n",
      "COMET INFO: Experiment is live on comet.ml https://www.comet.ml/clifgray/chronos/e630f3b6eef34098bada694c470c2f4f\n",
      "\n"
     ]
    }
   ],
   "source": [
    "experiment = Experiment(api_key=\"rMFbl2RlGxNuyyL37dE7qPSfE\",\n",
    "                        project_name=\"chronos\", workspace=\"clifgray\")"
   ]
  },
  {
   "cell_type": "code",
   "execution_count": 11,
   "metadata": {},
   "outputs": [],
   "source": [
    "experiment.add_tag(exp_name + '_' + model_name)"
   ]
  },
  {
   "cell_type": "code",
   "execution_count": 12,
   "metadata": {},
   "outputs": [],
   "source": [
    "tile_size = 1\n",
    "tile_list = ['028012', '029011', '028011']\n",
    "class_count = len(class_dict)\n",
    "epochs = 0\n",
    "batch_size = 0\n",
    "steps_division_factor = 0"
   ]
  },
  {
   "cell_type": "markdown",
   "metadata": {},
   "source": [
    "### retrieve data and reshape into sklearn format"
   ]
  },
  {
   "cell_type": "markdown",
   "metadata": {},
   "source": [
    "#### train data"
   ]
  },
  {
   "cell_type": "code",
   "execution_count": 13,
   "metadata": {},
   "outputs": [],
   "source": [
    "tile_gen = rnn_tiles.rnn_tile_gen(landsat_datasets, lc_labels, canopy_labels, tile_size, class_count)\n",
    "\n",
    "train_generator = tile_gen.tile_generator(train_px, batch_size=1, flatten=True, canopy=True)\n",
    "lc_lab = np.empty(len(train_px))\n",
    "count = 0\n",
    "img_list = []\n",
    "while count < len(train_px):\n",
    "        image_b, label_b = next(train_generator)\n",
    "        img_list.append(image_b['tile_input'])\n",
    "        label_lc = np.argmax(label_b['landcover'], axis=-1)\n",
    "        lc_lab[count] = label_lc\n",
    "        count += 1"
   ]
  },
  {
   "cell_type": "code",
   "execution_count": 14,
   "metadata": {},
   "outputs": [
    {
     "data": {
      "text/plain": [
       "((9000, 1, 5, 1, 1, 7), (9000, 35))"
      ]
     },
     "execution_count": 14,
     "metadata": {},
     "output_type": "execute_result"
    }
   ],
   "source": [
    "sk_images = np.array(img_list).reshape(9000,-1)\n",
    "np.array(img_list).shape, sk_images.shape"
   ]
  },
  {
   "cell_type": "markdown",
   "metadata": {},
   "source": [
    "#### validation data"
   ]
  },
  {
   "cell_type": "code",
   "execution_count": 15,
   "metadata": {},
   "outputs": [
    {
     "data": {
      "text/plain": [
       "((720, 1, 5, 1, 1, 7), (720, 35))"
      ]
     },
     "execution_count": 15,
     "metadata": {},
     "output_type": "execute_result"
    }
   ],
   "source": [
    "tile_gen = rnn_tiles.rnn_tile_gen(landsat_datasets, lc_labels, canopy_labels, tile_size, class_count)\n",
    "\n",
    "val_generator = tile_gen.tile_generator(val_px, batch_size=1, flatten=True, canopy=True)\n",
    "val_lc_lab = np.empty(len(val_px))\n",
    "count = 0\n",
    "val_img_list = []\n",
    "while count < len(val_px):\n",
    "        image_b, label_b = next(val_generator)\n",
    "        val_img_list.append(image_b['tile_input'])\n",
    "        label_lc = np.argmax(label_b['landcover'], axis=-1)\n",
    "        val_lc_lab[count] = label_lc\n",
    "        count += 1\n",
    "\n",
    "val_sk_images = np.array(val_img_list).reshape(720,-1)\n",
    "np.array(val_img_list).shape, val_sk_images.shape"
   ]
  },
  {
   "cell_type": "markdown",
   "metadata": {},
   "source": [
    "#### KNN model"
   ]
  },
  {
   "cell_type": "code",
   "execution_count": 16,
   "metadata": {},
   "outputs": [
    {
     "name": "stdout",
     "output_type": "stream",
     "text": [
      "0:00:00.015806\n"
     ]
    },
    {
     "data": {
      "text/plain": [
       "0.9388888888888889"
      ]
     },
     "execution_count": 16,
     "metadata": {},
     "output_type": "execute_result"
    }
   ],
   "source": [
    "from sklearn import neighbors, datasets\n",
    "\n",
    "n_neighbors = 50\n",
    "\n",
    "clf = neighbors.KNeighborsClassifier(n_neighbors, weights='distance')\n",
    "train_time_start = datetime.datetime.now()\n",
    "clf.fit(sk_images, lc_lab)\n",
    "\n",
    "train_time_stop = datetime.datetime.now()\n",
    "training_time = train_time_stop - train_time_start\n",
    "print(training_time)\n",
    "clf.score(val_sk_images, val_lc_lab)"
   ]
  },
  {
   "cell_type": "markdown",
   "metadata": {},
   "source": [
    "#### RF Model"
   ]
  },
  {
   "cell_type": "code",
   "execution_count": 17,
   "metadata": {},
   "outputs": [
    {
     "name": "stdout",
     "output_type": "stream",
     "text": [
      "0:00:17.021621\n"
     ]
    },
    {
     "data": {
      "text/plain": [
       "0.9583333333333334"
      ]
     },
     "execution_count": 17,
     "metadata": {},
     "output_type": "execute_result"
    }
   ],
   "source": [
    "from sklearn.ensemble import RandomForestClassifier\n",
    "\n",
    "# Initialize our model with 500 trees\n",
    "clf = RandomForestClassifier(n_estimators=500, oob_score=True)\n",
    "\n",
    "# Fit our model to training data\n",
    "train_time_start = datetime.datetime.now()\n",
    "\n",
    "#clf.fit(sk_images, lc_lab)\n",
    "clf.fit(sk_images, lc_lab)\n",
    "\n",
    "train_time_stop = datetime.datetime.now()\n",
    "training_time = train_time_stop - train_time_start\n",
    "print(training_time)\n",
    "clf.score(val_sk_images, val_lc_lab)"
   ]
  },
  {
   "cell_type": "code",
   "execution_count": 195,
   "metadata": {},
   "outputs": [],
   "source": [
    "#list(range(100,1500, 100))\n",
    "train_counts = [1, 5, 10, 20, 40, 80, 100, 200, 300, 400, 500, 600, 700, 800, 900, 1000, 1100, 1200, 1300, 1400]"
   ]
  },
  {
   "cell_type": "code",
   "execution_count": 233,
   "metadata": {},
   "outputs": [
    {
     "data": {
      "text/plain": [
       "(0.8, 1)"
      ]
     },
     "execution_count": 233,
     "metadata": {},
     "output_type": "execute_result"
    },
    {
     "data": {
      "image/png": "[encoded data removed]",
      "text/plain": [
       "<Figure size 432x288 with 1 Axes>"
      ]
     },
     "metadata": {
      "needs_background": "light"
     },
     "output_type": "display_data"
    }
   ],
   "source": [
    "accuracies = []\n",
    "\n",
    "for train_count in train_counts:\n",
    "    # Initialize our model with 500 trees\n",
    "    clf = RandomForestClassifier(n_estimators=500, oob_score=True)\n",
    "\n",
    "    clf.fit(sk_images[:train_count*6], lc_lab[:train_count*6])\n",
    "    accuracies.append(clf.score(val_sk_images, val_lc_lab))\n",
    "\n",
    "plt.plot(train_counts, accuracies)\n",
    "plt.ylim(.8,1)"
   ]
  },
  {
   "cell_type": "code",
   "execution_count": 230,
   "metadata": {},
   "outputs": [
    {
     "data": {
      "text/plain": [
       "0.8402777777777778"
      ]
     },
     "execution_count": 230,
     "metadata": {},
     "output_type": "execute_result"
    }
   ],
   "source": [
    "clf.score(val_sk_images, val_lc_lab)"
   ]
  },
  {
   "cell_type": "markdown",
   "metadata": {},
   "source": [
    "#### SVM Model"
   ]
  },
  {
   "cell_type": "code",
   "execution_count": 17,
   "metadata": {},
   "outputs": [
    {
     "name": "stdout",
     "output_type": "stream",
     "text": [
      "0:00:56.365926\n"
     ]
    },
    {
     "data": {
      "text/plain": [
       "0.9611111111111111"
      ]
     },
     "execution_count": 17,
     "metadata": {},
     "output_type": "execute_result"
    }
   ],
   "source": [
    "from sklearn import svm\n",
    "clf = svm.SVC(gamma='scale')\n",
    "\n",
    "train_time_start = datetime.datetime.now()\n",
    "\n",
    "clf.fit(sk_images, lc_lab)\n",
    "\n",
    "train_time_stop = datetime.datetime.now()\n",
    "training_time = train_time_stop - train_time_start\n",
    "print(training_time)\n",
    "clf.score(val_sk_images, val_lc_lab)"
   ]
  },
  {
   "cell_type": "markdown",
   "metadata": {},
   "source": [
    "# Evaluate model"
   ]
  },
  {
   "cell_type": "code",
   "execution_count": 29,
   "metadata": {},
   "outputs": [],
   "source": [
    "dataset_name = '2000test' # '2010val' '2010test' '2000test'"
   ]
  },
  {
   "cell_type": "code",
   "execution_count": 39,
   "metadata": {},
   "outputs": [],
   "source": [
    "tiles = {}\n",
    "landsat_datasets = {}\n",
    "#tiles['028012'] = ['20110103', '20110308', '20110730', '20110831', '20111103']\n",
    "#tiles['029011'] = ['20110103', '20110308', '20110730', '20110831', '20111018']\n",
    "#tiles['028011'] = ['20110103', '20110308', '20110831', '20111018', '20111103']\n",
    "\n",
    "# 2000 tiles\n",
    "tiles['028012'] = ['20000105', '20000410', '20000816', '20001003', '20001019']\n",
    "tiles['029011'] = ['20000222', '20000410', '20000816', '20001003', '20001019']\n",
    "tiles['028011'] = ['20000121', '20000410', '20000512', '20000816', '20001019']\n",
    "\n",
    "for tile_number, dates in tiles.items():\n",
    "    tile_datasets = []\n",
    "    l8_image_paths = []\n",
    "    for date in dates:\n",
    "        l8_image_paths.append('/deep_data/recurrent_data/tile{}/combined/combined{}.tif'.format(tile_number, date))\n",
    "    for fp in l8_image_paths:\n",
    "        tile_datasets.append(rasterio.open(fp))\n",
    "    landsat_datasets[tile_number] = tile_datasets"
   ]
  },
  {
   "cell_type": "code",
   "execution_count": 52,
   "metadata": {},
   "outputs": [
    {
     "data": {
      "text/plain": [
       "(600, ((4420.0, 3707.0), '028011', 5))"
      ]
     },
     "execution_count": 52,
     "metadata": {},
     "output_type": "execute_result"
    }
   ],
   "source": [
    "#val_gdf = gpd.read_file('../shapefiles/val_buffered_points140520_val.shp')\n",
    "#val_gdf = gpd.read_file('../shapefiles/test_buffered_points140520_val.shp')\n",
    "val_gdf = gpd.read_file('../shapefiles/test1999_buffered_points140520_val_subset.shp')\n",
    "\n",
    "val_px = []\n",
    "\n",
    "per_class_count = [0] * 6\n",
    "total_per_class_count = [0] * 6\n",
    "\n",
    "for index, row in val_gdf.iterrows():\n",
    "    if not row['reject']:\n",
    "        total_per_class_count[int(row['manual_val'])] = total_per_class_count[int(row['manual_val'])] + 1\n",
    "        if per_class_count[int(row['manual_val'])] < 100:\n",
    "            per_class_count[int(row['manual_val'])] = per_class_count[int(row['manual_val'])] + 1\n",
    "            val_px.append(((row['row'], row['col']), row['tile_name'], row['manual_val']))\n",
    "    \n",
    "random.shuffle(val_px)\n",
    "\n",
    "len(val_px), val_px[0]"
   ]
  },
  {
   "cell_type": "code",
   "execution_count": 55,
   "metadata": {},
   "outputs": [],
   "source": [
    "tile_gen = rnn_tiles.rnn_tile_gen(landsat_datasets, lc_labels, canopy_labels, tile_size, class_count)\n",
    "\n",
    "val_generator = tile_gen.tile_generator(val_px, batch_size=1, flatten=True, canopy=True)\n",
    "val_lc_lab = np.empty(len(val_px))\n",
    "count = 0\n",
    "val_img_list = []\n",
    "while count < len(val_px):\n",
    "    image_b, label_b = next(val_generator)\n",
    "    val_img_list.append(image_b['tile_input'])\n",
    "    label_lc = np.argmax(label_b['landcover'], axis=-1)\n",
    "    val_lc_lab[count] = label_lc\n",
    "    count += 1\n",
    "\n",
    "val_sk_images = np.array(val_img_list).reshape(600,-1)"
   ]
  },
  {
   "cell_type": "code",
   "execution_count": 56,
   "metadata": {},
   "outputs": [
    {
     "name": "stdout",
     "output_type": "stream",
     "text": [
      "0:00:00.097036\n"
     ]
    }
   ],
   "source": [
    "inference_time_start = datetime.datetime.now()\n",
    "\n",
    "pred_index = clf.predict(val_sk_images)\n",
    "#clf.score(val_sk_images, val_lc_lab)\n",
    "\n",
    "inference_time_stop = datetime.datetime.now()\n",
    "inference_time = inference_time_stop - inference_time_start\n",
    "print(inference_time)"
   ]
  },
  {
   "cell_type": "code",
   "execution_count": 57,
   "metadata": {},
   "outputs": [
    {
     "name": "stdout",
     "output_type": "stream",
     "text": [
      "Accuracy is 0.8416666666666667\n"
     ]
    },
    {
     "data": {
      "image/png": "[encoded data removed]",
      "text/plain": [
       "<Figure size 720x720 with 2 Axes>"
      ]
     },
     "metadata": {
      "needs_background": "light"
     },
     "output_type": "display_data"
    },
    {
     "data": {
      "image/png": "[encoded data removed]",
      "text/plain": [
       "<Figure size 720x720 with 2 Axes>"
      ]
     },
     "metadata": {
      "needs_background": "light"
     },
     "output_type": "display_data"
    }
   ],
   "source": [
    "# Plot non-normalized confusion matrix\n",
    "_, users_acc, prod_acc = util.plot_confusion_matrix(val_lc_lab.astype(np.int), pred_index.astype(np.int), classes=np.array(list(class_dict)), class_dict=class_dict)\n",
    "experiment.log_figure(figure=plt, figure_name=\"unnorm_conf_matrix\"+ dataset_name)\n",
    "\n",
    "# Plot normalized confusion matrix\n",
    "util.plot_confusion_matrix(val_lc_lab.astype(np.int), pred_index.astype(np.int), classes=np.array(list(class_dict)), class_dict=class_dict, normalize=True)\n",
    "experiment.log_figure(figure=plt, figure_name=\"norm_conf_matrix\"+ dataset_name)\n",
    "\n",
    "count = 0\n",
    "for i in range(len(val_lc_lab)):\n",
    "    if(val_lc_lab[i] == pred_index[i]):\n",
    "        count+=1\n",
    "\n",
    "val_accuracy=count/len(val_lc_lab)\n",
    "class_acc_dict = {}\n",
    "print(\"Accuracy is\",val_accuracy)"
   ]
  },
  {
   "cell_type": "markdown",
   "metadata": {},
   "source": [
    "Calculate the accuracy per class\n",
    "Calculate overall accuracy\n",
    "Add training samples\n",
    "add epochs\n",
    "add tile size"
   ]
  },
  {
   "cell_type": "code",
   "execution_count": 44,
   "metadata": {},
   "outputs": [],
   "source": [
    "experiment_df = pd.DataFrame(columns=['exp_name','model_name', 'evaluation_dataset', 'time_steps','train_count','overall_acc', \n",
    "                                      'epochs', 'tile_size', 'training_time', 'inference_time',\n",
    "                                      'water_acc_prod','dev_acc_prod', 'forest_acc_prod', 'cult_acc_prod', 'barren_acc_prod', 'wetland_acc_prod',\n",
    "                                      'water_acc_user','dev_acc_user', 'forest_acc_user', 'cult_acc_user', 'barren_acc_user', 'wetland_acc_user'])   "
   ]
  },
  {
   "cell_type": "code",
   "execution_count": 45,
   "metadata": {},
   "outputs": [],
   "source": [
    "experiment_df.loc[len(experiment_df)] = [exp_name, model_name, dataset_name, len(tiles['028012']), len(train_px)/class_count, val_accuracy, \n",
    "                                         epochs, tile_size, training_time, inference_time] + list(np.round(prod_acc,3)) + list(np.round(users_acc,3))\n"
   ]
  },
  {
   "cell_type": "code",
   "execution_count": 46,
   "metadata": {},
   "outputs": [
    {
     "data": {
      "text/html": [
       "<div>\n",
       "<style scoped>\n",
       "    .dataframe tbody tr th:only-of-type {\n",
       "        vertical-align: middle;\n",
       "    }\n",
       "\n",
       "    .dataframe tbody tr th {\n",
       "        vertical-align: top;\n",
       "    }\n",
       "\n",
       "    .dataframe thead th {\n",
       "        text-align: right;\n",
       "    }\n",
       "</style>\n",
       "<table border=\"1\" class=\"dataframe\">\n",
       "  <thead>\n",
       "    <tr style=\"text-align: right;\">\n",
       "      <th></th>\n",
       "      <th>exp_name</th>\n",
       "      <th>model_name</th>\n",
       "      <th>evaluation_dataset</th>\n",
       "      <th>time_steps</th>\n",
       "      <th>train_count</th>\n",
       "      <th>overall_acc</th>\n",
       "      <th>epochs</th>\n",
       "      <th>tile_size</th>\n",
       "      <th>training_time</th>\n",
       "      <th>inference_time</th>\n",
       "      <th>...</th>\n",
       "      <th>forest_acc_prod</th>\n",
       "      <th>cult_acc_prod</th>\n",
       "      <th>barren_acc_prod</th>\n",
       "      <th>wetland_acc_prod</th>\n",
       "      <th>water_acc_user</th>\n",
       "      <th>dev_acc_user</th>\n",
       "      <th>forest_acc_user</th>\n",
       "      <th>cult_acc_user</th>\n",
       "      <th>barren_acc_user</th>\n",
       "      <th>wetland_acc_user</th>\n",
       "    </tr>\n",
       "  </thead>\n",
       "  <tbody>\n",
       "    <tr>\n",
       "      <th>0</th>\n",
       "      <td>fullval_sklearn</td>\n",
       "      <td>rf_1</td>\n",
       "      <td>2010test</td>\n",
       "      <td>5</td>\n",
       "      <td>1500.0</td>\n",
       "      <td>0.8125</td>\n",
       "      <td>0</td>\n",
       "      <td>1</td>\n",
       "      <td>00:00:17.021621</td>\n",
       "      <td>00:00:00.134504</td>\n",
       "      <td>...</td>\n",
       "      <td>0.725</td>\n",
       "      <td>0.7</td>\n",
       "      <td>0.875</td>\n",
       "      <td>0.8</td>\n",
       "      <td>0.975</td>\n",
       "      <td>0.748</td>\n",
       "      <td>0.967</td>\n",
       "      <td>0.8</td>\n",
       "      <td>0.593</td>\n",
       "      <td>0.96</td>\n",
       "    </tr>\n",
       "  </tbody>\n",
       "</table>\n",
       "<p>1 rows × 22 columns</p>\n",
       "</div>"
      ],
      "text/plain": [
       "          exp_name model_name evaluation_dataset time_steps  train_count  \\\n",
       "0  fullval_sklearn       rf_1           2010test          5       1500.0   \n",
       "\n",
       "   overall_acc epochs tile_size   training_time  inference_time  ...  \\\n",
       "0       0.8125      0         1 00:00:17.021621 00:00:00.134504  ...   \n",
       "\n",
       "   forest_acc_prod  cult_acc_prod  barren_acc_prod  wetland_acc_prod  \\\n",
       "0            0.725            0.7            0.875               0.8   \n",
       "\n",
       "   water_acc_user  dev_acc_user  forest_acc_user  cult_acc_user  \\\n",
       "0           0.975         0.748            0.967            0.8   \n",
       "\n",
       "   barren_acc_user  wetland_acc_user  \n",
       "0            0.593              0.96  \n",
       "\n",
       "[1 rows x 22 columns]"
      ]
     },
     "execution_count": 46,
     "metadata": {},
     "output_type": "execute_result"
    }
   ],
   "source": [
    "experiment_df.tail(5)"
   ]
  },
  {
   "cell_type": "code",
   "execution_count": 47,
   "metadata": {},
   "outputs": [],
   "source": [
    "experiment_df.to_csv('model_search/' + model_name + '--' + exp_name + dataset_name + '.csv')"
   ]
  },
  {
   "cell_type": "code",
   "execution_count": 48,
   "metadata": {},
   "outputs": [
    {
     "name": "stderr",
     "output_type": "stream",
     "text": [
      "/usr/local/lib/python3.5/dist-packages/ipykernel_launcher.py:2: FutureWarning: Sorting because non-concatenation axis is not aligned. A future version\n",
      "of pandas will change to not sort by default.\n",
      "\n",
      "To accept the future behavior, pass 'sort=False'.\n",
      "\n",
      "To retain the current behavior and silence the warning, pass 'sort=True'.\n",
      "\n",
      "  \n"
     ]
    }
   ],
   "source": [
    "all_exps = pd.read_csv('model_search/' + 'all_model_runs.csv')\n",
    "all_exps = pd.concat([all_exps,experiment_df], ignore_index=True)\n",
    "all_exps.to_csv('model_search/' + 'all_model_runs.csv')"
   ]
  },
  {
   "cell_type": "code",
   "execution_count": 49,
   "metadata": {},
   "outputs": [],
   "source": [
    "params = {\n",
    "    \"exp_name\":exp_name,\n",
    "    \"model_name\":model_name,\n",
    "    \"landsat_tiles\":tiles,\n",
    "    \"cnn_tile_size\":tile_size,\n",
    "    \"class_dict\":class_dict,\n",
    "    \"lc_validation_acc\":val_accuracy\n",
    "}\n",
    "experiment.log_parameters(params)"
   ]
  },
  {
   "cell_type": "code",
   "execution_count": 50,
   "metadata": {},
   "outputs": [
    {
     "name": "stderr",
     "output_type": "stream",
     "text": [
      "COMET INFO: ---------------------------\n",
      "COMET INFO: Comet.ml Experiment Summary\n",
      "COMET INFO: ---------------------------\n",
      "COMET INFO:   Data:\n",
      "COMET INFO:     display_summary_level : 1\n",
      "COMET INFO:     url                   : https://www.comet.ml/clifgray/chronos/e630f3b6eef34098bada694c470c2f4f\n",
      "COMET INFO:   Parameters [count]:\n",
      "COMET INFO:     algorithm                : auto\n",
      "COMET INFO:     bootstrap                : True\n",
      "COMET INFO:     class_dict               : {0: 'Water', 1: 'Developed', 2: 'Forest', 3: 'Cultivated', 4: 'Barren', 5: 'Wetland'}\n",
      "COMET INFO:     class_weight             : 1\n",
      "COMET INFO:     cnn_tile_size            : 1\n",
      "COMET INFO:     criterion                : gini\n",
      "COMET INFO:     exp_name                 : fullval_sklearn\n",
      "COMET INFO:     landsat_tiles            : {'028011': ['20000121', '20000410', '20000512', '20000816', '20001019'], '028012': ['20000105', '20000410', '20000816', '20001003', '20001019'], '029011': ['20000222', '20000410', '20000816', '20001003', '20001019']}\n",
      "COMET INFO:     lc_validation_acc        : 0.8125\n",
      "COMET INFO:     leaf_size                : 30\n",
      "COMET INFO:     max_depth                : 1\n",
      "COMET INFO:     max_features             : auto\n",
      "COMET INFO:     max_leaf_nodes           : 1\n",
      "COMET INFO:     metric                   : minkowski\n",
      "COMET INFO:     metric_params            : 1\n",
      "COMET INFO:     min_impurity_decrease    : 1\n",
      "COMET INFO:     min_impurity_split       : 1\n",
      "COMET INFO:     min_samples_leaf         : 1\n",
      "COMET INFO:     min_samples_split        : 2\n",
      "COMET INFO:     min_weight_fraction_leaf : 1\n",
      "COMET INFO:     model_name               : rf_1\n",
      "COMET INFO:     n_estimators             : 500\n",
      "COMET INFO:     n_jobs                   : 1\n",
      "COMET INFO:     n_neighbors              : 50\n",
      "COMET INFO:     oob_score                : True\n",
      "COMET INFO:     p                        : 2\n",
      "COMET INFO:     presort                  : 1\n",
      "COMET INFO:     random_state [502]       : 502\n",
      "COMET INFO:     splitter                 : best\n",
      "COMET INFO:     verbose                  : 1\n",
      "COMET INFO:     warm_start               : 1\n",
      "COMET INFO:     weights                  : distance\n",
      "COMET INFO:   Uploads [count]:\n",
      "COMET INFO:     code                     : 1 (18 KB)\n",
      "COMET INFO:     environment details      : 1\n",
      "COMET INFO:     figures [6]              : 6\n",
      "COMET INFO:     filename                 : 1\n",
      "COMET INFO:     git metadata             : 1\n",
      "COMET INFO:     git-patch (uncompressed) : 1 (602 KB)\n",
      "COMET INFO:     installed packages       : 1\n",
      "COMET INFO:     os packages              : 1\n",
      "COMET INFO: ---------------------------\n",
      "COMET INFO: Uploading stats to Comet before program termination (may take several seconds)\n"
     ]
    }
   ],
   "source": [
    "experiment.end()"
   ]
  },
  {
   "cell_type": "code",
   "execution_count": 112,
   "metadata": {},
   "outputs": [
    {
     "data": {
      "text/plain": [
       "['model_search/rf_1--initial_sklearn_clf.pkl']"
      ]
     },
     "execution_count": 112,
     "metadata": {},
     "output_type": "execute_result"
    }
   ],
   "source": [
    "import joblib\n",
    "# now you can save it to a file\n",
    "joblib.dump(clf, 'model_search/' + model_name + '--' + exp_name + '_clf.pkl') \n",
    "# and later you can load it\n",
    "#clf = joblib.load('filename.pkl')"
   ]
  },
  {
   "cell_type": "code",
   "execution_count": null,
   "metadata": {},
   "outputs": [],
   "source": []
  }
 ],
 "metadata": {
  "kernelspec": {
   "display_name": "Python 3",
   "language": "python",
   "name": "python3"
  },
  "language_info": {
   "codemirror_mode": {
    "name": "ipython",
    "version": 3
   },
   "file_extension": ".py",
   "mimetype": "text/x-python",
   "name": "python",
   "nbconvert_exporter": "python",
   "pygments_lexer": "ipython3",
   "version": "3.5.2"
  }
 },
 "nbformat": 4,
 "nbformat_minor": 2
}
