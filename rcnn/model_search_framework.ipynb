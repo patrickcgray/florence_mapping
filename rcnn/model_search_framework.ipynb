{
 "cells": [
  {
   "cell_type": "markdown",
   "metadata": {},
   "source": [
    "## LC Model Search Framework"
   ]
  },
  {
   "cell_type": "markdown",
   "metadata": {},
   "source": [
    "* Compare 1 season (summer) and 4 temporal steps\n",
    "* Compare 0 - 1500 training training samples per class in 100 sample increments\n",
    "* CNN component and RNN components in isolation\n",
    "* regular CNN+RNN vs conv2dlstm and RNN vs just conv2dLSTM\n",
    "* Compare to scikit-learn methods using same val and test datasets\n",
    "* Compare best model across time\n",
    "    * if major decrease in accuracy then consider training on both 2010 and 2011 data for initial time step\n",
    "        * consider training on 1999 data to see how it changes the model"
   ]
  },
  {
   "cell_type": "code",
   "execution_count": 1,
   "metadata": {},
   "outputs": [
    {
     "name": "stderr",
     "output_type": "stream",
     "text": [
      "Using TensorFlow backend.\n"
     ]
    }
   ],
   "source": [
    "import comet_ml\n",
    "from comet_ml import Experiment\n",
    "import datetime\n",
    "import rasterio\n",
    "import keras\n",
    "import random\n",
    "from keras import backend as K\n",
    "from keras.callbacks import ModelCheckpoint\n",
    "from keras.models import Sequential\n",
    "from keras.layers import Dense, Dropout, Flatten, Reshape, Bidirectional\n",
    "from keras.layers import Conv2D, Conv3D, MaxPooling2D, MaxPooling3D, ConvLSTM2D, TimeDistributed, UpSampling2D, Concatenate, LSTM, concatenate\n",
    "from keras.layers import Activation, BatchNormalization\n",
    "from keras.optimizers import SGD, Adadelta, Adam\n",
    "from keras import Input\n",
    "from keras import Model\n",
    "import matplotlib.pyplot as plt\n",
    "import geopandas as gpd\n",
    "import os\n",
    "import sys\n",
    "from sklearn.utils import class_weight\n",
    "module_path = os.path.abspath(os.path.join('..'))\n",
    "if module_path not in sys.path:\n",
    "    sys.path.append(module_path)\n",
    "import utilities as util\n",
    "import importlib\n",
    "import rnn_tiles\n",
    "import rnn_pixels\n",
    "import numpy as np"
   ]
  },
  {
   "cell_type": "code",
   "execution_count": 2,
   "metadata": {},
   "outputs": [
    {
     "data": {
      "text/plain": [
       "<module 'utilities' from '/host/Code/florence_mapping/utilities.py'>"
      ]
     },
     "execution_count": 2,
     "metadata": {},
     "output_type": "execute_result"
    }
   ],
   "source": [
    "importlib.reload(rnn_pixels)\n",
    "importlib.reload(rnn_tiles)\n",
    "importlib.reload(util)"
   ]
  },
  {
   "cell_type": "code",
   "execution_count": 3,
   "metadata": {},
   "outputs": [],
   "source": [
    "exp_name = 'fullval_keras_tests_corrected'\n",
    "model_name = 'rcnn'\n",
    "filepath = 'model_search/' +  model_name + '--' + exp_name + '.hdf5' #your filepath here"
   ]
  },
  {
   "cell_type": "markdown",
   "metadata": {},
   "source": [
    "Assign your specific GPU so we don't overlap"
   ]
  },
  {
   "cell_type": "code",
   "execution_count": 4,
   "metadata": {},
   "outputs": [],
   "source": [
    "os.environ[\"CUDA_VISIBLE_DEVICES\"]=\"0\";"
   ]
  },
  {
   "cell_type": "markdown",
   "metadata": {},
   "source": [
    "Is that GPU and only that GPU visible?\n",
    "\n",
    "Note that it will always say GPU:0 but you should just see one"
   ]
  },
  {
   "cell_type": "code",
   "execution_count": 5,
   "metadata": {},
   "outputs": [
    {
     "data": {
      "text/plain": [
       "['/job:localhost/replica:0/task:0/device:GPU:0']"
      ]
     },
     "execution_count": 5,
     "metadata": {},
     "output_type": "execute_result"
    }
   ],
   "source": [
    "from keras import backend as K\n",
    "K.tensorflow_backend._get_available_gpus()"
   ]
  },
  {
   "cell_type": "markdown",
   "metadata": {},
   "source": [
    "Ingest Training Labels\n",
    "\n",
    "Note that these are monster files so be careful how you inspect them, typically you only want to use the `rasterio` windows option"
   ]
  },
  {
   "cell_type": "code",
   "execution_count": 6,
   "metadata": {},
   "outputs": [],
   "source": [
    "lc_labels = rasterio.open('/deep_data/recurrent_data/NLCD_DATA/landcover/NLCD_2011_Land_Cover_L48_20190424.img')\n",
    "canopy_labels = rasterio.open('/deep_data/recurrent_data/NLCD_DATA/canopy/CONUSCartographic_2_8_16/Cartographic/nlcd2011_usfs_conus_canopy_cartographic.img')\n",
    "class_dict = util.indexed_dictionary"
   ]
  },
  {
   "cell_type": "markdown",
   "metadata": {},
   "source": [
    "Ingest the landsat imagery stacked into yearly seasonal tiles"
   ]
  },
  {
   "cell_type": "code",
   "execution_count": 7,
   "metadata": {},
   "outputs": [],
   "source": [
    "tiles = {}\n",
    "landsat_datasets = {}\n",
    "tiles['028012'] = ['20110103', '20110308', '20110730', '20110831', '20111103']\n",
    "tiles['029011'] = ['20110103', '20110308', '20110730', '20110831', '20111018']\n",
    "tiles['028011'] = ['20110103', '20110308', '20110831', '20111018', '20111103']\n",
    "\n",
    "# tiles['028012'] = ['20110308']\n",
    "# tiles['029011'] = ['20110308']\n",
    "# tiles['028011'] = ['20110308']\n",
    "\n",
    "for tile_number, dates in tiles.items():\n",
    "    tile_datasets = []\n",
    "    l8_image_paths = []\n",
    "    for date in dates:\n",
    "        l8_image_paths.append('/deep_data/recurrent_data/tile{}/combined/combined{}.tif'.format(tile_number, date))\n",
    "    for fp in l8_image_paths:\n",
    "        tile_datasets.append(rasterio.open(fp))\n",
    "    landsat_datasets[tile_number] = tile_datasets"
   ]
  },
  {
   "cell_type": "markdown",
   "metadata": {},
   "source": [
    "### Load pixels from shapefiles"
   ]
  },
  {
   "cell_type": "code",
   "execution_count": 8,
   "metadata": {},
   "outputs": [
    {
     "data": {
      "text/plain": [
       "(9000, ((1285, 255), '029011', 0))"
      ]
     },
     "execution_count": 8,
     "metadata": {},
     "output_type": "execute_result"
    }
   ],
   "source": [
    "train_gdf = gpd.read_file('../shapefiles/train_buffered_points140520.shp')\n",
    "train_px = []\n",
    "for index, row in train_gdf.iterrows():\n",
    "    train_px.append(((row['row'], row['col']), row['tile_name'], row['label']))\n",
    "\n",
    "random.shuffle(train_px)\n",
    "\n",
    "len(train_px), train_px[0]"
   ]
  },
  {
   "cell_type": "code",
   "execution_count": 9,
   "metadata": {},
   "outputs": [],
   "source": [
    "# train_gdf = gpd.read_file('../shapefiles/train_buffered_points140520_valsubset.shp')\n",
    "# train_px = []\n",
    "\n",
    "# per_class_count = [0] * 6\n",
    "# total_per_class_count = [0] * 6\n",
    "\n",
    "# for index, row in train_gdf.iterrows():\n",
    "#     if not row['reject']:\n",
    "#         total_per_class_count[int(row['manual_val'])] = total_per_class_count[int(row['manual_val'])] + 1\n",
    "#         if per_class_count[int(row['manual_val'])] < 150:\n",
    "#             per_class_count[int(row['manual_val'])] = per_class_count[int(row['manual_val'])] + 1\n",
    "#             train_px.append(((row['row'], row['col']), row['tile_name'], row['manual_val']))\n",
    "    \n",
    "# random.shuffle(train_px)\n",
    "\n",
    "# len(train_px), train_px[0]"
   ]
  },
  {
   "cell_type": "code",
   "execution_count": 10,
   "metadata": {},
   "outputs": [
    {
     "data": {
      "text/plain": [
       "(842, 0.9355555555555556)"
      ]
     },
     "execution_count": 10,
     "metadata": {},
     "output_type": "execute_result"
    }
   ],
   "source": [
    "train_gdf = gpd.read_file('../shapefiles/train_buffered_points140520_valsubset.shp')\n",
    "train_px = []\n",
    "\n",
    "per_class_count = [0] * 6\n",
    "total_per_class_count = [0] * 6\n",
    "\n",
    "correct = 0\n",
    "manual_labs = []\n",
    "nlcd_labs = []\n",
    "\n",
    "for index, row in train_gdf.iterrows():\n",
    "    if int(row['manual_val']) == int(row['label']):\n",
    "        correct +=1 \n",
    "    manual_labs.append(int(row['manual_val']))\n",
    "    nlcd_labs.append(int(row['label']))\n",
    "\n",
    "correct, correct/len(train_gdf)"
   ]
  },
  {
   "cell_type": "code",
   "execution_count": 11,
   "metadata": {},
   "outputs": [
    {
     "data": {
      "text/plain": [
       "(720, ((4663.0, 1658.0), '028011', 2))"
      ]
     },
     "execution_count": 11,
     "metadata": {},
     "output_type": "execute_result"
    }
   ],
   "source": [
    "val_gdf = gpd.read_file('../shapefiles/val_buffered_points140520_val.shp')\n",
    "val_px = []\n",
    "\n",
    "\n",
    "per_class_count = [0] * 6\n",
    "total_per_class_count = [0] * 6\n",
    "\n",
    "for index, row in val_gdf.iterrows():\n",
    "    if not row['reject']:\n",
    "        total_per_class_count[int(row['manual_val'])] = total_per_class_count[int(row['manual_val'])] + 1\n",
    "        if per_class_count[int(row['manual_val'])] < 120:\n",
    "            per_class_count[int(row['manual_val'])] = per_class_count[int(row['manual_val'])] + 1\n",
    "            val_px.append(((row['row'], row['col']), row['tile_name'], row['manual_val']))\n",
    "    \n",
    "random.shuffle(val_px)\n",
    "\n",
    "len(val_px), val_px[0]"
   ]
  },
  {
   "cell_type": "code",
   "execution_count": 12,
   "metadata": {},
   "outputs": [
    {
     "data": {
      "text/plain": [
       "([153, 152, 152, 137, 132, 139], [120, 120, 120, 120, 120, 120])"
      ]
     },
     "execution_count": 12,
     "metadata": {},
     "output_type": "execute_result"
    }
   ],
   "source": [
    "total_per_class_count, per_class_count"
   ]
  },
  {
   "cell_type": "code",
   "execution_count": 13,
   "metadata": {},
   "outputs": [
    {
     "data": {
      "text/plain": [
       "(865, 720)"
      ]
     },
     "execution_count": 13,
     "metadata": {},
     "output_type": "execute_result"
    }
   ],
   "source": [
    "np.sum(total_per_class_count), np.sum(per_class_count)"
   ]
  },
  {
   "cell_type": "markdown",
   "metadata": {},
   "source": [
    "### Create the RNN"
   ]
  },
  {
   "cell_type": "code",
   "execution_count": 14,
   "metadata": {},
   "outputs": [],
   "source": [
    "def strangeBlock_v4(input_block, nb_layers, filters):\n",
    "    x_list = [input_block]\n",
    "    c_temp = input_block\n",
    "    for i in range(nb_layers):\n",
    "        c_l = LSTM(units=filters, activation='elu', return_sequences=True) (c_temp)\n",
    "        x_list.append(c_l)\n",
    "        merge = Concatenate()(x_list)\n",
    "        c_temp = merge\n",
    "    return c_temp"
   ]
  },
  {
   "cell_type": "code",
   "execution_count": 16,
   "metadata": {},
   "outputs": [],
   "source": [
    "def make_MLT_dense(in_shape, in_shape_tile, num_classes):\n",
    "    input_tensor = Input(shape = in_shape, name=\"rnn_input\")\n",
    "    #single pixel rnn model\n",
    "    block = strangeBlock_v4(input_tensor, 5, 12)\n",
    "    block_2 = strangeBlock_v4(block, 3, 20)\n",
    "    final_block = LSTM(64, activation='softmax', return_sequences=False) (block_2)\n",
    "\n",
    "    #cnn model\n",
    "    input_tensor_tile = Input(shape = in_shape_tile, name=\"tile_input\")\n",
    "    cnn_layer1 = ConvLSTM2D(64, kernel_size=3, activation='elu', return_sequences=True)(input_tensor_tile)\n",
    "    # batch norm\n",
    "    cnn_layer2 = ConvLSTM2D(64, kernel_size=3, activation='elu', return_sequences=False) (cnn_layer1)\n",
    "    maxpool = MaxPooling2D(pool_size=(2, 2), strides=None, padding='same') (cnn_layer2)\n",
    "    flatten = Flatten()(maxpool)\n",
    "    #concat = concatenate([final_block, flatten])\n",
    "    \n",
    "    # this makes it a RCNN + LSTM\n",
    "    #denselayer = Dense(64, activation=\"elu\")(concat)\n",
    "    # this makes it just an RCNN\n",
    "    denselayer = Dense(64, activation=\"elu\")(flatten)\n",
    "    # this makes it just an LSTM\n",
    "    #denselayer = Dense(64, activation=\"elu\")(final_block)\n",
    "    \n",
    "    landcover = Dense(num_classes,activation='softmax', name='landcover') (denselayer)\n",
    "    #canopy = Dense(1, name='canopy') (concat)\n",
    "\n",
    "    model = Model(inputs=[input_tensor,input_tensor_tile], outputs=[landcover])\n",
    "    return model"
   ]
  },
  {
   "cell_type": "markdown",
   "metadata": {},
   "source": [
    "Start the experiments here:"
   ]
  },
  {
   "cell_type": "code",
   "execution_count": 15,
   "metadata": {},
   "outputs": [
    {
     "name": "stderr",
     "output_type": "stream",
     "text": [
      "COMET INFO: old comet version (3.1.6) detected. current: 3.1.13 please update your comet lib with command: `pip install --no-cache-dir --upgrade comet_ml`\n",
      "COMET INFO: Experiment is live on comet.ml https://www.comet.ml/clifgray/chronos/d60be8361fe44848be0290833e127420\n",
      "\n"
     ]
    }
   ],
   "source": [
    "experiment = Experiment(api_key=\"rMFbl2RlGxNuyyL37dE7qPSfE\",\n",
    "                        project_name=\"chronos\", workspace=\"clifgray\")"
   ]
  },
  {
   "cell_type": "code",
   "execution_count": 16,
   "metadata": {},
   "outputs": [],
   "source": [
    "experiment.add_tag(exp_name + '_' + model_name)"
   ]
  },
  {
   "cell_type": "code",
   "execution_count": 17,
   "metadata": {},
   "outputs": [],
   "source": [
    "tile_size = 9\n",
    "tile_list = ['028012', '029011', '028011']\n",
    "class_count = len(class_dict)\n",
    "epochs = 60\n",
    "batch_size = 25\n",
    "steps_division_factor = 10"
   ]
  },
  {
   "cell_type": "markdown",
   "metadata": {},
   "source": [
    "#### This is the simple MLP Model"
   ]
  },
  {
   "cell_type": "code",
   "execution_count": 14,
   "metadata": {},
   "outputs": [
    {
     "name": "stdout",
     "output_type": "stream",
     "text": [
      "WARNING:tensorflow:From /usr/local/lib/python3.5/dist-packages/tensorflow/python/framework/op_def_library.py:263: colocate_with (from tensorflow.python.framework.ops) is deprecated and will be removed in a future version.\n",
      "Instructions for updating:\n",
      "Colocations handled automatically by placer.\n",
      "WARNING:tensorflow:From /usr/local/lib/python3.5/dist-packages/keras/backend/tensorflow_backend.py:3733: calling dropout (from tensorflow.python.ops.nn_ops) with keep_prob is deprecated and will be removed in a future version.\n",
      "Instructions for updating:\n",
      "Please use `rate` instead of `keep_prob`. Rate should be set to `rate = 1 - keep_prob`.\n",
      "Model: \"sequential_1\"\n",
      "_________________________________________________________________\n",
      "Layer (type)                 Output Shape              Param #   \n",
      "=================================================================\n",
      "dense_1 (Dense)              (None, 32)                90752     \n",
      "_________________________________________________________________\n",
      "dropout_1 (Dropout)          (None, 32)                0         \n",
      "_________________________________________________________________\n",
      "dense_2 (Dense)              (None, 32)                1056      \n",
      "_________________________________________________________________\n",
      "dropout_2 (Dropout)          (None, 32)                0         \n",
      "_________________________________________________________________\n",
      "dense_3 (Dense)              (None, 6)                 198       \n",
      "=================================================================\n",
      "Total params: 92,006\n",
      "Trainable params: 92,006\n",
      "Non-trainable params: 0\n",
      "_________________________________________________________________\n"
     ]
    }
   ],
   "source": [
    "model = Sequential()\n",
    "model.add(Dense(32, activation='relu', input_shape=((tile_size*tile_size*len(tiles['028012'])*7),)))\n",
    "model.add(Dropout(0.2))\n",
    "model.add(Dense(32, activation='relu'))\n",
    "model.add(Dropout(0.2))\n",
    "model.add(Dense(class_count, activation='softmax'))\n",
    "\n",
    "model.summary()\n",
    "\n",
    "\n",
    "model.compile(loss='categorical_crossentropy',\n",
    "              optimizer=keras.optimizers.RMSprop(),\n",
    "              metrics=['accuracy'])"
   ]
  },
  {
   "cell_type": "markdown",
   "metadata": {},
   "source": [
    "#### This is the simple CNN Model"
   ]
  },
  {
   "cell_type": "code",
   "execution_count": 15,
   "metadata": {},
   "outputs": [
    {
     "name": "stdout",
     "output_type": "stream",
     "text": [
      "WARNING:tensorflow:From /usr/local/lib/python3.5/dist-packages/tensorflow/python/framework/op_def_library.py:263: colocate_with (from tensorflow.python.framework.ops) is deprecated and will be removed in a future version.\n",
      "Instructions for updating:\n",
      "Colocations handled automatically by placer.\n",
      "WARNING:tensorflow:From /usr/local/lib/python3.5/dist-packages/keras/backend/tensorflow_backend.py:3733: calling dropout (from tensorflow.python.ops.nn_ops) with keep_prob is deprecated and will be removed in a future version.\n",
      "Instructions for updating:\n",
      "Please use `rate` instead of `keep_prob`. Rate should be set to `rate = 1 - keep_prob`.\n",
      "Model: \"sequential_1\"\n",
      "_________________________________________________________________\n",
      "Layer (type)                 Output Shape              Param #   \n",
      "=================================================================\n",
      "conv2d_1 (Conv2D)            (None, 7, 7, 32)          2048      \n",
      "_________________________________________________________________\n",
      "conv2d_2 (Conv2D)            (None, 5, 5, 32)          9248      \n",
      "_________________________________________________________________\n",
      "max_pooling2d_1 (MaxPooling2 (None, 2, 2, 32)          0         \n",
      "_________________________________________________________________\n",
      "dropout_1 (Dropout)          (None, 2, 2, 32)          0         \n",
      "_________________________________________________________________\n",
      "flatten_1 (Flatten)          (None, 128)               0         \n",
      "_________________________________________________________________\n",
      "dense_1 (Dense)              (None, 64)                8256      \n",
      "_________________________________________________________________\n",
      "dropout_2 (Dropout)          (None, 64)                0         \n",
      "_________________________________________________________________\n",
      "dense_2 (Dense)              (None, 6)                 390       \n",
      "=================================================================\n",
      "Total params: 19,942\n",
      "Trainable params: 19,942\n",
      "Non-trainable params: 0\n",
      "_________________________________________________________________\n"
     ]
    }
   ],
   "source": [
    "model = Sequential()\n",
    "model.add(Conv2D(32, kernel_size=(3, 3),\n",
    "                 activation='relu',\n",
    "                 input_shape=(tile_size,tile_size,7*len(tiles['028012']))))\n",
    "model.add(Conv2D(32, (3, 3), activation='relu'))\n",
    "model.add(MaxPooling2D(pool_size=(2, 2)))\n",
    "model.add(Dropout(0.2))\n",
    "model.add(Flatten())\n",
    "model.add(Dense(64, activation='relu'))\n",
    "model.add(Dropout(0.2))\n",
    "model.add(Dense(class_count, activation='softmax'))\n",
    "\n",
    "model.summary()\n",
    "\n",
    "model.compile(loss=keras.losses.categorical_crossentropy,\n",
    "              optimizer=keras.optimizers.Adadelta(),\n",
    "              metrics=['accuracy'])"
   ]
  },
  {
   "cell_type": "markdown",
   "metadata": {},
   "source": [
    "#### This makes the RCNN model"
   ]
  },
  {
   "cell_type": "code",
   "execution_count": 18,
   "metadata": {},
   "outputs": [
    {
     "name": "stdout",
     "output_type": "stream",
     "text": [
      "WARNING:tensorflow:From /usr/local/lib/python3.5/dist-packages/tensorflow/python/framework/op_def_library.py:263: colocate_with (from tensorflow.python.framework.ops) is deprecated and will be removed in a future version.\n",
      "Instructions for updating:\n",
      "Colocations handled automatically by placer.\n",
      "Model: \"model_1\"\n",
      "_________________________________________________________________\n",
      "Layer (type)                 Output Shape              Param #   \n",
      "=================================================================\n",
      "tile_input (InputLayer)      (None, 5, 9, 9, 7)        0         \n",
      "_________________________________________________________________\n",
      "conv_lst_m2d_1 (ConvLSTM2D)  (None, 5, 7, 7, 64)       163840    \n",
      "_________________________________________________________________\n",
      "conv_lst_m2d_2 (ConvLSTM2D)  (None, 5, 5, 64)          295168    \n",
      "_________________________________________________________________\n",
      "max_pooling2d_1 (MaxPooling2 (None, 3, 3, 64)          0         \n",
      "_________________________________________________________________\n",
      "flatten_1 (Flatten)          (None, 576)               0         \n",
      "_________________________________________________________________\n",
      "dense_1 (Dense)              (None, 64)                36928     \n",
      "_________________________________________________________________\n",
      "landcover (Dense)            (None, 6)                 390       \n",
      "=================================================================\n",
      "Total params: 496,326\n",
      "Trainable params: 496,326\n",
      "Non-trainable params: 0\n",
      "_________________________________________________________________\n"
     ]
    }
   ],
   "source": [
    "model = make_MLT_dense((len(tiles['028012']),7),(len(tiles['028012']),tile_size,tile_size,7), class_count)\n",
    "model.summary()\n",
    "model.compile(optimizer=Adam(), loss={'landcover':'categorical_crossentropy'}, metrics={'landcover':['accuracy']}, loss_weights={\"landcover\":1})"
   ]
  },
  {
   "cell_type": "markdown",
   "metadata": {},
   "source": [
    "train the model in a loop to see impact of training sample count"
   ]
  },
  {
   "cell_type": "code",
   "execution_count": 19,
   "metadata": {},
   "outputs": [],
   "source": [
    "tiles = {}\n",
    "landsat_datasets = {}\n",
    "tiles['028012'] = ['20110103', '20110308', '20110730', '20110831', '20111103']\n",
    "tiles['029011'] = ['20110103', '20110308', '20110730', '20110831', '20111018']\n",
    "tiles['028011'] = ['20110103', '20110308', '20110831', '20111018', '20111103']\n",
    "\n",
    "# 2000 tiles\n",
    "#tiles['028012'] = ['20000105', '20000410', '20000816', '20001003', '20001019']\n",
    "#tiles['029011'] = ['20000222', '20000410', '20000816', '20001003', '20001019']\n",
    "#tiles['028011'] = ['20000121', '20000410', '20000512', '20000816', '20001019']\n",
    "\n",
    "for tile_number, dates in tiles.items():\n",
    "    tile_datasets = []\n",
    "    l8_image_paths = []\n",
    "    for date in dates:\n",
    "        l8_image_paths.append('/deep_data/recurrent_data/tile{}/combined/combined{}.tif'.format(tile_number, date))\n",
    "    for fp in l8_image_paths:\n",
    "        tile_datasets.append(rasterio.open(fp))\n",
    "    landsat_datasets[tile_number] = tile_datasets\n",
    "    \n",
    "tile_gen = rnn_tiles.rnn_tile_gen(landsat_datasets, lc_labels, canopy_labels, tile_size, class_count)"
   ]
  },
  {
   "cell_type": "code",
   "execution_count": 45,
   "metadata": {},
   "outputs": [],
   "source": [
    "tiles = {}\n",
    "landsat_datasets = {}\n",
    "# tiles['028012'] = ['20110103', '20110308', '20110730', '20110831', '20111103']\n",
    "# tiles['029011'] = ['20110103', '20110308', '20110730', '20110831', '20111018']\n",
    "# tiles['028011'] = ['20110103', '20110308', '20110831', '20111018', '20111103']\n",
    "\n",
    "# 2000 tiles\n",
    "tiles['028012'] = ['20000105', '20000410', '20000816', '20001003', '20001019']\n",
    "tiles['029011'] = ['20000222', '20000410', '20000816', '20001003', '20001019']\n",
    "tiles['028011'] = ['20000121', '20000410', '20000512', '20000816', '20001019']\n",
    "\n",
    "for tile_number, dates in tiles.items():\n",
    "    tile_datasets = []\n",
    "    l8_image_paths = []\n",
    "    for date in dates:\n",
    "        l8_image_paths.append('/deep_data/recurrent_data/tile{}/combined/combined{}.tif'.format(tile_number, date))\n",
    "    for fp in l8_image_paths:\n",
    "        tile_datasets.append(rasterio.open(fp))\n",
    "    landsat_datasets[tile_number] = tile_datasets\n",
    "    \n",
    "tile_gen2000 = rnn_tiles.rnn_tile_gen(landsat_datasets, lc_labels, canopy_labels, tile_size, class_count)"
   ]
  },
  {
   "cell_type": "code",
   "execution_count": 46,
   "metadata": {},
   "outputs": [],
   "source": [
    "val_gdf2000 = gpd.read_file('../shapefiles/test1999_buffered_points140520_val_subset.shp')\n",
    "\n",
    "val_px2000 = []\n",
    "val2000_labels = []\n",
    "\n",
    "per_class_count = [0] * 6\n",
    "total_per_class_count = [0] * 6\n",
    "\n",
    "for index, row in val_gdf2000.iterrows():\n",
    "    if not row['reject']:\n",
    "        total_per_class_count[int(row['manual_val'])] = total_per_class_count[int(row['manual_val'])] + 1\n",
    "        if per_class_count[int(row['manual_val'])] < 100:\n",
    "            per_class_count[int(row['manual_val'])] = per_class_count[int(row['manual_val'])] + 1\n",
    "            val_px2000.append(((row['row'], row['col']), row['tile_name'], row['manual_val']))\n",
    "            val2000_labels.append(int(row['manual_val']))"
   ]
  },
  {
   "cell_type": "code",
   "execution_count": 48,
   "metadata": {},
   "outputs": [
    {
     "name": "stdout",
     "output_type": "stream",
     "text": [
      "10\n",
      "0.7757142867360797\n",
      "0.6866666666666666\n",
      "20\n",
      "0.8914285664047513\n",
      "0.815\n",
      "40\n",
      "0.8957142787320274\n",
      "0.7083333333333334\n",
      "80\n",
      "0.947142847946712\n",
      "0.7616666666666667\n",
      "100\n",
      "0.9485714201416288\n",
      "0.8583333333333333\n",
      "200\n",
      "0.95714285331113\n",
      "0.835\n",
      "300\n",
      "0.9557142789874759\n",
      "0.8583333333333333\n",
      "400\n",
      "0.9628571378333228\n",
      "0.8666666666666667\n",
      "500\n",
      "0.9685714223555156\n",
      "0.8683333333333333\n",
      "600\n",
      "0.9614285635096687\n",
      "0.8833333333333333\n",
      "700\n",
      "0.9685714223555156\n",
      "0.865\n",
      "800\n",
      "0.9757142790726253\n",
      "0.84\n",
      "900\n",
      "0.9728571389402662\n",
      "0.8916666666666667\n",
      "1000\n",
      "0.9728571346827916\n",
      "0.845\n",
      "1100\n",
      "0.975714276943888\n",
      "0.865\n",
      "1200\n",
      "0.9728571368115289\n",
      "0.8716666666666667\n",
      "1300\n",
      "0.9742857090064457\n",
      "0.8\n",
      "1400\n",
      "0.9728571431977409\n",
      "0.86\n",
      "1500\n",
      "0.9671428544180733\n",
      "0.8583333333333333\n"
     ]
    },
    {
     "data": {
      "text/plain": [
       "(0.5, 1)"
      ]
     },
     "execution_count": 48,
     "metadata": {},
     "output_type": "execute_result"
    },
    {
     "data": {
      "image/png": "[encoded data removed]",
      "text/plain": [
       "<Figure size 432x288 with 1 Axes>"
      ]
     },
     "metadata": {
      "needs_background": "light"
     },
     "output_type": "display_data"
    }
   ],
   "source": [
    "accuracies = []\n",
    "val_accuracies = []\n",
    "train_counts = [10, 20, 40, 80, 100, 200, 300, 400, 500, 600, 700, 800, 900, 1000, 1100, 1200, 1300, 1400, 1500]\n",
    "epochs = 50\n",
    "steps_division_factor = 1\n",
    "\n",
    "for train_count in train_counts:\n",
    "    print(train_count)\n",
    "\n",
    "    model = make_MLT_dense((len(tiles['028012']),7),(len(tiles['028012']),tile_size,tile_size,7), class_count)\n",
    "    model.compile(optimizer=Adam(), loss={'landcover':'categorical_crossentropy'}, metrics={'landcover':['accuracy']}, loss_weights={\"landcover\":1})\n",
    "\n",
    "    history = model.fit_generator(generator=tile_gen.tile_generator(train_px[:train_count*6], batch_size, flatten=True, canopy=True), \n",
    "                steps_per_epoch=len(train_px[:train_count*6]) // batch_size // steps_division_factor, epochs=epochs, verbose=False,\n",
    "                validation_data=tile_gen.tile_generator(val_px, batch_size, flatten=True, canopy=True),\n",
    "                validation_steps=len(val_px) // batch_size) \n",
    "\n",
    "    accuracies.append(max(history.history['val_acc']))\n",
    "    print(max(history.history['val_acc']))\n",
    "    \n",
    "    predictions = model.predict_generator(generator = tile_gen2000.tile_generator(val_px2000, batch_size=40, flatten=True, canopy=True), steps=len(val_px2000) //40, verbose=False)\n",
    "    pred_index = np.argmax(predictions, axis=-1)\n",
    "    val_acc = np.sum(pred_index == np.array(val2000_labels))/len(val2000_labels)\n",
    "    print(val_acc)\n",
    "    val_accuracies.append(val_acc)\n",
    "\n",
    "#keras.backend.clear_session()\n",
    "\n",
    "plt.plot(train_counts, accuracies)\n",
    "plt.ylim(.5,1)"
   ]
  },
  {
   "cell_type": "code",
   "execution_count": 49,
   "metadata": {},
   "outputs": [
    {
     "data": {
      "text/plain": [
       "(0.5, 1)"
      ]
     },
     "execution_count": 49,
     "metadata": {},
     "output_type": "execute_result"
    },
    {
     "data": {
      "image/png": "[encoded data removed]",
      "text/plain": [
       "<Figure size 432x288 with 1 Axes>"
      ]
     },
     "metadata": {
      "needs_background": "light"
     },
     "output_type": "display_data"
    }
   ],
   "source": [
    "plt.plot(train_counts, accuracies)\n",
    "plt.plot(train_counts, val_accuracies)\n",
    "plt.ylim(.5,1)"
   ]
  },
  {
   "cell_type": "code",
   "execution_count": 42,
   "metadata": {},
   "outputs": [
    {
     "name": "stdout",
     "output_type": "stream",
     "text": [
      "5\n",
      "0.9685714287417275\n",
      "0.8866666666666667\n",
      "7\n",
      "0.9699999945504325\n",
      "0.895\n",
      "9\n",
      "0.9685714244842529\n",
      "0.9033333333333333\n",
      "11\n",
      "0.9728571368115289\n",
      "0.9066666666666666\n",
      "13\n",
      "0.974285711135183\n",
      "0.8533333333333334\n"
     ]
    },
    {
     "data": {
      "text/plain": [
       "(0.5, 1)"
      ]
     },
     "execution_count": 42,
     "metadata": {},
     "output_type": "execute_result"
    },
    {
     "data": {
      "image/png": "[encoded data removed]",
      "text/plain": [
       "<Figure size 432x288 with 1 Axes>"
      ]
     },
     "metadata": {
      "needs_background": "light"
     },
     "output_type": "display_data"
    }
   ],
   "source": [
    "accuracies = []\n",
    "val_accuracies = []\n",
    "tile_size_list = [5,7,9,11,13]\n",
    "epochs = 50\n",
    "steps_division_factor = 10\n",
    "\n",
    "for tile_size in tile_size_list:\n",
    "    print(tile_size)\n",
    "    tiles = {}\n",
    "    landsat_datasets = {}\n",
    "    tiles['028012'] = ['20110103', '20110308', '20110730', '20110831', '20111103']\n",
    "    tiles['029011'] = ['20110103', '20110308', '20110730', '20110831', '20111018']\n",
    "    tiles['028011'] = ['20110103', '20110308', '20110831', '20111018', '20111103']\n",
    "\n",
    "    for tile_number, dates in tiles.items():\n",
    "        tile_datasets = []\n",
    "        l8_image_paths = []\n",
    "        for date in dates:\n",
    "            l8_image_paths.append('/deep_data/recurrent_data/tile{}/combined/combined{}.tif'.format(tile_number, date))\n",
    "        for fp in l8_image_paths:\n",
    "            tile_datasets.append(rasterio.open(fp))\n",
    "        landsat_datasets[tile_number] = tile_datasets\n",
    "\n",
    "    tile_gen = rnn_tiles.rnn_tile_gen(landsat_datasets, lc_labels, canopy_labels, tile_size, class_count)\n",
    "    \n",
    "    tiles = {}\n",
    "    landsat_datasets = {}\n",
    "\n",
    "    # 2000 tiles\n",
    "    tiles['028012'] = ['20000105', '20000410', '20000816', '20001003', '20001019']\n",
    "    tiles['029011'] = ['20000222', '20000410', '20000816', '20001003', '20001019']\n",
    "    tiles['028011'] = ['20000121', '20000410', '20000512', '20000816', '20001019']\n",
    "\n",
    "    for tile_number, dates in tiles.items():\n",
    "        tile_datasets = []\n",
    "        l8_image_paths = []\n",
    "        for date in dates:\n",
    "            l8_image_paths.append('/deep_data/recurrent_data/tile{}/combined/combined{}.tif'.format(tile_number, date))\n",
    "        for fp in l8_image_paths:\n",
    "            tile_datasets.append(rasterio.open(fp))\n",
    "        landsat_datasets[tile_number] = tile_datasets\n",
    "\n",
    "    tile_gen2000 = rnn_tiles.rnn_tile_gen(landsat_datasets, lc_labels, canopy_labels, tile_size, class_count)\n",
    "\n",
    "    model = make_MLT_dense((len(tiles['028012']),7),(len(tiles['028012']),tile_size,tile_size,7), class_count)\n",
    "    model.compile(optimizer=Adam(), loss={'landcover':'categorical_crossentropy'}, metrics={'landcover':['accuracy']}, loss_weights={\"landcover\":1})\n",
    "\n",
    "    history = model.fit_generator(generator=tile_gen.tile_generator(train_px, batch_size, flatten=True, canopy=True), \n",
    "                steps_per_epoch=len(train_px) // batch_size // steps_division_factor, epochs=epochs, verbose=False,\n",
    "                validation_data=tile_gen.tile_generator(val_px, batch_size, flatten=True, canopy=True),\n",
    "                validation_steps=len(val_px) // batch_size) \n",
    "\n",
    "    accuracies.append(max(history.history['val_acc']))\n",
    "    print(max(history.history['val_acc']))\n",
    "    \n",
    "    predictions = model.predict_generator(generator = tile_gen2000.tile_generator(val_px2000, batch_size=40, flatten=True, canopy=True), steps=len(val_px2000) //40, verbose=False)\n",
    "    pred_index = np.argmax(predictions, axis=-1)\n",
    "    val_acc = np.sum(pred_index == np.array(val2000_labels))/len(val2000_labels)\n",
    "    print(val_acc)\n",
    "    val_accuracies.append(val_acc)\n",
    "\n",
    "#keras.backend.clear_session()\n",
    "\n",
    "plt.plot(tile_size_list, accuracies)\n",
    "plt.plot(tile_size_list, val_accuracies)\n",
    "plt.ylim(.5,1)"
   ]
  },
  {
   "cell_type": "code",
   "execution_count": null,
   "metadata": {},
   "outputs": [],
   "source": [
    "tils size vs acc\n",
    "5\n",
    "0.9685714287417275\n",
    "0.8866666666666667\n",
    "7\n",
    "0.9699999945504325\n",
    "0.895\n",
    "9\n",
    "0.9685714244842529\n",
    "0.9033333333333333\n",
    "11\n",
    "0.9728571368115289\n",
    "0.9066666666666666\n",
    "13\n",
    "0.974285711135183\n",
    "0.8533333333333334"
   ]
  },
  {
   "cell_type": "markdown",
   "metadata": {},
   "source": [
    "#### Train the Model"
   ]
  },
  {
   "cell_type": "code",
   "execution_count": 17,
   "metadata": {},
   "outputs": [],
   "source": [
    "checkpoint = ModelCheckpoint(filepath, monitor='val_acc', verbose=1, save_best_only=True, mode='max')\n",
    "callbacks_list = [checkpoint]\n",
    "tile_gen = rnn_tiles.rnn_tile_gen(landsat_datasets, lc_labels, canopy_labels, tile_size, class_count)"
   ]
  },
  {
   "cell_type": "code",
   "execution_count": 18,
   "metadata": {},
   "outputs": [],
   "source": [
    "steps_division_factor = 2"
   ]
  },
  {
   "cell_type": "code",
   "execution_count": 19,
   "metadata": {
    "scrolled": true
   },
   "outputs": [
    {
     "name": "stderr",
     "output_type": "stream",
     "text": [
      "COMET WARNING: Set model graph by 'keras' ignored; already called. Future attempts are silently ignored.\n"
     ]
    },
    {
     "name": "stdout",
     "output_type": "stream",
     "text": [
      "Epoch 1/60\n",
      " 1/36 [..............................] - ETA: 36s - loss: 2.5278 - acc: 0.2000"
     ]
    },
    {
     "name": "stderr",
     "output_type": "stream",
     "text": [
      "COMET INFO: Ignoring automatic log_metric('batch_size') because 'keras:batch_size' is in COMET_LOGGING_METRICS_IGNORE\n",
      "COMET INFO: Ignoring automatic log_metric('batch_batch') because 'keras:batch_batch' is in COMET_LOGGING_METRICS_IGNORE\n"
     ]
    },
    {
     "ename": "KeyError",
     "evalue": "0",
     "output_type": "error",
     "traceback": [
      "\u001b[0;31m---------------------------------------------------------------------------\u001b[0m",
      "\u001b[0;31mKeyError\u001b[0m                                  Traceback (most recent call last)",
      "\u001b[0;32m<ipython-input-19-8b1405da3af7>\u001b[0m in \u001b[0;36m<module>\u001b[0;34m\u001b[0m\n\u001b[1;32m      8\u001b[0m                 \u001b[0mvalidation_data\u001b[0m\u001b[0;34m=\u001b[0m\u001b[0mtile_gen\u001b[0m\u001b[0;34m.\u001b[0m\u001b[0mtile_generator\u001b[0m\u001b[0;34m(\u001b[0m\u001b[0mval_px\u001b[0m\u001b[0;34m,\u001b[0m \u001b[0mbatch_size\u001b[0m\u001b[0;34m,\u001b[0m \u001b[0mflatten\u001b[0m\u001b[0;34m=\u001b[0m\u001b[0;32mTrue\u001b[0m\u001b[0;34m,\u001b[0m \u001b[0mcanopy\u001b[0m\u001b[0;34m=\u001b[0m\u001b[0;32mFalse\u001b[0m\u001b[0;34m)\u001b[0m\u001b[0;34m,\u001b[0m\u001b[0;34m\u001b[0m\u001b[0m\n\u001b[1;32m      9\u001b[0m                 \u001b[0mvalidation_steps\u001b[0m\u001b[0;34m=\u001b[0m\u001b[0mlen\u001b[0m\u001b[0;34m(\u001b[0m\u001b[0mval_px\u001b[0m\u001b[0;34m)\u001b[0m \u001b[0;34m//\u001b[0m \u001b[0mbatch_size\u001b[0m\u001b[0;34m,\u001b[0m\u001b[0;34m\u001b[0m\u001b[0m\n\u001b[0;32m---> 10\u001b[0;31m                 callbacks=callbacks_list) \n\u001b[0m\u001b[1;32m     11\u001b[0m \u001b[0;34m\u001b[0m\u001b[0m\n\u001b[1;32m     12\u001b[0m \u001b[0mtrain_time_stop\u001b[0m \u001b[0;34m=\u001b[0m \u001b[0mdatetime\u001b[0m\u001b[0;34m.\u001b[0m\u001b[0mdatetime\u001b[0m\u001b[0;34m.\u001b[0m\u001b[0mnow\u001b[0m\u001b[0;34m(\u001b[0m\u001b[0;34m)\u001b[0m\u001b[0;34m\u001b[0m\u001b[0m\n",
      "\u001b[0;32m/usr/local/lib/python3.5/dist-packages/comet_ml/monkey_patching.py\u001b[0m in \u001b[0;36mwrapper\u001b[0;34m(*args, **kwargs)\u001b[0m\n\u001b[1;32m    290\u001b[0m                     )\n\u001b[1;32m    291\u001b[0m \u001b[0;34m\u001b[0m\u001b[0m\n\u001b[0;32m--> 292\u001b[0;31m         \u001b[0mreturn_value\u001b[0m \u001b[0;34m=\u001b[0m \u001b[0moriginal\u001b[0m\u001b[0;34m(\u001b[0m\u001b[0;34m*\u001b[0m\u001b[0margs\u001b[0m\u001b[0;34m,\u001b[0m \u001b[0;34m**\u001b[0m\u001b[0mkwargs\u001b[0m\u001b[0;34m)\u001b[0m\u001b[0;34m\u001b[0m\u001b[0m\n\u001b[0m\u001b[1;32m    293\u001b[0m \u001b[0;34m\u001b[0m\u001b[0m\n\u001b[1;32m    294\u001b[0m         \u001b[0;31m# Call after callbacks once we have the return value\u001b[0m\u001b[0;34m\u001b[0m\u001b[0;34m\u001b[0m\u001b[0m\n",
      "\u001b[0;32m/usr/local/lib/python3.5/dist-packages/keras/legacy/interfaces.py\u001b[0m in \u001b[0;36mwrapper\u001b[0;34m(*args, **kwargs)\u001b[0m\n\u001b[1;32m     89\u001b[0m                 warnings.warn('Update your `' + object_name + '` call to the ' +\n\u001b[1;32m     90\u001b[0m                               'Keras 2 API: ' + signature, stacklevel=2)\n\u001b[0;32m---> 91\u001b[0;31m             \u001b[0;32mreturn\u001b[0m \u001b[0mfunc\u001b[0m\u001b[0;34m(\u001b[0m\u001b[0;34m*\u001b[0m\u001b[0margs\u001b[0m\u001b[0;34m,\u001b[0m \u001b[0;34m**\u001b[0m\u001b[0mkwargs\u001b[0m\u001b[0;34m)\u001b[0m\u001b[0;34m\u001b[0m\u001b[0m\n\u001b[0m\u001b[1;32m     92\u001b[0m         \u001b[0mwrapper\u001b[0m\u001b[0;34m.\u001b[0m\u001b[0m_original_function\u001b[0m \u001b[0;34m=\u001b[0m \u001b[0mfunc\u001b[0m\u001b[0;34m\u001b[0m\u001b[0m\n\u001b[1;32m     93\u001b[0m         \u001b[0;32mreturn\u001b[0m \u001b[0mwrapper\u001b[0m\u001b[0;34m\u001b[0m\u001b[0m\n",
      "\u001b[0;32m/usr/local/lib/python3.5/dist-packages/keras/engine/training.py\u001b[0m in \u001b[0;36mfit_generator\u001b[0;34m(self, generator, steps_per_epoch, epochs, verbose, callbacks, validation_data, validation_steps, validation_freq, class_weight, max_queue_size, workers, use_multiprocessing, shuffle, initial_epoch)\u001b[0m\n\u001b[1;32m   1656\u001b[0m             \u001b[0muse_multiprocessing\u001b[0m\u001b[0;34m=\u001b[0m\u001b[0muse_multiprocessing\u001b[0m\u001b[0;34m,\u001b[0m\u001b[0;34m\u001b[0m\u001b[0m\n\u001b[1;32m   1657\u001b[0m             \u001b[0mshuffle\u001b[0m\u001b[0;34m=\u001b[0m\u001b[0mshuffle\u001b[0m\u001b[0;34m,\u001b[0m\u001b[0;34m\u001b[0m\u001b[0m\n\u001b[0;32m-> 1658\u001b[0;31m             initial_epoch=initial_epoch)\n\u001b[0m\u001b[1;32m   1659\u001b[0m \u001b[0;34m\u001b[0m\u001b[0m\n\u001b[1;32m   1660\u001b[0m     \u001b[0;34m@\u001b[0m\u001b[0minterfaces\u001b[0m\u001b[0;34m.\u001b[0m\u001b[0mlegacy_generator_methods_support\u001b[0m\u001b[0;34m\u001b[0m\u001b[0m\n",
      "\u001b[0;32m/usr/local/lib/python3.5/dist-packages/keras/engine/training_generator.py\u001b[0m in \u001b[0;36mfit_generator\u001b[0;34m(model, generator, steps_per_epoch, epochs, verbose, callbacks, validation_data, validation_steps, validation_freq, class_weight, max_queue_size, workers, use_multiprocessing, shuffle, initial_epoch)\u001b[0m\n\u001b[1;32m    179\u001b[0m             \u001b[0mbatch_index\u001b[0m \u001b[0;34m=\u001b[0m \u001b[0;36m0\u001b[0m\u001b[0;34m\u001b[0m\u001b[0m\n\u001b[1;32m    180\u001b[0m             \u001b[0;32mwhile\u001b[0m \u001b[0msteps_done\u001b[0m \u001b[0;34m<\u001b[0m \u001b[0msteps_per_epoch\u001b[0m\u001b[0;34m:\u001b[0m\u001b[0;34m\u001b[0m\u001b[0m\n\u001b[0;32m--> 181\u001b[0;31m                 \u001b[0mgenerator_output\u001b[0m \u001b[0;34m=\u001b[0m \u001b[0mnext\u001b[0m\u001b[0;34m(\u001b[0m\u001b[0moutput_generator\u001b[0m\u001b[0;34m)\u001b[0m\u001b[0;34m\u001b[0m\u001b[0m\n\u001b[0m\u001b[1;32m    182\u001b[0m \u001b[0;34m\u001b[0m\u001b[0m\n\u001b[1;32m    183\u001b[0m                 \u001b[0;32mif\u001b[0m \u001b[0;32mnot\u001b[0m \u001b[0mhasattr\u001b[0m\u001b[0;34m(\u001b[0m\u001b[0mgenerator_output\u001b[0m\u001b[0;34m,\u001b[0m \u001b[0;34m'__len__'\u001b[0m\u001b[0;34m)\u001b[0m\u001b[0;34m:\u001b[0m\u001b[0;34m\u001b[0m\u001b[0m\n",
      "\u001b[0;32m/usr/local/lib/python3.5/dist-packages/keras/utils/data_utils.py\u001b[0m in \u001b[0;36mget\u001b[0;34m(self)\u001b[0m\n\u001b[1;32m    731\u001b[0m                     \u001b[0;34m\"`use_multiprocessing=False, workers > 1`.\"\u001b[0m\u001b[0;34m\u001b[0m\u001b[0m\n\u001b[1;32m    732\u001b[0m                     \"For more information see issue #1638.\")\n\u001b[0;32m--> 733\u001b[0;31m             \u001b[0msix\u001b[0m\u001b[0;34m.\u001b[0m\u001b[0mreraise\u001b[0m\u001b[0;34m(\u001b[0m\u001b[0;34m*\u001b[0m\u001b[0msys\u001b[0m\u001b[0;34m.\u001b[0m\u001b[0mexc_info\u001b[0m\u001b[0;34m(\u001b[0m\u001b[0;34m)\u001b[0m\u001b[0;34m)\u001b[0m\u001b[0;34m\u001b[0m\u001b[0m\n\u001b[0m",
      "\u001b[0;32m/usr/local/lib/python3.5/dist-packages/six.py\u001b[0m in \u001b[0;36mreraise\u001b[0;34m(tp, value, tb)\u001b[0m\n\u001b[1;32m    691\u001b[0m             \u001b[0;32mif\u001b[0m \u001b[0mvalue\u001b[0m\u001b[0;34m.\u001b[0m\u001b[0m__traceback__\u001b[0m \u001b[0;32mis\u001b[0m \u001b[0;32mnot\u001b[0m \u001b[0mtb\u001b[0m\u001b[0;34m:\u001b[0m\u001b[0;34m\u001b[0m\u001b[0m\n\u001b[1;32m    692\u001b[0m                 \u001b[0;32mraise\u001b[0m \u001b[0mvalue\u001b[0m\u001b[0;34m.\u001b[0m\u001b[0mwith_traceback\u001b[0m\u001b[0;34m(\u001b[0m\u001b[0mtb\u001b[0m\u001b[0;34m)\u001b[0m\u001b[0;34m\u001b[0m\u001b[0m\n\u001b[0;32m--> 693\u001b[0;31m             \u001b[0;32mraise\u001b[0m \u001b[0mvalue\u001b[0m\u001b[0;34m\u001b[0m\u001b[0m\n\u001b[0m\u001b[1;32m    694\u001b[0m         \u001b[0;32mfinally\u001b[0m\u001b[0;34m:\u001b[0m\u001b[0;34m\u001b[0m\u001b[0m\n\u001b[1;32m    695\u001b[0m             \u001b[0mvalue\u001b[0m \u001b[0;34m=\u001b[0m \u001b[0;32mNone\u001b[0m\u001b[0;34m\u001b[0m\u001b[0m\n",
      "\u001b[0;32m/usr/local/lib/python3.5/dist-packages/keras/utils/data_utils.py\u001b[0m in \u001b[0;36mget\u001b[0;34m(self)\u001b[0m\n\u001b[1;32m    700\u001b[0m                 \u001b[0;32mtry\u001b[0m\u001b[0;34m:\u001b[0m\u001b[0;34m\u001b[0m\u001b[0m\n\u001b[1;32m    701\u001b[0m                     \u001b[0mfuture\u001b[0m \u001b[0;34m=\u001b[0m \u001b[0mself\u001b[0m\u001b[0;34m.\u001b[0m\u001b[0mqueue\u001b[0m\u001b[0;34m.\u001b[0m\u001b[0mget\u001b[0m\u001b[0;34m(\u001b[0m\u001b[0mblock\u001b[0m\u001b[0;34m=\u001b[0m\u001b[0;32mTrue\u001b[0m\u001b[0;34m)\u001b[0m\u001b[0;34m\u001b[0m\u001b[0m\n\u001b[0;32m--> 702\u001b[0;31m                     \u001b[0minputs\u001b[0m \u001b[0;34m=\u001b[0m \u001b[0mfuture\u001b[0m\u001b[0;34m.\u001b[0m\u001b[0mget\u001b[0m\u001b[0;34m(\u001b[0m\u001b[0mtimeout\u001b[0m\u001b[0;34m=\u001b[0m\u001b[0;36m30\u001b[0m\u001b[0;34m)\u001b[0m\u001b[0;34m\u001b[0m\u001b[0m\n\u001b[0m\u001b[1;32m    703\u001b[0m                     \u001b[0mself\u001b[0m\u001b[0;34m.\u001b[0m\u001b[0mqueue\u001b[0m\u001b[0;34m.\u001b[0m\u001b[0mtask_done\u001b[0m\u001b[0;34m(\u001b[0m\u001b[0;34m)\u001b[0m\u001b[0;34m\u001b[0m\u001b[0m\n\u001b[1;32m    704\u001b[0m                 \u001b[0;32mexcept\u001b[0m \u001b[0mmp\u001b[0m\u001b[0;34m.\u001b[0m\u001b[0mTimeoutError\u001b[0m\u001b[0;34m:\u001b[0m\u001b[0;34m\u001b[0m\u001b[0m\n",
      "\u001b[0;32m/usr/lib/python3.5/multiprocessing/pool.py\u001b[0m in \u001b[0;36mget\u001b[0;34m(self, timeout)\u001b[0m\n\u001b[1;32m    606\u001b[0m             \u001b[0;32mreturn\u001b[0m \u001b[0mself\u001b[0m\u001b[0;34m.\u001b[0m\u001b[0m_value\u001b[0m\u001b[0;34m\u001b[0m\u001b[0m\n\u001b[1;32m    607\u001b[0m         \u001b[0;32melse\u001b[0m\u001b[0;34m:\u001b[0m\u001b[0;34m\u001b[0m\u001b[0m\n\u001b[0;32m--> 608\u001b[0;31m             \u001b[0;32mraise\u001b[0m \u001b[0mself\u001b[0m\u001b[0;34m.\u001b[0m\u001b[0m_value\u001b[0m\u001b[0;34m\u001b[0m\u001b[0m\n\u001b[0m\u001b[1;32m    609\u001b[0m \u001b[0;34m\u001b[0m\u001b[0m\n\u001b[1;32m    610\u001b[0m     \u001b[0;32mdef\u001b[0m \u001b[0m_set\u001b[0m\u001b[0;34m(\u001b[0m\u001b[0mself\u001b[0m\u001b[0;34m,\u001b[0m \u001b[0mi\u001b[0m\u001b[0;34m,\u001b[0m \u001b[0mobj\u001b[0m\u001b[0;34m)\u001b[0m\u001b[0;34m:\u001b[0m\u001b[0;34m\u001b[0m\u001b[0m\n",
      "\u001b[0;32m/usr/lib/python3.5/multiprocessing/pool.py\u001b[0m in \u001b[0;36mworker\u001b[0;34m(inqueue, outqueue, initializer, initargs, maxtasks, wrap_exception)\u001b[0m\n\u001b[1;32m    117\u001b[0m         \u001b[0mjob\u001b[0m\u001b[0;34m,\u001b[0m \u001b[0mi\u001b[0m\u001b[0;34m,\u001b[0m \u001b[0mfunc\u001b[0m\u001b[0;34m,\u001b[0m \u001b[0margs\u001b[0m\u001b[0;34m,\u001b[0m \u001b[0mkwds\u001b[0m \u001b[0;34m=\u001b[0m \u001b[0mtask\u001b[0m\u001b[0;34m\u001b[0m\u001b[0m\n\u001b[1;32m    118\u001b[0m         \u001b[0;32mtry\u001b[0m\u001b[0;34m:\u001b[0m\u001b[0;34m\u001b[0m\u001b[0m\n\u001b[0;32m--> 119\u001b[0;31m             \u001b[0mresult\u001b[0m \u001b[0;34m=\u001b[0m \u001b[0;34m(\u001b[0m\u001b[0;32mTrue\u001b[0m\u001b[0;34m,\u001b[0m \u001b[0mfunc\u001b[0m\u001b[0;34m(\u001b[0m\u001b[0;34m*\u001b[0m\u001b[0margs\u001b[0m\u001b[0;34m,\u001b[0m \u001b[0;34m**\u001b[0m\u001b[0mkwds\u001b[0m\u001b[0;34m)\u001b[0m\u001b[0;34m)\u001b[0m\u001b[0;34m\u001b[0m\u001b[0m\n\u001b[0m\u001b[1;32m    120\u001b[0m         \u001b[0;32mexcept\u001b[0m \u001b[0mException\u001b[0m \u001b[0;32mas\u001b[0m \u001b[0me\u001b[0m\u001b[0;34m:\u001b[0m\u001b[0;34m\u001b[0m\u001b[0m\n\u001b[1;32m    121\u001b[0m             \u001b[0;32mif\u001b[0m \u001b[0mwrap_exception\u001b[0m\u001b[0;34m:\u001b[0m\u001b[0;34m\u001b[0m\u001b[0m\n",
      "\u001b[0;32m/usr/local/lib/python3.5/dist-packages/keras/utils/data_utils.py\u001b[0m in \u001b[0;36mnext_sample\u001b[0;34m(uid)\u001b[0m\n\u001b[1;32m    639\u001b[0m         \u001b[0mThe\u001b[0m \u001b[0mnext\u001b[0m \u001b[0mvalue\u001b[0m \u001b[0mof\u001b[0m \u001b[0mgenerator\u001b[0m\u001b[0;31m \u001b[0m\u001b[0;31m`\u001b[0m\u001b[0muid\u001b[0m\u001b[0;31m`\u001b[0m\u001b[0;34m.\u001b[0m\u001b[0;34m\u001b[0m\u001b[0m\n\u001b[1;32m    640\u001b[0m     \"\"\"\n\u001b[0;32m--> 641\u001b[0;31m     \u001b[0;32mreturn\u001b[0m \u001b[0msix\u001b[0m\u001b[0;34m.\u001b[0m\u001b[0mnext\u001b[0m\u001b[0;34m(\u001b[0m\u001b[0m_SHARED_SEQUENCES\u001b[0m\u001b[0;34m[\u001b[0m\u001b[0muid\u001b[0m\u001b[0;34m]\u001b[0m\u001b[0;34m)\u001b[0m\u001b[0;34m\u001b[0m\u001b[0m\n\u001b[0m\u001b[1;32m    642\u001b[0m \u001b[0;34m\u001b[0m\u001b[0m\n\u001b[1;32m    643\u001b[0m \u001b[0;34m\u001b[0m\u001b[0m\n",
      "\u001b[0;32m/host/Code/florence_mapping/rcnn/rnn_tiles.py\u001b[0m in \u001b[0;36mtile_generator\u001b[0;34m(self, pixel_locations, batch_size, flatten, canopy, normalize)\u001b[0m\n\u001b[1;32m    160\u001b[0m                 \u001b[0;31m#canopy_data = self.canopy_label.read(1, window=Window(canopy_col, canopy_row, 1, 1))\u001b[0m\u001b[0;34m\u001b[0m\u001b[0;34m\u001b[0m\u001b[0m\n\u001b[1;32m    161\u001b[0m \u001b[0;34m\u001b[0m\u001b[0m\n\u001b[0;32m--> 162\u001b[0;31m                 \u001b[0mlc_label\u001b[0m \u001b[0;34m=\u001b[0m \u001b[0mself\u001b[0m\u001b[0;34m.\u001b[0m\u001b[0mone_hot_encode\u001b[0m\u001b[0;34m(\u001b[0m\u001b[0mlc_data\u001b[0m\u001b[0;34m,\u001b[0m \u001b[0;36m1\u001b[0m\u001b[0;34m,\u001b[0m \u001b[0mclass_count\u001b[0m\u001b[0;34m)\u001b[0m\u001b[0;34m\u001b[0m\u001b[0m\n\u001b[0m\u001b[1;32m    163\u001b[0m                 \u001b[0mlc_batch\u001b[0m\u001b[0;34m[\u001b[0m\u001b[0mb\u001b[0m\u001b[0;34m]\u001b[0m \u001b[0;34m=\u001b[0m \u001b[0mlc_label\u001b[0m\u001b[0;34m.\u001b[0m\u001b[0mreshape\u001b[0m\u001b[0;34m(\u001b[0m\u001b[0mclass_count\u001b[0m\u001b[0;34m)\u001b[0m\u001b[0;34m\u001b[0m\u001b[0m\n\u001b[1;32m    164\u001b[0m                 \u001b[0;31m#canopy_batch[b] = canopy_data.reshape(1) / 100\u001b[0m\u001b[0;34m\u001b[0m\u001b[0;34m\u001b[0m\u001b[0m\n",
      "\u001b[0;32m/host/Code/florence_mapping/rcnn/rnn_tiles.py\u001b[0m in \u001b[0;36mone_hot_encode\u001b[0;34m(self, data, tile_size, class_count)\u001b[0m\n\u001b[1;32m    183\u001b[0m         \u001b[0;32mfor\u001b[0m \u001b[0mi\u001b[0m \u001b[0;32min\u001b[0m \u001b[0mrange\u001b[0m\u001b[0;34m(\u001b[0m\u001b[0mtile_size\u001b[0m\u001b[0;34m)\u001b[0m\u001b[0;34m:\u001b[0m\u001b[0;34m\u001b[0m\u001b[0m\n\u001b[1;32m    184\u001b[0m             \u001b[0;32mfor\u001b[0m \u001b[0mj\u001b[0m \u001b[0;32min\u001b[0m \u001b[0mrange\u001b[0m\u001b[0;34m(\u001b[0m\u001b[0mtile_size\u001b[0m\u001b[0;34m)\u001b[0m\u001b[0;34m:\u001b[0m\u001b[0;34m\u001b[0m\u001b[0m\n\u001b[0;32m--> 185\u001b[0;31m                 \u001b[0mlabel_index\u001b[0m \u001b[0;34m=\u001b[0m \u001b[0mutil\u001b[0m\u001b[0;34m.\u001b[0m\u001b[0mclass_to_index\u001b[0m\u001b[0;34m[\u001b[0m\u001b[0mdata\u001b[0m\u001b[0;34m[\u001b[0m\u001b[0mi\u001b[0m\u001b[0;34m]\u001b[0m\u001b[0;34m[\u001b[0m\u001b[0mj\u001b[0m\u001b[0;34m]\u001b[0m\u001b[0;34m]\u001b[0m\u001b[0;34m\u001b[0m\u001b[0m\n\u001b[0m\u001b[1;32m    186\u001b[0m                 \u001b[0mlabel\u001b[0m\u001b[0;34m[\u001b[0m\u001b[0mi\u001b[0m\u001b[0;34m]\u001b[0m\u001b[0;34m[\u001b[0m\u001b[0mj\u001b[0m\u001b[0;34m]\u001b[0m\u001b[0;34m[\u001b[0m\u001b[0mlabel_index\u001b[0m\u001b[0;34m]\u001b[0m \u001b[0;34m=\u001b[0m \u001b[0;36m1\u001b[0m\u001b[0;34m\u001b[0m\u001b[0m\n\u001b[1;32m    187\u001b[0m                 \u001b[0;31m#label[i][j][data] = 1\u001b[0m\u001b[0;34m\u001b[0m\u001b[0;34m\u001b[0m\u001b[0m\n",
      "\u001b[0;31mKeyError\u001b[0m: 0"
     ]
    }
   ],
   "source": [
    "# load model if fine-tuning\n",
    "#model = keras.models.load_model('model_search/rcnn--fullval_keras_tests.hdf5')\n",
    "\n",
    "train_time_start = datetime.datetime.now()\n",
    "\n",
    "history = model.fit_generator(generator=tile_gen.tile_generator(train_px, batch_size, flatten=True, canopy=False), \n",
    "                steps_per_epoch=len(train_px) // batch_size // steps_division_factor, epochs=epochs, verbose=1,\n",
    "                validation_data=tile_gen.tile_generator(val_px, batch_size, flatten=True, canopy=False),\n",
    "                validation_steps=len(val_px) // batch_size,\n",
    "                callbacks=callbacks_list) \n",
    "\n",
    "train_time_stop = datetime.datetime.now()\n",
    "training_time = train_time_stop - train_time_start"
   ]
  },
  {
   "cell_type": "code",
   "execution_count": 28,
   "metadata": {},
   "outputs": [
    {
     "name": "stdout",
     "output_type": "stream",
     "text": [
      "dict_keys(['val_loss', 'acc', 'val_acc', 'loss'])\n"
     ]
    },
    {
     "data": {
      "image/png": "[encoded data removed]",
      "text/plain": [
       "<Figure size 432x288 with 1 Axes>"
      ]
     },
     "metadata": {
      "needs_background": "light"
     },
     "output_type": "display_data"
    },
    {
     "data": {
      "image/png": "[encoded data removed]",
      "text/plain": [
       "<Figure size 432x288 with 1 Axes>"
      ]
     },
     "metadata": {
      "needs_background": "light"
     },
     "output_type": "display_data"
    }
   ],
   "source": [
    "print(history.history.keys())\n",
    "#  \"Accuracy\"\n",
    "plt.plot(history.history['acc'])\n",
    "plt.plot(history.history['val_acc'])\n",
    "plt.title('model accuracy')\n",
    "plt.ylabel('accuracy')\n",
    "plt.xlabel('epoch')\n",
    "plt.legend(['train', 'validation'], loc='upper left')\n",
    "experiment.log_figure(figure=plt, figure_name=\"model_acc\")\n",
    "plt.show()\n",
    "# \"Loss\"\n",
    "plt.plot(history.history['loss'])\n",
    "plt.plot(history.history['val_loss'])\n",
    "plt.title('model loss')\n",
    "plt.ylabel('loss')\n",
    "plt.xlabel('epoch')\n",
    "plt.legend(['train', 'validation'], loc='upper left')\n",
    "experiment.log_figure(figure=plt, figure_name=\"model_loss\")\n",
    "plt.show()"
   ]
  },
  {
   "cell_type": "code",
   "execution_count": null,
   "metadata": {},
   "outputs": [],
   "source": [
    "filepath = filepath.replace('_corrected','')\n",
    "filepath"
   ]
  },
  {
   "cell_type": "code",
   "execution_count": 20,
   "metadata": {},
   "outputs": [],
   "source": [
    "filepath = 'model_search/rcnn--fullval_keras_tests.hdf5'"
   ]
  },
  {
   "cell_type": "code",
   "execution_count": 21,
   "metadata": {},
   "outputs": [
    {
     "name": "stdout",
     "output_type": "stream",
     "text": [
      "WARNING:tensorflow:From /usr/local/lib/python3.5/dist-packages/tensorflow/python/ops/math_ops.py:3066: to_int32 (from tensorflow.python.ops.math_ops) is deprecated and will be removed in a future version.\n",
      "Instructions for updating:\n",
      "Use tf.cast instead.\n"
     ]
    }
   ],
   "source": [
    "model = keras.models.load_model(filepath)"
   ]
  },
  {
   "cell_type": "code",
   "execution_count": 22,
   "metadata": {},
   "outputs": [
    {
     "name": "stdout",
     "output_type": "stream",
     "text": [
      "Model: \"model_1\"\n",
      "_________________________________________________________________\n",
      "Layer (type)                 Output Shape              Param #   \n",
      "=================================================================\n",
      "tile_input (InputLayer)      (None, 5, 9, 9, 7)        0         \n",
      "_________________________________________________________________\n",
      "conv_lst_m2d_1 (ConvLSTM2D)  (None, 5, 7, 7, 64)       163840    \n",
      "_________________________________________________________________\n",
      "conv_lst_m2d_2 (ConvLSTM2D)  (None, 5, 5, 64)          295168    \n",
      "_________________________________________________________________\n",
      "max_pooling2d_1 (MaxPooling2 (None, 3, 3, 64)          0         \n",
      "_________________________________________________________________\n",
      "flatten_1 (Flatten)          (None, 576)               0         \n",
      "_________________________________________________________________\n",
      "dense_1 (Dense)              (None, 64)                36928     \n",
      "_________________________________________________________________\n",
      "landcover (Dense)            (None, 6)                 390       \n",
      "=================================================================\n",
      "Total params: 496,326\n",
      "Trainable params: 496,326\n",
      "Non-trainable params: 0\n",
      "_________________________________________________________________\n"
     ]
    }
   ],
   "source": [
    "model.summary()"
   ]
  },
  {
   "cell_type": "markdown",
   "metadata": {},
   "source": [
    "# Evaluate model"
   ]
  },
  {
   "cell_type": "markdown",
   "metadata": {},
   "source": [
    "#### change evaluation dataset"
   ]
  },
  {
   "cell_type": "code",
   "execution_count": 51,
   "metadata": {},
   "outputs": [],
   "source": [
    "dataset_name = '2000test' # '2010val' '2010test' '2000test' '2000test_corrected'"
   ]
  },
  {
   "cell_type": "code",
   "execution_count": 52,
   "metadata": {},
   "outputs": [],
   "source": [
    "tiles = {}\n",
    "landsat_datasets = {}\n",
    "#tiles['028012'] = ['20110103', '20110308', '20110730', '20110831', '20111103']\n",
    "#tiles['029011'] = ['20110103', '20110308', '20110730', '20110831', '20111018']\n",
    "#tiles['028011'] = ['20110103', '20110308', '20110831', '20111018', '20111103']\n",
    "\n",
    "# tiles['028012'] = ['20110308']\n",
    "# tiles['029011'] = ['20110308']\n",
    "# tiles['028011'] = ['20110308']\n",
    "\n",
    "# 2000 tiles\n",
    "tiles['028012'] = ['20000105', '20000410', '20000816', '20001003', '20001019']\n",
    "tiles['029011'] = ['20000222', '20000410', '20000816', '20001003', '20001019']\n",
    "tiles['028011'] = ['20000121', '20000410', '20000512', '20000816', '20001019']\n",
    "\n",
    "# tiles['028012'] = ['20000410']\n",
    "# tiles['029011'] = ['20000410']\n",
    "# tiles['028011'] = ['20000410']\n",
    "\n",
    "for tile_number, dates in tiles.items():\n",
    "    tile_datasets = []\n",
    "    l8_image_paths = []\n",
    "    for date in dates:\n",
    "        l8_image_paths.append('/deep_data/recurrent_data/tile{}/combined/combined{}.tif'.format(tile_number, date))\n",
    "    for fp in l8_image_paths:\n",
    "        tile_datasets.append(rasterio.open(fp))\n",
    "    landsat_datasets[tile_number] = tile_datasets"
   ]
  },
  {
   "cell_type": "code",
   "execution_count": 55,
   "metadata": {},
   "outputs": [
    {
     "data": {
      "text/plain": [
       "(600, ((1617.0, 3884.0), '028012', 0))"
      ]
     },
     "execution_count": 55,
     "metadata": {},
     "output_type": "execute_result"
    }
   ],
   "source": [
    "#val_gdf = gpd.read_file('../shapefiles/val_buffered_points140520_val.shp')\n",
    "#val_gdf = gpd.read_file('../shapefiles/test_buffered_points140520_val.shp')\n",
    "val_gdf = gpd.read_file('../shapefiles/test1999_buffered_points140520_val_subset.shp')\n",
    "\n",
    "val_px = []\n",
    "val_labels = []\n",
    "\n",
    "per_class_count = [0] * 6\n",
    "total_per_class_count = [0] * 6\n",
    "\n",
    "for index, row in val_gdf.iterrows():\n",
    "    if not row['reject']:\n",
    "        total_per_class_count[int(row['manual_val'])] = total_per_class_count[int(row['manual_val'])] + 1\n",
    "        if per_class_count[int(row['manual_val'])] < 100:\n",
    "            per_class_count[int(row['manual_val'])] = per_class_count[int(row['manual_val'])] + 1\n",
    "            val_px.append(((row['row'], row['col']), row['tile_name'], row['manual_val']))\n",
    "            val_labels.append(int(row['manual_val']))\n",
    "\n",
    "len(val_px), val_px[0]"
   ]
  },
  {
   "cell_type": "code",
   "execution_count": 56,
   "metadata": {},
   "outputs": [
    {
     "data": {
      "text/plain": [
       "([118, 107, 107, 102, 115, 117], [100, 100, 100, 100, 100, 100])"
      ]
     },
     "execution_count": 56,
     "metadata": {},
     "output_type": "execute_result"
    }
   ],
   "source": [
    "total_per_class_count, per_class_count"
   ]
  },
  {
   "cell_type": "code",
   "execution_count": 57,
   "metadata": {},
   "outputs": [],
   "source": [
    "tile_gen = rnn_tiles.rnn_tile_gen(landsat_datasets, lc_labels, canopy_labels, tile_size, class_count)"
   ]
  },
  {
   "cell_type": "code",
   "execution_count": 58,
   "metadata": {},
   "outputs": [
    {
     "name": "stdout",
     "output_type": "stream",
     "text": [
      "15/15 [==============================] - 84s 6s/step\n"
     ]
    }
   ],
   "source": [
    "inference_time_start = datetime.datetime.now()\n",
    "\n",
    "predictions = model.predict_generator(generator = tile_gen.tile_generator(val_px, batch_size=40, flatten=True, canopy=True), steps=len(val_px) //40, verbose=1)\n",
    "\n",
    "inference_time_stop = datetime.datetime.now()\n",
    "inference_time = inference_time_stop - inference_time_start\n",
    "\n",
    "eval_generator = tile_gen.tile_generator(val_px, batch_size=1, flatten=True, canopy=True)"
   ]
  },
  {
   "cell_type": "code",
   "execution_count": 59,
   "metadata": {},
   "outputs": [
    {
     "name": "stdout",
     "output_type": "stream",
     "text": [
      "0.92\n"
     ]
    }
   ],
   "source": [
    "pred_index = np.argmax(predictions, axis=-1)\n",
    "val_acc = np.sum(pred_index == np.array(val_labels))/len(val_labels)\n",
    "print(val_acc)\n",
    "#val_accuracies.append(val_acc)"
   ]
  },
  {
   "cell_type": "code",
   "execution_count": 60,
   "metadata": {},
   "outputs": [
    {
     "data": {
      "text/plain": [
       "(600, 6)"
      ]
     },
     "execution_count": 60,
     "metadata": {},
     "output_type": "execute_result"
    }
   ],
   "source": [
    "predictions.shape"
   ]
  },
  {
   "cell_type": "code",
   "execution_count": 61,
   "metadata": {},
   "outputs": [],
   "source": [
    "lc_predictions = predictions"
   ]
  },
  {
   "cell_type": "code",
   "execution_count": 62,
   "metadata": {},
   "outputs": [
    {
     "data": {
      "text/plain": [
       "array([[9.95e-01, 1.00e-04, 5.96e-04, 1.70e-05, 4.94e-04, 3.97e-03],\n",
       "       [9.84e-01, 3.94e-04, 1.75e-03, 7.20e-05, 1.02e-02, 3.70e-03],\n",
       "       [9.44e-01, 1.00e-03, 6.82e-03, 3.55e-04, 3.09e-02, 1.73e-02],\n",
       "       ...,\n",
       "       [3.29e-04, 7.97e-04, 7.48e-03, 1.71e-01, 4.52e-02, 7.75e-01],\n",
       "       [4.69e-09, 6.97e-09, 9.85e-09, 1.19e-07, 1.30e-07, 1.00e+00],\n",
       "       [5.28e-04, 8.42e-04, 4.31e-04, 1.40e-02, 5.20e-03, 9.79e-01]],\n",
       "      dtype=float32)"
      ]
     },
     "execution_count": 62,
     "metadata": {},
     "output_type": "execute_result"
    }
   ],
   "source": [
    "lc_predictions"
   ]
  },
  {
   "cell_type": "code",
   "execution_count": 44,
   "metadata": {},
   "outputs": [],
   "source": [
    "plt.rcParams['font.size'] = 15"
   ]
  },
  {
   "cell_type": "code",
   "execution_count": 68,
   "metadata": {},
   "outputs": [
    {
     "data": {
      "text/plain": [
       "['sans-serif']"
      ]
     },
     "execution_count": 68,
     "metadata": {},
     "output_type": "execute_result"
    }
   ],
   "source": [
    "import matplotlib\n",
    "matplotlib.rcParams['font.family']"
   ]
  },
  {
   "cell_type": "code",
   "execution_count": 69,
   "metadata": {},
   "outputs": [
    {
     "data": {
      "text/plain": [
       "'/usr/local/lib/python3.5/dist-packages/matplotlib/mpl-data/fonts/ttf/DejaVuSans.ttf'"
      ]
     },
     "execution_count": 69,
     "metadata": {},
     "output_type": "execute_result"
    }
   ],
   "source": [
    "from matplotlib.font_manager import findfont, FontProperties\n",
    "font = findfont(FontProperties(family=['sans-serif']))\n",
    "font"
   ]
  },
  {
   "cell_type": "code",
   "execution_count": null,
   "metadata": {},
   "outputs": [],
   "source": []
  },
  {
   "cell_type": "code",
   "execution_count": 65,
   "metadata": {
    "scrolled": false
   },
   "outputs": [
    {
     "name": "stdout",
     "output_type": "stream",
     "text": [
      "Accuracy is 0.92\n",
      "per_class_acc 0.97\n",
      "per_class_acc 0.96\n",
      "per_class_acc 0.87\n",
      "per_class_acc 0.91\n",
      "per_class_acc 0.93\n",
      "per_class_acc 0.88\n"
     ]
    },
    {
     "data": {
      "image/png": "[encoded data removed]",
      "text/plain": [
       "<Figure size 720x720 with 2 Axes>"
      ]
     },
     "metadata": {
      "needs_background": "light"
     },
     "output_type": "display_data"
    },
    {
     "data": {
      "image/png": "[encoded data removed]",
      "text/plain": [
       "<Figure size 720x720 with 2 Axes>"
      ]
     },
     "metadata": {
      "needs_background": "light"
     },
     "output_type": "display_data"
    }
   ],
   "source": [
    "np.set_printoptions(precision=2)\n",
    "# Plot non-normalized confusion matrix\n",
    "ax, users_acc, prod_acc = util.plot_confusion_matrix(np.array(val_labels).astype(np.int), pred_index.astype(np.int), classes=np.array(list(class_dict)),\n",
    "                      class_dict=class_dict, title=\" \")\n",
    "\n",
    "ax.xaxis.tick_top()\n",
    "ax.xaxis.set_label_position('top') \n",
    "ax.xaxis.labelpad = 20\n",
    "\n",
    "#experiment.log_figure(figure=plt, figure_name=\"unnorm_conf_matrix\" + dataset_name)\n",
    "#cb=ax.colorbar()\n",
    "#cb.remove()\n",
    "plt.savefig('RCNN_1999_unnorm_confusion_updated.png', bbox_inches='tight', dpi=600)\n",
    "# Plot normalized confusion matrix\n",
    "util.plot_confusion_matrix(np.array(val_labels).astype(np.int), pred_index.astype(np.int), classes=np.array(list(class_dict)),\n",
    "                      class_dict=class_dict,\n",
    "                      normalize=True,\n",
    "                          title=\" \")\n",
    "#plt.savefig('RCNN_2000_confusion.png', bbox_inches='tight', dpi=600)\n",
    "#experiment.log_figure(figure=plt, figure_name=\"norm_conf_matrix\" + dataset_name)\n",
    "count = 0\n",
    "per_class_acc = [0] * 6\n",
    "label_index = np.array(val_labels).astype(np.int)\n",
    "for i in range(len(label_index)):\n",
    "    if(np.array(val_labels).astype(np.int)[i] == pred_index[i]):\n",
    "        per_class_acc[int(label_index[i])] = per_class_acc[int(label_index[i])] + 1\n",
    "        count+=1\n",
    "\n",
    "val_accuracy=count/len(label_index)\n",
    "class_acc_dict = {}\n",
    "print(\"Accuracy is\",val_accuracy)\n",
    "# this is producer's accuracy\n",
    "for idx, class_correct in enumerate(per_class_acc):\n",
    "    class_acc_dict[class_dict[idx]] = round(class_correct/(int(len(label_index)/class_count)),4)\n",
    "    print('per_class_acc', class_correct/(per_class_count[idx]))"
   ]
  },
  {
   "cell_type": "markdown",
   "metadata": {},
   "source": [
    "Calculate the accuracy per class\n",
    "Calculate overall accuracy\n",
    "Add training samples\n",
    "add epochs\n",
    "add tile size"
   ]
  },
  {
   "cell_type": "code",
   "execution_count": 81,
   "metadata": {},
   "outputs": [],
   "source": [
    "import pandas as pd\n",
    "import seaborn as sns\n",
    "\n",
    "experiment_df = pd.DataFrame(columns=['exp_name','model_name', 'evaluation_dataset', 'time_steps','train_count','overall_acc', \n",
    "                                      'epochs', 'tile_size', 'training_time', 'inference_time',\n",
    "                                      'water_acc_prod','dev_acc_prod', 'forest_acc_prod', 'cult_acc_prod', 'barren_acc_prod', 'wetland_acc_prod',\n",
    "                                      'water_acc_user','dev_acc_user', 'forest_acc_user', 'cult_acc_user', 'barren_acc_user', 'wetland_acc_user'])   "
   ]
  },
  {
   "cell_type": "code",
   "execution_count": 163,
   "metadata": {},
   "outputs": [],
   "source": [
    "training_time=0"
   ]
  },
  {
   "cell_type": "code",
   "execution_count": 82,
   "metadata": {},
   "outputs": [],
   "source": [
    "experiment_df.loc[len(experiment_df)] = [exp_name, model_name, dataset_name, len(tiles['028012']), len(train_px)/class_count, val_accuracy, \n",
    "                                         epochs, tile_size, training_time, inference_time] + list(np.round(prod_acc,3)) + list(np.round(users_acc,3))\n"
   ]
  },
  {
   "cell_type": "code",
   "execution_count": 83,
   "metadata": {},
   "outputs": [
    {
     "data": {
      "text/html": [
       "<div>\n",
       "<style scoped>\n",
       "    .dataframe tbody tr th:only-of-type {\n",
       "        vertical-align: middle;\n",
       "    }\n",
       "\n",
       "    .dataframe tbody tr th {\n",
       "        vertical-align: top;\n",
       "    }\n",
       "\n",
       "    .dataframe thead th {\n",
       "        text-align: right;\n",
       "    }\n",
       "</style>\n",
       "<table border=\"1\" class=\"dataframe\">\n",
       "  <thead>\n",
       "    <tr style=\"text-align: right;\">\n",
       "      <th></th>\n",
       "      <th>exp_name</th>\n",
       "      <th>model_name</th>\n",
       "      <th>evaluation_dataset</th>\n",
       "      <th>time_steps</th>\n",
       "      <th>train_count</th>\n",
       "      <th>overall_acc</th>\n",
       "      <th>epochs</th>\n",
       "      <th>tile_size</th>\n",
       "      <th>training_time</th>\n",
       "      <th>inference_time</th>\n",
       "      <th>...</th>\n",
       "      <th>forest_acc_prod</th>\n",
       "      <th>cult_acc_prod</th>\n",
       "      <th>barren_acc_prod</th>\n",
       "      <th>wetland_acc_prod</th>\n",
       "      <th>water_acc_user</th>\n",
       "      <th>dev_acc_user</th>\n",
       "      <th>forest_acc_user</th>\n",
       "      <th>cult_acc_user</th>\n",
       "      <th>barren_acc_user</th>\n",
       "      <th>wetland_acc_user</th>\n",
       "    </tr>\n",
       "  </thead>\n",
       "  <tbody>\n",
       "    <tr>\n",
       "      <th>0</th>\n",
       "      <td>fullval_keras_tests_corrected</td>\n",
       "      <td>rcnn_single</td>\n",
       "      <td>2010val</td>\n",
       "      <td>1</td>\n",
       "      <td>1500.0</td>\n",
       "      <td>0.948611</td>\n",
       "      <td>60</td>\n",
       "      <td>9</td>\n",
       "      <td>00:01:22.874808</td>\n",
       "      <td>00:00:00.723998</td>\n",
       "      <td>...</td>\n",
       "      <td>0.95</td>\n",
       "      <td>0.967</td>\n",
       "      <td>0.933</td>\n",
       "      <td>0.933</td>\n",
       "      <td>0.984</td>\n",
       "      <td>0.973</td>\n",
       "      <td>0.991</td>\n",
       "      <td>0.885</td>\n",
       "      <td>0.933</td>\n",
       "      <td>0.933</td>\n",
       "    </tr>\n",
       "  </tbody>\n",
       "</table>\n",
       "<p>1 rows × 22 columns</p>\n",
       "</div>"
      ],
      "text/plain": [
       "                        exp_name   model_name evaluation_dataset time_steps  \\\n",
       "0  fullval_keras_tests_corrected  rcnn_single            2010val          1   \n",
       "\n",
       "   train_count  overall_acc epochs tile_size   training_time  inference_time  \\\n",
       "0       1500.0     0.948611     60         9 00:01:22.874808 00:00:00.723998   \n",
       "\n",
       "   ...  forest_acc_prod  cult_acc_prod  barren_acc_prod  wetland_acc_prod  \\\n",
       "0  ...             0.95          0.967            0.933             0.933   \n",
       "\n",
       "   water_acc_user  dev_acc_user  forest_acc_user  cult_acc_user  \\\n",
       "0           0.984         0.973            0.991          0.885   \n",
       "\n",
       "   barren_acc_user  wetland_acc_user  \n",
       "0            0.933             0.933  \n",
       "\n",
       "[1 rows x 22 columns]"
      ]
     },
     "execution_count": 83,
     "metadata": {},
     "output_type": "execute_result"
    }
   ],
   "source": [
    "experiment_df.tail(5)"
   ]
  },
  {
   "cell_type": "code",
   "execution_count": 84,
   "metadata": {},
   "outputs": [],
   "source": [
    "experiment_df.to_csv('model_search/' + model_name + '-' + exp_name + dataset_name + '.csv')"
   ]
  },
  {
   "cell_type": "code",
   "execution_count": 85,
   "metadata": {},
   "outputs": [
    {
     "name": "stderr",
     "output_type": "stream",
     "text": [
      "/usr/local/lib/python3.5/dist-packages/ipykernel_launcher.py:2: FutureWarning: Sorting because non-concatenation axis is not aligned. A future version\n",
      "of pandas will change to not sort by default.\n",
      "\n",
      "To accept the future behavior, pass 'sort=False'.\n",
      "\n",
      "To retain the current behavior and silence the warning, pass 'sort=True'.\n",
      "\n",
      "  \n"
     ]
    }
   ],
   "source": [
    "all_exps = pd.read_csv('model_search/' + 'all_model_runs.csv')\n",
    "all_exps = pd.concat([all_exps,experiment_df], ignore_index=True)\n",
    "all_exps.to_csv('model_search/' + 'all_model_runs.csv')"
   ]
  },
  {
   "cell_type": "markdown",
   "metadata": {},
   "source": [
    "#### Go back and run all of the different datasets before ending the experiment"
   ]
  },
  {
   "cell_type": "code",
   "execution_count": 86,
   "metadata": {},
   "outputs": [],
   "source": [
    "params = {\n",
    "    \"exp_name\":exp_name,\n",
    "    \"model_name\":model_name,\n",
    "    \"landsat_tiles\":tiles,\n",
    "    \"cnn_tile_size\":tile_size,\n",
    "    \"class_dict\":class_dict,\n",
    "    \"batch_size\":batch_size,\n",
    "    \"steps_division_factor\":steps_division_factor,\n",
    "    \"lc_validation_acc\":val_accuracy\n",
    "}\n",
    "experiment.log_parameters(params)"
   ]
  },
  {
   "cell_type": "code",
   "execution_count": 87,
   "metadata": {},
   "outputs": [
    {
     "name": "stderr",
     "output_type": "stream",
     "text": [
      "COMET INFO: ---------------------------\n",
      "COMET INFO: Comet.ml Experiment Summary\n",
      "COMET INFO: ---------------------------\n",
      "COMET INFO:   Data:\n",
      "COMET INFO:     display_summary_level : 1\n",
      "COMET INFO:     url                   : https://www.comet.ml/clifgray/chronos/0de06c38291849ee87ac449a9574b115\n",
      "COMET INFO:   Metrics [count] (min, max):\n",
      "COMET INFO:     acc [60]                  : (0.5744444452640083, 0.9255555537011888)\n",
      "COMET INFO:     batch_acc [240]           : (0.11999999731779099, 1.0)\n",
      "COMET INFO:     batch_loss [240]          : (0.045803364366292953, 1.8013156652450562)\n",
      "COMET INFO:     epoch_duration [60]       : (1.1967078209854662, 4.404056549072266)\n",
      "COMET INFO:     loss [60]                 : (0.2378175975754857, 1.1459342887004216)\n",
      "COMET INFO:     val_acc [60]              : (0.728571429848671, 0.9342857130936214)\n",
      "COMET INFO:     val_loss [60]             : (0.2176028358350907, 0.7546446004084179)\n",
      "COMET INFO:     validate_batch_acc [180]  : (0.6000000238418579, 1.0)\n",
      "COMET INFO:     validate_batch_loss [180] : (0.04478926584124565, 0.9272185564041138)\n",
      "COMET INFO:   Others [count]:\n",
      "COMET INFO:     trainable_params [3] : 496326\n",
      "COMET INFO:   Parameters:\n",
      "COMET INFO:     Adam_amsgrad          : 1\n",
      "COMET INFO:     Adam_beta_1           : 0.8999999761581421\n",
      "COMET INFO:     Adam_beta_2           : 0.9990000128746033\n",
      "COMET INFO:     Adam_decay            : 1\n",
      "COMET INFO:     Adam_epsilon          : 1e-07\n",
      "COMET INFO:     Adam_lr               : 0.0010000000474974513\n",
      "COMET INFO:     batch_size            : 25\n",
      "COMET INFO:     class_dict            : {0: 'Water', 1: 'Developed', 2: 'Forest', 3: 'Cultivated', 4: 'Barren', 5: 'Wetland'}\n",
      "COMET INFO:     cnn_tile_size         : 9\n",
      "COMET INFO:     epochs                : 60\n",
      "COMET INFO:     exp_name              : fullval_keras_tests_corrected\n",
      "COMET INFO:     landsat_tiles         : {'029011': ['20110308'], '028012': ['20110308'], '028011': ['20110308']}\n",
      "COMET INFO:     lc_validation_acc     : 0.9486111111111111\n",
      "COMET INFO:     model_name            : rcnn_single\n",
      "COMET INFO:     steps                 : 36\n",
      "COMET INFO:     steps_division_factor : 10\n",
      "COMET INFO:   Uploads [count]:\n",
      "COMET INFO:     code                     : 1 (32 KB)\n",
      "COMET INFO:     environment details      : 1\n",
      "COMET INFO:     figures [10]             : 10\n",
      "COMET INFO:     filename                 : 1\n",
      "COMET INFO:     git metadata             : 1\n",
      "COMET INFO:     git-patch (uncompressed) : 1 (378 KB)\n",
      "COMET INFO:     installed packages       : 1\n",
      "COMET INFO:     model graph              : 1\n",
      "COMET INFO:     os packages              : 1\n",
      "COMET INFO: ---------------------------\n",
      "COMET INFO: Uploading stats to Comet before program termination (may take several seconds)\n"
     ]
    }
   ],
   "source": [
    "experiment.end()"
   ]
  },
  {
   "cell_type": "code",
   "execution_count": 88,
   "metadata": {},
   "outputs": [
    {
     "data": {
      "text/plain": [
       "'model_search/rcnn_single--fullval_keras_tests_corrected.hdf5'"
      ]
     },
     "execution_count": 88,
     "metadata": {},
     "output_type": "execute_result"
    }
   ],
   "source": [
    "filepath"
   ]
  },
  {
   "cell_type": "code",
   "execution_count": 46,
   "metadata": {},
   "outputs": [
    {
     "name": "stdout",
     "output_type": "stream",
     "text": [
      "/bin/sh: 1: conda: not found\r\n"
     ]
    }
   ],
   "source": [
    "! conda"
   ]
  },
  {
   "cell_type": "code",
   "execution_count": null,
   "metadata": {},
   "outputs": [],
   "source": []
  }
 ],
 "metadata": {
  "kernelspec": {
   "display_name": "Python 3",
   "language": "python",
   "name": "python3"
  },
  "language_info": {
   "codemirror_mode": {
    "name": "ipython",
    "version": 3
   },
   "file_extension": ".py",
   "mimetype": "text/x-python",
   "name": "python",
   "nbconvert_exporter": "python",
   "pygments_lexer": "ipython3",
   "version": "3.5.2"
  }
 },
 "nbformat": 4,
 "nbformat_minor": 2
}
