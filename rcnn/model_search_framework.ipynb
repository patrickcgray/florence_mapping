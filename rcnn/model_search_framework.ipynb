{
 "cells": [
  {
   "cell_type": "markdown",
   "metadata": {},
   "source": [
    "## LC Model Search Framework"
   ]
  },
  {
   "cell_type": "markdown",
   "metadata": {},
   "source": [
    "* Compare 1 season (summer) and 4 temporal steps\n",
    "* Compare 0 - 1500 training training samples per class in 100 sample increments\n",
    "* CNN component and RNN components in isolation\n",
    "* regular CNN+RNN vs conv2dlstm and RNN vs just conv2dLSTM\n",
    "* Compare to scikit-learn methods using same val and test datasets\n",
    "* Compare best model across time\n",
    "    * if major decrease in accuracy then consider training on both 2010 and 2011 data for initial time step\n",
    "        * consider training on 1999 data to see how it changes the model"
   ]
  },
  {
   "cell_type": "code",
   "execution_count": 3,
   "metadata": {},
   "outputs": [
    {
     "name": "stderr",
     "output_type": "stream",
     "text": [
      "Using TensorFlow backend.\n"
     ]
    }
   ],
   "source": [
    "import comet_ml\n",
    "from comet_ml import Experiment\n",
    "import datetime\n",
    "import rasterio\n",
    "import keras\n",
    "import random\n",
    "from keras import backend as K\n",
    "from keras.callbacks import ModelCheckpoint\n",
    "from keras.models import Sequential\n",
    "from keras.layers import Dense, Dropout, Flatten, Reshape, Bidirectional\n",
    "from keras.layers import Conv2D, Conv3D, MaxPooling2D, MaxPooling3D, ConvLSTM2D, TimeDistributed, UpSampling2D, Concatenate, LSTM, concatenate\n",
    "from keras.layers import Activation, BatchNormalization\n",
    "from keras.optimizers import SGD, Adadelta, Adam\n",
    "from keras import Input\n",
    "from keras import Model\n",
    "import matplotlib.pyplot as plt\n",
    "import geopandas as gpd\n",
    "import os\n",
    "import sys\n",
    "from sklearn.utils import class_weight\n",
    "module_path = os.path.abspath(os.path.join('..'))\n",
    "if module_path not in sys.path:\n",
    "    sys.path.append(module_path)\n",
    "import utilities as util\n",
    "import importlib\n",
    "import rnn_tiles\n",
    "import rnn_pixels\n",
    "import numpy as np"
   ]
  },
  {
   "cell_type": "code",
   "execution_count": 4,
   "metadata": {},
   "outputs": [
    {
     "data": {
      "text/plain": [
       "<module 'utilities' from '/host/Code/florence_mapping/utilities.py'>"
      ]
     },
     "execution_count": 4,
     "metadata": {},
     "output_type": "execute_result"
    }
   ],
   "source": [
    "importlib.reload(rnn_pixels)\n",
    "importlib.reload(rnn_tiles)\n",
    "importlib.reload(util)"
   ]
  },
  {
   "cell_type": "code",
   "execution_count": 62,
   "metadata": {},
   "outputs": [],
   "source": [
    "exp_name = 'initial_keras_tests_trainedvalonly'\n",
    "model_name = 'rcnn_9'"
   ]
  },
  {
   "cell_type": "markdown",
   "metadata": {},
   "source": [
    "Assign your specific GPU so we don't overlap"
   ]
  },
  {
   "cell_type": "code",
   "execution_count": 6,
   "metadata": {},
   "outputs": [],
   "source": [
    "os.environ[\"CUDA_VISIBLE_DEVICES\"]=\"0\";"
   ]
  },
  {
   "cell_type": "markdown",
   "metadata": {},
   "source": [
    "Is that GPU and only that GPU visible?\n",
    "\n",
    "Note that it will always say GPU:0 but you should just see one"
   ]
  },
  {
   "cell_type": "code",
   "execution_count": 7,
   "metadata": {},
   "outputs": [
    {
     "data": {
      "text/plain": [
       "['/job:localhost/replica:0/task:0/device:GPU:0']"
      ]
     },
     "execution_count": 7,
     "metadata": {},
     "output_type": "execute_result"
    }
   ],
   "source": [
    "from keras import backend as K\n",
    "K.tensorflow_backend._get_available_gpus()"
   ]
  },
  {
   "cell_type": "markdown",
   "metadata": {},
   "source": [
    "Ingest Training Labels\n",
    "\n",
    "Note that these are monster files so be careful how you inspect them, typically you only want to use the `rasterio` windows option"
   ]
  },
  {
   "cell_type": "code",
   "execution_count": 8,
   "metadata": {},
   "outputs": [],
   "source": [
    "lc_labels = rasterio.open('/deep_data/recurrent_data/NLCD_DATA/landcover/NLCD_2011_Land_Cover_L48_20190424.img')\n",
    "canopy_labels = rasterio.open('/deep_data/recurrent_data/NLCD_DATA/canopy/CONUSCartographic_2_8_16/Cartographic/nlcd2011_usfs_conus_canopy_cartographic.img')\n",
    "class_dict = util.indexed_dictionary"
   ]
  },
  {
   "cell_type": "markdown",
   "metadata": {},
   "source": [
    "Ingest the landsat imagery stacked into yearly seasonal tiles"
   ]
  },
  {
   "cell_type": "code",
   "execution_count": 9,
   "metadata": {},
   "outputs": [],
   "source": [
    "tiles = {}\n",
    "landsat_datasets = {}\n",
    "tiles['028012'] = ['20110103', '20110308', '20110730', '20110831', '20111103']\n",
    "tiles['029011'] = ['20110103', '20110308', '20110730', '20110831', '20111018']\n",
    "tiles['028011'] = ['20110103', '20110308', '20110831', '20111018', '20111103']\n",
    "\n",
    "for tile_number, dates in tiles.items():\n",
    "    tile_datasets = []\n",
    "    l8_image_paths = []\n",
    "    for date in dates:\n",
    "        l8_image_paths.append('/deep_data/recurrent_data/tile{}/combined/combined{}.tif'.format(tile_number, date))\n",
    "    for fp in l8_image_paths:\n",
    "        tile_datasets.append(rasterio.open(fp))\n",
    "    landsat_datasets[tile_number] = tile_datasets"
   ]
  },
  {
   "cell_type": "markdown",
   "metadata": {},
   "source": [
    "### Load pixels from shapefiles"
   ]
  },
  {
   "cell_type": "code",
   "execution_count": 10,
   "metadata": {},
   "outputs": [
    {
     "data": {
      "text/plain": [
       "(9000, ((1478, 4379), '028011'))"
      ]
     },
     "execution_count": 10,
     "metadata": {},
     "output_type": "execute_result"
    }
   ],
   "source": [
    "train_gdf = gpd.read_file('../shapefiles/train_buffered_points140520.shp')\n",
    "train_px = []\n",
    "for index, row in train_gdf.iterrows():\n",
    "    train_px.append(((row['row'], row['col']), row['tile_name']))\n",
    "\n",
    "random.shuffle(train_px)\n",
    "\n",
    "len(train_px), train_px[0]"
   ]
  },
  {
   "cell_type": "code",
   "execution_count": 39,
   "metadata": {},
   "outputs": [
    {
     "data": {
      "text/plain": [
       "(750, ((3944.0, 4191.0), '028011'))"
      ]
     },
     "execution_count": 39,
     "metadata": {},
     "output_type": "execute_result"
    }
   ],
   "source": [
    "train_gdf = gpd.read_file('../shapefiles/val_buffered_points140520_val.shp')\n",
    "train_px = []\n",
    "\n",
    "per_class_count = [0] * 6\n",
    "total_per_class_count = [0] * 6\n",
    "\n",
    "for index, row in train_gdf.iterrows():\n",
    "    if not row['dubious']:\n",
    "        total_per_class_count[int(row['label'])] = total_per_class_count[int(row['label'])] + 1\n",
    "        if per_class_count[int(row['label'])] < 125:\n",
    "            per_class_count[int(row['label'])] = per_class_count[int(row['label'])] + 1\n",
    "            train_px.append(((row['row'], row['col']), row['tile_name']))\n",
    "    \n",
    "random.shuffle(train_px)\n",
    "\n",
    "len(train_px), train_px[0]"
   ]
  },
  {
   "cell_type": "code",
   "execution_count": 40,
   "metadata": {},
   "outputs": [
    {
     "data": {
      "text/plain": [
       "(750, ((616.0, 27.0), '029011'))"
      ]
     },
     "execution_count": 40,
     "metadata": {},
     "output_type": "execute_result"
    }
   ],
   "source": [
    "val_gdf = gpd.read_file('../shapefiles/test_buffered_points140520_val.shp')\n",
    "val_px = []\n",
    "\n",
    "per_class_count = [0] * 6\n",
    "total_per_class_count = [0] * 6\n",
    "\n",
    "for index, row in val_gdf.iterrows():\n",
    "    if not row['dubious']:\n",
    "        total_per_class_count[int(row['label'])] = total_per_class_count[int(row['label'])] + 1\n",
    "        if per_class_count[int(row['label'])] < 125:\n",
    "            per_class_count[int(row['label'])] = per_class_count[int(row['label'])] + 1\n",
    "            val_px.append(((row['row'], row['col']), row['tile_name']))\n",
    "    \n",
    "random.shuffle(val_px)\n",
    "\n",
    "len(val_px), val_px[0]"
   ]
  },
  {
   "cell_type": "code",
   "execution_count": 41,
   "metadata": {},
   "outputs": [
    {
     "data": {
      "text/plain": [
       "([141, 147, 133, 133, 130, 129], [125, 125, 125, 125, 125, 125])"
      ]
     },
     "execution_count": 41,
     "metadata": {},
     "output_type": "execute_result"
    }
   ],
   "source": [
    "total_per_class_count, per_class_count"
   ]
  },
  {
   "cell_type": "code",
   "execution_count": 13,
   "metadata": {},
   "outputs": [
    {
     "data": {
      "text/html": [
       "<div>\n",
       "<style scoped>\n",
       "    .dataframe tbody tr th:only-of-type {\n",
       "        vertical-align: middle;\n",
       "    }\n",
       "\n",
       "    .dataframe tbody tr th {\n",
       "        vertical-align: top;\n",
       "    }\n",
       "\n",
       "    .dataframe thead th {\n",
       "        text-align: right;\n",
       "    }\n",
       "</style>\n",
       "<table border=\"1\" class=\"dataframe\">\n",
       "  <thead>\n",
       "    <tr style=\"text-align: right;\">\n",
       "      <th></th>\n",
       "      <th>canopy</th>\n",
       "      <th>col</th>\n",
       "      <th>label</th>\n",
       "      <th>row</th>\n",
       "      <th>tile_name</th>\n",
       "      <th>x</th>\n",
       "      <th>y</th>\n",
       "      <th>manual_val</th>\n",
       "      <th>dubious</th>\n",
       "      <th>reject</th>\n",
       "      <th>geometry</th>\n",
       "    </tr>\n",
       "  </thead>\n",
       "  <tbody>\n",
       "    <tr>\n",
       "      <th>0</th>\n",
       "      <td>0.0</td>\n",
       "      <td>596.0</td>\n",
       "      <td>0.0</td>\n",
       "      <td>698.0</td>\n",
       "      <td>029011</td>\n",
       "      <td>1802310.0</td>\n",
       "      <td>1643850.0</td>\n",
       "      <td>0</td>\n",
       "      <td>0</td>\n",
       "      <td>0</td>\n",
       "      <td>POLYGON ((-75.6441512084 36.10119086803808, -7...</td>\n",
       "    </tr>\n",
       "    <tr>\n",
       "      <th>1</th>\n",
       "      <td>0.0</td>\n",
       "      <td>467.0</td>\n",
       "      <td>0.0</td>\n",
       "      <td>3956.0</td>\n",
       "      <td>029011</td>\n",
       "      <td>1798440.0</td>\n",
       "      <td>1546110.0</td>\n",
       "      <td>0</td>\n",
       "      <td>0</td>\n",
       "      <td>0</td>\n",
       "      <td>POLYGON ((-75.91635673586633 35.25513889890946...</td>\n",
       "    </tr>\n",
       "    <tr>\n",
       "      <th>2</th>\n",
       "      <td>0.0</td>\n",
       "      <td>749.0</td>\n",
       "      <td>0.0</td>\n",
       "      <td>4096.0</td>\n",
       "      <td>029011</td>\n",
       "      <td>1806900.0</td>\n",
       "      <td>1541910.0</td>\n",
       "      <td>0</td>\n",
       "      <td>0</td>\n",
       "      <td>0</td>\n",
       "      <td>POLYGON ((-75.83449049734953 35.20255815179633...</td>\n",
       "    </tr>\n",
       "    <tr>\n",
       "      <th>3</th>\n",
       "      <td>0.0</td>\n",
       "      <td>4780.0</td>\n",
       "      <td>0.0</td>\n",
       "      <td>4536.0</td>\n",
       "      <td>028011</td>\n",
       "      <td>1777830.0</td>\n",
       "      <td>1528710.0</td>\n",
       "      <td>0</td>\n",
       "      <td>0</td>\n",
       "      <td>0</td>\n",
       "      <td>POLYGON ((-76.17979015822588 35.14144967077146...</td>\n",
       "    </tr>\n",
       "    <tr>\n",
       "      <th>4</th>\n",
       "      <td>0.0</td>\n",
       "      <td>1120.0</td>\n",
       "      <td>0.0</td>\n",
       "      <td>3425.0</td>\n",
       "      <td>028012</td>\n",
       "      <td>1668030.0</td>\n",
       "      <td>1412040.0</td>\n",
       "      <td>0</td>\n",
       "      <td>0</td>\n",
       "      <td>0</td>\n",
       "      <td>POLYGON ((-77.6206367137414 34.31532226132933,...</td>\n",
       "    </tr>\n",
       "  </tbody>\n",
       "</table>\n",
       "</div>"
      ],
      "text/plain": [
       "   canopy     col  label     row tile_name          x          y  manual_val  \\\n",
       "0     0.0   596.0    0.0   698.0    029011  1802310.0  1643850.0           0   \n",
       "1     0.0   467.0    0.0  3956.0    029011  1798440.0  1546110.0           0   \n",
       "2     0.0   749.0    0.0  4096.0    029011  1806900.0  1541910.0           0   \n",
       "3     0.0  4780.0    0.0  4536.0    028011  1777830.0  1528710.0           0   \n",
       "4     0.0  1120.0    0.0  3425.0    028012  1668030.0  1412040.0           0   \n",
       "\n",
       "   dubious  reject                                           geometry  \n",
       "0        0       0  POLYGON ((-75.6441512084 36.10119086803808, -7...  \n",
       "1        0       0  POLYGON ((-75.91635673586633 35.25513889890946...  \n",
       "2        0       0  POLYGON ((-75.83449049734953 35.20255815179633...  \n",
       "3        0       0  POLYGON ((-76.17979015822588 35.14144967077146...  \n",
       "4        0       0  POLYGON ((-77.6206367137414 34.31532226132933,...  "
      ]
     },
     "execution_count": 13,
     "metadata": {},
     "output_type": "execute_result"
    }
   ],
   "source": [
    "val_gdf.head()"
   ]
  },
  {
   "cell_type": "markdown",
   "metadata": {},
   "source": [
    "### Create the RNN"
   ]
  },
  {
   "cell_type": "code",
   "execution_count": 14,
   "metadata": {},
   "outputs": [],
   "source": [
    "def strangeBlock_v4(input_block, nb_layers, filters):\n",
    "    x_list = [input_block]\n",
    "    c_temp = input_block\n",
    "    for i in range(nb_layers):\n",
    "        c_l = LSTM(units=filters, activation='elu', return_sequences=True) (c_temp)\n",
    "        x_list.append(c_l)\n",
    "        merge = Concatenate()(x_list)\n",
    "        c_temp = merge\n",
    "    return c_temp"
   ]
  },
  {
   "cell_type": "code",
   "execution_count": 15,
   "metadata": {},
   "outputs": [],
   "source": [
    "def make_MLT_dense(in_shape, in_shape_tile, num_classes):\n",
    "    input_tensor = Input(shape = in_shape, name=\"rnn_input\")\n",
    "    #single pixel rnn model\n",
    "    block = strangeBlock_v4(input_tensor, 5, 12)\n",
    "    block_2 = strangeBlock_v4(block, 3, 20)\n",
    "    final_block = LSTM(64, activation='softmax', return_sequences=False) (block_2)\n",
    "\n",
    "    #cnn model\n",
    "    input_tensor_tile = Input(shape = in_shape_tile, name=\"tile_input\")\n",
    "    cnn_layer1 = ConvLSTM2D(64, kernel_size=3, activation='elu', return_sequences=True)(input_tensor_tile)\n",
    "    # batch norm\n",
    "    cnn_layer2 = ConvLSTM2D(64, kernel_size=3, activation='elu', return_sequences=False) (cnn_layer1)\n",
    "    maxpool = MaxPooling2D(pool_size=(2, 2), strides=None, padding='same') (cnn_layer2)\n",
    "    flatten = Flatten()(maxpool)\n",
    "    concat = concatenate([final_block, flatten])\n",
    "    \n",
    "    #denselayer = Dense(64, activation=\"elu\")(concat)\n",
    "    denselayer = Dense(64, activation=\"elu\")(flatten)\n",
    "    \n",
    "    landcover = Dense(num_classes,activation='softmax', name='landcover') (denselayer)\n",
    "    #canopy = Dense(1, name='canopy') (concat)\n",
    "\n",
    "    model = Model(inputs=[input_tensor,input_tensor_tile], outputs=[landcover])\n",
    "    return model"
   ]
  },
  {
   "cell_type": "markdown",
   "metadata": {},
   "source": [
    "Start the experiments here:"
   ]
  },
  {
   "cell_type": "code",
   "execution_count": 63,
   "metadata": {},
   "outputs": [
    {
     "name": "stderr",
     "output_type": "stream",
     "text": [
      "COMET INFO: old comet version (3.1.6) detected. current: 3.1.7 please update your comet lib with command: `pip install --no-cache-dir --upgrade comet_ml`\n",
      "COMET INFO: Experiment is live on comet.ml https://www.comet.ml/clifgray/chronos/9e8ac2f226614598a0ad6a0fde6d93cd\n",
      "\n"
     ]
    }
   ],
   "source": [
    "experiment = Experiment(api_key=\"rMFbl2RlGxNuyyL37dE7qPSfE\",\n",
    "                        project_name=\"chronos\", workspace=\"clifgray\")"
   ]
  },
  {
   "cell_type": "code",
   "execution_count": 64,
   "metadata": {},
   "outputs": [],
   "source": [
    "experiment.add_tag(exp_name)"
   ]
  },
  {
   "cell_type": "code",
   "execution_count": 65,
   "metadata": {},
   "outputs": [],
   "source": [
    "tile_size = 9\n",
    "tile_list = ['028012', '029011', '028011']\n",
    "class_count = len(class_dict)\n",
    "epochs = 60\n",
    "batch_size = 25\n",
    "steps_division_factor = 10"
   ]
  },
  {
   "cell_type": "code",
   "execution_count": 18,
   "metadata": {},
   "outputs": [
    {
     "name": "stdout",
     "output_type": "stream",
     "text": [
      "WARNING:tensorflow:From /usr/local/lib/python3.5/dist-packages/tensorflow/python/framework/op_def_library.py:263: colocate_with (from tensorflow.python.framework.ops) is deprecated and will be removed in a future version.\n",
      "Instructions for updating:\n",
      "Colocations handled automatically by placer.\n",
      "WARNING:tensorflow:From /usr/local/lib/python3.5/dist-packages/keras/backend/tensorflow_backend.py:3733: calling dropout (from tensorflow.python.ops.nn_ops) with keep_prob is deprecated and will be removed in a future version.\n",
      "Instructions for updating:\n",
      "Please use `rate` instead of `keep_prob`. Rate should be set to `rate = 1 - keep_prob`.\n",
      "Model: \"sequential_1\"\n",
      "_________________________________________________________________\n",
      "Layer (type)                 Output Shape              Param #   \n",
      "=================================================================\n",
      "dense_1 (Dense)              (None, 64)                378624    \n",
      "_________________________________________________________________\n",
      "dropout_1 (Dropout)          (None, 64)                0         \n",
      "_________________________________________________________________\n",
      "dense_2 (Dense)              (None, 64)                4160      \n",
      "_________________________________________________________________\n",
      "dropout_2 (Dropout)          (None, 64)                0         \n",
      "_________________________________________________________________\n",
      "dense_3 (Dense)              (None, 6)                 390       \n",
      "=================================================================\n",
      "Total params: 383,174\n",
      "Trainable params: 383,174\n",
      "Non-trainable params: 0\n",
      "_________________________________________________________________\n"
     ]
    }
   ],
   "source": [
    "model = Sequential()\n",
    "model.add(Dense(64, activation='relu', input_shape=((tile_size*tile_size*len(tiles['028012'])*7),)))\n",
    "model.add(Dropout(0.2))\n",
    "model.add(Dense(64, activation='relu'))\n",
    "model.add(Dropout(0.2))\n",
    "model.add(Dense(class_count, activation='softmax'))\n",
    "\n",
    "model.summary()\n",
    "\n",
    "\n",
    "model.compile(loss='categorical_crossentropy',\n",
    "              optimizer=keras.optimizers.RMSprop(),\n",
    "              metrics=['accuracy'])"
   ]
  },
  {
   "cell_type": "code",
   "execution_count": 136,
   "metadata": {},
   "outputs": [
    {
     "name": "stdout",
     "output_type": "stream",
     "text": [
      "Model: \"sequential_4\"\n",
      "_________________________________________________________________\n",
      "Layer (type)                 Output Shape              Param #   \n",
      "=================================================================\n",
      "conv3d_5 (Conv3D)            (None, 3, 7, 7, 32)       6080      \n",
      "_________________________________________________________________\n",
      "conv3d_6 (Conv3D)            (None, 1, 5, 5, 64)       55360     \n",
      "_________________________________________________________________\n",
      "max_pooling3d_3 (MaxPooling3 (None, 1, 2, 2, 64)       0         \n",
      "_________________________________________________________________\n",
      "dropout_7 (Dropout)          (None, 1, 2, 2, 64)       0         \n",
      "_________________________________________________________________\n",
      "flatten_4 (Flatten)          (None, 256)               0         \n",
      "_________________________________________________________________\n",
      "dense_9 (Dense)              (None, 128)               32896     \n",
      "_________________________________________________________________\n",
      "dropout_8 (Dropout)          (None, 128)               0         \n",
      "_________________________________________________________________\n",
      "dense_10 (Dense)             (None, 6)                 774       \n",
      "=================================================================\n",
      "Total params: 95,110\n",
      "Trainable params: 95,110\n",
      "Non-trainable params: 0\n",
      "_________________________________________________________________\n"
     ]
    }
   ],
   "source": [
    "model = Sequential()\n",
    "model.add(Conv3D(32, kernel_size=(3, 3, 3),\n",
    "                 activation='relu',\n",
    "                 input_shape=(len(tiles['028012']),tile_size,tile_size,7)))\n",
    "model.add(Conv3D(64, (3, 3, 3), activation='relu'))\n",
    "model.add(MaxPooling3D(pool_size=(1, 2, 2)))\n",
    "model.add(Dropout(0.2))\n",
    "model.add(Flatten())\n",
    "model.add(Dense(128, activation='relu'))\n",
    "model.add(Dropout(0.2))\n",
    "model.add(Dense(class_count, activation='softmax'))\n",
    "\n",
    "model.summary()\n",
    "\n",
    "model.compile(loss=keras.losses.categorical_crossentropy,\n",
    "              optimizer=keras.optimizers.Adadelta(),\n",
    "              metrics=['accuracy'])"
   ]
  },
  {
   "cell_type": "code",
   "execution_count": 70,
   "metadata": {},
   "outputs": [
    {
     "name": "stdout",
     "output_type": "stream",
     "text": [
      "Model: \"model_3\"\n",
      "_________________________________________________________________\n",
      "Layer (type)                 Output Shape              Param #   \n",
      "=================================================================\n",
      "tile_input (InputLayer)      (None, 5, 9, 9, 7)        0         \n",
      "_________________________________________________________________\n",
      "conv_lst_m2d_5 (ConvLSTM2D)  (None, 5, 7, 7, 64)       163840    \n",
      "_________________________________________________________________\n",
      "conv_lst_m2d_6 (ConvLSTM2D)  (None, 5, 5, 64)          295168    \n",
      "_________________________________________________________________\n",
      "max_pooling2d_3 (MaxPooling2 (None, 3, 3, 64)          0         \n",
      "_________________________________________________________________\n",
      "flatten_3 (Flatten)          (None, 576)               0         \n",
      "_________________________________________________________________\n",
      "dense_3 (Dense)              (None, 64)                36928     \n",
      "_________________________________________________________________\n",
      "landcover (Dense)            (None, 6)                 390       \n",
      "=================================================================\n",
      "Total params: 496,326\n",
      "Trainable params: 496,326\n",
      "Non-trainable params: 0\n",
      "_________________________________________________________________\n"
     ]
    }
   ],
   "source": [
    "model = make_MLT_dense((len(tiles['028012']),7),(len(tiles['028012']),tile_size,tile_size,7), class_count)\n",
    "model.summary()\n",
    "model.compile(optimizer=Adam(), loss={'landcover':'categorical_crossentropy'}, metrics={'landcover':['accuracy']}, loss_weights={\"landcover\":1})"
   ]
  },
  {
   "cell_type": "markdown",
   "metadata": {},
   "source": [
    "#### Train the Model"
   ]
  },
  {
   "cell_type": "code",
   "execution_count": 71,
   "metadata": {},
   "outputs": [],
   "source": [
    "filepath = 'model_search/' +  model_name + '--' + exp_name + '.hdf5' #your filepath here\n",
    "checkpoint = ModelCheckpoint(filepath, monitor='val_acc', verbose=1, save_best_only=True, mode='max')\n",
    "callbacks_list = [checkpoint]\n",
    "tile_gen = rnn_tiles.rnn_tile_gen(landsat_datasets, lc_labels, canopy_labels, tile_size, class_count)"
   ]
  },
  {
   "cell_type": "code",
   "execution_count": 72,
   "metadata": {
    "scrolled": true
   },
   "outputs": [
    {
     "name": "stdout",
     "output_type": "stream",
     "text": [
      "Epoch 1/60\n",
      "30/30 [==============================] - 5s 150ms/step - loss: 0.7673 - acc: 0.6933 - val_loss: 0.4191 - val_acc: 0.8560\n",
      "\n",
      "Epoch 00001: val_acc improved from -inf to 0.85600, saving model to model_search/rcnn_9--initial_keras_tests_trainedvalonly.hdf5\n",
      "Epoch 2/60\n",
      "30/30 [==============================] - 3s 106ms/step - loss: 0.3048 - acc: 0.8827 - val_loss: 0.4243 - val_acc: 0.8760\n",
      "\n",
      "Epoch 00002: val_acc improved from 0.85600 to 0.87600, saving model to model_search/rcnn_9--initial_keras_tests_trainedvalonly.hdf5\n",
      "Epoch 3/60\n",
      "30/30 [==============================] - 4s 135ms/step - loss: 0.3136 - acc: 0.8987 - val_loss: 0.2936 - val_acc: 0.8907\n",
      "\n",
      "Epoch 00003: val_acc improved from 0.87600 to 0.89067, saving model to model_search/rcnn_9--initial_keras_tests_trainedvalonly.hdf5\n",
      "Epoch 4/60\n",
      "30/30 [==============================] - 4s 134ms/step - loss: 0.1942 - acc: 0.9320 - val_loss: 0.3434 - val_acc: 0.8720\n",
      "\n",
      "Epoch 00004: val_acc did not improve from 0.89067\n",
      "Epoch 5/60\n",
      "30/30 [==============================] - 4s 134ms/step - loss: 0.1801 - acc: 0.9427 - val_loss: 0.2796 - val_acc: 0.9093\n",
      "\n",
      "Epoch 00005: val_acc improved from 0.89067 to 0.90933, saving model to model_search/rcnn_9--initial_keras_tests_trainedvalonly.hdf5\n",
      "Epoch 6/60\n",
      "30/30 [==============================] - 4s 132ms/step - loss: 0.1614 - acc: 0.9427 - val_loss: 0.3078 - val_acc: 0.8867\n",
      "\n",
      "Epoch 00006: val_acc did not improve from 0.90933\n",
      "Epoch 7/60\n",
      "30/30 [==============================] - 4s 137ms/step - loss: 0.1578 - acc: 0.9387 - val_loss: 0.2705 - val_acc: 0.9053\n",
      "\n",
      "Epoch 00007: val_acc did not improve from 0.90933\n",
      "Epoch 8/60\n",
      "30/30 [==============================] - 4s 134ms/step - loss: 0.1187 - acc: 0.9600 - val_loss: 0.2963 - val_acc: 0.9227\n",
      "\n",
      "Epoch 00008: val_acc improved from 0.90933 to 0.92267, saving model to model_search/rcnn_9--initial_keras_tests_trainedvalonly.hdf5\n",
      "Epoch 9/60\n",
      "30/30 [==============================] - 4s 132ms/step - loss: 0.1066 - acc: 0.9560 - val_loss: 0.4360 - val_acc: 0.9293\n",
      "\n",
      "Epoch 00009: val_acc improved from 0.92267 to 0.92933, saving model to model_search/rcnn_9--initial_keras_tests_trainedvalonly.hdf5\n",
      "Epoch 10/60\n",
      "30/30 [==============================] - 4s 135ms/step - loss: 0.1804 - acc: 0.9467 - val_loss: 0.3168 - val_acc: 0.9040\n",
      "\n",
      "Epoch 00010: val_acc did not improve from 0.92933\n",
      "Epoch 11/60\n",
      "30/30 [==============================] - 4s 136ms/step - loss: 0.1617 - acc: 0.9507 - val_loss: 0.2037 - val_acc: 0.9413\n",
      "\n",
      "Epoch 00011: val_acc improved from 0.92933 to 0.94133, saving model to model_search/rcnn_9--initial_keras_tests_trainedvalonly.hdf5\n",
      "Epoch 12/60\n",
      "30/30 [==============================] - 4s 135ms/step - loss: 0.0649 - acc: 0.9747 - val_loss: 0.2601 - val_acc: 0.9320\n",
      "\n",
      "Epoch 00012: val_acc did not improve from 0.94133\n",
      "Epoch 13/60\n",
      "30/30 [==============================] - 4s 135ms/step - loss: 0.1316 - acc: 0.9533 - val_loss: 0.2499 - val_acc: 0.9333\n",
      "\n",
      "Epoch 00013: val_acc did not improve from 0.94133\n",
      "Epoch 14/60\n",
      "30/30 [==============================] - 4s 134ms/step - loss: 0.0867 - acc: 0.9693 - val_loss: 0.2409 - val_acc: 0.9333\n",
      "\n",
      "Epoch 00014: val_acc did not improve from 0.94133\n",
      "Epoch 15/60\n",
      "30/30 [==============================] - 4s 136ms/step - loss: 0.0526 - acc: 0.9773 - val_loss: 0.2206 - val_acc: 0.9267\n",
      "\n",
      "Epoch 00015: val_acc did not improve from 0.94133\n",
      "Epoch 16/60\n",
      "30/30 [==============================] - 4s 137ms/step - loss: 0.0361 - acc: 0.9907 - val_loss: 0.1685 - val_acc: 0.9467\n",
      "\n",
      "Epoch 00016: val_acc improved from 0.94133 to 0.94667, saving model to model_search/rcnn_9--initial_keras_tests_trainedvalonly.hdf5\n",
      "Epoch 17/60\n",
      "30/30 [==============================] - 4s 134ms/step - loss: 0.0368 - acc: 0.9907 - val_loss: 0.3140 - val_acc: 0.9253\n",
      "\n",
      "Epoch 00017: val_acc did not improve from 0.94667\n",
      "Epoch 18/60\n",
      "30/30 [==============================] - 4s 135ms/step - loss: 0.0276 - acc: 0.9947 - val_loss: 0.2230 - val_acc: 0.9480\n",
      "\n",
      "Epoch 00018: val_acc improved from 0.94667 to 0.94800, saving model to model_search/rcnn_9--initial_keras_tests_trainedvalonly.hdf5\n",
      "Epoch 19/60\n",
      "30/30 [==============================] - 4s 133ms/step - loss: 0.0101 - acc: 0.9973 - val_loss: 0.2310 - val_acc: 0.9467\n",
      "\n",
      "Epoch 00019: val_acc did not improve from 0.94800\n",
      "Epoch 20/60\n",
      "30/30 [==============================] - 4s 135ms/step - loss: 0.0063 - acc: 0.9973 - val_loss: 0.2522 - val_acc: 0.9467\n",
      "\n",
      "Epoch 00020: val_acc did not improve from 0.94800\n",
      "Epoch 21/60\n",
      "30/30 [==============================] - 4s 135ms/step - loss: 0.0034 - acc: 0.9987 - val_loss: 0.2620 - val_acc: 0.9467\n",
      "\n",
      "Epoch 00021: val_acc did not improve from 0.94800\n",
      "Epoch 22/60\n",
      "30/30 [==============================] - 4s 133ms/step - loss: 0.0021 - acc: 1.0000 - val_loss: 0.2726 - val_acc: 0.9480\n",
      "\n",
      "Epoch 00022: val_acc did not improve from 0.94800\n",
      "Epoch 23/60\n",
      "30/30 [==============================] - 4s 133ms/step - loss: 0.0012 - acc: 1.0000 - val_loss: 0.2825 - val_acc: 0.9467\n",
      "\n",
      "Epoch 00023: val_acc did not improve from 0.94800\n",
      "Epoch 24/60\n",
      "30/30 [==============================] - 4s 136ms/step - loss: 8.0320e-04 - acc: 1.0000 - val_loss: 0.2905 - val_acc: 0.9467\n",
      "\n",
      "Epoch 00024: val_acc did not improve from 0.94800\n",
      "Epoch 25/60\n",
      "30/30 [==============================] - 4s 134ms/step - loss: 5.7908e-04 - acc: 1.0000 - val_loss: 0.2975 - val_acc: 0.9467\n",
      "\n",
      "Epoch 00025: val_acc did not improve from 0.94800\n",
      "Epoch 26/60\n",
      "30/30 [==============================] - 4s 136ms/step - loss: 4.3362e-04 - acc: 1.0000 - val_loss: 0.3035 - val_acc: 0.9467\n",
      "\n",
      "Epoch 00026: val_acc did not improve from 0.94800\n",
      "Epoch 27/60\n",
      "30/30 [==============================] - 4s 135ms/step - loss: 3.4171e-04 - acc: 1.0000 - val_loss: 0.3086 - val_acc: 0.9453\n",
      "\n",
      "Epoch 00027: val_acc did not improve from 0.94800\n",
      "Epoch 28/60\n",
      "30/30 [==============================] - 4s 135ms/step - loss: 2.7780e-04 - acc: 1.0000 - val_loss: 0.3133 - val_acc: 0.9453\n",
      "\n",
      "Epoch 00028: val_acc did not improve from 0.94800\n",
      "Epoch 29/60\n",
      "30/30 [==============================] - 4s 134ms/step - loss: 2.3144e-04 - acc: 1.0000 - val_loss: 0.3176 - val_acc: 0.9453\n",
      "\n",
      "Epoch 00029: val_acc did not improve from 0.94800\n",
      "Epoch 30/60\n",
      "30/30 [==============================] - 4s 134ms/step - loss: 1.9666e-04 - acc: 1.0000 - val_loss: 0.3214 - val_acc: 0.9440\n",
      "\n",
      "Epoch 00030: val_acc did not improve from 0.94800\n",
      "Epoch 31/60\n",
      "30/30 [==============================] - 4s 134ms/step - loss: 1.6971e-04 - acc: 1.0000 - val_loss: 0.3251 - val_acc: 0.9440\n",
      "\n",
      "Epoch 00031: val_acc did not improve from 0.94800\n",
      "Epoch 32/60\n",
      "30/30 [==============================] - 4s 134ms/step - loss: 1.4826e-04 - acc: 1.0000 - val_loss: 0.3285 - val_acc: 0.9453\n",
      "\n",
      "Epoch 00032: val_acc did not improve from 0.94800\n",
      "Epoch 33/60\n",
      "30/30 [==============================] - 4s 133ms/step - loss: 1.3089e-04 - acc: 1.0000 - val_loss: 0.3317 - val_acc: 0.9453\n",
      "\n",
      "Epoch 00033: val_acc did not improve from 0.94800\n",
      "Epoch 34/60\n",
      "30/30 [==============================] - 4s 133ms/step - loss: 1.1656e-04 - acc: 1.0000 - val_loss: 0.3348 - val_acc: 0.9453\n",
      "\n",
      "Epoch 00034: val_acc did not improve from 0.94800\n",
      "Epoch 35/60\n",
      "30/30 [==============================] - 4s 136ms/step - loss: 1.0462e-04 - acc: 1.0000 - val_loss: 0.3377 - val_acc: 0.9453\n",
      "\n",
      "Epoch 00035: val_acc did not improve from 0.94800\n",
      "Epoch 36/60\n",
      "30/30 [==============================] - 4s 133ms/step - loss: 9.4529e-05 - acc: 1.0000 - val_loss: 0.3406 - val_acc: 0.9453\n",
      "\n",
      "Epoch 00036: val_acc did not improve from 0.94800\n",
      "Epoch 37/60\n",
      "30/30 [==============================] - 4s 134ms/step - loss: 8.5881e-05 - acc: 1.0000 - val_loss: 0.3433 - val_acc: 0.9453\n",
      "\n",
      "Epoch 00037: val_acc did not improve from 0.94800\n",
      "Epoch 38/60\n",
      "30/30 [==============================] - 4s 134ms/step - loss: 7.8408e-05 - acc: 1.0000 - val_loss: 0.3459 - val_acc: 0.9453\n",
      "\n",
      "Epoch 00038: val_acc did not improve from 0.94800\n",
      "Epoch 39/60\n",
      "30/30 [==============================] - 4s 134ms/step - loss: 7.1893e-05 - acc: 1.0000 - val_loss: 0.3484 - val_acc: 0.9453\n",
      "\n",
      "Epoch 00039: val_acc did not improve from 0.94800\n",
      "Epoch 40/60\n",
      "30/30 [==============================] - 4s 135ms/step - loss: 6.6156e-05 - acc: 1.0000 - val_loss: 0.3507 - val_acc: 0.9453\n",
      "\n",
      "Epoch 00040: val_acc did not improve from 0.94800\n",
      "Epoch 41/60\n"
     ]
    },
    {
     "name": "stdout",
     "output_type": "stream",
     "text": [
      "30/30 [==============================] - 4s 133ms/step - loss: 6.1107e-05 - acc: 1.0000 - val_loss: 0.3528 - val_acc: 0.9453\n",
      "\n",
      "Epoch 00041: val_acc did not improve from 0.94800\n",
      "Epoch 42/60\n",
      "30/30 [==============================] - 4s 133ms/step - loss: 5.6613e-05 - acc: 1.0000 - val_loss: 0.3549 - val_acc: 0.9467\n",
      "\n",
      "Epoch 00042: val_acc did not improve from 0.94800\n",
      "Epoch 43/60\n",
      "30/30 [==============================] - 4s 133ms/step - loss: 5.2620e-05 - acc: 1.0000 - val_loss: 0.3569 - val_acc: 0.9467\n",
      "\n",
      "Epoch 00043: val_acc did not improve from 0.94800\n",
      "Epoch 44/60\n",
      "30/30 [==============================] - 4s 135ms/step - loss: 4.9043e-05 - acc: 1.0000 - val_loss: 0.3588 - val_acc: 0.9467\n",
      "\n",
      "Epoch 00044: val_acc did not improve from 0.94800\n",
      "Epoch 45/60\n",
      "30/30 [==============================] - 4s 134ms/step - loss: 4.5823e-05 - acc: 1.0000 - val_loss: 0.3607 - val_acc: 0.9467\n",
      "\n",
      "Epoch 00045: val_acc did not improve from 0.94800\n",
      "Epoch 46/60\n",
      "30/30 [==============================] - 4s 132ms/step - loss: 4.2904e-05 - acc: 1.0000 - val_loss: 0.3625 - val_acc: 0.9467\n",
      "\n",
      "Epoch 00046: val_acc did not improve from 0.94800\n",
      "Epoch 47/60\n",
      "30/30 [==============================] - 4s 135ms/step - loss: 4.0244e-05 - acc: 1.0000 - val_loss: 0.3642 - val_acc: 0.9467\n",
      "\n",
      "Epoch 00047: val_acc did not improve from 0.94800\n",
      "Epoch 48/60\n",
      "30/30 [==============================] - 4s 134ms/step - loss: 3.7824e-05 - acc: 1.0000 - val_loss: 0.3659 - val_acc: 0.9467\n",
      "\n",
      "Epoch 00048: val_acc did not improve from 0.94800\n",
      "Epoch 49/60\n",
      "30/30 [==============================] - 4s 134ms/step - loss: 3.5615e-05 - acc: 1.0000 - val_loss: 0.3676 - val_acc: 0.9467\n",
      "\n",
      "Epoch 00049: val_acc did not improve from 0.94800\n",
      "Epoch 50/60\n",
      "30/30 [==============================] - 4s 135ms/step - loss: 3.3602e-05 - acc: 1.0000 - val_loss: 0.3692 - val_acc: 0.9467\n",
      "\n",
      "Epoch 00050: val_acc did not improve from 0.94800\n",
      "Epoch 51/60\n",
      "30/30 [==============================] - 4s 132ms/step - loss: 3.1755e-05 - acc: 1.0000 - val_loss: 0.3708 - val_acc: 0.9467\n",
      "\n",
      "Epoch 00051: val_acc did not improve from 0.94800\n",
      "Epoch 52/60\n",
      "30/30 [==============================] - 4s 133ms/step - loss: 3.0062e-05 - acc: 1.0000 - val_loss: 0.3723 - val_acc: 0.9467\n",
      "\n",
      "Epoch 00052: val_acc did not improve from 0.94800\n",
      "Epoch 53/60\n",
      "30/30 [==============================] - 4s 133ms/step - loss: 2.8482e-05 - acc: 1.0000 - val_loss: 0.3738 - val_acc: 0.9467\n",
      "\n",
      "Epoch 00053: val_acc did not improve from 0.94800\n",
      "Epoch 54/60\n",
      "30/30 [==============================] - 4s 136ms/step - loss: 2.7025e-05 - acc: 1.0000 - val_loss: 0.3753 - val_acc: 0.9467\n",
      "\n",
      "Epoch 00054: val_acc did not improve from 0.94800\n",
      "Epoch 55/60\n",
      "30/30 [==============================] - 4s 134ms/step - loss: 2.5673e-05 - acc: 1.0000 - val_loss: 0.3768 - val_acc: 0.9467\n",
      "\n",
      "Epoch 00055: val_acc did not improve from 0.94800\n",
      "Epoch 56/60\n",
      "30/30 [==============================] - 4s 134ms/step - loss: 2.4417e-05 - acc: 1.0000 - val_loss: 0.3782 - val_acc: 0.9467\n",
      "\n",
      "Epoch 00056: val_acc did not improve from 0.94800\n",
      "Epoch 57/60\n",
      "30/30 [==============================] - 4s 132ms/step - loss: 2.3244e-05 - acc: 1.0000 - val_loss: 0.3796 - val_acc: 0.9467\n",
      "\n",
      "Epoch 00057: val_acc did not improve from 0.94800\n",
      "Epoch 58/60\n",
      "30/30 [==============================] - 4s 133ms/step - loss: 2.2155e-05 - acc: 1.0000 - val_loss: 0.3810 - val_acc: 0.9467\n",
      "\n",
      "Epoch 00058: val_acc did not improve from 0.94800\n",
      "Epoch 59/60\n",
      "30/30 [==============================] - 4s 134ms/step - loss: 2.1130e-05 - acc: 1.0000 - val_loss: 0.3824 - val_acc: 0.9467\n",
      "\n",
      "Epoch 00059: val_acc did not improve from 0.94800\n",
      "Epoch 60/60\n",
      "30/30 [==============================] - 4s 135ms/step - loss: 2.0171e-05 - acc: 1.0000 - val_loss: 0.3837 - val_acc: 0.9467\n",
      "\n",
      "Epoch 00060: val_acc did not improve from 0.94800\n"
     ]
    }
   ],
   "source": [
    "train_time_start = datetime.datetime.now()\n",
    "\n",
    "history = model.fit_generator(generator=tile_gen.tile_generator(train_px, batch_size, flatten=True, canopy=True), \n",
    "                steps_per_epoch=len(train_px) // batch_size // steps_division_factor, epochs=epochs, verbose=1,\n",
    "                validation_data=tile_gen.tile_generator(val_px, batch_size, flatten=True, canopy=True),\n",
    "                validation_steps=len(val_px) // batch_size,\n",
    "                callbacks=callbacks_list) \n",
    "\n",
    "train_time_stop = datetime.datetime.now()\n",
    "training_time = train_time_stop - train_time_start"
   ]
  },
  {
   "cell_type": "code",
   "execution_count": 73,
   "metadata": {},
   "outputs": [
    {
     "name": "stdout",
     "output_type": "stream",
     "text": [
      "dict_keys(['val_acc', 'val_loss', 'acc', 'loss'])\n"
     ]
    },
    {
     "data": {
      "image/png": "[encoded data removed]",
      "text/plain": [
       "<Figure size 432x288 with 1 Axes>"
      ]
     },
     "metadata": {
      "needs_background": "light"
     },
     "output_type": "display_data"
    },
    {
     "data": {
      "image/png": "[encoded data removed]",
      "text/plain": [
       "<Figure size 432x288 with 1 Axes>"
      ]
     },
     "metadata": {
      "needs_background": "light"
     },
     "output_type": "display_data"
    }
   ],
   "source": [
    "print(history.history.keys())\n",
    "#  \"Accuracy\"\n",
    "plt.plot(history.history['acc'])\n",
    "plt.plot(history.history['val_acc'])\n",
    "plt.title('model accuracy')\n",
    "plt.ylabel('accuracy')\n",
    "plt.xlabel('epoch')\n",
    "plt.legend(['train', 'validation'], loc='upper left')\n",
    "experiment.log_figure(figure=plt, figure_name=\"model_acc\")\n",
    "plt.show()\n",
    "# \"Loss\"\n",
    "plt.plot(history.history['loss'])\n",
    "plt.plot(history.history['val_loss'])\n",
    "plt.title('model loss')\n",
    "plt.ylabel('loss')\n",
    "plt.xlabel('epoch')\n",
    "plt.legend(['train', 'validation'], loc='upper left')\n",
    "experiment.log_figure(figure=plt, figure_name=\"model_loss\")\n",
    "plt.show()"
   ]
  },
  {
   "cell_type": "code",
   "execution_count": 74,
   "metadata": {},
   "outputs": [
    {
     "data": {
      "text/plain": [
       "'model_search/rcnn_9--initial_keras_tests_trainedvalonly.hdf5'"
      ]
     },
     "execution_count": 74,
     "metadata": {},
     "output_type": "execute_result"
    }
   ],
   "source": [
    "filepath"
   ]
  },
  {
   "cell_type": "code",
   "execution_count": 75,
   "metadata": {},
   "outputs": [],
   "source": [
    "model = keras.models.load_model(filepath)"
   ]
  },
  {
   "cell_type": "markdown",
   "metadata": {},
   "source": [
    "# Evaluate model"
   ]
  },
  {
   "cell_type": "code",
   "execution_count": 76,
   "metadata": {},
   "outputs": [
    {
     "name": "stdout",
     "output_type": "stream",
     "text": [
      "15/15 [==============================] - 2s 126ms/step\n"
     ]
    }
   ],
   "source": [
    "inference_time_start = datetime.datetime.now()\n",
    "\n",
    "predictions = model.predict_generator(generator = tile_gen.tile_generator(val_px, batch_size=50, flatten=True, canopy=True), steps=len(val_px) // 50, verbose=1)\n",
    "\n",
    "inference_time_stop = datetime.datetime.now()\n",
    "inference_time = inference_time_stop - inference_time_start\n",
    "\n",
    "eval_generator = tile_gen.tile_generator(val_px, batch_size=1, flatten=True, canopy=True)"
   ]
  },
  {
   "cell_type": "code",
   "execution_count": 77,
   "metadata": {},
   "outputs": [
    {
     "data": {
      "text/plain": [
       "(750, 6)"
      ]
     },
     "execution_count": 77,
     "metadata": {},
     "output_type": "execute_result"
    }
   ],
   "source": [
    "predictions.shape"
   ]
  },
  {
   "cell_type": "code",
   "execution_count": 78,
   "metadata": {},
   "outputs": [],
   "source": [
    "lc_predictions = predictions"
   ]
  },
  {
   "cell_type": "code",
   "execution_count": 79,
   "metadata": {},
   "outputs": [],
   "source": [
    "lc_lab = np.empty(lc_predictions.shape[0])\n",
    "#canopy_true = np.empty(canopy_pred.shape)\n",
    "count = 0\n",
    "while count < len(lc_predictions):\n",
    "        image_b, label_b = next(eval_generator)\n",
    "        #print(label_b.shape)\n",
    "        #label_b = np.argmax(label_b, axis=-1)\n",
    "        #print(label_b)\n",
    "        label_b = np.argmax(label_b['landcover'], axis=-1)\n",
    "        #canopy_true[count] = label_b['canopy']\n",
    "        lc_lab[count] = label_b\n",
    "        count += 1\n",
    "label_index = lc_lab\n",
    "pred_index = np.argmax(lc_predictions, axis=-1)"
   ]
  },
  {
   "cell_type": "code",
   "execution_count": 80,
   "metadata": {
    "scrolled": false
   },
   "outputs": [
    {
     "name": "stdout",
     "output_type": "stream",
     "text": [
      "Accuracy is 0.948\n",
      "per_class_acc 1.0\n",
      "per_class_acc 0.904\n",
      "per_class_acc 0.968\n",
      "per_class_acc 0.904\n",
      "per_class_acc 0.952\n",
      "per_class_acc 0.96\n"
     ]
    },
    {
     "data": {
      "image/png": "[encoded data removed]",
      "text/plain": [
       "<Figure size 720x720 with 2 Axes>"
      ]
     },
     "metadata": {
      "needs_background": "light"
     },
     "output_type": "display_data"
    },
    {
     "data": {
      "image/png": "[encoded data removed]",
      "text/plain": [
       "<Figure size 720x720 with 2 Axes>"
      ]
     },
     "metadata": {
      "needs_background": "light"
     },
     "output_type": "display_data"
    }
   ],
   "source": [
    "np.set_printoptions(precision=2)\n",
    "# Plot non-normalized confusion matrix\n",
    "_, users_acc, prod_acc = util.plot_confusion_matrix(label_index.astype(np.int), pred_index.astype(np.int), classes=np.array(list(class_dict)),\n",
    "                      class_dict=class_dict)\n",
    "experiment.log_figure(figure=plt, figure_name=\"unnorm_conf_matrix\")\n",
    "# Plot normalized confusion matrix\n",
    "util.plot_confusion_matrix(label_index.astype(np.int), pred_index.astype(np.int), classes=np.array(list(class_dict)),\n",
    "                      class_dict=class_dict,\n",
    "                      normalize=True,\n",
    "                          title=\" \")\n",
    "experiment.log_figure(figure=plt, figure_name=\"norm_conf_matrix\")\n",
    "count = 0\n",
    "per_class_acc = [0] * 6\n",
    "for i in range(len(label_index)):\n",
    "    if(label_index[i] == pred_index[i]):\n",
    "        per_class_acc[int(label_index[i])] = per_class_acc[int(label_index[i])] + 1\n",
    "        count+=1\n",
    "\n",
    "val_accuracy=count/len(label_index)\n",
    "class_acc_dict = {}\n",
    "print(\"Accuracy is\",val_accuracy)\n",
    "# this is producer's accuracy\n",
    "for idx, class_correct in enumerate(per_class_acc):\n",
    "    class_acc_dict[class_dict[idx]] = round(class_correct/(int(len(label_index)/class_count)),4)\n",
    "    print('per_class_acc', class_correct/(per_class_count[idx]))"
   ]
  },
  {
   "cell_type": "markdown",
   "metadata": {},
   "source": [
    "Calculate the accuracy per class\n",
    "Calculate overall accuracy\n",
    "Add training samples\n",
    "add epochs\n",
    "add tile size"
   ]
  },
  {
   "cell_type": "code",
   "execution_count": 81,
   "metadata": {},
   "outputs": [],
   "source": [
    "import pandas as pd\n",
    "import seaborn as sns\n",
    "\n",
    "experiment_df = pd.DataFrame(columns=['exp_name','model_name','time_steps','train_count','overall_acc', \n",
    "                                      'epochs', 'tile_size', 'training_time', 'inference_time',\n",
    "                                      'water_acc_prod','dev_acc_prod', 'forest_acc_prod', 'cult_acc_prod', 'barren_acc_prod', 'wetland_acc_prod',\n",
    "                                      'water_acc_user','dev_acc_user', 'forest_acc_user', 'cult_acc_user', 'barren_acc_user', 'wetland_acc_user'])   "
   ]
  },
  {
   "cell_type": "code",
   "execution_count": 82,
   "metadata": {},
   "outputs": [],
   "source": [
    "experiment_df.loc[len(experiment_df)] = [exp_name, model_name, len(tiles['028012']), len(train_px)/class_count, val_accuracy, \n",
    "                                         epochs, tile_size, training_time, inference_time] + list(np.round(prod_acc,3)) + list(np.round(users_acc,3))\n"
   ]
  },
  {
   "cell_type": "code",
   "execution_count": 83,
   "metadata": {},
   "outputs": [
    {
     "data": {
      "text/html": [
       "<div>\n",
       "<style scoped>\n",
       "    .dataframe tbody tr th:only-of-type {\n",
       "        vertical-align: middle;\n",
       "    }\n",
       "\n",
       "    .dataframe tbody tr th {\n",
       "        vertical-align: top;\n",
       "    }\n",
       "\n",
       "    .dataframe thead th {\n",
       "        text-align: right;\n",
       "    }\n",
       "</style>\n",
       "<table border=\"1\" class=\"dataframe\">\n",
       "  <thead>\n",
       "    <tr style=\"text-align: right;\">\n",
       "      <th></th>\n",
       "      <th>exp_name</th>\n",
       "      <th>model_name</th>\n",
       "      <th>time_steps</th>\n",
       "      <th>train_count</th>\n",
       "      <th>overall_acc</th>\n",
       "      <th>epochs</th>\n",
       "      <th>tile_size</th>\n",
       "      <th>training_time</th>\n",
       "      <th>inference_time</th>\n",
       "      <th>water_acc_prod</th>\n",
       "      <th>...</th>\n",
       "      <th>forest_acc_prod</th>\n",
       "      <th>cult_acc_prod</th>\n",
       "      <th>barren_acc_prod</th>\n",
       "      <th>wetland_acc_prod</th>\n",
       "      <th>water_acc_user</th>\n",
       "      <th>dev_acc_user</th>\n",
       "      <th>forest_acc_user</th>\n",
       "      <th>cult_acc_user</th>\n",
       "      <th>barren_acc_user</th>\n",
       "      <th>wetland_acc_user</th>\n",
       "    </tr>\n",
       "  </thead>\n",
       "  <tbody>\n",
       "    <tr>\n",
       "      <th>0</th>\n",
       "      <td>initial_keras_tests_trainedvalonly</td>\n",
       "      <td>rcnn_9</td>\n",
       "      <td>5</td>\n",
       "      <td>125.0</td>\n",
       "      <td>0.948</td>\n",
       "      <td>60</td>\n",
       "      <td>9</td>\n",
       "      <td>00:04:07.613393</td>\n",
       "      <td>00:00:01.891196</td>\n",
       "      <td>1.0</td>\n",
       "      <td>...</td>\n",
       "      <td>0.968</td>\n",
       "      <td>0.904</td>\n",
       "      <td>0.952</td>\n",
       "      <td>0.96</td>\n",
       "      <td>1.0</td>\n",
       "      <td>0.942</td>\n",
       "      <td>0.976</td>\n",
       "      <td>0.95</td>\n",
       "      <td>0.902</td>\n",
       "      <td>0.923</td>\n",
       "    </tr>\n",
       "  </tbody>\n",
       "</table>\n",
       "<p>1 rows × 21 columns</p>\n",
       "</div>"
      ],
      "text/plain": [
       "                             exp_name model_name time_steps  train_count  \\\n",
       "0  initial_keras_tests_trainedvalonly     rcnn_9          5        125.0   \n",
       "\n",
       "   overall_acc epochs tile_size   training_time  inference_time  \\\n",
       "0        0.948     60         9 00:04:07.613393 00:00:01.891196   \n",
       "\n",
       "   water_acc_prod  ...  forest_acc_prod  cult_acc_prod  barren_acc_prod  \\\n",
       "0             1.0  ...            0.968          0.904            0.952   \n",
       "\n",
       "   wetland_acc_prod  water_acc_user  dev_acc_user  forest_acc_user  \\\n",
       "0              0.96             1.0         0.942            0.976   \n",
       "\n",
       "   cult_acc_user  barren_acc_user  wetland_acc_user  \n",
       "0           0.95            0.902             0.923  \n",
       "\n",
       "[1 rows x 21 columns]"
      ]
     },
     "execution_count": 83,
     "metadata": {},
     "output_type": "execute_result"
    }
   ],
   "source": [
    "experiment_df.tail(5)"
   ]
  },
  {
   "cell_type": "code",
   "execution_count": 84,
   "metadata": {},
   "outputs": [],
   "source": [
    "experiment_df.to_csv('model_search/' + model_name + '--' + exp_name + '.csv')"
   ]
  },
  {
   "cell_type": "code",
   "execution_count": 85,
   "metadata": {},
   "outputs": [
    {
     "name": "stderr",
     "output_type": "stream",
     "text": [
      "/usr/local/lib/python3.5/dist-packages/ipykernel_launcher.py:2: FutureWarning: Sorting because non-concatenation axis is not aligned. A future version\n",
      "of pandas will change to not sort by default.\n",
      "\n",
      "To accept the future behavior, pass 'sort=False'.\n",
      "\n",
      "To retain the current behavior and silence the warning, pass 'sort=True'.\n",
      "\n",
      "  \n"
     ]
    }
   ],
   "source": [
    "all_exps = pd.read_csv('model_search/' + 'all_model_runs.csv')\n",
    "all_exps = pd.concat([all_exps,experiment_df], ignore_index=True)\n",
    "all_exps.to_csv('model_search/' + 'all_model_runs.csv')"
   ]
  },
  {
   "cell_type": "code",
   "execution_count": 86,
   "metadata": {},
   "outputs": [],
   "source": [
    "params = {\n",
    "    \"exp_name\":exp_name,\n",
    "    \"model_name\":model_name,\n",
    "    \"landsat_tiles\":tiles,\n",
    "    \"cnn_tile_size\":tile_size,\n",
    "    \"class_dict\":class_dict,\n",
    "    \"batch_size\":batch_size,\n",
    "    \"steps_division_factor\":steps_division_factor,\n",
    "    \"lc_validation_acc\":val_accuracy\n",
    "}\n",
    "experiment.log_parameters(params)"
   ]
  },
  {
   "cell_type": "code",
   "execution_count": 87,
   "metadata": {},
   "outputs": [
    {
     "name": "stderr",
     "output_type": "stream",
     "text": [
      "COMET INFO: ---------------------------\n",
      "COMET INFO: Comet.ml Experiment Summary\n",
      "COMET INFO: ---------------------------\n",
      "COMET INFO:   Data:\n",
      "COMET INFO:     display_summary_level : 1\n",
      "COMET INFO:     url                   : https://www.comet.ml/clifgray/chronos/9e8ac2f226614598a0ad6a0fde6d93cd\n",
      "COMET INFO:   Metrics [count] (min, max):\n",
      "COMET INFO:     acc [77]                  : (0.30666665981213254, 1.0)\n",
      "COMET INFO:     batch_acc [201]           : (0.07999999821186066, 1.0)\n",
      "COMET INFO:     batch_loss [201]          : (8.559248954043142e-07, 1.8367645740509033)\n",
      "COMET INFO:     epoch_duration [77]       : (1.47577236907091, 5.896654153941199)\n",
      "COMET INFO:     loss [77]                 : (2.0171233743819053e-05, 1.5885132153828938)\n",
      "COMET INFO:     val_acc [77]              : (0.5693333327770234, 0.9479999939600626)\n",
      "COMET INFO:     val_loss [77]             : (0.1685162188950926, 1.0602630118529002)\n",
      "COMET INFO:     validate_batch_acc [236]  : (0.3199999928474426, 1.0)\n",
      "COMET INFO:     validate_batch_loss [236] : (0.01877353899180889, 1.2062369585037231)\n",
      "COMET INFO:   Others [count]:\n",
      "COMET INFO:     trainable_params [3] : 496326\n",
      "COMET INFO:   Parameters [count]:\n",
      "COMET INFO:     Adam_amsgrad          : 1\n",
      "COMET INFO:     Adam_beta_1           : 0.8999999761581421\n",
      "COMET INFO:     Adam_beta_2           : 0.9990000128746033\n",
      "COMET INFO:     Adam_decay            : 1\n",
      "COMET INFO:     Adam_epsilon          : 1e-07\n",
      "COMET INFO:     Adam_lr               : 0.0010000000474974513\n",
      "COMET INFO:     batch_size            : 25\n",
      "COMET INFO:     class_dict            : {0: 'Water', 1: 'Developed', 2: 'Forest', 3: 'Cultivated', 4: 'Barren', 5: 'Wetland'}\n",
      "COMET INFO:     cnn_tile_size         : 9\n",
      "COMET INFO:     epochs                : 60\n",
      "COMET INFO:     exp_name              : initial_keras_tests_trainedvalonly\n",
      "COMET INFO:     landsat_tiles         : {'028011': ['20110103', '20110308', '20110831', '20111018', '20111103'], '028012': ['20110103', '20110308', '20110730', '20110831', '20111103'], '029011': ['20110103', '20110308', '20110730', '20110831', '20111018']}\n",
      "COMET INFO:     lc_validation_acc     : 0.948\n",
      "COMET INFO:     model_name            : rcnn_9\n",
      "COMET INFO:     steps [2]             : 30\n",
      "COMET INFO:     steps_division_factor : 10\n",
      "COMET INFO:   Uploads [count]:\n",
      "COMET INFO:     code                     : 1 (26 KB)\n",
      "COMET INFO:     environment details      : 1\n",
      "COMET INFO:     figures [4]              : 4\n",
      "COMET INFO:     filename                 : 1\n",
      "COMET INFO:     git metadata             : 1\n",
      "COMET INFO:     git-patch (uncompressed) : 1 (11 MB)\n",
      "COMET INFO:     installed packages       : 1\n",
      "COMET INFO:     model graph              : 1\n",
      "COMET INFO:     os packages              : 1\n",
      "COMET INFO: ---------------------------\n",
      "COMET INFO: Uploading stats to Comet before program termination (may take several seconds)\n"
     ]
    }
   ],
   "source": [
    "experiment.end()"
   ]
  },
  {
   "cell_type": "code",
   "execution_count": 37,
   "metadata": {},
   "outputs": [
    {
     "data": {
      "text/plain": [
       "'model_search/rcnn_9--initial_keras_tests.hdf5'"
      ]
     },
     "execution_count": 37,
     "metadata": {},
     "output_type": "execute_result"
    }
   ],
   "source": [
    "filepath"
   ]
  },
  {
   "cell_type": "code",
   "execution_count": null,
   "metadata": {},
   "outputs": [],
   "source": []
  }
 ],
 "metadata": {
  "kernelspec": {
   "display_name": "Python 3",
   "language": "python",
   "name": "python3"
  },
  "language_info": {
   "codemirror_mode": {
    "name": "ipython",
    "version": 3
   },
   "file_extension": ".py",
   "mimetype": "text/x-python",
   "name": "python",
   "nbconvert_exporter": "python",
   "pygments_lexer": "ipython3",
   "version": "3.5.2"
  }
 },
 "nbformat": 4,
 "nbformat_minor": 2
}
