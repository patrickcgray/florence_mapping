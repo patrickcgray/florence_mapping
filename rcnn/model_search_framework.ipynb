{
 "cells": [
  {
   "cell_type": "markdown",
   "metadata": {},
   "source": [
    "## LC Model Search Framework"
   ]
  },
  {
   "cell_type": "markdown",
   "metadata": {},
   "source": [
    "* Compare 1 season (summer) and 4 temporal steps\n",
    "* Compare 0 - 1500 training training samples per class in 100 sample increments\n",
    "* CNN component and RNN components in isolation\n",
    "* regular CNN+RNN vs conv2dlstm and RNN vs just conv2dLSTM\n",
    "* Compare to scikit-learn methods using same val and test datasets\n",
    "* Compare best model across time\n",
    "    * if major decrease in accuracy then consider training on both 2010 and 2011 data for initial time step\n",
    "        * consider training on 1999 data to see how it changes the model"
   ]
  },
  {
   "cell_type": "code",
   "execution_count": 1,
   "metadata": {},
   "outputs": [
    {
     "name": "stderr",
     "output_type": "stream",
     "text": [
      "Using TensorFlow backend.\n"
     ]
    }
   ],
   "source": [
    "import comet_ml\n",
    "from comet_ml import Experiment\n",
    "import datetime\n",
    "import rasterio\n",
    "import keras\n",
    "import random\n",
    "from keras import backend as K\n",
    "from keras.callbacks import ModelCheckpoint\n",
    "from keras.models import Sequential\n",
    "from keras.layers import Dense, Dropout, Flatten, Reshape, Bidirectional\n",
    "from keras.layers import Conv2D, Conv3D, MaxPooling2D, MaxPooling3D, ConvLSTM2D, TimeDistributed, UpSampling2D, Concatenate, LSTM, concatenate\n",
    "from keras.layers import Activation, BatchNormalization\n",
    "from keras.optimizers import SGD, Adadelta, Adam\n",
    "from keras import Input\n",
    "from keras import Model\n",
    "import matplotlib.pyplot as plt\n",
    "import geopandas as gpd\n",
    "import os\n",
    "import sys\n",
    "from sklearn.utils import class_weight\n",
    "module_path = os.path.abspath(os.path.join('..'))\n",
    "if module_path not in sys.path:\n",
    "    sys.path.append(module_path)\n",
    "import utilities as util\n",
    "import importlib\n",
    "import rnn_tiles\n",
    "import rnn_pixels\n",
    "import numpy as np"
   ]
  },
  {
   "cell_type": "code",
   "execution_count": 75,
   "metadata": {},
   "outputs": [
    {
     "data": {
      "text/plain": [
       "<module 'utilities' from '/host/Code/florence_mapping/utilities.py'>"
      ]
     },
     "execution_count": 75,
     "metadata": {},
     "output_type": "execute_result"
    }
   ],
   "source": [
    "importlib.reload(rnn_pixels)\n",
    "importlib.reload(rnn_tiles)\n",
    "importlib.reload(util)"
   ]
  },
  {
   "cell_type": "code",
   "execution_count": 93,
   "metadata": {},
   "outputs": [],
   "source": [
    "exp_name = 'simple_keras_tests'\n",
    "model_name = 'rnn_lstm'"
   ]
  },
  {
   "cell_type": "markdown",
   "metadata": {},
   "source": [
    "Assign your specific GPU so we don't overlap"
   ]
  },
  {
   "cell_type": "code",
   "execution_count": 4,
   "metadata": {},
   "outputs": [],
   "source": [
    "os.environ[\"CUDA_VISIBLE_DEVICES\"]=\"0\";"
   ]
  },
  {
   "cell_type": "markdown",
   "metadata": {},
   "source": [
    "Is that GPU and only that GPU visible?\n",
    "\n",
    "Note that it will always say GPU:0 but you should just see one"
   ]
  },
  {
   "cell_type": "code",
   "execution_count": 5,
   "metadata": {},
   "outputs": [
    {
     "data": {
      "text/plain": [
       "['/job:localhost/replica:0/task:0/device:GPU:0']"
      ]
     },
     "execution_count": 5,
     "metadata": {},
     "output_type": "execute_result"
    }
   ],
   "source": [
    "from keras import backend as K\n",
    "K.tensorflow_backend._get_available_gpus()"
   ]
  },
  {
   "cell_type": "markdown",
   "metadata": {},
   "source": [
    "Ingest Training Labels\n",
    "\n",
    "Note that these are monster files so be careful how you inspect them, typically you only want to use the `rasterio` windows option"
   ]
  },
  {
   "cell_type": "code",
   "execution_count": 6,
   "metadata": {},
   "outputs": [],
   "source": [
    "lc_labels = rasterio.open('/deep_data/recurrent_data/NLCD_DATA/landcover/NLCD_2011_Land_Cover_L48_20190424.img')\n",
    "canopy_labels = rasterio.open('/deep_data/recurrent_data/NLCD_DATA/canopy/CONUSCartographic_2_8_16/Cartographic/nlcd2011_usfs_conus_canopy_cartographic.img')\n",
    "class_dict = util.indexed_dictionary"
   ]
  },
  {
   "cell_type": "markdown",
   "metadata": {},
   "source": [
    "Ingest the landsat imagery stacked into yearly seasonal tiles"
   ]
  },
  {
   "cell_type": "code",
   "execution_count": 7,
   "metadata": {},
   "outputs": [],
   "source": [
    "tiles = {}\n",
    "landsat_datasets = {}\n",
    "tiles['028012'] = ['20110103', '20110308', '20110730', '20110831', '20111103']\n",
    "tiles['029011'] = ['20110103', '20110308', '20110730', '20110831', '20111018']\n",
    "tiles['028011'] = ['20110103', '20110308', '20110831', '20111018', '20111103']\n",
    "\n",
    "for tile_number, dates in tiles.items():\n",
    "    tile_datasets = []\n",
    "    l8_image_paths = []\n",
    "    for date in dates:\n",
    "        l8_image_paths.append('/deep_data/recurrent_data/tile{}/combined/combined{}.tif'.format(tile_number, date))\n",
    "    for fp in l8_image_paths:\n",
    "        tile_datasets.append(rasterio.open(fp))\n",
    "    landsat_datasets[tile_number] = tile_datasets"
   ]
  },
  {
   "cell_type": "markdown",
   "metadata": {},
   "source": [
    "### Load pixels from shapefiles"
   ]
  },
  {
   "cell_type": "code",
   "execution_count": 8,
   "metadata": {},
   "outputs": [
    {
     "data": {
      "text/plain": [
       "(9000, ((81, 3543), '028012'))"
      ]
     },
     "execution_count": 8,
     "metadata": {},
     "output_type": "execute_result"
    }
   ],
   "source": [
    "train_gdf = gpd.read_file('../train_buffered_points140520.shp')\n",
    "train_px = []\n",
    "for index, row in train_gdf.iterrows():\n",
    "    train_px.append(((row['row'], row['col']), row['tile_name']))\n",
    "\n",
    "random.shuffle(train_px)\n",
    "\n",
    "len(train_px), train_px[0]"
   ]
  },
  {
   "cell_type": "code",
   "execution_count": 12,
   "metadata": {},
   "outputs": [
    {
     "data": {
      "text/plain": [
       "(750, ((2678, 1318), '028011'))"
      ]
     },
     "execution_count": 12,
     "metadata": {},
     "output_type": "execute_result"
    }
   ],
   "source": [
    "val_gdf = gpd.read_file('../val_buffered_points140520.shp')\n",
    "val_px = []\n",
    "\n",
    "per_class_count = [0] * 6\n",
    "total_per_class_count = [0] * 6\n",
    "\n",
    "for index, row in val_gdf.iterrows():\n",
    "    #if not row['dubious']:\n",
    "        total_per_class_count[int(row['label'])] = total_per_class_count[int(row['label'])] + 1\n",
    "        if per_class_count[int(row['label'])] < 125:\n",
    "            per_class_count[int(row['label'])] = per_class_count[int(row['label'])] + 1\n",
    "            val_px.append(((row['row'], row['col']), row['tile_name']))\n",
    "    \n",
    "random.shuffle(val_px)\n",
    "\n",
    "len(val_px), val_px[0]"
   ]
  },
  {
   "cell_type": "code",
   "execution_count": 13,
   "metadata": {},
   "outputs": [
    {
     "data": {
      "text/plain": [
       "([150, 150, 150, 150, 150, 150], [125, 125, 125, 125, 125, 125])"
      ]
     },
     "execution_count": 13,
     "metadata": {},
     "output_type": "execute_result"
    }
   ],
   "source": [
    "total_per_class_count, per_class_count"
   ]
  },
  {
   "cell_type": "code",
   "execution_count": 14,
   "metadata": {},
   "outputs": [
    {
     "data": {
      "text/html": [
       "<div>\n",
       "<style scoped>\n",
       "    .dataframe tbody tr th:only-of-type {\n",
       "        vertical-align: middle;\n",
       "    }\n",
       "\n",
       "    .dataframe tbody tr th {\n",
       "        vertical-align: top;\n",
       "    }\n",
       "\n",
       "    .dataframe thead th {\n",
       "        text-align: right;\n",
       "    }\n",
       "</style>\n",
       "<table border=\"1\" class=\"dataframe\">\n",
       "  <thead>\n",
       "    <tr style=\"text-align: right;\">\n",
       "      <th></th>\n",
       "      <th>canopy</th>\n",
       "      <th>col</th>\n",
       "      <th>label</th>\n",
       "      <th>row</th>\n",
       "      <th>tile_name</th>\n",
       "      <th>x</th>\n",
       "      <th>y</th>\n",
       "      <th>geometry</th>\n",
       "    </tr>\n",
       "  </thead>\n",
       "  <tbody>\n",
       "    <tr>\n",
       "      <th>0</th>\n",
       "      <td>0.0</td>\n",
       "      <td>596</td>\n",
       "      <td>0</td>\n",
       "      <td>698</td>\n",
       "      <td>029011</td>\n",
       "      <td>1802310.0</td>\n",
       "      <td>1643850.0</td>\n",
       "      <td>POLYGON ((-75.6441512084 36.10119086803808, -7...</td>\n",
       "    </tr>\n",
       "    <tr>\n",
       "      <th>1</th>\n",
       "      <td>0.0</td>\n",
       "      <td>467</td>\n",
       "      <td>0</td>\n",
       "      <td>3956</td>\n",
       "      <td>029011</td>\n",
       "      <td>1798440.0</td>\n",
       "      <td>1546110.0</td>\n",
       "      <td>POLYGON ((-75.91635673586633 35.25513889890946...</td>\n",
       "    </tr>\n",
       "    <tr>\n",
       "      <th>2</th>\n",
       "      <td>0.0</td>\n",
       "      <td>749</td>\n",
       "      <td>0</td>\n",
       "      <td>4096</td>\n",
       "      <td>029011</td>\n",
       "      <td>1806900.0</td>\n",
       "      <td>1541910.0</td>\n",
       "      <td>POLYGON ((-75.83449049734953 35.20255815179633...</td>\n",
       "    </tr>\n",
       "    <tr>\n",
       "      <th>3</th>\n",
       "      <td>0.0</td>\n",
       "      <td>4780</td>\n",
       "      <td>0</td>\n",
       "      <td>4536</td>\n",
       "      <td>028011</td>\n",
       "      <td>1777830.0</td>\n",
       "      <td>1528710.0</td>\n",
       "      <td>POLYGON ((-76.17979015822588 35.14144967077146...</td>\n",
       "    </tr>\n",
       "    <tr>\n",
       "      <th>4</th>\n",
       "      <td>0.0</td>\n",
       "      <td>1120</td>\n",
       "      <td>0</td>\n",
       "      <td>3425</td>\n",
       "      <td>028012</td>\n",
       "      <td>1668030.0</td>\n",
       "      <td>1412040.0</td>\n",
       "      <td>POLYGON ((-77.6206367137414 34.31532226132933,...</td>\n",
       "    </tr>\n",
       "  </tbody>\n",
       "</table>\n",
       "</div>"
      ],
      "text/plain": [
       "   canopy   col  label   row tile_name          x          y  \\\n",
       "0     0.0   596      0   698    029011  1802310.0  1643850.0   \n",
       "1     0.0   467      0  3956    029011  1798440.0  1546110.0   \n",
       "2     0.0   749      0  4096    029011  1806900.0  1541910.0   \n",
       "3     0.0  4780      0  4536    028011  1777830.0  1528710.0   \n",
       "4     0.0  1120      0  3425    028012  1668030.0  1412040.0   \n",
       "\n",
       "                                            geometry  \n",
       "0  POLYGON ((-75.6441512084 36.10119086803808, -7...  \n",
       "1  POLYGON ((-75.91635673586633 35.25513889890946...  \n",
       "2  POLYGON ((-75.83449049734953 35.20255815179633...  \n",
       "3  POLYGON ((-76.17979015822588 35.14144967077146...  \n",
       "4  POLYGON ((-77.6206367137414 34.31532226132933,...  "
      ]
     },
     "execution_count": 14,
     "metadata": {},
     "output_type": "execute_result"
    }
   ],
   "source": [
    "val_gdf.head()"
   ]
  },
  {
   "cell_type": "markdown",
   "metadata": {},
   "source": [
    "### Create the RNN"
   ]
  },
  {
   "cell_type": "code",
   "execution_count": 99,
   "metadata": {},
   "outputs": [],
   "source": [
    "def strangeBlock_v4(input_block, nb_layers, filters):\n",
    "    x_list = [input_block]\n",
    "    c_temp = input_block\n",
    "    for i in range(nb_layers):\n",
    "        c_l = LSTM(units=filters, activation='elu', return_sequences=True) (c_temp)\n",
    "        x_list.append(c_l)\n",
    "        merge = Concatenate()(x_list)\n",
    "        c_temp = merge\n",
    "    return c_temp"
   ]
  },
  {
   "cell_type": "code",
   "execution_count": 12,
   "metadata": {},
   "outputs": [],
   "source": [
    "def make_MLT_dense(in_shape, in_shape_tile, num_classes):\n",
    "    input_tensor = Input(shape = in_shape, name=\"rnn_input\")\n",
    "    #single pixel model\n",
    "    block = strangeBlock_v4(input_tensor, 5, 12)\n",
    "    block_2 = strangeBlock_v4(block, 3, 20)\n",
    "    final_block = LSTM(64, activation='softmax', return_sequences=False) (block_2)\n",
    "\n",
    "    #cnn model\n",
    "    input_tensor_tile = Input(shape = in_shape_tile, name=\"tile_input\")\n",
    "    \n",
    "    \n",
    "    cnn_layer1 = ConvLSTM2D(64, kernel_size=3, activation='elu', data_format='channels_last', \n",
    "                            return_sequences=True)(input_tensor_tile)\n",
    "    \n",
    "    first_batch_norm = BatchNormalization()(cnn_layer1)\n",
    "    \n",
    "    cnn_layer2 = ConvLSTM2D(64, kernel_size=3, activation='elu', data_format='channels_last', \n",
    "                            return_sequences=True)(first_batch_norm)\n",
    "    \n",
    "    second_batch_norm = BatchNormalization()(cnn_layer2)\n",
    "    \n",
    "    first_pool3D = MaxPooling3D(pool_size=(1, 2, 2), padding='same', data_format='channels_last')(second_batch_norm)\n",
    "    \n",
    "    cnn_layer3 = ConvLSTM2D(64, kernel_size=2, activation='elu', data_format='channels_last', \n",
    "                            return_sequences=False)(first_pool3D)\n",
    "    \n",
    "    first_pool2D = MaxPooling2D(pool_size=(2, 2), strides=None, padding='same') (cnn_layer3)\n",
    "    \n",
    "    third_batch_norm = BatchNormalization()(first_pool2D)\n",
    "    \n",
    "    flatten = Flatten()(third_batch_norm)\n",
    "    \n",
    "    #concat = concatenate([final_block, flatten])\n",
    "    \n",
    "    concat = flatten\n",
    "    \n",
    "    denselayer = Dense(64, activation=\"elu\")(concat)\n",
    "    \n",
    "    landcover = Dense(num_classes,activation='softmax', name='landcover') (denselayer)\n",
    "    #canopy = Dense(1, name='canopy') (concat)\n",
    "\n",
    "    model = Model(inputs=[input_tensor,input_tensor_tile], outputs=[landcover])\n",
    "    return model"
   ]
  },
  {
   "cell_type": "code",
   "execution_count": 13,
   "metadata": {},
   "outputs": [],
   "source": [
    "def make_MLT_dense(in_shape, in_shape_tile, num_classes):\n",
    "    input_tensor = Input(shape = in_shape, name=\"rnn_input\")\n",
    "    #single pixel model\n",
    "    block = strangeBlock_v4(input_tensor, 5, 12)\n",
    "    block_2 = strangeBlock_v4(block, 3, 20)\n",
    "    final_block = LSTM(64, activation='softmax', return_sequences=False) (block_2)\n",
    "\n",
    "    #cnn model\n",
    "    input_tensor_tile = Input(shape = in_shape_tile, name=\"tile_input\")\n",
    "    \n",
    "    \n",
    "    cnn_layer1 = ConvLSTM2D(64, kernel_size=3, activation='elu', data_format='channels_last', \n",
    "                            return_sequences=True)(input_tensor_tile)\n",
    "    \n",
    "    first_batch_norm = BatchNormalization()(cnn_layer1)\n",
    "    \n",
    "    cnn_layer2 = ConvLSTM2D(64, kernel_size=3, activation='elu', data_format='channels_last', \n",
    "                            return_sequences=True)(first_batch_norm)\n",
    "    \n",
    "    second_batch_norm = BatchNormalization()(cnn_layer2)\n",
    "    \n",
    "    first_pool3D = MaxPooling3D(pool_size=(1, 2, 2), padding='same', data_format='channels_last')(second_batch_norm)\n",
    "    \n",
    "    cnn_layer3 = ConvLSTM2D(64, kernel_size=2, activation='elu', data_format='channels_last', \n",
    "                            return_sequences=True)(first_pool3D)\n",
    "    \n",
    "    third_batch_norm = BatchNormalization()(cnn_layer3)\n",
    "    \n",
    "    #first_pool2D = MaxPooling2D(pool_size=(2, 2), strides=None, padding='same') (third_batch_norm)\n",
    "    #second_pool3D = MaxPooling3D(pool_size=(1, 2, 2), padding='same', data_format='channels_last')(third_batch_norm)\n",
    "    \n",
    "    flatten = Flatten()(third_batch_norm)\n",
    "    \n",
    "    #concat = concatenate([final_block, flatten])    \n",
    "    denselayer = Dense(64, activation=\"elu\")(flatten)\n",
    "    \n",
    "    landcover = Dense(num_classes,activation='softmax', name='landcover') (denselayer)\n",
    "    #canopy = Dense(1, name='canopy') (concat)\n",
    "\n",
    "    model = Model(inputs=[input_tensor,input_tensor_tile], outputs=[landcover])\n",
    "    return model"
   ]
  },
  {
   "cell_type": "code",
   "execution_count": 14,
   "metadata": {},
   "outputs": [],
   "source": [
    "def make_MLT_dense(in_shape, in_shape_tile, num_classes):\n",
    "    input_tensor = Input(shape = in_shape, name=\"rnn_input\")\n",
    "    #single pixel model\n",
    "    block = strangeBlock_v4(input_tensor, 5, 12)\n",
    "    block_2 = strangeBlock_v4(block, 3, 20)\n",
    "    final_block = LSTM(64, activation='softmax', return_sequences=False) (block_2)\n",
    "\n",
    "    #cnn model\n",
    "    input_tensor_tile = Input(shape = in_shape_tile, name=\"tile_input\")\n",
    "    cnn_layer1 = ConvLSTM2D(64, kernel_size=3, activation='elu', return_sequences=True, data_format='channels_last')(input_tensor_tile)\n",
    "    first_batch_norm = BatchNormalization()(cnn_layer1)\n",
    "    cnn_layer2 = ConvLSTM2D(64, kernel_size=3, activation='elu', return_sequences=True, data_format='channels_last') (first_batch_norm)\n",
    "    second_batch_norm = BatchNormalization()(cnn_layer2)\n",
    "    maxpool = MaxPooling3D(pool_size=(1, 2, 2), strides=None, padding='same') (second_batch_norm)\n",
    "    cnn_layer3 = ConvLSTM2D(64, kernel_size=2, activation='elu', return_sequences=False, data_format='channels_last') (second_batch_norm)\n",
    "    flatten = Flatten()(cnn_layer3)\n",
    "    #concat = concatenate([final_block, flatten])\n",
    "    \n",
    "    denselayer = Dense(64, activation=\"relu\")(flatten)\n",
    "    \n",
    "    landcover = Dense(num_classes,activation='softmax', name='landcover') (denselayer)\n",
    "    #canopy = Dense(1, name='canopy') (concat)\n",
    "\n",
    "    model = Model(inputs=[input_tensor,input_tensor_tile], outputs=[landcover])\n",
    "    return model"
   ]
  },
  {
   "cell_type": "code",
   "execution_count": 94,
   "metadata": {},
   "outputs": [],
   "source": [
    "def make_MLT_dense(in_shape, in_shape_tile, num_classes):\n",
    "    input_tensor = Input(shape = in_shape, name=\"rnn_input\")\n",
    "    #single pixel rnn model\n",
    "    block = strangeBlock_v4(input_tensor, 5, 12)\n",
    "    block_2 = strangeBlock_v4(block, 3, 20)\n",
    "    final_block = LSTM(64, activation='softmax', return_sequences=False) (block_2)\n",
    "\n",
    "    #cnn model\n",
    "    input_tensor_tile = Input(shape = in_shape_tile, name=\"tile_input\")\n",
    "    cnn_layer1 = ConvLSTM2D(64, kernel_size=3, activation='elu', return_sequences=True)(input_tensor_tile)\n",
    "    # batch norm\n",
    "    cnn_layer2 = ConvLSTM2D(64, kernel_size=3, activation='elu', return_sequences=False) (cnn_layer1)\n",
    "    maxpool = MaxPooling2D(pool_size=(2, 2), strides=None, padding='same') (cnn_layer2)\n",
    "    flatten = Flatten()(maxpool)\n",
    "    concat = concatenate([final_block, flatten])\n",
    "    \n",
    "    #denselayer = Dense(64, activation=\"elu\")(concat)\n",
    "    denselayer = Dense(64, activation=\"elu\")(final_block)\n",
    "    \n",
    "    landcover = Dense(num_classes,activation='softmax', name='landcover') (denselayer)\n",
    "    #canopy = Dense(1, name='canopy') (concat)\n",
    "\n",
    "    model = Model(inputs=[input_tensor,input_tensor_tile], outputs=[landcover])\n",
    "    return model"
   ]
  },
  {
   "cell_type": "markdown",
   "metadata": {},
   "source": [
    "Start the experiments here:"
   ]
  },
  {
   "cell_type": "code",
   "execution_count": 95,
   "metadata": {},
   "outputs": [
    {
     "name": "stderr",
     "output_type": "stream",
     "text": [
      "COMET INFO: old comet version (3.1.6) detected. current: 3.1.7 please update your comet lib with command: `pip install --no-cache-dir --upgrade comet_ml`\n",
      "COMET INFO: Experiment is live on comet.ml https://www.comet.ml/clifgray/chronos/dd3823336ba440d686fac61999bef6d0\n",
      "\n"
     ]
    }
   ],
   "source": [
    "experiment = Experiment(api_key=\"rMFbl2RlGxNuyyL37dE7qPSfE\",\n",
    "                        project_name=\"chronos\", workspace=\"clifgray\")"
   ]
  },
  {
   "cell_type": "code",
   "execution_count": 96,
   "metadata": {},
   "outputs": [],
   "source": [
    "experiment.add_tag(exp_name)"
   ]
  },
  {
   "cell_type": "code",
   "execution_count": 97,
   "metadata": {},
   "outputs": [],
   "source": [
    "tile_size = 13\n",
    "tile_list = ['028012', '029011', '028011']\n",
    "class_count = len(class_dict)\n",
    "epochs = 60\n",
    "batch_size = 25\n",
    "steps_division_factor = 10"
   ]
  },
  {
   "cell_type": "code",
   "execution_count": 18,
   "metadata": {},
   "outputs": [
    {
     "name": "stdout",
     "output_type": "stream",
     "text": [
      "WARNING:tensorflow:From /usr/local/lib/python3.5/dist-packages/tensorflow/python/framework/op_def_library.py:263: colocate_with (from tensorflow.python.framework.ops) is deprecated and will be removed in a future version.\n",
      "Instructions for updating:\n",
      "Colocations handled automatically by placer.\n",
      "WARNING:tensorflow:From /usr/local/lib/python3.5/dist-packages/keras/backend/tensorflow_backend.py:3733: calling dropout (from tensorflow.python.ops.nn_ops) with keep_prob is deprecated and will be removed in a future version.\n",
      "Instructions for updating:\n",
      "Please use `rate` instead of `keep_prob`. Rate should be set to `rate = 1 - keep_prob`.\n",
      "Model: \"sequential_1\"\n",
      "_________________________________________________________________\n",
      "Layer (type)                 Output Shape              Param #   \n",
      "=================================================================\n",
      "dense_1 (Dense)              (None, 64)                378624    \n",
      "_________________________________________________________________\n",
      "dropout_1 (Dropout)          (None, 64)                0         \n",
      "_________________________________________________________________\n",
      "dense_2 (Dense)              (None, 64)                4160      \n",
      "_________________________________________________________________\n",
      "dropout_2 (Dropout)          (None, 64)                0         \n",
      "_________________________________________________________________\n",
      "dense_3 (Dense)              (None, 6)                 390       \n",
      "=================================================================\n",
      "Total params: 383,174\n",
      "Trainable params: 383,174\n",
      "Non-trainable params: 0\n",
      "_________________________________________________________________\n"
     ]
    }
   ],
   "source": [
    "model = Sequential()\n",
    "model.add(Dense(64, activation='relu', input_shape=((tile_size*tile_size*len(tiles['028012'])*7),)))\n",
    "model.add(Dropout(0.2))\n",
    "model.add(Dense(64, activation='relu'))\n",
    "model.add(Dropout(0.2))\n",
    "model.add(Dense(class_count, activation='softmax'))\n",
    "\n",
    "model.summary()\n",
    "\n",
    "\n",
    "model.compile(loss='categorical_crossentropy',\n",
    "              optimizer=keras.optimizers.RMSprop(),\n",
    "              metrics=['accuracy'])"
   ]
  },
  {
   "cell_type": "code",
   "execution_count": 72,
   "metadata": {},
   "outputs": [
    {
     "name": "stdout",
     "output_type": "stream",
     "text": [
      "Model: \"sequential_3\"\n",
      "_________________________________________________________________\n",
      "Layer (type)                 Output Shape              Param #   \n",
      "=================================================================\n",
      "conv3d_3 (Conv3D)            (None, 3, 11, 11, 32)     6080      \n",
      "_________________________________________________________________\n",
      "conv3d_4 (Conv3D)            (None, 1, 9, 9, 64)       55360     \n",
      "_________________________________________________________________\n",
      "max_pooling3d_2 (MaxPooling3 (None, 1, 4, 4, 64)       0         \n",
      "_________________________________________________________________\n",
      "dropout_5 (Dropout)          (None, 1, 4, 4, 64)       0         \n",
      "_________________________________________________________________\n",
      "flatten_2 (Flatten)          (None, 1024)              0         \n",
      "_________________________________________________________________\n",
      "dense_6 (Dense)              (None, 128)               131200    \n",
      "_________________________________________________________________\n",
      "dropout_6 (Dropout)          (None, 128)               0         \n",
      "_________________________________________________________________\n",
      "dense_7 (Dense)              (None, 6)                 774       \n",
      "=================================================================\n",
      "Total params: 193,414\n",
      "Trainable params: 193,414\n",
      "Non-trainable params: 0\n",
      "_________________________________________________________________\n"
     ]
    }
   ],
   "source": [
    "model = Sequential()\n",
    "model.add(Conv3D(32, kernel_size=(3, 3, 3),\n",
    "                 activation='relu',\n",
    "                 input_shape=(len(tiles['028012']),tile_size,tile_size,7)))\n",
    "model.add(Conv3D(64, (3, 3, 3), activation='relu'))\n",
    "model.add(MaxPooling3D(pool_size=(1, 2, 2)))\n",
    "model.add(Dropout(0.2))\n",
    "model.add(Flatten())\n",
    "model.add(Dense(128, activation='relu'))\n",
    "model.add(Dropout(0.2))\n",
    "model.add(Dense(class_count, activation='softmax'))\n",
    "\n",
    "model.summary()\n",
    "\n",
    "model.compile(loss=keras.losses.categorical_crossentropy,\n",
    "              optimizer=keras.optimizers.Adadelta(),\n",
    "              metrics=['accuracy'])"
   ]
  },
  {
   "cell_type": "code",
   "execution_count": 100,
   "metadata": {},
   "outputs": [
    {
     "name": "stdout",
     "output_type": "stream",
     "text": [
      "Model: \"model_1\"\n",
      "__________________________________________________________________________________________________\n",
      "Layer (type)                    Output Shape         Param #     Connected to                     \n",
      "==================================================================================================\n",
      "rnn_input (InputLayer)          (None, 5, 7)         0                                            \n",
      "__________________________________________________________________________________________________\n",
      "lstm_1 (LSTM)                   (None, 5, 12)        960         rnn_input[0][0]                  \n",
      "__________________________________________________________________________________________________\n",
      "concatenate_1 (Concatenate)     (None, 5, 19)        0           rnn_input[0][0]                  \n",
      "                                                                 lstm_1[0][0]                     \n",
      "__________________________________________________________________________________________________\n",
      "lstm_2 (LSTM)                   (None, 5, 12)        1536        concatenate_1[0][0]              \n",
      "__________________________________________________________________________________________________\n",
      "concatenate_2 (Concatenate)     (None, 5, 31)        0           rnn_input[0][0]                  \n",
      "                                                                 lstm_1[0][0]                     \n",
      "                                                                 lstm_2[0][0]                     \n",
      "__________________________________________________________________________________________________\n",
      "lstm_3 (LSTM)                   (None, 5, 12)        2112        concatenate_2[0][0]              \n",
      "__________________________________________________________________________________________________\n",
      "concatenate_3 (Concatenate)     (None, 5, 43)        0           rnn_input[0][0]                  \n",
      "                                                                 lstm_1[0][0]                     \n",
      "                                                                 lstm_2[0][0]                     \n",
      "                                                                 lstm_3[0][0]                     \n",
      "__________________________________________________________________________________________________\n",
      "lstm_4 (LSTM)                   (None, 5, 12)        2688        concatenate_3[0][0]              \n",
      "__________________________________________________________________________________________________\n",
      "concatenate_4 (Concatenate)     (None, 5, 55)        0           rnn_input[0][0]                  \n",
      "                                                                 lstm_1[0][0]                     \n",
      "                                                                 lstm_2[0][0]                     \n",
      "                                                                 lstm_3[0][0]                     \n",
      "                                                                 lstm_4[0][0]                     \n",
      "__________________________________________________________________________________________________\n",
      "lstm_5 (LSTM)                   (None, 5, 12)        3264        concatenate_4[0][0]              \n",
      "__________________________________________________________________________________________________\n",
      "concatenate_5 (Concatenate)     (None, 5, 67)        0           rnn_input[0][0]                  \n",
      "                                                                 lstm_1[0][0]                     \n",
      "                                                                 lstm_2[0][0]                     \n",
      "                                                                 lstm_3[0][0]                     \n",
      "                                                                 lstm_4[0][0]                     \n",
      "                                                                 lstm_5[0][0]                     \n",
      "__________________________________________________________________________________________________\n",
      "lstm_6 (LSTM)                   (None, 5, 20)        7040        concatenate_5[0][0]              \n",
      "__________________________________________________________________________________________________\n",
      "concatenate_6 (Concatenate)     (None, 5, 87)        0           concatenate_5[0][0]              \n",
      "                                                                 lstm_6[0][0]                     \n",
      "__________________________________________________________________________________________________\n",
      "lstm_7 (LSTM)                   (None, 5, 20)        8640        concatenate_6[0][0]              \n",
      "__________________________________________________________________________________________________\n",
      "concatenate_7 (Concatenate)     (None, 5, 107)       0           concatenate_5[0][0]              \n",
      "                                                                 lstm_6[0][0]                     \n",
      "                                                                 lstm_7[0][0]                     \n",
      "__________________________________________________________________________________________________\n",
      "lstm_8 (LSTM)                   (None, 5, 20)        10240       concatenate_7[0][0]              \n",
      "__________________________________________________________________________________________________\n",
      "concatenate_8 (Concatenate)     (None, 5, 127)       0           concatenate_5[0][0]              \n",
      "                                                                 lstm_6[0][0]                     \n",
      "                                                                 lstm_7[0][0]                     \n",
      "                                                                 lstm_8[0][0]                     \n",
      "__________________________________________________________________________________________________\n",
      "lstm_9 (LSTM)                   (None, 64)           49152       concatenate_8[0][0]              \n",
      "__________________________________________________________________________________________________\n",
      "dense_8 (Dense)                 (None, 64)           4160        lstm_9[0][0]                     \n",
      "__________________________________________________________________________________________________\n",
      "landcover (Dense)               (None, 6)            390         dense_8[0][0]                    \n",
      "==================================================================================================\n",
      "Total params: 90,182\n",
      "Trainable params: 90,182\n",
      "Non-trainable params: 0\n",
      "__________________________________________________________________________________________________\n"
     ]
    }
   ],
   "source": [
    "model = make_MLT_dense((len(tiles['028012']),7),(len(tiles['028012']),tile_size,tile_size,7), class_count)\n",
    "model.summary()"
   ]
  },
  {
   "cell_type": "markdown",
   "metadata": {},
   "source": [
    "#### Train the Model"
   ]
  },
  {
   "cell_type": "code",
   "execution_count": 101,
   "metadata": {},
   "outputs": [],
   "source": [
    "filepath = 'model_search/' +  model_name + '--' + exp_name + '.hdf5' #your filepath here\n",
    "checkpoint = ModelCheckpoint(filepath, monitor='val_acc', verbose=1, save_best_only=True, mode='max')\n",
    "callbacks_list = [checkpoint]\n",
    "tile_gen = rnn_tiles.rnn_tile_gen(landsat_datasets, lc_labels, canopy_labels, tile_size, class_count)"
   ]
  },
  {
   "cell_type": "code",
   "execution_count": 102,
   "metadata": {},
   "outputs": [],
   "source": [
    "model.compile(optimizer=Adam(), loss={'landcover':'categorical_crossentropy'}, metrics={'landcover':['accuracy']}, loss_weights={\"landcover\":1})"
   ]
  },
  {
   "cell_type": "code",
   "execution_count": 103,
   "metadata": {
    "scrolled": true
   },
   "outputs": [
    {
     "name": "stdout",
     "output_type": "stream",
     "text": [
      "Epoch 1/60\n",
      "36/36 [==============================] - 10s 272ms/step - loss: 1.7710 - acc: 0.2422 - val_loss: 1.7205 - val_acc: 0.4520\n",
      "\n",
      "Epoch 00001: val_acc improved from -inf to 0.45200, saving model to model_search/rnn_lstm--simple_keras_tests.hdf5\n",
      "Epoch 2/60\n",
      "36/36 [==============================] - 4s 115ms/step - loss: 1.6185 - acc: 0.5433 - val_loss: 1.4757 - val_acc: 0.6147\n",
      "\n",
      "Epoch 00002: val_acc improved from 0.45200 to 0.61467, saving model to model_search/rnn_lstm--simple_keras_tests.hdf5\n",
      "Epoch 3/60\n",
      "36/36 [==============================] - 5s 129ms/step - loss: 1.3278 - acc: 0.6278 - val_loss: 1.1833 - val_acc: 0.6227\n",
      "\n",
      "Epoch 00003: val_acc improved from 0.61467 to 0.62267, saving model to model_search/rnn_lstm--simple_keras_tests.hdf5\n",
      "Epoch 4/60\n",
      "36/36 [==============================] - 5s 130ms/step - loss: 1.1116 - acc: 0.5967 - val_loss: 0.9412 - val_acc: 0.6827\n",
      "\n",
      "Epoch 00004: val_acc improved from 0.62267 to 0.68267, saving model to model_search/rnn_lstm--simple_keras_tests.hdf5\n",
      "Epoch 5/60\n",
      "36/36 [==============================] - 5s 130ms/step - loss: 0.9418 - acc: 0.6811 - val_loss: 0.8194 - val_acc: 0.7787\n",
      "\n",
      "Epoch 00005: val_acc improved from 0.68267 to 0.77867, saving model to model_search/rnn_lstm--simple_keras_tests.hdf5\n",
      "Epoch 6/60\n",
      "36/36 [==============================] - 5s 128ms/step - loss: 0.8365 - acc: 0.7522 - val_loss: 0.7159 - val_acc: 0.7427\n",
      "\n",
      "Epoch 00006: val_acc did not improve from 0.77867\n",
      "Epoch 7/60\n",
      "36/36 [==============================] - 5s 131ms/step - loss: 0.7504 - acc: 0.7356 - val_loss: 0.6682 - val_acc: 0.7467\n",
      "\n",
      "Epoch 00007: val_acc did not improve from 0.77867\n",
      "Epoch 8/60\n",
      "36/36 [==============================] - 5s 130ms/step - loss: 0.7129 - acc: 0.7356 - val_loss: 0.6318 - val_acc: 0.8387\n",
      "\n",
      "Epoch 00008: val_acc improved from 0.77867 to 0.83867, saving model to model_search/rnn_lstm--simple_keras_tests.hdf5\n",
      "Epoch 9/60\n",
      "36/36 [==============================] - 5s 129ms/step - loss: 0.6245 - acc: 0.7756 - val_loss: 0.5963 - val_acc: 0.7507\n",
      "\n",
      "Epoch 00009: val_acc did not improve from 0.83867\n",
      "Epoch 10/60\n",
      "36/36 [==============================] - 5s 127ms/step - loss: 0.6121 - acc: 0.7878 - val_loss: 0.5845 - val_acc: 0.7947\n",
      "\n",
      "Epoch 00010: val_acc did not improve from 0.83867\n",
      "Epoch 11/60\n",
      "36/36 [==============================] - 5s 128ms/step - loss: 0.6446 - acc: 0.7400 - val_loss: 0.5660 - val_acc: 0.8267\n",
      "\n",
      "Epoch 00011: val_acc did not improve from 0.83867\n",
      "Epoch 12/60\n",
      "36/36 [==============================] - 5s 129ms/step - loss: 0.6006 - acc: 0.7733 - val_loss: 0.5487 - val_acc: 0.7520\n",
      "\n",
      "Epoch 00012: val_acc did not improve from 0.83867\n",
      "Epoch 13/60\n",
      "36/36 [==============================] - 5s 132ms/step - loss: 0.5916 - acc: 0.8022 - val_loss: 0.5287 - val_acc: 0.8320\n",
      "\n",
      "Epoch 00013: val_acc did not improve from 0.83867\n",
      "Epoch 14/60\n",
      "36/36 [==============================] - 5s 129ms/step - loss: 0.5742 - acc: 0.8200 - val_loss: 0.5210 - val_acc: 0.8333\n",
      "\n",
      "Epoch 00014: val_acc did not improve from 0.83867\n",
      "Epoch 15/60\n",
      "36/36 [==============================] - 5s 128ms/step - loss: 0.6051 - acc: 0.7589 - val_loss: 0.5097 - val_acc: 0.8333\n",
      "\n",
      "Epoch 00015: val_acc did not improve from 0.83867\n",
      "Epoch 16/60\n",
      "36/36 [==============================] - 5s 132ms/step - loss: 0.5611 - acc: 0.8344 - val_loss: 0.4992 - val_acc: 0.8040\n",
      "\n",
      "Epoch 00016: val_acc did not improve from 0.83867\n",
      "Epoch 17/60\n",
      "36/36 [==============================] - 5s 132ms/step - loss: 0.5436 - acc: 0.8422 - val_loss: 0.4870 - val_acc: 0.8480\n",
      "\n",
      "Epoch 00017: val_acc improved from 0.83867 to 0.84800, saving model to model_search/rnn_lstm--simple_keras_tests.hdf5\n",
      "Epoch 18/60\n",
      "36/36 [==============================] - 5s 128ms/step - loss: 0.5502 - acc: 0.8222 - val_loss: 0.4684 - val_acc: 0.8693\n",
      "\n",
      "Epoch 00018: val_acc improved from 0.84800 to 0.86933, saving model to model_search/rnn_lstm--simple_keras_tests.hdf5\n",
      "Epoch 19/60\n",
      "36/36 [==============================] - 5s 129ms/step - loss: 0.4718 - acc: 0.8644 - val_loss: 0.4526 - val_acc: 0.8560\n",
      "\n",
      "Epoch 00019: val_acc did not improve from 0.86933\n",
      "Epoch 20/60\n",
      "36/36 [==============================] - 5s 126ms/step - loss: 0.5034 - acc: 0.8700 - val_loss: 0.4575 - val_acc: 0.8613\n",
      "\n",
      "Epoch 00020: val_acc did not improve from 0.86933\n",
      "Epoch 21/60\n",
      "36/36 [==============================] - 5s 129ms/step - loss: 0.5271 - acc: 0.8444 - val_loss: 0.4522 - val_acc: 0.8467\n",
      "\n",
      "Epoch 00021: val_acc did not improve from 0.86933\n",
      "Epoch 22/60\n",
      "36/36 [==============================] - 5s 130ms/step - loss: 0.4988 - acc: 0.8422 - val_loss: 0.4169 - val_acc: 0.8653\n",
      "\n",
      "Epoch 00022: val_acc did not improve from 0.86933\n",
      "Epoch 23/60\n",
      "36/36 [==============================] - 5s 129ms/step - loss: 0.4694 - acc: 0.8722 - val_loss: 0.4131 - val_acc: 0.8760\n",
      "\n",
      "Epoch 00023: val_acc improved from 0.86933 to 0.87600, saving model to model_search/rnn_lstm--simple_keras_tests.hdf5\n",
      "Epoch 24/60\n",
      "36/36 [==============================] - 5s 128ms/step - loss: 0.4593 - acc: 0.8600 - val_loss: 0.4107 - val_acc: 0.8587\n",
      "\n",
      "Epoch 00024: val_acc did not improve from 0.87600\n",
      "Epoch 25/60\n",
      "36/36 [==============================] - 5s 128ms/step - loss: 0.4642 - acc: 0.8422 - val_loss: 0.4129 - val_acc: 0.8667\n",
      "\n",
      "Epoch 00025: val_acc did not improve from 0.87600\n",
      "Epoch 26/60\n",
      "36/36 [==============================] - 5s 132ms/step - loss: 0.4563 - acc: 0.8567 - val_loss: 0.3878 - val_acc: 0.8667\n",
      "\n",
      "Epoch 00026: val_acc did not improve from 0.87600\n",
      "Epoch 27/60\n",
      "36/36 [==============================] - 5s 128ms/step - loss: 0.4556 - acc: 0.8622 - val_loss: 0.3779 - val_acc: 0.8867\n",
      "\n",
      "Epoch 00027: val_acc improved from 0.87600 to 0.88667, saving model to model_search/rnn_lstm--simple_keras_tests.hdf5\n",
      "Epoch 28/60\n",
      "36/36 [==============================] - 5s 127ms/step - loss: 0.4395 - acc: 0.8500 - val_loss: 0.3477 - val_acc: 0.9040\n",
      "\n",
      "Epoch 00028: val_acc improved from 0.88667 to 0.90400, saving model to model_search/rnn_lstm--simple_keras_tests.hdf5\n",
      "Epoch 29/60\n",
      "36/36 [==============================] - 5s 130ms/step - loss: 0.3711 - acc: 0.8811 - val_loss: 0.3704 - val_acc: 0.8747\n",
      "\n",
      "Epoch 00029: val_acc did not improve from 0.90400\n",
      "Epoch 30/60\n",
      "36/36 [==============================] - 5s 133ms/step - loss: 0.4176 - acc: 0.8767 - val_loss: 0.3320 - val_acc: 0.9053\n",
      "\n",
      "Epoch 00030: val_acc improved from 0.90400 to 0.90533, saving model to model_search/rnn_lstm--simple_keras_tests.hdf5\n",
      "Epoch 31/60\n",
      "36/36 [==============================] - 5s 129ms/step - loss: 0.4235 - acc: 0.8678 - val_loss: 0.3416 - val_acc: 0.8920\n",
      "\n",
      "Epoch 00031: val_acc did not improve from 0.90533\n",
      "Epoch 32/60\n",
      "36/36 [==============================] - 5s 126ms/step - loss: 0.4197 - acc: 0.8689 - val_loss: 0.3247 - val_acc: 0.8987\n",
      "\n",
      "Epoch 00032: val_acc did not improve from 0.90533\n",
      "Epoch 33/60\n",
      "36/36 [==============================] - 5s 129ms/step - loss: 0.3736 - acc: 0.9011 - val_loss: 0.3193 - val_acc: 0.9107\n",
      "\n",
      "Epoch 00033: val_acc improved from 0.90533 to 0.91067, saving model to model_search/rnn_lstm--simple_keras_tests.hdf5\n",
      "Epoch 34/60\n",
      "36/36 [==============================] - 5s 129ms/step - loss: 0.3766 - acc: 0.8844 - val_loss: 0.3198 - val_acc: 0.8947\n",
      "\n",
      "Epoch 00034: val_acc did not improve from 0.91067\n",
      "Epoch 35/60\n",
      "36/36 [==============================] - 5s 129ms/step - loss: 0.3787 - acc: 0.8656 - val_loss: 0.3247 - val_acc: 0.9080\n",
      "\n",
      "Epoch 00035: val_acc did not improve from 0.91067\n",
      "Epoch 36/60\n",
      "36/36 [==============================] - 5s 129ms/step - loss: 0.3887 - acc: 0.8811 - val_loss: 0.3171 - val_acc: 0.9067\n",
      "\n",
      "Epoch 00036: val_acc did not improve from 0.91067\n",
      "Epoch 37/60\n",
      "36/36 [==============================] - 5s 131ms/step - loss: 0.3734 - acc: 0.8789 - val_loss: 0.3084 - val_acc: 0.9000\n",
      "\n",
      "Epoch 00037: val_acc did not improve from 0.91067\n",
      "Epoch 38/60\n",
      "36/36 [==============================] - 5s 133ms/step - loss: 0.3641 - acc: 0.8811 - val_loss: 0.2887 - val_acc: 0.9027\n",
      "\n",
      "Epoch 00038: val_acc did not improve from 0.91067\n",
      "Epoch 39/60\n",
      "36/36 [==============================] - 5s 129ms/step - loss: 0.3224 - acc: 0.8933 - val_loss: 0.3028 - val_acc: 0.9093\n",
      "\n",
      "Epoch 00039: val_acc did not improve from 0.91067\n",
      "Epoch 40/60\n",
      "36/36 [==============================] - 5s 128ms/step - loss: 0.3672 - acc: 0.8867 - val_loss: 0.2742 - val_acc: 0.9187\n",
      "\n",
      "Epoch 00040: val_acc improved from 0.91067 to 0.91867, saving model to model_search/rnn_lstm--simple_keras_tests.hdf5\n",
      "Epoch 41/60\n"
     ]
    },
    {
     "name": "stdout",
     "output_type": "stream",
     "text": [
      "36/36 [==============================] - 5s 130ms/step - loss: 0.3662 - acc: 0.8889 - val_loss: 0.2892 - val_acc: 0.9160\n",
      "\n",
      "Epoch 00041: val_acc did not improve from 0.91867\n",
      "Epoch 42/60\n",
      "36/36 [==============================] - 5s 132ms/step - loss: 0.3876 - acc: 0.8733 - val_loss: 0.2854 - val_acc: 0.9040\n",
      "\n",
      "Epoch 00042: val_acc did not improve from 0.91867\n",
      "Epoch 43/60\n",
      "36/36 [==============================] - 5s 127ms/step - loss: 0.3132 - acc: 0.9144 - val_loss: 0.2783 - val_acc: 0.9160\n",
      "\n",
      "Epoch 00043: val_acc did not improve from 0.91867\n",
      "Epoch 44/60\n",
      "36/36 [==============================] - 5s 130ms/step - loss: 0.3384 - acc: 0.8933 - val_loss: 0.2687 - val_acc: 0.9107\n",
      "\n",
      "Epoch 00044: val_acc did not improve from 0.91867\n",
      "Epoch 45/60\n",
      "36/36 [==============================] - 5s 131ms/step - loss: 0.3241 - acc: 0.8867 - val_loss: 0.2875 - val_acc: 0.9133\n",
      "\n",
      "Epoch 00045: val_acc did not improve from 0.91867\n",
      "Epoch 46/60\n",
      "36/36 [==============================] - 5s 131ms/step - loss: 0.3445 - acc: 0.8911 - val_loss: 0.2862 - val_acc: 0.9107\n",
      "\n",
      "Epoch 00046: val_acc did not improve from 0.91867\n",
      "Epoch 47/60\n",
      "36/36 [==============================] - 5s 126ms/step - loss: 0.3262 - acc: 0.9011 - val_loss: 0.2495 - val_acc: 0.9240\n",
      "\n",
      "Epoch 00047: val_acc improved from 0.91867 to 0.92400, saving model to model_search/rnn_lstm--simple_keras_tests.hdf5\n",
      "Epoch 48/60\n",
      "36/36 [==============================] - 5s 130ms/step - loss: 0.3239 - acc: 0.8978 - val_loss: 0.2562 - val_acc: 0.9187\n",
      "\n",
      "Epoch 00048: val_acc did not improve from 0.92400\n",
      "Epoch 49/60\n",
      "36/36 [==============================] - 5s 134ms/step - loss: 0.2798 - acc: 0.9122 - val_loss: 0.2530 - val_acc: 0.9280\n",
      "\n",
      "Epoch 00049: val_acc improved from 0.92400 to 0.92800, saving model to model_search/rnn_lstm--simple_keras_tests.hdf5\n",
      "Epoch 50/60\n",
      "36/36 [==============================] - 5s 129ms/step - loss: 0.3285 - acc: 0.8922 - val_loss: 0.2518 - val_acc: 0.9253\n",
      "\n",
      "Epoch 00050: val_acc did not improve from 0.92800\n",
      "Epoch 51/60\n",
      "36/36 [==============================] - 5s 127ms/step - loss: 0.3387 - acc: 0.8878 - val_loss: 0.2817 - val_acc: 0.9133\n",
      "\n",
      "Epoch 00051: val_acc did not improve from 0.92800\n",
      "Epoch 52/60\n",
      "36/36 [==============================] - 5s 131ms/step - loss: 0.3528 - acc: 0.8911 - val_loss: 0.2410 - val_acc: 0.9213\n",
      "\n",
      "Epoch 00052: val_acc did not improve from 0.92800\n",
      "Epoch 53/60\n",
      "36/36 [==============================] - 5s 135ms/step - loss: 0.2878 - acc: 0.9111 - val_loss: 0.2505 - val_acc: 0.9280\n",
      "\n",
      "Epoch 00053: val_acc improved from 0.92800 to 0.92800, saving model to model_search/rnn_lstm--simple_keras_tests.hdf5\n",
      "Epoch 54/60\n",
      "36/36 [==============================] - 5s 128ms/step - loss: 0.3188 - acc: 0.8956 - val_loss: 0.2498 - val_acc: 0.9213\n",
      "\n",
      "Epoch 00054: val_acc did not improve from 0.92800\n",
      "Epoch 55/60\n",
      "36/36 [==============================] - 5s 133ms/step - loss: 0.2941 - acc: 0.8944 - val_loss: 0.2471 - val_acc: 0.9253\n",
      "\n",
      "Epoch 00055: val_acc did not improve from 0.92800\n",
      "Epoch 56/60\n",
      "36/36 [==============================] - 5s 132ms/step - loss: 0.3151 - acc: 0.8944 - val_loss: 0.2354 - val_acc: 0.9307\n",
      "\n",
      "Epoch 00056: val_acc improved from 0.92800 to 0.93067, saving model to model_search/rnn_lstm--simple_keras_tests.hdf5\n",
      "Epoch 57/60\n",
      "36/36 [==============================] - 5s 130ms/step - loss: 0.3000 - acc: 0.9056 - val_loss: 0.2392 - val_acc: 0.9213\n",
      "\n",
      "Epoch 00057: val_acc did not improve from 0.93067\n",
      "Epoch 58/60\n",
      "36/36 [==============================] - 5s 128ms/step - loss: 0.2864 - acc: 0.9156 - val_loss: 0.2302 - val_acc: 0.9320\n",
      "\n",
      "Epoch 00058: val_acc improved from 0.93067 to 0.93200, saving model to model_search/rnn_lstm--simple_keras_tests.hdf5\n",
      "Epoch 59/60\n",
      "36/36 [==============================] - 5s 130ms/step - loss: 0.2538 - acc: 0.9156 - val_loss: 0.2504 - val_acc: 0.9267\n",
      "\n",
      "Epoch 00059: val_acc did not improve from 0.93200\n",
      "Epoch 60/60\n",
      "36/36 [==============================] - 5s 133ms/step - loss: 0.3153 - acc: 0.8989 - val_loss: 0.2444 - val_acc: 0.9160\n",
      "\n",
      "Epoch 00060: val_acc did not improve from 0.93200\n"
     ]
    }
   ],
   "source": [
    "train_time_start = datetime.datetime.now()\n",
    "\n",
    "history = model.fit_generator(generator=tile_gen.tile_generator(train_px, batch_size, flatten=True, canopy=True), \n",
    "                steps_per_epoch=len(train_px) // batch_size // steps_division_factor, epochs=epochs, verbose=1,\n",
    "                validation_data=tile_gen.tile_generator(val_px, batch_size, flatten=True, canopy=True),\n",
    "                validation_steps=len(val_px) // batch_size,\n",
    "                callbacks=callbacks_list) \n",
    "\n",
    "train_time_stop = datetime.datetime.now()\n",
    "training_time = train_time_stop - train_time_start"
   ]
  },
  {
   "cell_type": "code",
   "execution_count": 104,
   "metadata": {},
   "outputs": [
    {
     "name": "stdout",
     "output_type": "stream",
     "text": [
      "dict_keys(['val_loss', 'val_acc', 'acc', 'loss'])\n"
     ]
    },
    {
     "data": {
      "image/png": "[encoded data removed]",
      "text/plain": [
       "<Figure size 432x288 with 1 Axes>"
      ]
     },
     "metadata": {
      "needs_background": "light"
     },
     "output_type": "display_data"
    },
    {
     "data": {
      "image/png": "[encoded data removed]",
      "text/plain": [
       "<Figure size 432x288 with 1 Axes>"
      ]
     },
     "metadata": {
      "needs_background": "light"
     },
     "output_type": "display_data"
    }
   ],
   "source": [
    "print(history.history.keys())\n",
    "#  \"Accuracy\"\n",
    "plt.plot(history.history['acc'])\n",
    "plt.plot(history.history['val_acc'])\n",
    "plt.title('model accuracy')\n",
    "plt.ylabel('accuracy')\n",
    "plt.xlabel('epoch')\n",
    "plt.legend(['train', 'validation'], loc='upper left')\n",
    "experiment.log_figure(figure=plt, figure_name=\"model_acc\")\n",
    "plt.show()\n",
    "# \"Loss\"\n",
    "plt.plot(history.history['loss'])\n",
    "plt.plot(history.history['val_loss'])\n",
    "plt.title('model loss')\n",
    "plt.ylabel('loss')\n",
    "plt.xlabel('epoch')\n",
    "plt.legend(['train', 'validation'], loc='upper left')\n",
    "experiment.log_figure(figure=plt, figure_name=\"model_loss\")\n",
    "plt.show()"
   ]
  },
  {
   "cell_type": "code",
   "execution_count": 105,
   "metadata": {},
   "outputs": [
    {
     "data": {
      "text/plain": [
       "'model_search/rnn_lstm--simple_keras_tests.hdf5'"
      ]
     },
     "execution_count": 105,
     "metadata": {},
     "output_type": "execute_result"
    }
   ],
   "source": [
    "filepath"
   ]
  },
  {
   "cell_type": "code",
   "execution_count": 106,
   "metadata": {},
   "outputs": [],
   "source": [
    "model = keras.models.load_model(filepath)"
   ]
  },
  {
   "cell_type": "markdown",
   "metadata": {},
   "source": [
    "# Evaluate model"
   ]
  },
  {
   "cell_type": "code",
   "execution_count": 108,
   "metadata": {},
   "outputs": [
    {
     "name": "stdout",
     "output_type": "stream",
     "text": [
      "15/15 [==============================] - 3s 183ms/step\n"
     ]
    }
   ],
   "source": [
    "inference_time_start = datetime.datetime.now()\n",
    "\n",
    "predictions = model.predict_generator(generator = tile_gen.tile_generator(val_px, batch_size=50, flatten=True, canopy=True), steps=len(val_px) // 50, verbose=1)\n",
    "\n",
    "inference_time_stop = datetime.datetime.now()\n",
    "inference_time = inference_time_stop - inference_time_start\n",
    "\n",
    "eval_generator = tile_gen.tile_generator(val_px, batch_size=1, flatten=True, canopy=True)"
   ]
  },
  {
   "cell_type": "code",
   "execution_count": 109,
   "metadata": {},
   "outputs": [
    {
     "data": {
      "text/plain": [
       "(750, 6)"
      ]
     },
     "execution_count": 109,
     "metadata": {},
     "output_type": "execute_result"
    }
   ],
   "source": [
    "predictions.shape"
   ]
  },
  {
   "cell_type": "code",
   "execution_count": 110,
   "metadata": {},
   "outputs": [],
   "source": [
    "lc_predictions = predictions"
   ]
  },
  {
   "cell_type": "code",
   "execution_count": 111,
   "metadata": {},
   "outputs": [],
   "source": [
    "lc_lab = np.empty(lc_predictions.shape[0])\n",
    "#canopy_true = np.empty(canopy_pred.shape)\n",
    "count = 0\n",
    "while count < len(lc_predictions):\n",
    "        image_b, label_b = next(eval_generator)\n",
    "        #print(label_b.shape)\n",
    "        #label_b = np.argmax(label_b, axis=-1)\n",
    "        #print(label_b)\n",
    "        label_b = np.argmax(label_b['landcover'], axis=-1)\n",
    "        #canopy_true[count] = label_b['canopy']\n",
    "        lc_lab[count] = label_b\n",
    "        count += 1\n",
    "label_index = lc_lab\n",
    "pred_index = np.argmax(lc_predictions, axis=-1)"
   ]
  },
  {
   "cell_type": "code",
   "execution_count": 112,
   "metadata": {
    "scrolled": false
   },
   "outputs": [
    {
     "name": "stdout",
     "output_type": "stream",
     "text": [
      "Accuracy is 0.932\n",
      "per_class_acc 0.984\n",
      "per_class_acc 0.88\n",
      "per_class_acc 0.96\n",
      "per_class_acc 0.96\n",
      "per_class_acc 0.888\n",
      "per_class_acc 0.92\n"
     ]
    },
    {
     "data": {
      "image/png": "[encoded data removed]",
      "text/plain": [
       "<Figure size 720x720 with 2 Axes>"
      ]
     },
     "metadata": {
      "needs_background": "light"
     },
     "output_type": "display_data"
    },
    {
     "data": {
      "image/png": "[encoded data removed]",
      "text/plain": [
       "<Figure size 720x720 with 2 Axes>"
      ]
     },
     "metadata": {
      "needs_background": "light"
     },
     "output_type": "display_data"
    }
   ],
   "source": [
    "np.set_printoptions(precision=2)\n",
    "# Plot non-normalized confusion matrix\n",
    "_, users_acc, prod_acc = util.plot_confusion_matrix(label_index.astype(np.int), pred_index.astype(np.int), classes=np.array(list(class_dict)),\n",
    "                      class_dict=class_dict)\n",
    "experiment.log_figure(figure=plt, figure_name=\"unnorm_conf_matrix\")\n",
    "# Plot normalized confusion matrix\n",
    "util.plot_confusion_matrix(label_index.astype(np.int), pred_index.astype(np.int), classes=np.array(list(class_dict)),\n",
    "                      class_dict=class_dict,\n",
    "                      normalize=True,\n",
    "                          title=\" \")\n",
    "experiment.log_figure(figure=plt, figure_name=\"norm_conf_matrix\")\n",
    "count = 0\n",
    "per_class_acc = [0] * 6\n",
    "for i in range(len(label_index)):\n",
    "    if(label_index[i] == pred_index[i]):\n",
    "        per_class_acc[int(label_index[i])] = per_class_acc[int(label_index[i])] + 1\n",
    "        count+=1\n",
    "\n",
    "val_accuracy=count/len(label_index)\n",
    "class_acc_dict = {}\n",
    "print(\"Accuracy is\",val_accuracy)\n",
    "# this is producer's accuracy\n",
    "for idx, class_correct in enumerate(per_class_acc):\n",
    "    class_acc_dict[class_dict[idx]] = round(class_correct/(int(len(label_index)/class_count)),4)\n",
    "    print('per_class_acc', class_correct/(per_class_count[idx]))"
   ]
  },
  {
   "cell_type": "markdown",
   "metadata": {},
   "source": [
    "Calculate the accuracy per class\n",
    "Calculate overall accuracy\n",
    "Add training samples\n",
    "add epochs\n",
    "add tile size"
   ]
  },
  {
   "cell_type": "code",
   "execution_count": 113,
   "metadata": {},
   "outputs": [],
   "source": [
    "import pandas as pd\n",
    "import seaborn as sns\n",
    "\n",
    "experiment_df = pd.DataFrame(columns=['exp_name','model_name','time_steps','train_count','overall_acc', \n",
    "                                      'epochs', 'tile_size', 'training_time', 'inference_time',\n",
    "                                      'water_acc_prod','dev_acc_prod', 'forest_acc_prod', 'cult_acc_prod', 'barren_acc_prod', 'wetland_acc_prod',\n",
    "                                      'water_acc_user','dev_acc_user', 'forest_acc_user', 'cult_acc_user', 'barren_acc_user', 'wetland_acc_user'])   "
   ]
  },
  {
   "cell_type": "code",
   "execution_count": 114,
   "metadata": {},
   "outputs": [],
   "source": [
    "experiment_df.loc[len(experiment_df)] = [exp_name, model_name, len(tiles['028012']), len(train_px)/class_count, val_accuracy, \n",
    "                                         epochs, tile_size, training_time, inference_time] + list(np.round(prod_acc,3)) + list(np.round(users_acc,3))\n"
   ]
  },
  {
   "cell_type": "code",
   "execution_count": 115,
   "metadata": {},
   "outputs": [
    {
     "data": {
      "text/html": [
       "<div>\n",
       "<style scoped>\n",
       "    .dataframe tbody tr th:only-of-type {\n",
       "        vertical-align: middle;\n",
       "    }\n",
       "\n",
       "    .dataframe tbody tr th {\n",
       "        vertical-align: top;\n",
       "    }\n",
       "\n",
       "    .dataframe thead th {\n",
       "        text-align: right;\n",
       "    }\n",
       "</style>\n",
       "<table border=\"1\" class=\"dataframe\">\n",
       "  <thead>\n",
       "    <tr style=\"text-align: right;\">\n",
       "      <th></th>\n",
       "      <th>exp_name</th>\n",
       "      <th>model_name</th>\n",
       "      <th>time_steps</th>\n",
       "      <th>train_count</th>\n",
       "      <th>overall_acc</th>\n",
       "      <th>epochs</th>\n",
       "      <th>tile_size</th>\n",
       "      <th>training_time</th>\n",
       "      <th>inference_time</th>\n",
       "      <th>water_acc_prod</th>\n",
       "      <th>...</th>\n",
       "      <th>forest_acc_prod</th>\n",
       "      <th>cult_acc_prod</th>\n",
       "      <th>barren_acc_prod</th>\n",
       "      <th>wetland_acc_prod</th>\n",
       "      <th>water_acc_user</th>\n",
       "      <th>dev_acc_user</th>\n",
       "      <th>forest_acc_user</th>\n",
       "      <th>cult_acc_user</th>\n",
       "      <th>barren_acc_user</th>\n",
       "      <th>wetland_acc_user</th>\n",
       "    </tr>\n",
       "  </thead>\n",
       "  <tbody>\n",
       "    <tr>\n",
       "      <th>0</th>\n",
       "      <td>simple_keras_tests</td>\n",
       "      <td>rnn_lstm</td>\n",
       "      <td>5</td>\n",
       "      <td>1500.0</td>\n",
       "      <td>0.932</td>\n",
       "      <td>60</td>\n",
       "      <td>13</td>\n",
       "      <td>00:04:58.983485</td>\n",
       "      <td>00:00:02.746320</td>\n",
       "      <td>0.984</td>\n",
       "      <td>...</td>\n",
       "      <td>0.96</td>\n",
       "      <td>0.96</td>\n",
       "      <td>0.888</td>\n",
       "      <td>0.92</td>\n",
       "      <td>0.992</td>\n",
       "      <td>0.909</td>\n",
       "      <td>0.938</td>\n",
       "      <td>0.938</td>\n",
       "      <td>0.867</td>\n",
       "      <td>0.95</td>\n",
       "    </tr>\n",
       "  </tbody>\n",
       "</table>\n",
       "<p>1 rows × 21 columns</p>\n",
       "</div>"
      ],
      "text/plain": [
       "             exp_name model_name time_steps  train_count  overall_acc epochs  \\\n",
       "0  simple_keras_tests   rnn_lstm          5       1500.0        0.932     60   \n",
       "\n",
       "  tile_size   training_time  inference_time  water_acc_prod  ...  \\\n",
       "0        13 00:04:58.983485 00:00:02.746320           0.984  ...   \n",
       "\n",
       "   forest_acc_prod  cult_acc_prod  barren_acc_prod  wetland_acc_prod  \\\n",
       "0             0.96           0.96            0.888              0.92   \n",
       "\n",
       "   water_acc_user  dev_acc_user  forest_acc_user  cult_acc_user  \\\n",
       "0           0.992         0.909            0.938          0.938   \n",
       "\n",
       "   barren_acc_user  wetland_acc_user  \n",
       "0            0.867              0.95  \n",
       "\n",
       "[1 rows x 21 columns]"
      ]
     },
     "execution_count": 115,
     "metadata": {},
     "output_type": "execute_result"
    }
   ],
   "source": [
    "experiment_df.tail(5)"
   ]
  },
  {
   "cell_type": "code",
   "execution_count": 116,
   "metadata": {},
   "outputs": [],
   "source": [
    "experiment_df.to_csv('model_search/' + model_name + '--' + exp_name + '.csv')"
   ]
  },
  {
   "cell_type": "code",
   "execution_count": 117,
   "metadata": {},
   "outputs": [
    {
     "name": "stderr",
     "output_type": "stream",
     "text": [
      "/usr/local/lib/python3.5/dist-packages/ipykernel_launcher.py:2: FutureWarning: Sorting because non-concatenation axis is not aligned. A future version\n",
      "of pandas will change to not sort by default.\n",
      "\n",
      "To accept the future behavior, pass 'sort=False'.\n",
      "\n",
      "To retain the current behavior and silence the warning, pass 'sort=True'.\n",
      "\n",
      "  \n"
     ]
    }
   ],
   "source": [
    "all_exps = pd.read_csv('model_search/' + 'all_model_runs.csv')\n",
    "all_exps = pd.concat([all_exps,experiment_df], ignore_index=True)\n",
    "all_exps.to_csv('model_search/' + 'all_model_runs.csv')"
   ]
  },
  {
   "cell_type": "code",
   "execution_count": 118,
   "metadata": {},
   "outputs": [],
   "source": [
    "params = {\n",
    "    \"exp_name\":exp_name,\n",
    "    \"model_name\":model_name,\n",
    "    \"landsat_tiles\":tiles,\n",
    "    \"cnn_tile_size\":tile_size,\n",
    "    \"class_dict\":class_dict,\n",
    "    \"batch_size\":batch_size,\n",
    "    \"steps_division_factor\":steps_division_factor,\n",
    "    \"lc_validation_acc\":val_accuracy\n",
    "}\n",
    "experiment.log_parameters(params)"
   ]
  },
  {
   "cell_type": "code",
   "execution_count": 119,
   "metadata": {},
   "outputs": [
    {
     "name": "stderr",
     "output_type": "stream",
     "text": [
      "COMET INFO: ---------------------------\n",
      "COMET INFO: Comet.ml Experiment Summary\n",
      "COMET INFO: ---------------------------\n",
      "COMET INFO:   Data:\n",
      "COMET INFO:     display_summary_level : 1\n",
      "COMET INFO:     url                   : https://www.comet.ml/clifgray/chronos/dd3823336ba440d686fac61999bef6d0\n",
      "COMET INFO:   Metrics [count] (min, max):\n",
      "COMET INFO:     acc [60]                  : (0.24222222218910852, 0.9155555549595091)\n",
      "COMET INFO:     batch_acc [240]           : (0.03999999910593033, 1.0)\n",
      "COMET INFO:     batch_loss [240]          : (0.059985410422086716, 1.7935295104980469)\n",
      "COMET INFO:     epoch_duration [60]       : (4.24754629295785, 12.398673918913119)\n",
      "COMET INFO:     loss [60]                 : (0.25383393600996995, 1.7709589004516602)\n",
      "COMET INFO:     val_acc [60]              : (0.4520000000794729, 0.9319999953111012)\n",
      "COMET INFO:     val_loss [60]             : (0.23015458757678667, 1.7204827706019084)\n",
      "COMET INFO:     validate_batch_acc [180]  : (0.3199999928474426, 1.0)\n",
      "COMET INFO:     validate_batch_loss [180] : (0.09891927987337112, 1.7507052421569824)\n",
      "COMET INFO:   Others:\n",
      "COMET INFO:     trainable_params : 90182\n",
      "COMET INFO:   Parameters:\n",
      "COMET INFO:     Adam_amsgrad          : 1\n",
      "COMET INFO:     Adam_beta_1           : 0.8999999761581421\n",
      "COMET INFO:     Adam_beta_2           : 0.9990000128746033\n",
      "COMET INFO:     Adam_decay            : 1\n",
      "COMET INFO:     Adam_epsilon          : 1e-07\n",
      "COMET INFO:     Adam_lr               : 0.0010000000474974513\n",
      "COMET INFO:     batch_size            : 25\n",
      "COMET INFO:     class_dict            : {0: 'Water', 1: 'Developed', 2: 'Forest', 3: 'Cultivated', 4: 'Barren', 5: 'Wetland'}\n",
      "COMET INFO:     cnn_tile_size         : 13\n",
      "COMET INFO:     epochs                : 60\n",
      "COMET INFO:     exp_name              : simple_keras_tests\n",
      "COMET INFO:     landsat_tiles         : {'029011': ['20110103', '20110308', '20110730', '20110831', '20111018'], '028011': ['20110103', '20110308', '20110831', '20111018', '20111103'], '028012': ['20110103', '20110308', '20110730', '20110831', '20111103']}\n",
      "COMET INFO:     lc_validation_acc     : 0.932\n",
      "COMET INFO:     model_name            : rnn_lstm\n",
      "COMET INFO:     steps                 : 36\n",
      "COMET INFO:     steps_division_factor : 10\n",
      "COMET INFO:   Uploads [count]:\n",
      "COMET INFO:     code                     : 1 (35 KB)\n",
      "COMET INFO:     environment details      : 1\n",
      "COMET INFO:     figures [4]              : 4\n",
      "COMET INFO:     filename                 : 1\n",
      "COMET INFO:     git metadata             : 1\n",
      "COMET INFO:     git-patch (uncompressed) : 1 (868 KB)\n",
      "COMET INFO:     installed packages       : 1\n",
      "COMET INFO:     model graph              : 1\n",
      "COMET INFO:     os packages              : 1\n",
      "COMET INFO: ---------------------------\n",
      "COMET INFO: Uploading stats to Comet before program termination (may take several seconds)\n"
     ]
    }
   ],
   "source": [
    "experiment.end()"
   ]
  },
  {
   "cell_type": "code",
   "execution_count": null,
   "metadata": {},
   "outputs": [],
   "source": []
  }
 ],
 "metadata": {
  "kernelspec": {
   "display_name": "Python 3",
   "language": "python",
   "name": "python3"
  },
  "language_info": {
   "codemirror_mode": {
    "name": "ipython",
    "version": 3
   },
   "file_extension": ".py",
   "mimetype": "text/x-python",
   "name": "python",
   "nbconvert_exporter": "python",
   "pygments_lexer": "ipython3",
   "version": "3.5.2"
  }
 },
 "nbformat": 4,
 "nbformat_minor": 2
}
