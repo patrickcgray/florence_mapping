{
 "cells": [
  {
   "cell_type": "markdown",
   "metadata": {},
   "source": [
    "## LC Model Search Framework"
   ]
  },
  {
   "cell_type": "markdown",
   "metadata": {},
   "source": [
    "* Compare 1 season (summer) and 4 temporal steps\n",
    "* Compare 0 - 1500 training training samples per class in 100 sample increments\n",
    "* CNN component and RNN components in isolation\n",
    "* regular CNN+RNN vs conv2dlstm and RNN vs just conv2dLSTM\n",
    "* Compare to scikit-learn methods using same val and test datasets\n",
    "* Compare best model across time\n",
    "    * if major decrease in accuracy then consider training on both 2010 and 2011 data for initial time step\n",
    "        * consider training on 1999 data to see how it changes the model"
   ]
  },
  {
   "cell_type": "code",
   "execution_count": 1,
   "metadata": {},
   "outputs": [
    {
     "name": "stderr",
     "output_type": "stream",
     "text": [
      "Using TensorFlow backend.\n"
     ]
    }
   ],
   "source": [
    "import comet_ml\n",
    "from comet_ml import Experiment\n",
    "import datetime\n",
    "import rasterio\n",
    "import keras\n",
    "import random\n",
    "from keras import backend as K\n",
    "from keras.callbacks import ModelCheckpoint\n",
    "from keras.models import Sequential\n",
    "from keras.layers import Dense, Dropout, Flatten, Reshape, Bidirectional\n",
    "from keras.layers import Conv2D, Conv3D, MaxPooling2D, MaxPooling3D, ConvLSTM2D, TimeDistributed, UpSampling2D, Concatenate, LSTM, concatenate\n",
    "from keras.layers import Activation, BatchNormalization\n",
    "from keras.optimizers import SGD, Adadelta, Adam\n",
    "from keras import Input\n",
    "from keras import Model\n",
    "import matplotlib.pyplot as plt\n",
    "import geopandas as gpd\n",
    "import os\n",
    "import sys\n",
    "from sklearn.utils import class_weight\n",
    "module_path = os.path.abspath(os.path.join('..'))\n",
    "if module_path not in sys.path:\n",
    "    sys.path.append(module_path)\n",
    "import utilities as util\n",
    "import importlib\n",
    "import rnn_tiles\n",
    "import rnn_pixels\n",
    "import numpy as np"
   ]
  },
  {
   "cell_type": "code",
   "execution_count": 2,
   "metadata": {},
   "outputs": [
    {
     "data": {
      "text/plain": [
       "<module 'utilities' from '/host/Code/florence_mapping/utilities.py'>"
      ]
     },
     "execution_count": 2,
     "metadata": {},
     "output_type": "execute_result"
    }
   ],
   "source": [
    "importlib.reload(rnn_pixels)\n",
    "importlib.reload(rnn_tiles)\n",
    "importlib.reload(util)"
   ]
  },
  {
   "cell_type": "code",
   "execution_count": 3,
   "metadata": {},
   "outputs": [],
   "source": [
    "exp_name = 'fullval_keras_tests'\n",
    "model_name = 'rcnn'"
   ]
  },
  {
   "cell_type": "markdown",
   "metadata": {},
   "source": [
    "Assign your specific GPU so we don't overlap"
   ]
  },
  {
   "cell_type": "code",
   "execution_count": 5,
   "metadata": {},
   "outputs": [],
   "source": [
    "os.environ[\"CUDA_VISIBLE_DEVICES\"]=\"0\";"
   ]
  },
  {
   "cell_type": "markdown",
   "metadata": {},
   "source": [
    "Is that GPU and only that GPU visible?\n",
    "\n",
    "Note that it will always say GPU:0 but you should just see one"
   ]
  },
  {
   "cell_type": "code",
   "execution_count": 6,
   "metadata": {},
   "outputs": [
    {
     "data": {
      "text/plain": [
       "['/job:localhost/replica:0/task:0/device:GPU:0']"
      ]
     },
     "execution_count": 6,
     "metadata": {},
     "output_type": "execute_result"
    }
   ],
   "source": [
    "from keras import backend as K\n",
    "K.tensorflow_backend._get_available_gpus()"
   ]
  },
  {
   "cell_type": "markdown",
   "metadata": {},
   "source": [
    "Ingest Training Labels\n",
    "\n",
    "Note that these are monster files so be careful how you inspect them, typically you only want to use the `rasterio` windows option"
   ]
  },
  {
   "cell_type": "code",
   "execution_count": 7,
   "metadata": {},
   "outputs": [],
   "source": [
    "lc_labels = rasterio.open('/deep_data/recurrent_data/NLCD_DATA/landcover/NLCD_2011_Land_Cover_L48_20190424.img')\n",
    "canopy_labels = rasterio.open('/deep_data/recurrent_data/NLCD_DATA/canopy/CONUSCartographic_2_8_16/Cartographic/nlcd2011_usfs_conus_canopy_cartographic.img')\n",
    "class_dict = util.indexed_dictionary"
   ]
  },
  {
   "cell_type": "markdown",
   "metadata": {},
   "source": [
    "Ingest the landsat imagery stacked into yearly seasonal tiles"
   ]
  },
  {
   "cell_type": "code",
   "execution_count": 8,
   "metadata": {},
   "outputs": [],
   "source": [
    "tiles = {}\n",
    "landsat_datasets = {}\n",
    "tiles['028012'] = ['20110103', '20110308', '20110730', '20110831', '20111103']\n",
    "tiles['029011'] = ['20110103', '20110308', '20110730', '20110831', '20111018']\n",
    "tiles['028011'] = ['20110103', '20110308', '20110831', '20111018', '20111103']\n",
    "\n",
    "for tile_number, dates in tiles.items():\n",
    "    tile_datasets = []\n",
    "    l8_image_paths = []\n",
    "    for date in dates:\n",
    "        l8_image_paths.append('/deep_data/recurrent_data/tile{}/combined/combined{}.tif'.format(tile_number, date))\n",
    "    for fp in l8_image_paths:\n",
    "        tile_datasets.append(rasterio.open(fp))\n",
    "    landsat_datasets[tile_number] = tile_datasets"
   ]
  },
  {
   "cell_type": "markdown",
   "metadata": {},
   "source": [
    "### Load pixels from shapefiles"
   ]
  },
  {
   "cell_type": "code",
   "execution_count": 9,
   "metadata": {},
   "outputs": [
    {
     "data": {
      "text/plain": [
       "(9000, ((4769, 3166), '028011', 3))"
      ]
     },
     "execution_count": 9,
     "metadata": {},
     "output_type": "execute_result"
    }
   ],
   "source": [
    "train_gdf = gpd.read_file('../shapefiles/train_buffered_points140520.shp')\n",
    "train_px = []\n",
    "for index, row in train_gdf.iterrows():\n",
    "    train_px.append(((row['row'], row['col']), row['tile_name'], row['label']))\n",
    "\n",
    "random.shuffle(train_px)\n",
    "\n",
    "len(train_px), train_px[0]"
   ]
  },
  {
   "cell_type": "code",
   "execution_count": 9,
   "metadata": {},
   "outputs": [
    {
     "data": {
      "text/plain": [
       "(660, ((1580, 4357), '028011', 2))"
      ]
     },
     "execution_count": 9,
     "metadata": {},
     "output_type": "execute_result"
    }
   ],
   "source": [
    "# train_gdf = gpd.read_file('../shapefiles/train_buffered_points140520_valsubset.shp')\n",
    "# train_px = []\n",
    "\n",
    "# per_class_count = [0] * 6\n",
    "# total_per_class_count = [0] * 6\n",
    "\n",
    "# for index, row in train_gdf.iterrows():\n",
    "#     if not row['reject']:\n",
    "#         total_per_class_count[int(row['manual_val'])] = total_per_class_count[int(row['manual_val'])] + 1\n",
    "#         if per_class_count[int(row['manual_val'])] < 110:\n",
    "#             per_class_count[int(row['manual_val'])] = per_class_count[int(row['manual_val'])] + 1\n",
    "#             train_px.append(((row['row'], row['col']), row['tile_name'], row['manual_val']))\n",
    "    \n",
    "# random.shuffle(train_px)\n",
    "\n",
    "# len(train_px), train_px[0]"
   ]
  },
  {
   "cell_type": "code",
   "execution_count": 10,
   "metadata": {},
   "outputs": [
    {
     "data": {
      "text/plain": [
       "(720, ((910.0, 4282.0), '028011', 0))"
      ]
     },
     "execution_count": 10,
     "metadata": {},
     "output_type": "execute_result"
    }
   ],
   "source": [
    "val_gdf = gpd.read_file('../shapefiles/val_buffered_points140520_val.shp')\n",
    "val_px = []\n",
    "\n",
    "\n",
    "per_class_count = [0] * 6\n",
    "total_per_class_count = [0] * 6\n",
    "\n",
    "for index, row in val_gdf.iterrows():\n",
    "    if not row['reject']:\n",
    "        total_per_class_count[int(row['manual_val'])] = total_per_class_count[int(row['manual_val'])] + 1\n",
    "        if per_class_count[int(row['manual_val'])] < 120:\n",
    "            per_class_count[int(row['manual_val'])] = per_class_count[int(row['manual_val'])] + 1\n",
    "            val_px.append(((row['row'], row['col']), row['tile_name'], row['manual_val']))\n",
    "    \n",
    "random.shuffle(val_px)\n",
    "\n",
    "len(val_px), val_px[0]"
   ]
  },
  {
   "cell_type": "code",
   "execution_count": 11,
   "metadata": {},
   "outputs": [
    {
     "data": {
      "text/plain": [
       "([153, 152, 152, 137, 132, 139], [120, 120, 120, 120, 120, 120])"
      ]
     },
     "execution_count": 11,
     "metadata": {},
     "output_type": "execute_result"
    }
   ],
   "source": [
    "total_per_class_count, per_class_count"
   ]
  },
  {
   "cell_type": "markdown",
   "metadata": {},
   "source": [
    "### Create the RNN"
   ]
  },
  {
   "cell_type": "code",
   "execution_count": 12,
   "metadata": {},
   "outputs": [],
   "source": [
    "def strangeBlock_v4(input_block, nb_layers, filters):\n",
    "    x_list = [input_block]\n",
    "    c_temp = input_block\n",
    "    for i in range(nb_layers):\n",
    "        c_l = LSTM(units=filters, activation='elu', return_sequences=True) (c_temp)\n",
    "        x_list.append(c_l)\n",
    "        merge = Concatenate()(x_list)\n",
    "        c_temp = merge\n",
    "    return c_temp"
   ]
  },
  {
   "cell_type": "code",
   "execution_count": 14,
   "metadata": {},
   "outputs": [],
   "source": [
    "def make_MLT_dense(in_shape, in_shape_tile, num_classes):\n",
    "    input_tensor = Input(shape = in_shape, name=\"rnn_input\")\n",
    "    #single pixel rnn model\n",
    "    block = strangeBlock_v4(input_tensor, 5, 12)\n",
    "    block_2 = strangeBlock_v4(block, 3, 20)\n",
    "    final_block = LSTM(64, activation='softmax', return_sequences=False) (block_2)\n",
    "\n",
    "    #cnn model\n",
    "    input_tensor_tile = Input(shape = in_shape_tile, name=\"tile_input\")\n",
    "    cnn_layer1 = ConvLSTM2D(64, kernel_size=3, activation='elu', return_sequences=True)(input_tensor_tile)\n",
    "    # batch norm\n",
    "    cnn_layer2 = ConvLSTM2D(64, kernel_size=3, activation='elu', return_sequences=False) (cnn_layer1)\n",
    "    maxpool = MaxPooling2D(pool_size=(2, 2), strides=None, padding='same') (cnn_layer2)\n",
    "    flatten = Flatten()(maxpool)\n",
    "    concat = concatenate([final_block, flatten])\n",
    "    \n",
    "    # this makes it a RCNN + LSTM\n",
    "    #denselayer = Dense(64, activation=\"elu\")(concat)\n",
    "    # this makes it just an RCNN\n",
    "    denselayer = Dense(64, activation=\"elu\")(flatten)\n",
    "    # this makes it just an LSTM\n",
    "    #denselayer = Dense(64, activation=\"elu\")(final_block)\n",
    "    \n",
    "    landcover = Dense(num_classes,activation='softmax', name='landcover') (denselayer)\n",
    "    #canopy = Dense(1, name='canopy') (concat)\n",
    "\n",
    "    model = Model(inputs=[input_tensor,input_tensor_tile], outputs=[landcover])\n",
    "    return model"
   ]
  },
  {
   "cell_type": "markdown",
   "metadata": {},
   "source": [
    "Start the experiments here:"
   ]
  },
  {
   "cell_type": "code",
   "execution_count": 14,
   "metadata": {},
   "outputs": [
    {
     "name": "stderr",
     "output_type": "stream",
     "text": [
      "COMET INFO: old comet version (3.1.6) detected. current: 3.1.12 please update your comet lib with command: `pip install --no-cache-dir --upgrade comet_ml`\n",
      "COMET INFO: Experiment is live on comet.ml https://www.comet.ml/clifgray/chronos/16361bc586ca434386b3ed8574c869ae\n",
      "\n"
     ]
    }
   ],
   "source": [
    "experiment = Experiment(api_key=\"rMFbl2RlGxNuyyL37dE7qPSfE\",\n",
    "                        project_name=\"chronos\", workspace=\"clifgray\")"
   ]
  },
  {
   "cell_type": "code",
   "execution_count": 15,
   "metadata": {},
   "outputs": [],
   "source": [
    "experiment.add_tag(exp_name + '_' + model_name)"
   ]
  },
  {
   "cell_type": "code",
   "execution_count": 15,
   "metadata": {},
   "outputs": [],
   "source": [
    "tile_size = 9\n",
    "tile_list = ['028012', '029011', '028011']\n",
    "class_count = len(class_dict)\n",
    "epochs = 60\n",
    "batch_size = 25\n",
    "steps_division_factor = 10"
   ]
  },
  {
   "cell_type": "markdown",
   "metadata": {},
   "source": [
    "#### This is the simple MLP Model"
   ]
  },
  {
   "cell_type": "code",
   "execution_count": 14,
   "metadata": {},
   "outputs": [
    {
     "name": "stdout",
     "output_type": "stream",
     "text": [
      "WARNING:tensorflow:From /usr/local/lib/python3.5/dist-packages/tensorflow/python/framework/op_def_library.py:263: colocate_with (from tensorflow.python.framework.ops) is deprecated and will be removed in a future version.\n",
      "Instructions for updating:\n",
      "Colocations handled automatically by placer.\n",
      "WARNING:tensorflow:From /usr/local/lib/python3.5/dist-packages/keras/backend/tensorflow_backend.py:3733: calling dropout (from tensorflow.python.ops.nn_ops) with keep_prob is deprecated and will be removed in a future version.\n",
      "Instructions for updating:\n",
      "Please use `rate` instead of `keep_prob`. Rate should be set to `rate = 1 - keep_prob`.\n",
      "Model: \"sequential_1\"\n",
      "_________________________________________________________________\n",
      "Layer (type)                 Output Shape              Param #   \n",
      "=================================================================\n",
      "dense_1 (Dense)              (None, 32)                90752     \n",
      "_________________________________________________________________\n",
      "dropout_1 (Dropout)          (None, 32)                0         \n",
      "_________________________________________________________________\n",
      "dense_2 (Dense)              (None, 32)                1056      \n",
      "_________________________________________________________________\n",
      "dropout_2 (Dropout)          (None, 32)                0         \n",
      "_________________________________________________________________\n",
      "dense_3 (Dense)              (None, 6)                 198       \n",
      "=================================================================\n",
      "Total params: 92,006\n",
      "Trainable params: 92,006\n",
      "Non-trainable params: 0\n",
      "_________________________________________________________________\n"
     ]
    }
   ],
   "source": [
    "model = Sequential()\n",
    "model.add(Dense(32, activation='relu', input_shape=((tile_size*tile_size*len(tiles['028012'])*7),)))\n",
    "model.add(Dropout(0.2))\n",
    "model.add(Dense(32, activation='relu'))\n",
    "model.add(Dropout(0.2))\n",
    "model.add(Dense(class_count, activation='softmax'))\n",
    "\n",
    "model.summary()\n",
    "\n",
    "\n",
    "model.compile(loss='categorical_crossentropy',\n",
    "              optimizer=keras.optimizers.RMSprop(),\n",
    "              metrics=['accuracy'])"
   ]
  },
  {
   "cell_type": "markdown",
   "metadata": {},
   "source": [
    "#### This is the simple CNN Model"
   ]
  },
  {
   "cell_type": "code",
   "execution_count": 17,
   "metadata": {},
   "outputs": [
    {
     "name": "stdout",
     "output_type": "stream",
     "text": [
      "WARNING:tensorflow:From /usr/local/lib/python3.5/dist-packages/tensorflow/python/framework/op_def_library.py:263: colocate_with (from tensorflow.python.framework.ops) is deprecated and will be removed in a future version.\n",
      "Instructions for updating:\n",
      "Colocations handled automatically by placer.\n",
      "WARNING:tensorflow:From /usr/local/lib/python3.5/dist-packages/keras/backend/tensorflow_backend.py:3733: calling dropout (from tensorflow.python.ops.nn_ops) with keep_prob is deprecated and will be removed in a future version.\n",
      "Instructions for updating:\n",
      "Please use `rate` instead of `keep_prob`. Rate should be set to `rate = 1 - keep_prob`.\n",
      "Model: \"sequential_1\"\n",
      "_________________________________________________________________\n",
      "Layer (type)                 Output Shape              Param #   \n",
      "=================================================================\n",
      "conv2d_1 (Conv2D)            (None, 7, 7, 32)          10112     \n",
      "_________________________________________________________________\n",
      "conv2d_2 (Conv2D)            (None, 5, 5, 32)          9248      \n",
      "_________________________________________________________________\n",
      "max_pooling2d_1 (MaxPooling2 (None, 2, 2, 32)          0         \n",
      "_________________________________________________________________\n",
      "dropout_1 (Dropout)          (None, 2, 2, 32)          0         \n",
      "_________________________________________________________________\n",
      "flatten_1 (Flatten)          (None, 128)               0         \n",
      "_________________________________________________________________\n",
      "dense_1 (Dense)              (None, 64)                8256      \n",
      "_________________________________________________________________\n",
      "dropout_2 (Dropout)          (None, 64)                0         \n",
      "_________________________________________________________________\n",
      "dense_2 (Dense)              (None, 6)                 390       \n",
      "=================================================================\n",
      "Total params: 28,006\n",
      "Trainable params: 28,006\n",
      "Non-trainable params: 0\n",
      "_________________________________________________________________\n"
     ]
    }
   ],
   "source": [
    "model = Sequential()\n",
    "model.add(Conv2D(32, kernel_size=(3, 3),\n",
    "                 activation='relu',\n",
    "                 input_shape=(tile_size,tile_size,7*len(tiles['028012']))))\n",
    "model.add(Conv2D(32, (3, 3), activation='relu'))\n",
    "model.add(MaxPooling2D(pool_size=(2, 2)))\n",
    "model.add(Dropout(0.2))\n",
    "model.add(Flatten())\n",
    "model.add(Dense(64, activation='relu'))\n",
    "model.add(Dropout(0.2))\n",
    "model.add(Dense(class_count, activation='softmax'))\n",
    "\n",
    "model.summary()\n",
    "\n",
    "model.compile(loss=keras.losses.categorical_crossentropy,\n",
    "              optimizer=keras.optimizers.Adadelta(),\n",
    "              metrics=['accuracy'])"
   ]
  },
  {
   "cell_type": "markdown",
   "metadata": {},
   "source": [
    "#### This makes the RCNN model"
   ]
  },
  {
   "cell_type": "code",
   "execution_count": 16,
   "metadata": {},
   "outputs": [
    {
     "name": "stdout",
     "output_type": "stream",
     "text": [
      "WARNING:tensorflow:From /usr/local/lib/python3.5/dist-packages/tensorflow/python/framework/op_def_library.py:263: colocate_with (from tensorflow.python.framework.ops) is deprecated and will be removed in a future version.\n",
      "Instructions for updating:\n",
      "Colocations handled automatically by placer.\n",
      "Model: \"model_1\"\n",
      "_________________________________________________________________\n",
      "Layer (type)                 Output Shape              Param #   \n",
      "=================================================================\n",
      "tile_input (InputLayer)      (None, 5, 9, 9, 7)        0         \n",
      "_________________________________________________________________\n",
      "conv_lst_m2d_1 (ConvLSTM2D)  (None, 5, 7, 7, 64)       163840    \n",
      "_________________________________________________________________\n",
      "conv_lst_m2d_2 (ConvLSTM2D)  (None, 5, 5, 64)          295168    \n",
      "_________________________________________________________________\n",
      "max_pooling2d_1 (MaxPooling2 (None, 3, 3, 64)          0         \n",
      "_________________________________________________________________\n",
      "flatten_1 (Flatten)          (None, 576)               0         \n",
      "_________________________________________________________________\n",
      "dense_1 (Dense)              (None, 64)                36928     \n",
      "_________________________________________________________________\n",
      "landcover (Dense)            (None, 6)                 390       \n",
      "=================================================================\n",
      "Total params: 496,326\n",
      "Trainable params: 496,326\n",
      "Non-trainable params: 0\n",
      "_________________________________________________________________\n"
     ]
    }
   ],
   "source": [
    "model = make_MLT_dense((len(tiles['028012']),7),(len(tiles['028012']),tile_size,tile_size,7), class_count)\n",
    "model.summary()\n",
    "model.compile(optimizer=Adam(), loss={'landcover':'categorical_crossentropy'}, metrics={'landcover':['accuracy']}, loss_weights={\"landcover\":1})"
   ]
  },
  {
   "cell_type": "markdown",
   "metadata": {},
   "source": [
    "train the model in a loop to see impact of training sample count"
   ]
  },
  {
   "cell_type": "code",
   "execution_count": null,
   "metadata": {},
   "outputs": [],
   "source": [
    "tiles = {}\n",
    "landsat_datasets = {}\n",
    "tiles['028012'] = ['20110103', '20110308', '20110730', '20110831', '20111103']\n",
    "tiles['029011'] = ['20110103', '20110308', '20110730', '20110831', '20111018']\n",
    "tiles['028011'] = ['20110103', '20110308', '20110831', '20111018', '20111103']\n",
    "\n",
    "# 2000 tiles\n",
    "#tiles['028012'] = ['20000105', '20000410', '20000816', '20001003', '20001019']\n",
    "#tiles['029011'] = ['20000222', '20000410', '20000816', '20001003', '20001019']\n",
    "#tiles['028011'] = ['20000121', '20000410', '20000512', '20000816', '20001019']\n",
    "\n",
    "for tile_number, dates in tiles.items():\n",
    "    tile_datasets = []\n",
    "    l8_image_paths = []\n",
    "    for date in dates:\n",
    "        l8_image_paths.append('/deep_data/recurrent_data/tile{}/combined/combined{}.tif'.format(tile_number, date))\n",
    "    for fp in l8_image_paths:\n",
    "        tile_datasets.append(rasterio.open(fp))\n",
    "    landsat_datasets[tile_number] = tile_datasets"
   ]
  },
  {
   "cell_type": "code",
   "execution_count": 28,
   "metadata": {},
   "outputs": [
    {
     "name": "stdout",
     "output_type": "stream",
     "text": [
      "10\n",
      "0.8528571405581066\n",
      "20\n",
      "0.8642857074737549\n",
      "40\n",
      "0.8957142744745527\n",
      "80\n",
      "0.9057142840964454\n",
      "100\n",
      "0.9157142809459141\n",
      "200\n",
      "0.9328571366412299\n",
      "300\n",
      "0.954285706792559\n",
      "400\n",
      "0.9528571388551167\n",
      "500\n",
      "0.9528571367263794\n",
      "600\n",
      "0.9599999977009637\n",
      "700\n",
      "0.9542857089212963\n",
      "800\n",
      "0.9628571335758481\n",
      "900\n",
      "0.9599999955722264\n",
      "1000\n",
      "0.9642857078995023\n",
      "1100\n",
      "0.975714276943888\n",
      "1200\n",
      "0.967142852289336\n",
      "1300\n",
      "0.9699999945504325\n",
      "1400\n",
      "0.967142852289336\n",
      "1500\n",
      "0.9671428565468106\n"
     ]
    },
    {
     "data": {
      "text/plain": [
       "(0.5, 1)"
      ]
     },
     "execution_count": 28,
     "metadata": {},
     "output_type": "execute_result"
    },
    {
     "data": {
      "image/png": "[encoded data removed]",
      "text/plain": [
       "<Figure size 432x288 with 1 Axes>"
      ]
     },
     "metadata": {
      "needs_background": "light"
     },
     "output_type": "display_data"
    }
   ],
   "source": [
    "accuracies = []\n",
    "train_counts = [10, 20, 40, 80, 100, 200, 300, 400, 500, 600, 700, 800, 900, 1000, 1100, 1200, 1300, 1400, 1500]\n",
    "epochs = 50\n",
    "steps_division_factor = 1\n",
    "\n",
    "tile_gen = rnn_tiles.rnn_tile_gen(landsat_datasets, lc_labels, canopy_labels, tile_size, class_count)\n",
    "\n",
    "for train_count in train_counts:\n",
    "    print(train_count)\n",
    "\n",
    "    model = make_MLT_dense((len(tiles['028012']),7),(len(tiles['028012']),tile_size,tile_size,7), class_count)\n",
    "    model.compile(optimizer=Adam(), loss={'landcover':'categorical_crossentropy'}, metrics={'landcover':['accuracy']}, loss_weights={\"landcover\":1})\n",
    "\n",
    "    history = model.fit_generator(generator=tile_gen.tile_generator(train_px[:train_count*6], batch_size, flatten=True, canopy=True), \n",
    "                steps_per_epoch=len(train_px[:train_count*6]) // batch_size // steps_division_factor, epochs=epochs, verbose=False,\n",
    "                validation_data=tile_gen.tile_generator(val_px, batch_size, flatten=True, canopy=True),\n",
    "                validation_steps=len(val_px) // batch_size) \n",
    "\n",
    "    accuracies.append(max(history.history['val_acc']))\n",
    "    print(max(history.history['val_acc']))\n",
    "\n",
    "#keras.backend.clear_session()\n",
    "\n",
    "plt.plot(train_counts, accuracies)\n",
    "plt.ylim(.5,1)"
   ]
  },
  {
   "cell_type": "code",
   "execution_count": 29,
   "metadata": {},
   "outputs": [
    {
     "data": {
      "text/plain": [
       "[0.8528571405581066,\n",
       " 0.8642857074737549,\n",
       " 0.8957142744745527,\n",
       " 0.9057142840964454,\n",
       " 0.9157142809459141,\n",
       " 0.9328571366412299,\n",
       " 0.954285706792559,\n",
       " 0.9528571388551167,\n",
       " 0.9528571367263794,\n",
       " 0.9599999977009637,\n",
       " 0.9542857089212963,\n",
       " 0.9628571335758481,\n",
       " 0.9599999955722264,\n",
       " 0.9642857078995023,\n",
       " 0.975714276943888,\n",
       " 0.967142852289336,\n",
       " 0.9699999945504325,\n",
       " 0.967142852289336,\n",
       " 0.9671428565468106]"
      ]
     },
     "execution_count": 29,
     "metadata": {},
     "output_type": "execute_result"
    }
   ],
   "source": [
    "accuracies"
   ]
  },
  {
   "cell_type": "code",
   "execution_count": 18,
   "metadata": {},
   "outputs": [
    {
     "data": {
      "text/plain": [
       "[0.8333333333333334,\n",
       " 0.8919999897480011,\n",
       " 0.9226666569709778,\n",
       " 0.9319999972979228,\n",
       " 0.935999995470047,\n",
       " 0.9573333263397217,\n",
       " 0.9586666564146678,\n",
       " 0.9639999945958455,\n",
       " 0.9639999945958455,\n",
       " 0.9693333307902018,\n",
       " 0.9666666607062022]"
      ]
     },
     "execution_count": 18,
     "metadata": {},
     "output_type": "execute_result"
    }
   ],
   "source": [
    "rcnn_accs"
   ]
  },
  {
   "cell_type": "code",
   "execution_count": 44,
   "metadata": {},
   "outputs": [
    {
     "data": {
      "text/plain": [
       "[0.8013333400090535,\n",
       " 0.8679999987284343,\n",
       " 0.8786666691303253,\n",
       " 0.9079999963442484,\n",
       " 0.9186666627724965,\n",
       " 0.9333333293596904,\n",
       " 0.9279999991257986,\n",
       " 0.9399999996026357,\n",
       " 0.9359999934832255,\n",
       " 0.945333327849706,\n",
       " 0.935999991496404]"
      ]
     },
     "execution_count": 44,
     "metadata": {},
     "output_type": "execute_result"
    }
   ],
   "source": [
    "simple_rnn_accs = accuracies\n",
    "simple_rnn_accs"
   ]
  },
  {
   "cell_type": "code",
   "execution_count": 45,
   "metadata": {},
   "outputs": [
    {
     "data": {
      "text/plain": [
       "(0.8, 1)"
      ]
     },
     "execution_count": 45,
     "metadata": {},
     "output_type": "execute_result"
    },
    {
     "data": {
      "image/png": "[encoded data removed]",
      "text/plain": [
       "<Figure size 432x288 with 1 Axes>"
      ]
     },
     "metadata": {
      "needs_background": "light"
     },
     "output_type": "display_data"
    }
   ],
   "source": [
    "plt.plot(train_counts, simple_mlp_accs)\n",
    "plt.plot(train_counts, simple_cnn_accs)\n",
    "plt.plot(train_counts[:11], simple_rnn_accs)\n",
    "plt.ylim(.80,1)"
   ]
  },
  {
   "cell_type": "code",
   "execution_count": 31,
   "metadata": {},
   "outputs": [
    {
     "data": {
      "text/plain": [
       "[0.8799999992052714,\n",
       " 0.8839999934037527,\n",
       " 0.937333329518636,\n",
       " 0.9546666622161866,\n",
       " 0.9493333299954733,\n",
       " 0.9613333284854889,\n",
       " 0.9653333346048991,\n",
       " 0.9706666628519695,\n",
       " 0.9746666610240936,\n",
       " 0.9746666590372721,\n",
       " 0.9719999969005585,\n",
       " 0.9759999930858612,\n",
       " 0.9733333249886831,\n",
       " 0.9733333309491475,\n",
       " 0.9759999970595042,\n",
       " 0.9759999950726826,\n",
       " 0.9759999990463257,\n",
       " 0.9746666610240936,\n",
       " 0.9746666610240936]"
      ]
     },
     "execution_count": 31,
     "metadata": {},
     "output_type": "execute_result"
    }
   ],
   "source": [
    "simple_cnn_accs"
   ]
  },
  {
   "cell_type": "markdown",
   "metadata": {},
   "source": [
    "#### Train the Model"
   ]
  },
  {
   "cell_type": "code",
   "execution_count": 17,
   "metadata": {},
   "outputs": [],
   "source": [
    "filepath = 'model_search/' +  model_name + '--' + exp_name + '.hdf5' #your filepath here\n",
    "checkpoint = ModelCheckpoint(filepath, monitor='val_acc', verbose=1, save_best_only=True, mode='max')\n",
    "callbacks_list = [checkpoint]\n",
    "tile_gen = rnn_tiles.rnn_tile_gen(landsat_datasets, lc_labels, canopy_labels, tile_size, class_count)"
   ]
  },
  {
   "cell_type": "code",
   "execution_count": 18,
   "metadata": {},
   "outputs": [],
   "source": [
    "steps_division_factor = 2"
   ]
  },
  {
   "cell_type": "code",
   "execution_count": 20,
   "metadata": {
    "scrolled": true
   },
   "outputs": [
    {
     "name": "stderr",
     "output_type": "stream",
     "text": [
      "COMET WARNING: Set model graph by 'keras' ignored; already called. Future attempts are silently ignored.\n"
     ]
    },
    {
     "name": "stdout",
     "output_type": "stream",
     "text": [
      "Epoch 1/60\n",
      "13/13 [==============================] - 4s 314ms/step - loss: 0.2964 - acc: 0.9200 - val_loss: 0.3117 - val_acc: 0.8900\n",
      "\n",
      "Epoch 00001: val_acc improved from -inf to 0.89000, saving model to model_search/rcnn_fine--fullval_keras_tests.hdf5\n",
      "Epoch 2/60\n",
      "13/13 [==============================] - 2s 186ms/step - loss: 0.2223 - acc: 0.9292 - val_loss: 0.1663 - val_acc: 0.9414\n",
      "\n",
      "Epoch 00002: val_acc improved from 0.89000 to 0.94143, saving model to model_search/rcnn_fine--fullval_keras_tests.hdf5\n",
      "Epoch 3/60\n",
      "13/13 [==============================] - 3s 194ms/step - loss: 0.1439 - acc: 0.9508 - val_loss: 0.1378 - val_acc: 0.9500\n",
      "\n",
      "Epoch 00003: val_acc improved from 0.94143 to 0.95000, saving model to model_search/rcnn_fine--fullval_keras_tests.hdf5\n",
      "Epoch 4/60\n",
      "13/13 [==============================] - 3s 200ms/step - loss: 0.1316 - acc: 0.9600 - val_loss: 0.1472 - val_acc: 0.9514\n",
      "\n",
      "Epoch 00004: val_acc improved from 0.95000 to 0.95143, saving model to model_search/rcnn_fine--fullval_keras_tests.hdf5\n",
      "Epoch 5/60\n",
      "13/13 [==============================] - 3s 221ms/step - loss: 0.0740 - acc: 0.9815 - val_loss: 0.1372 - val_acc: 0.9543\n",
      "\n",
      "Epoch 00005: val_acc improved from 0.95143 to 0.95429, saving model to model_search/rcnn_fine--fullval_keras_tests.hdf5\n",
      "Epoch 6/60\n",
      "13/13 [==============================] - 3s 201ms/step - loss: 0.0792 - acc: 0.9754 - val_loss: 0.1868 - val_acc: 0.9400\n",
      "\n",
      "Epoch 00006: val_acc did not improve from 0.95429\n",
      "Epoch 7/60\n",
      "13/13 [==============================] - 3s 222ms/step - loss: 0.0454 - acc: 0.9846 - val_loss: 0.1798 - val_acc: 0.9500\n",
      "\n",
      "Epoch 00007: val_acc did not improve from 0.95429\n",
      "Epoch 8/60\n",
      "13/13 [==============================] - 3s 210ms/step - loss: 0.0881 - acc: 0.9692 - val_loss: 0.2450 - val_acc: 0.9329\n",
      "\n",
      "Epoch 00008: val_acc did not improve from 0.95429\n",
      "Epoch 9/60\n",
      "13/13 [==============================] - 3s 205ms/step - loss: 0.0349 - acc: 0.9908 - val_loss: 0.2389 - val_acc: 0.9271\n",
      "\n",
      "Epoch 00009: val_acc did not improve from 0.95429\n",
      "Epoch 10/60\n",
      "13/13 [==============================] - 3s 196ms/step - loss: 0.0518 - acc: 0.9754 - val_loss: 0.1781 - val_acc: 0.9486\n",
      "\n",
      "Epoch 00010: val_acc did not improve from 0.95429\n",
      "Epoch 11/60\n",
      "13/13 [==============================] - 3s 202ms/step - loss: 0.0311 - acc: 0.9908 - val_loss: 0.1955 - val_acc: 0.9471\n",
      "\n",
      "Epoch 00011: val_acc did not improve from 0.95429\n",
      "Epoch 12/60\n",
      "13/13 [==============================] - 3s 193ms/step - loss: 0.0389 - acc: 0.9908 - val_loss: 0.3926 - val_acc: 0.9129\n",
      "\n",
      "Epoch 00012: val_acc did not improve from 0.95429\n",
      "Epoch 13/60\n",
      "13/13 [==============================] - 3s 202ms/step - loss: 0.0908 - acc: 0.9754 - val_loss: 0.2458 - val_acc: 0.9286\n",
      "\n",
      "Epoch 00013: val_acc did not improve from 0.95429\n",
      "Epoch 14/60\n",
      "13/13 [==============================] - 2s 190ms/step - loss: 0.0435 - acc: 0.9846 - val_loss: 0.2876 - val_acc: 0.9314\n",
      "\n",
      "Epoch 00014: val_acc did not improve from 0.95429\n",
      "Epoch 15/60\n",
      "13/13 [==============================] - 3s 203ms/step - loss: 0.0320 - acc: 0.9846 - val_loss: 0.2047 - val_acc: 0.9400\n",
      "\n",
      "Epoch 00015: val_acc did not improve from 0.95429\n",
      "Epoch 16/60\n",
      "13/13 [==============================] - 3s 204ms/step - loss: 0.0178 - acc: 0.9969 - val_loss: 0.2168 - val_acc: 0.9414\n",
      "\n",
      "Epoch 00016: val_acc did not improve from 0.95429\n",
      "Epoch 17/60\n",
      "13/13 [==============================] - 3s 205ms/step - loss: 0.0098 - acc: 1.0000 - val_loss: 0.2475 - val_acc: 0.9371\n",
      "\n",
      "Epoch 00017: val_acc did not improve from 0.95429\n",
      "Epoch 18/60\n",
      "13/13 [==============================] - 3s 202ms/step - loss: 0.0068 - acc: 0.9969 - val_loss: 0.2658 - val_acc: 0.9414\n",
      "\n",
      "Epoch 00018: val_acc did not improve from 0.95429\n",
      "Epoch 19/60\n",
      "13/13 [==============================] - 3s 207ms/step - loss: 0.0019 - acc: 1.0000 - val_loss: 0.2420 - val_acc: 0.9429\n",
      "\n",
      "Epoch 00019: val_acc did not improve from 0.95429\n",
      "Epoch 20/60\n",
      "13/13 [==============================] - 3s 207ms/step - loss: 0.0033 - acc: 1.0000 - val_loss: 0.2526 - val_acc: 0.9443\n",
      "\n",
      "Epoch 00020: val_acc did not improve from 0.95429\n",
      "Epoch 21/60\n",
      "13/13 [==============================] - 3s 198ms/step - loss: 0.0012 - acc: 1.0000 - val_loss: 0.2264 - val_acc: 0.9500\n",
      "\n",
      "Epoch 00021: val_acc did not improve from 0.95429\n",
      "Epoch 22/60\n",
      "13/13 [==============================] - 3s 203ms/step - loss: 0.0014 - acc: 1.0000 - val_loss: 0.2396 - val_acc: 0.9486\n",
      "\n",
      "Epoch 00022: val_acc did not improve from 0.95429\n",
      "Epoch 23/60\n",
      "13/13 [==============================] - 3s 200ms/step - loss: 6.4088e-04 - acc: 1.0000 - val_loss: 0.2475 - val_acc: 0.9486\n",
      "\n",
      "Epoch 00023: val_acc did not improve from 0.95429\n",
      "Epoch 24/60\n",
      "13/13 [==============================] - 3s 199ms/step - loss: 8.9497e-04 - acc: 1.0000 - val_loss: 0.2520 - val_acc: 0.9500\n",
      "\n",
      "Epoch 00024: val_acc did not improve from 0.95429\n",
      "Epoch 25/60\n",
      "13/13 [==============================] - 3s 192ms/step - loss: 4.5326e-04 - acc: 1.0000 - val_loss: 0.2550 - val_acc: 0.9500\n",
      "\n",
      "Epoch 00025: val_acc did not improve from 0.95429\n",
      "Epoch 26/60\n",
      "13/13 [==============================] - 3s 201ms/step - loss: 6.3479e-04 - acc: 1.0000 - val_loss: 0.2534 - val_acc: 0.9529\n",
      "\n",
      "Epoch 00026: val_acc did not improve from 0.95429\n",
      "Epoch 27/60\n",
      "13/13 [==============================] - 3s 195ms/step - loss: 3.3748e-04 - acc: 1.0000 - val_loss: 0.2515 - val_acc: 0.9514\n",
      "\n",
      "Epoch 00027: val_acc did not improve from 0.95429\n",
      "Epoch 28/60\n",
      "13/13 [==============================] - 3s 200ms/step - loss: 5.0443e-04 - acc: 1.0000 - val_loss: 0.2636 - val_acc: 0.9500\n",
      "\n",
      "Epoch 00028: val_acc did not improve from 0.95429\n",
      "Epoch 29/60\n",
      "13/13 [==============================] - 2s 191ms/step - loss: 2.6678e-04 - acc: 1.0000 - val_loss: 0.2613 - val_acc: 0.9514\n",
      "\n",
      "Epoch 00029: val_acc did not improve from 0.95429\n",
      "Epoch 30/60\n",
      "13/13 [==============================] - 2s 186ms/step - loss: 4.1355e-04 - acc: 1.0000 - val_loss: 0.2689 - val_acc: 0.9500\n",
      "\n",
      "Epoch 00030: val_acc did not improve from 0.95429\n",
      "Epoch 31/60\n",
      "13/13 [==============================] - 3s 194ms/step - loss: 2.1592e-04 - acc: 1.0000 - val_loss: 0.2518 - val_acc: 0.9529\n",
      "\n",
      "Epoch 00031: val_acc did not improve from 0.95429\n",
      "Epoch 32/60\n",
      "13/13 [==============================] - 3s 193ms/step - loss: 3.2641e-04 - acc: 1.0000 - val_loss: 0.2479 - val_acc: 0.9557\n",
      "\n",
      "Epoch 00032: val_acc improved from 0.95429 to 0.95571, saving model to model_search/rcnn_fine--fullval_keras_tests.hdf5\n",
      "Epoch 33/60\n",
      "13/13 [==============================] - 2s 189ms/step - loss: 1.9602e-04 - acc: 1.0000 - val_loss: 0.2748 - val_acc: 0.9514\n",
      "\n",
      "Epoch 00033: val_acc did not improve from 0.95571\n",
      "Epoch 34/60\n",
      "13/13 [==============================] - 2s 190ms/step - loss: 2.8055e-04 - acc: 1.0000 - val_loss: 0.2718 - val_acc: 0.9543\n",
      "\n",
      "Epoch 00034: val_acc did not improve from 0.95571\n",
      "Epoch 35/60\n",
      "13/13 [==============================] - 2s 187ms/step - loss: 1.6954e-04 - acc: 1.0000 - val_loss: 0.2782 - val_acc: 0.9529\n",
      "\n",
      "Epoch 00035: val_acc did not improve from 0.95571\n",
      "Epoch 36/60\n",
      "13/13 [==============================] - 2s 186ms/step - loss: 2.3828e-04 - acc: 1.0000 - val_loss: 0.2764 - val_acc: 0.9529\n",
      "\n",
      "Epoch 00036: val_acc did not improve from 0.95571\n",
      "Epoch 37/60\n",
      "13/13 [==============================] - 2s 186ms/step - loss: 1.5420e-04 - acc: 1.0000 - val_loss: 0.2789 - val_acc: 0.9529\n",
      "\n",
      "Epoch 00037: val_acc did not improve from 0.95571\n",
      "Epoch 38/60\n",
      "13/13 [==============================] - 3s 194ms/step - loss: 2.0785e-04 - acc: 1.0000 - val_loss: 0.2694 - val_acc: 0.9543\n",
      "\n",
      "Epoch 00038: val_acc did not improve from 0.95571\n",
      "Epoch 39/60\n",
      "13/13 [==============================] - 3s 193ms/step - loss: 1.3664e-04 - acc: 1.0000 - val_loss: 0.2630 - val_acc: 0.9543\n",
      "\n",
      "Epoch 00039: val_acc did not improve from 0.95571\n",
      "Epoch 40/60\n",
      "13/13 [==============================] - 2s 190ms/step - loss: 1.8074e-04 - acc: 1.0000 - val_loss: 0.2758 - val_acc: 0.9529\n",
      "\n",
      "Epoch 00040: val_acc did not improve from 0.95571\n",
      "Epoch 41/60\n",
      "13/13 [==============================] - 2s 185ms/step - loss: 1.2001e-04 - acc: 1.0000 - val_loss: 0.2844 - val_acc: 0.9529\n",
      "\n",
      "Epoch 00041: val_acc did not improve from 0.95571\n",
      "Epoch 42/60\n",
      "13/13 [==============================] - 2s 186ms/step - loss: 1.5252e-04 - acc: 1.0000 - val_loss: 0.2718 - val_acc: 0.9529\n",
      "\n",
      "Epoch 00042: val_acc did not improve from 0.95571\n",
      "Epoch 43/60\n"
     ]
    },
    {
     "name": "stdout",
     "output_type": "stream",
     "text": [
      "13/13 [==============================] - 3s 195ms/step - loss: 1.1845e-04 - acc: 1.0000 - val_loss: 0.2890 - val_acc: 0.9529\n",
      "\n",
      "Epoch 00043: val_acc did not improve from 0.95571\n",
      "Epoch 44/60\n",
      "13/13 [==============================] - 3s 205ms/step - loss: 1.4020e-04 - acc: 1.0000 - val_loss: 0.2893 - val_acc: 0.9529\n",
      "\n",
      "Epoch 00044: val_acc did not improve from 0.95571\n",
      "Epoch 45/60\n",
      "13/13 [==============================] - 3s 198ms/step - loss: 1.0530e-04 - acc: 1.0000 - val_loss: 0.2838 - val_acc: 0.9529\n",
      "\n",
      "Epoch 00045: val_acc did not improve from 0.95571\n",
      "Epoch 46/60\n",
      "13/13 [==============================] - 3s 199ms/step - loss: 1.2721e-04 - acc: 1.0000 - val_loss: 0.2715 - val_acc: 0.9543\n",
      "\n",
      "Epoch 00046: val_acc did not improve from 0.95571\n",
      "Epoch 47/60\n",
      "13/13 [==============================] - 2s 190ms/step - loss: 9.2820e-05 - acc: 1.0000 - val_loss: 0.2814 - val_acc: 0.9529\n",
      "\n",
      "Epoch 00047: val_acc did not improve from 0.95571\n",
      "Epoch 48/60\n",
      "13/13 [==============================] - 3s 203ms/step - loss: 1.1746e-04 - acc: 1.0000 - val_loss: 0.2968 - val_acc: 0.9529\n",
      "\n",
      "Epoch 00048: val_acc did not improve from 0.95571\n",
      "Epoch 49/60\n",
      "13/13 [==============================] - 2s 192ms/step - loss: 8.8314e-05 - acc: 1.0000 - val_loss: 0.2912 - val_acc: 0.9543\n",
      "\n",
      "Epoch 00049: val_acc did not improve from 0.95571\n",
      "Epoch 50/60\n",
      "13/13 [==============================] - 2s 189ms/step - loss: 9.9197e-05 - acc: 1.0000 - val_loss: 0.2987 - val_acc: 0.9529\n",
      "\n",
      "Epoch 00050: val_acc did not improve from 0.95571\n",
      "Epoch 51/60\n",
      "13/13 [==============================] - 3s 201ms/step - loss: 8.7736e-05 - acc: 1.0000 - val_loss: 0.2694 - val_acc: 0.9557\n",
      "\n",
      "Epoch 00051: val_acc did not improve from 0.95571\n",
      "Epoch 52/60\n",
      "13/13 [==============================] - 2s 192ms/step - loss: 9.2704e-05 - acc: 1.0000 - val_loss: 0.2937 - val_acc: 0.9543\n",
      "\n",
      "Epoch 00052: val_acc did not improve from 0.95571\n",
      "Epoch 53/60\n",
      "13/13 [==============================] - 2s 188ms/step - loss: 8.0898e-05 - acc: 1.0000 - val_loss: 0.2993 - val_acc: 0.9543\n",
      "\n",
      "Epoch 00053: val_acc did not improve from 0.95571\n",
      "Epoch 54/60\n",
      "13/13 [==============================] - 3s 204ms/step - loss: 8.2362e-05 - acc: 1.0000 - val_loss: 0.3031 - val_acc: 0.9529\n",
      "\n",
      "Epoch 00054: val_acc did not improve from 0.95571\n",
      "Epoch 55/60\n",
      "13/13 [==============================] - 2s 192ms/step - loss: 7.3730e-05 - acc: 1.0000 - val_loss: 0.3017 - val_acc: 0.9543\n",
      "\n",
      "Epoch 00055: val_acc did not improve from 0.95571\n",
      "Epoch 56/60\n",
      "13/13 [==============================] - 2s 189ms/step - loss: 7.9066e-05 - acc: 1.0000 - val_loss: 0.3044 - val_acc: 0.9529\n",
      "\n",
      "Epoch 00056: val_acc did not improve from 0.95571\n",
      "Epoch 57/60\n",
      "13/13 [==============================] - 2s 187ms/step - loss: 6.9586e-05 - acc: 1.0000 - val_loss: 0.2742 - val_acc: 0.9571\n",
      "\n",
      "Epoch 00057: val_acc improved from 0.95571 to 0.95714, saving model to model_search/rcnn_fine--fullval_keras_tests.hdf5\n",
      "Epoch 58/60\n",
      "13/13 [==============================] - 3s 201ms/step - loss: 7.2681e-05 - acc: 1.0000 - val_loss: 0.2966 - val_acc: 0.9543\n",
      "\n",
      "Epoch 00058: val_acc did not improve from 0.95714\n",
      "Epoch 59/60\n",
      "13/13 [==============================] - 3s 193ms/step - loss: 6.3451e-05 - acc: 1.0000 - val_loss: 0.3074 - val_acc: 0.9529\n",
      "\n",
      "Epoch 00059: val_acc did not improve from 0.95714\n",
      "Epoch 60/60\n",
      "13/13 [==============================] - 2s 187ms/step - loss: 6.8775e-05 - acc: 1.0000 - val_loss: 0.3085 - val_acc: 0.9529\n",
      "\n",
      "Epoch 00060: val_acc did not improve from 0.95714\n"
     ]
    }
   ],
   "source": [
    "# load model if fine-tuning\n",
    "model = keras.models.load_model('model_search/rcnn--fullval_keras_tests.hdf5')\n",
    "\n",
    "train_time_start = datetime.datetime.now()\n",
    "\n",
    "history = model.fit_generator(generator=tile_gen.tile_generator(train_px, batch_size, flatten=True, canopy=True), \n",
    "                steps_per_epoch=len(train_px) // batch_size // steps_division_factor, epochs=epochs, verbose=1,\n",
    "                validation_data=tile_gen.tile_generator(val_px, batch_size, flatten=True, canopy=True),\n",
    "                validation_steps=len(val_px) // batch_size,\n",
    "                callbacks=callbacks_list) \n",
    "\n",
    "train_time_stop = datetime.datetime.now()\n",
    "training_time = train_time_stop - train_time_start"
   ]
  },
  {
   "cell_type": "code",
   "execution_count": 21,
   "metadata": {},
   "outputs": [
    {
     "name": "stdout",
     "output_type": "stream",
     "text": [
      "dict_keys(['val_acc', 'acc', 'loss', 'val_loss'])\n"
     ]
    },
    {
     "data": {
      "image/png": "[encoded data removed]",
      "text/plain": [
       "<Figure size 432x288 with 1 Axes>"
      ]
     },
     "metadata": {
      "needs_background": "light"
     },
     "output_type": "display_data"
    },
    {
     "data": {
      "image/png": "[encoded data removed]",
      "text/plain": [
       "<Figure size 432x288 with 1 Axes>"
      ]
     },
     "metadata": {
      "needs_background": "light"
     },
     "output_type": "display_data"
    }
   ],
   "source": [
    "print(history.history.keys())\n",
    "#  \"Accuracy\"\n",
    "plt.plot(history.history['acc'])\n",
    "plt.plot(history.history['val_acc'])\n",
    "plt.title('model accuracy')\n",
    "plt.ylabel('accuracy')\n",
    "plt.xlabel('epoch')\n",
    "plt.legend(['train', 'validation'], loc='upper left')\n",
    "experiment.log_figure(figure=plt, figure_name=\"model_acc\")\n",
    "plt.show()\n",
    "# \"Loss\"\n",
    "plt.plot(history.history['loss'])\n",
    "plt.plot(history.history['val_loss'])\n",
    "plt.title('model loss')\n",
    "plt.ylabel('loss')\n",
    "plt.xlabel('epoch')\n",
    "plt.legend(['train', 'validation'], loc='upper left')\n",
    "experiment.log_figure(figure=plt, figure_name=\"model_loss\")\n",
    "plt.show()"
   ]
  },
  {
   "cell_type": "code",
   "execution_count": 51,
   "metadata": {},
   "outputs": [
    {
     "ename": "NameError",
     "evalue": "name 'filepath' is not defined",
     "output_type": "error",
     "traceback": [
      "\u001b[0;31m---------------------------------------------------------------------------\u001b[0m",
      "\u001b[0;31mNameError\u001b[0m                                 Traceback (most recent call last)",
      "\u001b[0;32m<ipython-input-51-213d82aa5b0d>\u001b[0m in \u001b[0;36m<module>\u001b[0;34m\u001b[0m\n\u001b[0;32m----> 1\u001b[0;31m \u001b[0mfilepath\u001b[0m\u001b[0;34m\u001b[0m\u001b[0m\n\u001b[0m",
      "\u001b[0;31mNameError\u001b[0m: name 'filepath' is not defined"
     ]
    }
   ],
   "source": [
    "filepath"
   ]
  },
  {
   "cell_type": "code",
   "execution_count": 50,
   "metadata": {},
   "outputs": [
    {
     "ename": "NameError",
     "evalue": "name 'filepath' is not defined",
     "output_type": "error",
     "traceback": [
      "\u001b[0;31m---------------------------------------------------------------------------\u001b[0m",
      "\u001b[0;31mNameError\u001b[0m                                 Traceback (most recent call last)",
      "\u001b[0;32m<ipython-input-50-01dbb5d1eaeb>\u001b[0m in \u001b[0;36m<module>\u001b[0;34m\u001b[0m\n\u001b[0;32m----> 1\u001b[0;31m \u001b[0mmodel\u001b[0m \u001b[0;34m=\u001b[0m \u001b[0mkeras\u001b[0m\u001b[0;34m.\u001b[0m\u001b[0mmodels\u001b[0m\u001b[0;34m.\u001b[0m\u001b[0mload_model\u001b[0m\u001b[0;34m(\u001b[0m\u001b[0mfilepath\u001b[0m\u001b[0;34m)\u001b[0m\u001b[0;34m\u001b[0m\u001b[0m\n\u001b[0m",
      "\u001b[0;31mNameError\u001b[0m: name 'filepath' is not defined"
     ]
    }
   ],
   "source": [
    "model = keras.models.load_model(filepath)"
   ]
  },
  {
   "cell_type": "markdown",
   "metadata": {},
   "source": [
    "# Evaluate model"
   ]
  },
  {
   "cell_type": "markdown",
   "metadata": {},
   "source": [
    "#### change evaluation dataset"
   ]
  },
  {
   "cell_type": "code",
   "execution_count": 30,
   "metadata": {},
   "outputs": [],
   "source": [
    "dataset_name = '2000val' # '2010val' '2010test' '2000test'"
   ]
  },
  {
   "cell_type": "code",
   "execution_count": 40,
   "metadata": {},
   "outputs": [],
   "source": [
    "tiles = {}\n",
    "landsat_datasets = {}\n",
    "#tiles['028012'] = ['20110103', '20110308', '20110730', '20110831', '20111103']\n",
    "#tiles['029011'] = ['20110103', '20110308', '20110730', '20110831', '20111018']\n",
    "#tiles['028011'] = ['20110103', '20110308', '20110831', '20111018', '20111103']\n",
    "\n",
    "# 2000 tiles\n",
    "tiles['028012'] = ['20000105', '20000410', '20000816', '20001003', '20001019']\n",
    "tiles['029011'] = ['20000222', '20000410', '20000816', '20001003', '20001019']\n",
    "tiles['028011'] = ['20000121', '20000410', '20000512', '20000816', '20001019']\n",
    "\n",
    "for tile_number, dates in tiles.items():\n",
    "    tile_datasets = []\n",
    "    l8_image_paths = []\n",
    "    for date in dates:\n",
    "        l8_image_paths.append('/deep_data/recurrent_data/tile{}/combined/combined{}.tif'.format(tile_number, date))\n",
    "    for fp in l8_image_paths:\n",
    "        tile_datasets.append(rasterio.open(fp))\n",
    "    landsat_datasets[tile_number] = tile_datasets"
   ]
  },
  {
   "cell_type": "code",
   "execution_count": 41,
   "metadata": {},
   "outputs": [],
   "source": [
    "#val_gdf = gpd.read_file('../shapefiles/val_buffered_points140520_val.shp')\n",
    "#val_gdf = gpd.read_file('../shapefiles/test_buffered_points140520_val.shp')\n",
    "val_gdf = gpd.read_file('../shapefiles/test1999_buffered_points140520_val_subset.shp')\n",
    "\n",
    "val_px = []\n",
    "\n",
    "per_class_count = [0] * 6\n",
    "total_per_class_count = [0] * 6\n",
    "\n",
    "for index, row in val_gdf.iterrows():\n",
    "    if not row['reject']:\n",
    "        total_per_class_count[int(row['manual_val'])] = total_per_class_count[int(row['manual_val'])] + 1\n",
    "        if per_class_count[int(row['manual_val'])] < 100:\n",
    "            per_class_count[int(row['manual_val'])] = per_class_count[int(row['manual_val'])] + 1\n",
    "            val_px.append(((row['row'], row['col']), row['tile_name'], row['manual_val']))\n",
    "    \n",
    "random.shuffle(val_px)\n",
    "\n",
    "len(val_px), val_px[0]\n",
    "\n",
    "tile_gen = rnn_tiles.rnn_tile_gen(landsat_datasets, lc_labels, canopy_labels, tile_size, class_count)"
   ]
  },
  {
   "cell_type": "code",
   "execution_count": 42,
   "metadata": {},
   "outputs": [
    {
     "data": {
      "text/plain": [
       "([118, 107, 107, 102, 115, 117], [100, 100, 100, 100, 100, 100])"
      ]
     },
     "execution_count": 42,
     "metadata": {},
     "output_type": "execute_result"
    }
   ],
   "source": [
    "total_per_class_count, per_class_count"
   ]
  },
  {
   "cell_type": "code",
   "execution_count": 43,
   "metadata": {},
   "outputs": [],
   "source": [
    "tile_gen = rnn_tiles.rnn_tile_gen(landsat_datasets, lc_labels, canopy_labels, tile_size, class_count)"
   ]
  },
  {
   "cell_type": "code",
   "execution_count": 44,
   "metadata": {},
   "outputs": [
    {
     "name": "stdout",
     "output_type": "stream",
     "text": [
      "15/15 [==============================] - 9s 582ms/step\n"
     ]
    }
   ],
   "source": [
    "inference_time_start = datetime.datetime.now()\n",
    "\n",
    "predictions = model.predict_generator(generator = tile_gen.tile_generator(val_px, batch_size=40, flatten=True, canopy=True), steps=len(val_px) //40, verbose=1)\n",
    "\n",
    "inference_time_stop = datetime.datetime.now()\n",
    "inference_time = inference_time_stop - inference_time_start\n",
    "\n",
    "eval_generator = tile_gen.tile_generator(val_px, batch_size=1, flatten=True, canopy=True)"
   ]
  },
  {
   "cell_type": "code",
   "execution_count": 45,
   "metadata": {},
   "outputs": [
    {
     "data": {
      "text/plain": [
       "(600, 6)"
      ]
     },
     "execution_count": 45,
     "metadata": {},
     "output_type": "execute_result"
    }
   ],
   "source": [
    "predictions.shape"
   ]
  },
  {
   "cell_type": "code",
   "execution_count": 46,
   "metadata": {},
   "outputs": [],
   "source": [
    "lc_predictions = predictions"
   ]
  },
  {
   "cell_type": "code",
   "execution_count": 47,
   "metadata": {},
   "outputs": [],
   "source": [
    "lc_lab = np.empty(lc_predictions.shape[0])\n",
    "#canopy_true = np.empty(canopy_pred.shape)\n",
    "count = 0\n",
    "while count < len(lc_predictions):\n",
    "        image_b, label_b = next(eval_generator)\n",
    "        #print(label_b.shape)\n",
    "        #label_b = np.argmax(label_b, axis=-1)\n",
    "        #print(label_b)\n",
    "        label_b = np.argmax(label_b['landcover'], axis=-1)\n",
    "        #canopy_true[count] = label_b['canopy']\n",
    "        lc_lab[count] = label_b\n",
    "        count += 1\n",
    "label_index = lc_lab\n",
    "pred_index = np.argmax(lc_predictions, axis=-1)"
   ]
  },
  {
   "cell_type": "code",
   "execution_count": 49,
   "metadata": {
    "scrolled": false
   },
   "outputs": [
    {
     "name": "stdout",
     "output_type": "stream",
     "text": [
      "Accuracy is 0.8433333333333334\n",
      "per_class_acc 0.99\n",
      "per_class_acc 0.85\n",
      "per_class_acc 0.56\n",
      "per_class_acc 0.84\n",
      "per_class_acc 0.91\n",
      "per_class_acc 0.91\n"
     ]
    },
    {
     "data": {
      "image/png": "[encoded data removed]",
      "text/plain": [
       "<Figure size 720x720 with 2 Axes>"
      ]
     },
     "metadata": {
      "needs_background": "light"
     },
     "output_type": "display_data"
    },
    {
     "data": {
      "image/png": "[encoded data removed]",
      "text/plain": [
       "<Figure size 720x720 with 2 Axes>"
      ]
     },
     "metadata": {
      "needs_background": "light"
     },
     "output_type": "display_data"
    }
   ],
   "source": [
    "np.set_printoptions(precision=2)\n",
    "# Plot non-normalized confusion matrix\n",
    "_, users_acc, prod_acc = util.plot_confusion_matrix(label_index.astype(np.int), pred_index.astype(np.int), classes=np.array(list(class_dict)),\n",
    "                      class_dict=class_dict)\n",
    "#experiment.log_figure(figure=plt, figure_name=\"unnorm_conf_matrix\" + dataset_name)\n",
    "# Plot normalized confusion matrix\n",
    "util.plot_confusion_matrix(label_index.astype(np.int), pred_index.astype(np.int), classes=np.array(list(class_dict)),\n",
    "                      class_dict=class_dict,\n",
    "                      normalize=True,\n",
    "                          title=\" \")\n",
    "#experiment.log_figure(figure=plt, figure_name=\"norm_conf_matrix\" + dataset_name)\n",
    "count = 0\n",
    "per_class_acc = [0] * 6\n",
    "for i in range(len(label_index)):\n",
    "    if(label_index[i] == pred_index[i]):\n",
    "        per_class_acc[int(label_index[i])] = per_class_acc[int(label_index[i])] + 1\n",
    "        count+=1\n",
    "\n",
    "val_accuracy=count/len(label_index)\n",
    "class_acc_dict = {}\n",
    "print(\"Accuracy is\",val_accuracy)\n",
    "# this is producer's accuracy\n",
    "for idx, class_correct in enumerate(per_class_acc):\n",
    "    class_acc_dict[class_dict[idx]] = round(class_correct/(int(len(label_index)/class_count)),4)\n",
    "    print('per_class_acc', class_correct/(per_class_count[idx]))"
   ]
  },
  {
   "cell_type": "markdown",
   "metadata": {},
   "source": [
    "Calculate the accuracy per class\n",
    "Calculate overall accuracy\n",
    "Add training samples\n",
    "add epochs\n",
    "add tile size"
   ]
  },
  {
   "cell_type": "code",
   "execution_count": 79,
   "metadata": {},
   "outputs": [],
   "source": [
    "import pandas as pd\n",
    "import seaborn as sns\n",
    "\n",
    "experiment_df = pd.DataFrame(columns=['exp_name','model_name', 'evaluation_dataset', 'time_steps','train_count','overall_acc', \n",
    "                                      'epochs', 'tile_size', 'training_time', 'inference_time',\n",
    "                                      'water_acc_prod','dev_acc_prod', 'forest_acc_prod', 'cult_acc_prod', 'barren_acc_prod', 'wetland_acc_prod',\n",
    "                                      'water_acc_user','dev_acc_user', 'forest_acc_user', 'cult_acc_user', 'barren_acc_user', 'wetland_acc_user'])   "
   ]
  },
  {
   "cell_type": "code",
   "execution_count": 80,
   "metadata": {},
   "outputs": [],
   "source": [
    "experiment_df.loc[len(experiment_df)] = [exp_name, model_name, dataset_name, len(tiles['028012']), len(train_px)/class_count, val_accuracy, \n",
    "                                         epochs, tile_size, training_time, inference_time] + list(np.round(prod_acc,3)) + list(np.round(users_acc,3))\n"
   ]
  },
  {
   "cell_type": "code",
   "execution_count": 81,
   "metadata": {},
   "outputs": [
    {
     "data": {
      "text/html": [
       "<div>\n",
       "<style scoped>\n",
       "    .dataframe tbody tr th:only-of-type {\n",
       "        vertical-align: middle;\n",
       "    }\n",
       "\n",
       "    .dataframe tbody tr th {\n",
       "        vertical-align: top;\n",
       "    }\n",
       "\n",
       "    .dataframe thead th {\n",
       "        text-align: right;\n",
       "    }\n",
       "</style>\n",
       "<table border=\"1\" class=\"dataframe\">\n",
       "  <thead>\n",
       "    <tr style=\"text-align: right;\">\n",
       "      <th></th>\n",
       "      <th>exp_name</th>\n",
       "      <th>model_name</th>\n",
       "      <th>evaluation_dataset</th>\n",
       "      <th>time_steps</th>\n",
       "      <th>train_count</th>\n",
       "      <th>overall_acc</th>\n",
       "      <th>epochs</th>\n",
       "      <th>tile_size</th>\n",
       "      <th>training_time</th>\n",
       "      <th>inference_time</th>\n",
       "      <th>...</th>\n",
       "      <th>forest_acc_prod</th>\n",
       "      <th>cult_acc_prod</th>\n",
       "      <th>barren_acc_prod</th>\n",
       "      <th>wetland_acc_prod</th>\n",
       "      <th>water_acc_user</th>\n",
       "      <th>dev_acc_user</th>\n",
       "      <th>forest_acc_user</th>\n",
       "      <th>cult_acc_user</th>\n",
       "      <th>barren_acc_user</th>\n",
       "      <th>wetland_acc_user</th>\n",
       "    </tr>\n",
       "  </thead>\n",
       "  <tbody>\n",
       "    <tr>\n",
       "      <th>0</th>\n",
       "      <td>fullval_keras_tests</td>\n",
       "      <td>rcnn_fine</td>\n",
       "      <td>2010val</td>\n",
       "      <td>5</td>\n",
       "      <td>110.0</td>\n",
       "      <td>0.954167</td>\n",
       "      <td>60</td>\n",
       "      <td>9</td>\n",
       "      <td>00:02:36.056592</td>\n",
       "      <td>00:00:01.890415</td>\n",
       "      <td>...</td>\n",
       "      <td>0.975</td>\n",
       "      <td>0.958</td>\n",
       "      <td>0.925</td>\n",
       "      <td>0.967</td>\n",
       "      <td>1.0</td>\n",
       "      <td>0.932</td>\n",
       "      <td>0.975</td>\n",
       "      <td>0.935</td>\n",
       "      <td>0.949</td>\n",
       "      <td>0.935</td>\n",
       "    </tr>\n",
       "  </tbody>\n",
       "</table>\n",
       "<p>1 rows × 22 columns</p>\n",
       "</div>"
      ],
      "text/plain": [
       "              exp_name model_name evaluation_dataset time_steps  train_count  \\\n",
       "0  fullval_keras_tests  rcnn_fine            2010val          5        110.0   \n",
       "\n",
       "   overall_acc epochs tile_size   training_time  inference_time  ...  \\\n",
       "0     0.954167     60         9 00:02:36.056592 00:00:01.890415  ...   \n",
       "\n",
       "   forest_acc_prod  cult_acc_prod  barren_acc_prod  wetland_acc_prod  \\\n",
       "0            0.975          0.958            0.925             0.967   \n",
       "\n",
       "   water_acc_user  dev_acc_user  forest_acc_user  cult_acc_user  \\\n",
       "0             1.0         0.932            0.975          0.935   \n",
       "\n",
       "   barren_acc_user  wetland_acc_user  \n",
       "0            0.949             0.935  \n",
       "\n",
       "[1 rows x 22 columns]"
      ]
     },
     "execution_count": 81,
     "metadata": {},
     "output_type": "execute_result"
    }
   ],
   "source": [
    "experiment_df.tail(5)"
   ]
  },
  {
   "cell_type": "code",
   "execution_count": 82,
   "metadata": {},
   "outputs": [],
   "source": [
    "experiment_df.to_csv('model_search/' + model_name + '-' + exp_name + dataset_name + '.csv')"
   ]
  },
  {
   "cell_type": "code",
   "execution_count": 83,
   "metadata": {},
   "outputs": [
    {
     "name": "stderr",
     "output_type": "stream",
     "text": [
      "/usr/local/lib/python3.5/dist-packages/ipykernel_launcher.py:2: FutureWarning: Sorting because non-concatenation axis is not aligned. A future version\n",
      "of pandas will change to not sort by default.\n",
      "\n",
      "To accept the future behavior, pass 'sort=False'.\n",
      "\n",
      "To retain the current behavior and silence the warning, pass 'sort=True'.\n",
      "\n",
      "  \n"
     ]
    }
   ],
   "source": [
    "all_exps = pd.read_csv('model_search/' + 'all_model_runs.csv')\n",
    "all_exps = pd.concat([all_exps,experiment_df], ignore_index=True)\n",
    "all_exps.to_csv('model_search/' + 'all_model_runs.csv')"
   ]
  },
  {
   "cell_type": "markdown",
   "metadata": {},
   "source": [
    "#### Go back and run all of the different datasets before ending the experiment"
   ]
  },
  {
   "cell_type": "code",
   "execution_count": 84,
   "metadata": {},
   "outputs": [],
   "source": [
    "params = {\n",
    "    \"exp_name\":exp_name,\n",
    "    \"model_name\":model_name,\n",
    "    \"landsat_tiles\":tiles,\n",
    "    \"cnn_tile_size\":tile_size,\n",
    "    \"class_dict\":class_dict,\n",
    "    \"batch_size\":batch_size,\n",
    "    \"steps_division_factor\":steps_division_factor,\n",
    "    \"lc_validation_acc\":val_accuracy\n",
    "}\n",
    "experiment.log_parameters(params)"
   ]
  },
  {
   "cell_type": "code",
   "execution_count": 85,
   "metadata": {},
   "outputs": [
    {
     "name": "stderr",
     "output_type": "stream",
     "text": [
      "COMET INFO: ---------------------------\n",
      "COMET INFO: Comet.ml Experiment Summary\n",
      "COMET INFO: ---------------------------\n",
      "COMET INFO:   Data:\n",
      "COMET INFO:     display_summary_level : 1\n",
      "COMET INFO:     url                   : https://www.comet.ml/clifgray/chronos/16361bc586ca434386b3ed8574c869ae\n",
      "COMET INFO:   Metrics [count] (min, max):\n",
      "COMET INFO:     acc [60]                  : (0.9199999983494098, 1.0)\n",
      "COMET INFO:     batch_acc [122]           : (0.7599999904632568, 1.0)\n",
      "COMET INFO:     batch_loss [122]          : (2.333734664716758e-05, 0.5073975920677185)\n",
      "COMET INFO:     epoch_duration [60]       : (2.400969518988859, 4.408462039005826)\n",
      "COMET INFO:     loss [60]                 : (6.345140403797044e-05, 0.29638200253248215)\n",
      "COMET INFO:     val_acc [60]              : (0.8899999942098346, 0.957142846924918)\n",
      "COMET INFO:     val_loss [60]             : (0.1372156340096678, 0.39263787566285047)\n",
      "COMET INFO:     validate_batch_acc [182]  : (0.7599999904632568, 1.0)\n",
      "COMET INFO:     validate_batch_loss [182] : (3.5882817428500857e-06, 1.4671615362167358)\n",
      "COMET INFO:   Others [count]:\n",
      "COMET INFO:     trainable_params [2] : 496326\n",
      "COMET INFO:   Parameters:\n",
      "COMET INFO:     Adam_amsgrad          : 1\n",
      "COMET INFO:     Adam_beta_1           : 0.8999999761581421\n",
      "COMET INFO:     Adam_beta_2           : 0.9990000128746033\n",
      "COMET INFO:     Adam_decay            : 1\n",
      "COMET INFO:     Adam_epsilon          : 1e-07\n",
      "COMET INFO:     Adam_lr               : 0.0010000000474974513\n",
      "COMET INFO:     batch_size            : 25\n",
      "COMET INFO:     class_dict            : {0: 'Water', 1: 'Developed', 2: 'Forest', 3: 'Cultivated', 4: 'Barren', 5: 'Wetland'}\n",
      "COMET INFO:     cnn_tile_size         : 9\n",
      "COMET INFO:     epochs                : 60\n",
      "COMET INFO:     exp_name              : fullval_keras_tests\n",
      "COMET INFO:     landsat_tiles         : {'028011': ['20110103', '20110308', '20110831', '20111018', '20111103'], '028012': ['20110103', '20110308', '20110730', '20110831', '20111103'], '029011': ['20110103', '20110308', '20110730', '20110831', '20111018']}\n",
      "COMET INFO:     lc_validation_acc     : 0.9541666666666667\n",
      "COMET INFO:     model_name            : rcnn_fine\n",
      "COMET INFO:     steps                 : 13\n",
      "COMET INFO:     steps_division_factor : 2\n",
      "COMET INFO:   Uploads [count]:\n",
      "COMET INFO:     code                     : 1 (30 KB)\n",
      "COMET INFO:     environment details      : 1\n",
      "COMET INFO:     figures [10]             : 10\n",
      "COMET INFO:     filename                 : 1\n",
      "COMET INFO:     git metadata             : 1\n",
      "COMET INFO:     git-patch (uncompressed) : 1 (567 KB)\n",
      "COMET INFO:     installed packages       : 1\n",
      "COMET INFO:     model graph              : 1\n",
      "COMET INFO:     os packages              : 1\n",
      "COMET INFO: ---------------------------\n",
      "COMET INFO: Uploading stats to Comet before program termination (may take several seconds)\n"
     ]
    }
   ],
   "source": [
    "experiment.end()"
   ]
  },
  {
   "cell_type": "code",
   "execution_count": 79,
   "metadata": {},
   "outputs": [
    {
     "data": {
      "text/plain": [
       "'model_search/lstm--fullval_keras_tests.hdf5'"
      ]
     },
     "execution_count": 79,
     "metadata": {},
     "output_type": "execute_result"
    }
   ],
   "source": [
    "filepath"
   ]
  },
  {
   "cell_type": "code",
   "execution_count": null,
   "metadata": {},
   "outputs": [],
   "source": []
  }
 ],
 "metadata": {
  "kernelspec": {
   "display_name": "Python 3",
   "language": "python",
   "name": "python3"
  },
  "language_info": {
   "codemirror_mode": {
    "name": "ipython",
    "version": 3
   },
   "file_extension": ".py",
   "mimetype": "text/x-python",
   "name": "python",
   "nbconvert_exporter": "python",
   "pygments_lexer": "ipython3",
   "version": "3.5.2"
  }
 },
 "nbformat": 4,
 "nbformat_minor": 2
}
