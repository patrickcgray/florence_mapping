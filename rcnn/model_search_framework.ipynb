{
 "cells": [
  {
   "cell_type": "markdown",
   "metadata": {},
   "source": [
    "## LC Model Search Framework"
   ]
  },
  {
   "cell_type": "code",
   "execution_count": 2,
   "metadata": {},
   "outputs": [
    {
     "name": "stderr",
     "output_type": "stream",
     "text": [
      "Using TensorFlow backend.\n"
     ]
    }
   ],
   "source": [
    "import comet_ml\n",
    "from comet_ml import Experiment\n",
    "import rasterio\n",
    "import keras\n",
    "import random\n",
    "from keras import backend as K\n",
    "from keras.callbacks import ModelCheckpoint\n",
    "from keras.models import Sequential\n",
    "from keras.layers import Dense, Dropout, Flatten, Reshape, Bidirectional\n",
    "from keras.layers import Conv2D, MaxPooling2D, ConvLSTM2D, TimeDistributed, UpSampling2D, Concatenate, LSTM, concatenate\n",
    "from keras.layers import Activation, BatchNormalization\n",
    "from keras.optimizers import SGD, Adadelta, Adam\n",
    "from keras import Input\n",
    "from keras import Model\n",
    "import matplotlib.pyplot as plt\n",
    "import geopandas as gpd\n",
    "import os\n",
    "import sys\n",
    "from sklearn.utils import class_weight\n",
    "module_path = os.path.abspath(os.path.join('..'))\n",
    "if module_path not in sys.path:\n",
    "    sys.path.append(module_path)\n",
    "import utilities as util\n",
    "import importlib\n",
    "import rnn_tiles\n",
    "import rnn_pixels\n",
    "import numpy as np"
   ]
  },
  {
   "cell_type": "code",
   "execution_count": 25,
   "metadata": {},
   "outputs": [
    {
     "data": {
      "text/plain": [
       "<module 'utilities' from '/host/Code/florence_mapping/utilities.py'>"
      ]
     },
     "execution_count": 25,
     "metadata": {},
     "output_type": "execute_result"
    }
   ],
   "source": [
    "importlib.reload(rnn_pixels)\n",
    "importlib.reload(rnn_tiles)\n",
    "importlib.reload(util)"
   ]
  },
  {
   "cell_type": "markdown",
   "metadata": {},
   "source": [
    "Assign your specific GPU so we don't overlap"
   ]
  },
  {
   "cell_type": "code",
   "execution_count": 4,
   "metadata": {},
   "outputs": [],
   "source": [
    "os.environ[\"CUDA_VISIBLE_DEVICES\"]=\"0\";"
   ]
  },
  {
   "cell_type": "markdown",
   "metadata": {},
   "source": [
    "Is that GPU and only that GPU visible?\n",
    "\n",
    "Note that it will always say GPU:0 but you should just see one"
   ]
  },
  {
   "cell_type": "code",
   "execution_count": 5,
   "metadata": {},
   "outputs": [
    {
     "data": {
      "text/plain": [
       "['/job:localhost/replica:0/task:0/device:GPU:0']"
      ]
     },
     "execution_count": 5,
     "metadata": {},
     "output_type": "execute_result"
    }
   ],
   "source": [
    "from keras import backend as K\n",
    "K.tensorflow_backend._get_available_gpus()"
   ]
  },
  {
   "cell_type": "markdown",
   "metadata": {},
   "source": [
    "Ingest Training Labels\n",
    "\n",
    "Note that these are monster files so be careful how you inspect them, typically you only want to use the `rasterio` windows option"
   ]
  },
  {
   "cell_type": "code",
   "execution_count": 6,
   "metadata": {},
   "outputs": [],
   "source": [
    "lc_labels = rasterio.open('/deep_data/recurrent_data/NLCD_DATA/landcover/NLCD_2011_Land_Cover_L48_20190424.img')\n",
    "canopy_labels = rasterio.open('/deep_data/recurrent_data/NLCD_DATA/canopy/CONUSCartographic_2_8_16/Cartographic/nlcd2011_usfs_conus_canopy_cartographic.img')\n",
    "class_dict = util.indexed_dictionary"
   ]
  },
  {
   "cell_type": "markdown",
   "metadata": {},
   "source": [
    "Ingest the landsat imagery stacked into yearly seasonal tiles"
   ]
  },
  {
   "cell_type": "code",
   "execution_count": 8,
   "metadata": {},
   "outputs": [],
   "source": [
    "tiles = {}\n",
    "landsat_datasets = {}\n",
    "tiles['028012'] = ['20110103', '20110308', '20110730', '20110831', '20111103']\n",
    "tiles['029011'] = ['20110103', '20110308', '20110730', '20110831', '20111018']\n",
    "tiles['028011'] = ['20110103', '20110308', '20110831', '20111018', '20111103']\n",
    "\n",
    "for tile_number, dates in tiles.items():\n",
    "    tile_datasets = []\n",
    "    l8_image_paths = []\n",
    "    for date in dates:\n",
    "        l8_image_paths.append('/deep_data/recurrent_data/tile{}/combined/combined{}.tif'.format(tile_number, date))\n",
    "    for fp in l8_image_paths:\n",
    "        tile_datasets.append(rasterio.open(fp))\n",
    "    landsat_datasets[tile_number] = tile_datasets"
   ]
  },
  {
   "cell_type": "markdown",
   "metadata": {},
   "source": [
    "Set some hyperparameters for the model and data creation."
   ]
  },
  {
   "cell_type": "code",
   "execution_count": 147,
   "metadata": {},
   "outputs": [],
   "source": [
    "tile_size = 13\n",
    "tile_list = ['028012', '029011', '028011']\n",
    "class_count = len(class_dict)\n",
    "epochs = 25\n",
    "batch_size = 25\n",
    "clean_pixels_count = 4000000\n",
    "max_count_per_class = 1500\n",
    "steps_division_factor = 10"
   ]
  },
  {
   "cell_type": "markdown",
   "metadata": {},
   "source": [
    "### The next cell is for making pixels and prepping them for training (balancing)\n",
    "\n",
    "This takes a long time and is unnecessary if you have already saved them as a shapefile, if so, load them below."
   ]
  },
  {
   "cell_type": "code",
   "execution_count": 8,
   "metadata": {},
   "outputs": [
    {
     "name": "stdout",
     "output_type": "stream",
     "text": [
      "Beginning balanced pixel creation.\n",
      "Clean pix generated, starting generator.\n",
      "Iterating through data and clipping for balance.\n",
      "train:7200 val:1440 test:648\n",
      "\n",
      "Processing Complete.\n"
     ]
    },
    {
     "data": {
      "text/plain": [
       "{'Barren': 1500,\n",
       " 'Cultivated': 186823,\n",
       " 'Developed': 4379,\n",
       " 'Forest': 408096,\n",
       " 'Water': 416533,\n",
       " 'Wetland': 19178}"
      ]
     },
     "execution_count": 8,
     "metadata": {},
     "output_type": "execute_result"
    }
   ],
   "source": [
    "train_px, val_px, test_px, class_count_dict = rnn_pixels.balanced_pix_locations(landsat_datasets, lc_labels, \n",
    "        canopy_labels, tile_size, tile_list, clean_pixels_count, class_count, max_count_per_class, \n",
    "                                                              class_dict, buffer_pix=1)\n",
    "class_count_dict"
   ]
  },
  {
   "cell_type": "markdown",
   "metadata": {},
   "source": [
    "### Load pixels if necessary"
   ]
  },
  {
   "cell_type": "code",
   "execution_count": 116,
   "metadata": {},
   "outputs": [
    {
     "data": {
      "text/plain": [
       "(9000, ((1369, 1146), '028012'))"
      ]
     },
     "execution_count": 116,
     "metadata": {},
     "output_type": "execute_result"
    }
   ],
   "source": [
    "train_gdf = gpd.read_file('../train_buffered_points.shp')\n",
    "train_px = []\n",
    "for index, row in train_gdf.iterrows():\n",
    "    train_px.append(((row['row'], row['col']), row['tile_name']))\n",
    "\n",
    "random.shuffle(train_px)\n",
    "\n",
    "len(train_px), train_px[0]"
   ]
  },
  {
   "cell_type": "code",
   "execution_count": 118,
   "metadata": {},
   "outputs": [
    {
     "data": {
      "text/plain": [
       "(900, ((98, 2114), '028012'))"
      ]
     },
     "execution_count": 118,
     "metadata": {},
     "output_type": "execute_result"
    }
   ],
   "source": [
    "val_gdf = gpd.read_file('../val_buffered_points.shp')\n",
    "val_px = []\n",
    "for index, row in val_gdf.iterrows():\n",
    "    val_px.append(((row['row'], row['col']), row['tile_name']))\n",
    "    \n",
    "random.shuffle(val_px)\n",
    "\n",
    "len(val_px), val_px[0]"
   ]
  },
  {
   "cell_type": "markdown",
   "metadata": {},
   "source": [
    "### Create the RNN"
   ]
  },
  {
   "cell_type": "code",
   "execution_count": 90,
   "metadata": {},
   "outputs": [],
   "source": [
    "def strangeBlock_v4(input_block, nb_layers, filters):\n",
    "    x_list = [input_block]\n",
    "    c_temp = input_block\n",
    "    for i in range(nb_layers):\n",
    "        c_l = LSTM(units=filters, activation='elu', return_sequences=True) (c_temp)\n",
    "        x_list.append(c_l)\n",
    "        merge = Concatenate()(x_list)\n",
    "        c_temp = merge\n",
    "    return c_temp"
   ]
  },
  {
   "cell_type": "code",
   "execution_count": 135,
   "metadata": {},
   "outputs": [],
   "source": [
    "def make_MLT_dense(in_shape, in_shape_tile, num_classes):\n",
    "    input_tensor = Input(shape = in_shape, name=\"rnn_input\")\n",
    "    #single pixel model\n",
    "    block = strangeBlock_v4(input_tensor, 5, 12)\n",
    "    block_2 = strangeBlock_v4(block, 3, 20)\n",
    "    final_block = LSTM(64, activation='softmax', return_sequences=False) (block_2)\n",
    "\n",
    "    #cnn model\n",
    "    input_tensor_tile = Input(shape = in_shape_tile, name=\"tile_input\")\n",
    "    cnn_layer1 = ConvLSTM2D(64, kernel_size=2, activation='elu', return_sequences=True)(input_tensor_tile)\n",
    "    # batch norm\n",
    "    cnn_layer2 = ConvLSTM2D(64, kernel_size=2, activation='elu', return_sequences=False) (cnn_layer1)\n",
    "    maxpool = MaxPooling2D(pool_size=(2, 2), strides=None, padding='valid') (cnn_layer2)\n",
    "    flatten = Flatten()(maxpool)\n",
    "    concat = concatenate([final_block, flatten])\n",
    "    \n",
    "    denselayer = Dense(64, activation=\"relu\")(concat)\n",
    "    \n",
    "    landcover = Dense(num_classes,activation='softmax', name='landcover') (denselayer)\n",
    "    #canopy = Dense(1, name='canopy') (concat)\n",
    "\n",
    "    model = Model(inputs=[input_tensor,input_tensor_tile], outputs=[landcover])\n",
    "    return model"
   ]
  },
  {
   "cell_type": "code",
   "execution_count": 81,
   "metadata": {},
   "outputs": [
    {
     "name": "stderr",
     "output_type": "stream",
     "text": [
      "COMET INFO: old comet version (2.0.17) detected. current: 3.1.6 please update your comet lib with command: `pip install --no-cache-dir --upgrade comet_ml`\n",
      "COMET INFO: Experiment is live on comet.ml https://www.comet.ml/clifgray/chronos/a5ab88a2b72e437995d5b75c914c3e01\n",
      "\n"
     ]
    }
   ],
   "source": [
    "experiment = Experiment(api_key=\"rMFbl2RlGxNuyyL37dE7qPSfE\",\n",
    "                        project_name=\"chronos\", workspace=\"clifgray\")"
   ]
  },
  {
   "cell_type": "code",
   "execution_count": 136,
   "metadata": {},
   "outputs": [
    {
     "name": "stdout",
     "output_type": "stream",
     "text": [
      "Model: \"model_6\"\n",
      "__________________________________________________________________________________________________\n",
      "Layer (type)                    Output Shape         Param #     Connected to                     \n",
      "==================================================================================================\n",
      "rnn_input (InputLayer)          (None, 5, 7)         0                                            \n",
      "__________________________________________________________________________________________________\n",
      "lstm_64 (LSTM)                  (None, 5, 12)        960         rnn_input[0][0]                  \n",
      "__________________________________________________________________________________________________\n",
      "concatenate_63 (Concatenate)    (None, 5, 19)        0           rnn_input[0][0]                  \n",
      "                                                                 lstm_64[0][0]                    \n",
      "__________________________________________________________________________________________________\n",
      "lstm_65 (LSTM)                  (None, 5, 12)        1536        concatenate_63[0][0]             \n",
      "__________________________________________________________________________________________________\n",
      "concatenate_64 (Concatenate)    (None, 5, 31)        0           rnn_input[0][0]                  \n",
      "                                                                 lstm_64[0][0]                    \n",
      "                                                                 lstm_65[0][0]                    \n",
      "__________________________________________________________________________________________________\n",
      "lstm_66 (LSTM)                  (None, 5, 12)        2112        concatenate_64[0][0]             \n",
      "__________________________________________________________________________________________________\n",
      "concatenate_65 (Concatenate)    (None, 5, 43)        0           rnn_input[0][0]                  \n",
      "                                                                 lstm_64[0][0]                    \n",
      "                                                                 lstm_65[0][0]                    \n",
      "                                                                 lstm_66[0][0]                    \n",
      "__________________________________________________________________________________________________\n",
      "lstm_67 (LSTM)                  (None, 5, 12)        2688        concatenate_65[0][0]             \n",
      "__________________________________________________________________________________________________\n",
      "concatenate_66 (Concatenate)    (None, 5, 55)        0           rnn_input[0][0]                  \n",
      "                                                                 lstm_64[0][0]                    \n",
      "                                                                 lstm_65[0][0]                    \n",
      "                                                                 lstm_66[0][0]                    \n",
      "                                                                 lstm_67[0][0]                    \n",
      "__________________________________________________________________________________________________\n",
      "lstm_68 (LSTM)                  (None, 5, 12)        3264        concatenate_66[0][0]             \n",
      "__________________________________________________________________________________________________\n",
      "concatenate_67 (Concatenate)    (None, 5, 67)        0           rnn_input[0][0]                  \n",
      "                                                                 lstm_64[0][0]                    \n",
      "                                                                 lstm_65[0][0]                    \n",
      "                                                                 lstm_66[0][0]                    \n",
      "                                                                 lstm_67[0][0]                    \n",
      "                                                                 lstm_68[0][0]                    \n",
      "__________________________________________________________________________________________________\n",
      "lstm_69 (LSTM)                  (None, 5, 20)        7040        concatenate_67[0][0]             \n",
      "__________________________________________________________________________________________________\n",
      "concatenate_68 (Concatenate)    (None, 5, 87)        0           concatenate_67[0][0]             \n",
      "                                                                 lstm_69[0][0]                    \n",
      "__________________________________________________________________________________________________\n",
      "lstm_70 (LSTM)                  (None, 5, 20)        8640        concatenate_68[0][0]             \n",
      "__________________________________________________________________________________________________\n",
      "tile_input (InputLayer)         (None, 5, 13, 13, 7) 0                                            \n",
      "__________________________________________________________________________________________________\n",
      "concatenate_69 (Concatenate)    (None, 5, 107)       0           concatenate_67[0][0]             \n",
      "                                                                 lstm_69[0][0]                    \n",
      "                                                                 lstm_70[0][0]                    \n",
      "__________________________________________________________________________________________________\n",
      "conv_lst_m2d_16 (ConvLSTM2D)    (None, 5, 12, 12, 64 72960       tile_input[0][0]                 \n",
      "__________________________________________________________________________________________________\n",
      "lstm_71 (LSTM)                  (None, 5, 20)        10240       concatenate_69[0][0]             \n",
      "__________________________________________________________________________________________________\n",
      "conv_lst_m2d_17 (ConvLSTM2D)    (None, 11, 11, 64)   131328      conv_lst_m2d_16[0][0]            \n",
      "__________________________________________________________________________________________________\n",
      "concatenate_70 (Concatenate)    (None, 5, 127)       0           concatenate_67[0][0]             \n",
      "                                                                 lstm_69[0][0]                    \n",
      "                                                                 lstm_70[0][0]                    \n",
      "                                                                 lstm_71[0][0]                    \n",
      "__________________________________________________________________________________________________\n",
      "max_pooling2d_8 (MaxPooling2D)  (None, 5, 5, 64)     0           conv_lst_m2d_17[0][0]            \n",
      "__________________________________________________________________________________________________\n",
      "lstm_72 (LSTM)                  (None, 64)           49152       concatenate_70[0][0]             \n",
      "__________________________________________________________________________________________________\n",
      "flatten_7 (Flatten)             (None, 1600)         0           max_pooling2d_8[0][0]            \n",
      "__________________________________________________________________________________________________\n",
      "concatenate_71 (Concatenate)    (None, 1664)         0           lstm_72[0][0]                    \n",
      "                                                                 flatten_7[0][0]                  \n",
      "__________________________________________________________________________________________________\n",
      "dense_1 (Dense)                 (None, 64)           106560      concatenate_71[0][0]             \n",
      "__________________________________________________________________________________________________\n",
      "landcover (Dense)               (None, 6)            390         dense_1[0][0]                    \n",
      "==================================================================================================\n",
      "Total params: 396,870\n",
      "Trainable params: 396,870\n",
      "Non-trainable params: 0\n",
      "__________________________________________________________________________________________________\n"
     ]
    }
   ],
   "source": [
    "model = make_MLT_dense((len(tiles['028012']),7),(len(tiles['028012']),tile_size,tile_size,7), class_count)\n",
    "#model.load_weights('mlt_dense_model.hdf5')\n",
    "model.summary()"
   ]
  },
  {
   "cell_type": "code",
   "execution_count": 94,
   "metadata": {},
   "outputs": [],
   "source": [
    "#model = keras.models.load_model('mlt_dense_model_pcg.h5')"
   ]
  },
  {
   "cell_type": "markdown",
   "metadata": {},
   "source": [
    "#### Train the Model"
   ]
  },
  {
   "cell_type": "code",
   "execution_count": 158,
   "metadata": {},
   "outputs": [],
   "source": [
    "filepath = 'mlt_dense_model_pcg.hdf5' #your filepath here\n",
    "checkpoint = ModelCheckpoint(filepath, monitor='val_acc', verbose=1, save_best_only=True, mode='max')\n",
    "callbacks_list = [checkpoint]\n",
    "tile_gen = rnn_tiles.rnn_tile_gen(landsat_datasets, lc_labels, canopy_labels, tile_size, class_count)"
   ]
  },
  {
   "cell_type": "code",
   "execution_count": 159,
   "metadata": {},
   "outputs": [],
   "source": [
    "model.compile(optimizer=Adam(), loss={'landcover':'categorical_crossentropy'}, metrics={'landcover':['accuracy']}, loss_weights={\"landcover\":1})"
   ]
  },
  {
   "cell_type": "code",
   "execution_count": 161,
   "metadata": {
    "scrolled": true
   },
   "outputs": [
    {
     "name": "stdout",
     "output_type": "stream",
     "text": [
      "Epoch 1/25\n",
      "36/36 [==============================] - 30s 831ms/step - loss: 0.0208 - acc: 0.9956 - val_loss: 0.2345 - val_acc: 0.9200\n",
      "\n",
      "Epoch 00001: val_acc improved from -inf to 0.92000, saving model to mlt_dense_model_pcg.hdf5\n",
      "Epoch 2/25\n",
      "36/36 [==============================] - 5s 132ms/step - loss: 0.0139 - acc: 0.9933 - val_loss: 0.4241 - val_acc: 0.9333\n",
      "\n",
      "Epoch 00002: val_acc improved from 0.92000 to 0.93333, saving model to mlt_dense_model_pcg.hdf5\n",
      "Epoch 3/25\n",
      "36/36 [==============================] - 5s 128ms/step - loss: 0.0108 - acc: 0.9967 - val_loss: 0.6551 - val_acc: 0.9333\n",
      "\n",
      "Epoch 00003: val_acc did not improve from 0.93333\n",
      "Epoch 4/25\n",
      "36/36 [==============================] - 5s 129ms/step - loss: 0.0193 - acc: 0.9944 - val_loss: 0.6881 - val_acc: 0.9333\n",
      "\n",
      "Epoch 00004: val_acc did not improve from 0.93333\n",
      "Epoch 5/25\n",
      "36/36 [==============================] - 5s 129ms/step - loss: 0.0274 - acc: 0.9956 - val_loss: 1.3074 - val_acc: 0.8667\n",
      "\n",
      "Epoch 00005: val_acc did not improve from 0.93333\n",
      "Epoch 6/25\n",
      "36/36 [==============================] - 5s 129ms/step - loss: 0.0917 - acc: 0.9789 - val_loss: 0.4950 - val_acc: 0.9200\n",
      "\n",
      "Epoch 00006: val_acc did not improve from 0.93333\n",
      "Epoch 7/25\n",
      "36/36 [==============================] - 5s 129ms/step - loss: 0.0583 - acc: 0.9856 - val_loss: 0.7107 - val_acc: 0.9200\n",
      "\n",
      "Epoch 00007: val_acc did not improve from 0.93333\n",
      "Epoch 8/25\n",
      "36/36 [==============================] - 5s 128ms/step - loss: 0.0885 - acc: 0.9789 - val_loss: 0.6967 - val_acc: 0.9067\n",
      "\n",
      "Epoch 00008: val_acc did not improve from 0.93333\n",
      "Epoch 9/25\n",
      "36/36 [==============================] - 5s 128ms/step - loss: 0.0499 - acc: 0.9856 - val_loss: 0.3208 - val_acc: 0.9467\n",
      "\n",
      "Epoch 00009: val_acc improved from 0.93333 to 0.94667, saving model to mlt_dense_model_pcg.hdf5\n",
      "Epoch 10/25\n",
      "36/36 [==============================] - 5s 129ms/step - loss: 0.0467 - acc: 0.9867 - val_loss: 0.6189 - val_acc: 0.9200\n",
      "\n",
      "Epoch 00010: val_acc did not improve from 0.94667\n",
      "Epoch 11/25\n",
      "36/36 [==============================] - 5s 128ms/step - loss: 0.0226 - acc: 0.9933 - val_loss: 0.3938 - val_acc: 0.9467\n",
      "\n",
      "Epoch 00011: val_acc did not improve from 0.94667\n",
      "Epoch 12/25\n",
      "36/36 [==============================] - 5s 128ms/step - loss: 0.0138 - acc: 0.9956 - val_loss: 0.4982 - val_acc: 0.9333\n",
      "\n",
      "Epoch 00012: val_acc did not improve from 0.94667\n",
      "Epoch 13/25\n",
      "36/36 [==============================] - 5s 127ms/step - loss: 0.0240 - acc: 0.9933 - val_loss: 0.4004 - val_acc: 0.9333\n",
      "\n",
      "Epoch 00013: val_acc did not improve from 0.94667\n",
      "Epoch 14/25\n",
      "36/36 [==============================] - 5s 128ms/step - loss: 0.0263 - acc: 0.9922 - val_loss: 0.6512 - val_acc: 0.9200\n",
      "\n",
      "Epoch 00014: val_acc did not improve from 0.94667\n",
      "Epoch 15/25\n",
      "36/36 [==============================] - 5s 129ms/step - loss: 0.0372 - acc: 0.9900 - val_loss: 0.9347 - val_acc: 0.9067\n",
      "\n",
      "Epoch 00015: val_acc did not improve from 0.94667\n",
      "Epoch 16/25\n",
      "36/36 [==============================] - 5s 129ms/step - loss: 0.1076 - acc: 0.9756 - val_loss: 0.7971 - val_acc: 0.8800\n",
      "\n",
      "Epoch 00016: val_acc did not improve from 0.94667\n",
      "Epoch 17/25\n",
      "36/36 [==============================] - 5s 129ms/step - loss: 0.0339 - acc: 0.9889 - val_loss: 0.5791 - val_acc: 0.9333\n",
      "\n",
      "Epoch 00017: val_acc did not improve from 0.94667\n",
      "Epoch 18/25\n",
      "36/36 [==============================] - 5s 129ms/step - loss: 0.0336 - acc: 0.9922 - val_loss: 0.3674 - val_acc: 0.9600\n",
      "\n",
      "Epoch 00018: val_acc improved from 0.94667 to 0.96000, saving model to mlt_dense_model_pcg.hdf5\n",
      "Epoch 19/25\n",
      "36/36 [==============================] - 5s 128ms/step - loss: 0.0125 - acc: 0.9944 - val_loss: 0.8648 - val_acc: 0.8933\n",
      "\n",
      "Epoch 00019: val_acc did not improve from 0.96000\n",
      "Epoch 20/25\n",
      "36/36 [==============================] - 5s 129ms/step - loss: 0.0219 - acc: 0.9922 - val_loss: 0.5863 - val_acc: 0.9333\n",
      "\n",
      "Epoch 00020: val_acc did not improve from 0.96000\n",
      "Epoch 21/25\n",
      "36/36 [==============================] - 5s 129ms/step - loss: 0.0249 - acc: 0.9967 - val_loss: 0.5175 - val_acc: 0.9333\n",
      "\n",
      "Epoch 00021: val_acc did not improve from 0.96000\n",
      "Epoch 22/25\n",
      "36/36 [==============================] - 5s 129ms/step - loss: 0.0574 - acc: 0.9878 - val_loss: 0.8047 - val_acc: 0.8933\n",
      "\n",
      "Epoch 00022: val_acc did not improve from 0.96000\n",
      "Epoch 23/25\n",
      "36/36 [==============================] - 5s 129ms/step - loss: 0.0735 - acc: 0.9889 - val_loss: 0.4675 - val_acc: 0.9333\n",
      "\n",
      "Epoch 00023: val_acc did not improve from 0.96000\n",
      "Epoch 24/25\n",
      "36/36 [==============================] - 5s 128ms/step - loss: 0.0606 - acc: 0.9944 - val_loss: 0.4081 - val_acc: 0.9200\n",
      "\n",
      "Epoch 00024: val_acc did not improve from 0.96000\n",
      "Epoch 25/25\n",
      "36/36 [==============================] - 5s 128ms/step - loss: 0.0644 - acc: 0.9911 - val_loss: 0.6533 - val_acc: 0.8800\n",
      "\n",
      "Epoch 00025: val_acc did not improve from 0.96000\n"
     ]
    }
   ],
   "source": [
    "history = model.fit_generator(generator=tile_gen.tile_generator(train_px, batch_size, flatten=True, canopy=True), \n",
    "                steps_per_epoch=len(train_px) // batch_size // steps_division_factor, epochs=epochs, verbose=1,\n",
    "                validation_data=tile_gen.tile_generator(val_px, batch_size, flatten=True, canopy=True),\n",
    "                validation_steps=len(val_px) // batch_size // steps_division_factor,\n",
    "                callbacks=callbacks_list) "
   ]
  },
  {
   "cell_type": "code",
   "execution_count": 162,
   "metadata": {},
   "outputs": [
    {
     "name": "stdout",
     "output_type": "stream",
     "text": [
      "dict_keys(['val_acc', 'loss', 'val_loss', 'acc'])\n"
     ]
    },
    {
     "data": {
      "image/png": "[encoded data removed]",
      "text/plain": [
       "<Figure size 432x288 with 1 Axes>"
      ]
     },
     "metadata": {
      "needs_background": "light"
     },
     "output_type": "display_data"
    },
    {
     "data": {
      "image/png": "[encoded data removed]",
      "text/plain": [
       "<Figure size 432x288 with 1 Axes>"
      ]
     },
     "metadata": {
      "needs_background": "light"
     },
     "output_type": "display_data"
    }
   ],
   "source": [
    "print(history.history.keys())\n",
    "#  \"Accuracy\"\n",
    "plt.plot(history.history['acc'])\n",
    "plt.plot(history.history['val_acc'])\n",
    "plt.title('model accuracy')\n",
    "plt.ylabel('accuracy')\n",
    "plt.xlabel('epoch')\n",
    "plt.legend(['train', 'validation'], loc='upper left')\n",
    "plt.show()\n",
    "# \"Loss\"\n",
    "plt.plot(history.history['loss'])\n",
    "plt.plot(history.history['val_loss'])\n",
    "plt.title('model loss')\n",
    "plt.ylabel('loss')\n",
    "plt.xlabel('epoch')\n",
    "plt.legend(['train', 'validation'], loc='upper left')\n",
    "plt.show()"
   ]
  },
  {
   "cell_type": "code",
   "execution_count": 164,
   "metadata": {},
   "outputs": [],
   "source": [
    "model = keras.models.load_model('mlt_dense_model_pcg.hdf5')"
   ]
  },
  {
   "cell_type": "markdown",
   "metadata": {},
   "source": [
    "# Evaluate model"
   ]
  },
  {
   "cell_type": "code",
   "execution_count": 165,
   "metadata": {},
   "outputs": [
    {
     "name": "stdout",
     "output_type": "stream",
     "text": [
      "900/900 [==============================] - 43s 48ms/step\n"
     ]
    }
   ],
   "source": [
    "predictions = model.predict_generator(generator = tile_gen.tile_generator(val_px, batch_size=1, flatten=True, canopy=True), steps=len(val_px) // 1, verbose=1)\n",
    "eval_generator = tile_gen.tile_generator(val_px, batch_size=1, flatten=True, canopy=True)"
   ]
  },
  {
   "cell_type": "code",
   "execution_count": 166,
   "metadata": {},
   "outputs": [
    {
     "data": {
      "text/plain": [
       "(900, 6)"
      ]
     },
     "execution_count": 166,
     "metadata": {},
     "output_type": "execute_result"
    }
   ],
   "source": [
    "predictions.shape"
   ]
  },
  {
   "cell_type": "code",
   "execution_count": 167,
   "metadata": {},
   "outputs": [],
   "source": [
    "lc_predictions = predictions\n",
    "#lc_predictions = np.asarray(predictions[0])\n",
    "#canopy_pred = np.asarray(predictions[1])"
   ]
  },
  {
   "cell_type": "code",
   "execution_count": 168,
   "metadata": {},
   "outputs": [],
   "source": [
    "lc_lab = np.empty(lc_predictions.shape[0])\n",
    "#canopy_true = np.empty(canopy_pred.shape)\n",
    "count = 0\n",
    "while count < len(lc_predictions):\n",
    "        image_b, label_b = next(eval_generator)\n",
    "        #label_b = np.argmax(label_b, axis=-1)\n",
    "        label_lc = np.argmax(label_b['landcover'], axis=-1)\n",
    "        #canopy_true[count] = label_b['canopy']\n",
    "        lc_lab[count] = label_lc\n",
    "        count += 1\n",
    "label_index = lc_lab.reshape(len(val_px)*1*1)\n",
    "pred_index = np.argmax(lc_predictions, axis=-1).reshape(len(val_px)*1*1)"
   ]
  },
  {
   "cell_type": "code",
   "execution_count": 169,
   "metadata": {
    "scrolled": false
   },
   "outputs": [
    {
     "name": "stdout",
     "output_type": "stream",
     "text": [
      "Accuracy is 0.9211111111111111\n"
     ]
    },
    {
     "data": {
      "image/png": "[encoded data removed]",
      "text/plain": [
       "<Figure size 720x720 with 2 Axes>"
      ]
     },
     "metadata": {
      "needs_background": "light"
     },
     "output_type": "display_data"
    },
    {
     "data": {
      "image/png": "[encoded data removed]",
      "text/plain": [
       "<Figure size 720x720 with 2 Axes>"
      ]
     },
     "metadata": {
      "needs_background": "light"
     },
     "output_type": "display_data"
    }
   ],
   "source": [
    "np.set_printoptions(precision=2)\n",
    "# Plot non-normalized confusion matrix\n",
    "util.plot_confusion_matrix(label_index.astype(np.int), pred_index.astype(np.int), classes=np.array(list(class_dict)),\n",
    "                      class_dict=class_dict)\n",
    "#experiment.log_figure(figure=plt, figure_name=\"unnorm_conf_matrix\")\n",
    "# Plot normalized confusion matrix\n",
    "util.plot_confusion_matrix(label_index.astype(np.int), pred_index.astype(np.int), classes=np.array(list(class_dict)),\n",
    "                      class_dict=class_dict,\n",
    "                      normalize=True,\n",
    "                          title=\" \")\n",
    "#experiment.log_figure(figure=plt, figure_name=\"norm_conf_matrix\")\n",
    "count = 0\n",
    "for i in range(len(label_index)):\n",
    "    if(label_index[i] == pred_index[i]):\n",
    "        count+=1\n",
    "\n",
    "val_accuracy=count/len(label_index)\n",
    "print(\"Accuracy is\",val_accuracy)"
   ]
  },
  {
   "cell_type": "code",
   "execution_count": 81,
   "metadata": {},
   "outputs": [],
   "source": [
    "import pandas as pd\n",
    "import seaborn as sns\n",
    "pred_df = pd.DataFrame({'lc_pred': pred_index,\n",
    "                        'lc_true': label_index})"
   ]
  },
  {
   "cell_type": "code",
   "execution_count": 83,
   "metadata": {},
   "outputs": [],
   "source": [
    "params = {\n",
    "    \"landsat_tiles\":tiles,\n",
    "    \"cnn_tile_size\":tile_size,\n",
    "    \"class_dict\":class_dict,\n",
    "    \"batch_size\":batch_size,\n",
    "    \"clean_pixels_counts\":clean_pixels_count,\n",
    "    \"max_count_per_class\": max_count_per_class,\n",
    "    \"class_count_dict\":['{} : {}'.format(k,v) for k,v in class_count_dict.items()],\n",
    "    \"steps_division_factor\":steps_division_factor,\n",
    "    \"canopy_validation_r2\":validation_r2,\n",
    "    \"lc_validation_acc\":val_accuracy\n",
    "}\n",
    "experiment.log_parameters(params)"
   ]
  },
  {
   "cell_type": "code",
   "execution_count": 92,
   "metadata": {},
   "outputs": [
    {
     "name": "stderr",
     "output_type": "stream",
     "text": [
      "COMET INFO: ----------------------------\n",
      "COMET INFO: Comet.ml Experiment Summary:\n",
      "COMET INFO:   Data:\n",
      "COMET INFO:     url: https://www.comet.ml/clifgray/chronos/a5ab88a2b72e437995d5b75c914c3e01\n",
      "COMET INFO:   Metrics [count] (min, max):\n",
      "COMET INFO:     acc [60]                      : (0.49066666579908796, 0.9865555513236258)\n",
      "COMET INFO:     batch_acc [2160]              : (0.0, 1.0)\n",
      "COMET INFO:     batch_loss [2160]             : (1.1920930376163597e-07, 16.11809539794922)\n",
      "COMET INFO:     epoch_duration [60]           : (43.17310497400467, 52.04974722999032)\n",
      "COMET INFO:     loss [60]                     : (0.04763108708932664, 7.529508348156296)\n",
      "COMET INFO:     step                          : 23760\n",
      "COMET INFO:     sys.gpu.0.free_memory [56]    : (444071936.0, 444071936.0)\n",
      "COMET INFO:     sys.gpu.0.gpu_utilization [56]: (0.0, 66.0)\n",
      "COMET INFO:     sys.gpu.0.total_memory        : (11996954624.0, 11996954624.0)\n",
      "COMET INFO:     sys.gpu.0.used_memory [56]    : (11552882688.0, 11552882688.0)\n",
      "COMET INFO:     sys.gpu.1.free_memory [56]    : (11996889088.0, 11996889088.0)\n",
      "COMET INFO:     sys.gpu.1.gpu_utilization [56]: (0.0, 0.0)\n",
      "COMET INFO:     sys.gpu.1.total_memory        : (11996954624.0, 11996954624.0)\n",
      "COMET INFO:     sys.gpu.1.used_memory [56]    : (65536.0, 65536.0)\n",
      "COMET INFO:     sys.gpu.2.free_memory [56]    : (11996954624.0, 11996954624.0)\n",
      "COMET INFO:     sys.gpu.2.gpu_utilization [56]: (0.0, 0.0)\n",
      "COMET INFO:     sys.gpu.2.total_memory        : (11996954624.0, 11996954624.0)\n",
      "COMET INFO:     sys.gpu.2.used_memory [56]    : (0.0, 0.0)\n",
      "COMET INFO:     sys.gpu.3.free_memory [56]    : (11996954624.0, 11996954624.0)\n",
      "COMET INFO:     sys.gpu.3.gpu_utilization [56]: (0.0, 0.0)\n",
      "COMET INFO:     sys.gpu.3.total_memory        : (11996954624.0, 11996954624.0)\n",
      "COMET INFO:     sys.gpu.3.used_memory [56]    : (0.0, 0.0)\n",
      "COMET INFO:     val_acc [60]                  : (0.16666666666666666, 0.8766666650772095)\n",
      "COMET INFO:     val_loss [60]                 : (0.623121819323084, 13.311132080771458)\n",
      "COMET INFO:     validate_batch_acc [240]      : (0.0, 1.0)\n",
      "COMET INFO:     validate_batch_loss [240]     : (1.1920930376163597e-07, 16.11809539794922)\n",
      "COMET INFO:   Other [count]:\n",
      "COMET INFO:     trainable_params: 296454\n",
      "COMET INFO: ----------------------------\n",
      "COMET INFO: Uploading stats to Comet before program termination (may take several seconds)\n"
     ]
    }
   ],
   "source": [
    "experiment.end()"
   ]
  },
  {
   "cell_type": "markdown",
   "metadata": {},
   "source": [
    "### Inspect Training Data"
   ]
  },
  {
   "cell_type": "code",
   "execution_count": 40,
   "metadata": {
    "scrolled": true
   },
   "outputs": [
    {
     "name": "stdout",
     "output_type": "stream",
     "text": [
      "7200/7200 [==============================] - 238s 33ms/step\n"
     ]
    }
   ],
   "source": [
    "predictions = model.predict_generator(generator = tile_gen.tile_generator(train_px, batch_size=1, flatten=True, canopy=True), steps=len(train_px) // 1, verbose=1)\n",
    "eval_generator = tile_gen.tile_generator(train_px, batch_size=1, flatten=True, canopy=True)"
   ]
  },
  {
   "cell_type": "code",
   "execution_count": 41,
   "metadata": {},
   "outputs": [],
   "source": [
    "lc_predictions_train = np.asarray(predictions[0])\n",
    "canopy_pred_train = np.asarray(predictions[1])\n",
    "lc_predictions_train = np.argmax(lc_predictions_train,axis=-1)"
   ]
  },
  {
   "cell_type": "code",
   "execution_count": 42,
   "metadata": {},
   "outputs": [],
   "source": [
    "lc_lab_train = np.empty(lc_predictions_train.shape)\n",
    "canopy_true_train = np.empty(canopy_pred_train.shape)\n",
    "count = 0\n",
    "while count < len(lc_predictions_train):\n",
    "        image_b, label_b = next(eval_generator)\n",
    "        #label_b = np.argmax(label_b, axis=-1)\n",
    "        label_lc = np.argmax(label_b['landcover'], axis=-1)\n",
    "        canopy_true_train[count] = label_b['canopy']\n",
    "        lc_lab_train[count] = label_lc\n",
    "        count += 1\n",
    "label_index = lc_lab_train.reshape(len(train_px))\n",
    "pred_index = lc_predictions_train.reshape(len(train_px))"
   ]
  },
  {
   "cell_type": "code",
   "execution_count": 43,
   "metadata": {},
   "outputs": [
    {
     "data": {
      "text/plain": [
       "((array([5540.,  104.,  111.,   79.,   46.,   56.,   63.,   97.,  248.,\n",
       "          856.]),\n",
       "  array([0. , 0.1, 0.2, 0.3, 0.4, 0.5, 0.6, 0.7, 0.8, 0.9, 1. ]),\n",
       "  <a list of 10 Patch objects>),\n",
       " (array([1.00e+00, 0.00e+00, 0.00e+00, 1.00e+00, 1.10e+01, 5.76e+03,\n",
       "         1.14e+02, 6.90e+01, 1.21e+02, 1.12e+03]),\n",
       "  array([-1.21, -0.99, -0.76, -0.54, -0.31, -0.09,  0.14,  0.36,  0.59,\n",
       "          0.81,  1.04], dtype=float32),\n",
       "  <a list of 10 Patch objects>))"
      ]
     },
     "execution_count": 43,
     "metadata": {},
     "output_type": "execute_result"
    },
    {
     "data": {
      "image/png": "[encoded data removed]",
      "text/plain": [
       "<Figure size 432x288 with 1 Axes>"
      ]
     },
     "metadata": {
      "needs_background": "light"
     },
     "output_type": "display_data"
    }
   ],
   "source": [
    "plt.hist(canopy_true_train, alpha=0.75), plt.hist(canopy_pred_train, alpha=0.5)"
   ]
  },
  {
   "cell_type": "code",
   "execution_count": 44,
   "metadata": {},
   "outputs": [
    {
     "data": {
      "text/plain": [
       "0.9298788612419028"
      ]
     },
     "execution_count": 44,
     "metadata": {},
     "output_type": "execute_result"
    }
   ],
   "source": [
    "from sklearn.metrics import r2_score\n",
    "r2_score(canopy_true_train, canopy_pred_train)"
   ]
  },
  {
   "cell_type": "code",
   "execution_count": 45,
   "metadata": {},
   "outputs": [
    {
     "data": {
      "image/png": "[encoded data removed]",
      "text/plain": [
       "<Figure size 432x288 with 1 Axes>"
      ]
     },
     "metadata": {
      "needs_background": "light"
     },
     "output_type": "display_data"
    }
   ],
   "source": [
    "from scipy.stats import gaussian_kde\n",
    "\n",
    "x = (canopy_pred_train * 100).flatten()\n",
    "y = (canopy_true_train * 100).flatten()\n",
    "\n",
    "xy = np.vstack([x,y])\n",
    "z = gaussian_kde(xy)(xy)\n",
    "\n",
    "idx = z.argsort()\n",
    "\n",
    "fig,ax = plt.subplots()\n",
    "ax.scatter(x,y,c=z,s=50,edgecolor='')\n",
    "ax.set_xlabel(\"Predictions\")\n",
    "ax.set_ylabel(\"Annotations\")\n",
    "ax.set_title(\"Canopy Cover Predictions\")\n",
    "plt.show()"
   ]
  }
 ],
 "metadata": {
  "kernelspec": {
   "display_name": "Python 3",
   "language": "python",
   "name": "python3"
  },
  "language_info": {
   "codemirror_mode": {
    "name": "ipython",
    "version": 3
   },
   "file_extension": ".py",
   "mimetype": "text/x-python",
   "name": "python",
   "nbconvert_exporter": "python",
   "pygments_lexer": "ipython3",
   "version": "3.5.2"
  }
 },
 "nbformat": 4,
 "nbformat_minor": 2
}
