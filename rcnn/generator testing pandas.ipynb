{
 "cells": [
  {
   "cell_type": "code",
   "execution_count": 1,
   "metadata": {},
   "outputs": [],
   "source": [
    "import geopandas as gpd"
   ]
  },
  {
   "cell_type": "code",
   "execution_count": 10,
   "metadata": {},
   "outputs": [
    {
     "data": {
      "text/html": [
       "<div>\n",
       "<style scoped>\n",
       "    .dataframe tbody tr th:only-of-type {\n",
       "        vertical-align: middle;\n",
       "    }\n",
       "\n",
       "    .dataframe tbody tr th {\n",
       "        vertical-align: top;\n",
       "    }\n",
       "\n",
       "    .dataframe thead th {\n",
       "        text-align: right;\n",
       "    }\n",
       "</style>\n",
       "<table border=\"1\" class=\"dataframe\">\n",
       "  <thead>\n",
       "    <tr style=\"text-align: right;\">\n",
       "      <th></th>\n",
       "      <th>canopy</th>\n",
       "      <th>col</th>\n",
       "      <th>label</th>\n",
       "      <th>row</th>\n",
       "      <th>tile_name</th>\n",
       "      <th>x</th>\n",
       "      <th>y</th>\n",
       "      <th>geometry</th>\n",
       "    </tr>\n",
       "  </thead>\n",
       "  <tbody>\n",
       "    <tr>\n",
       "      <th>0</th>\n",
       "      <td>0.0</td>\n",
       "      <td>572</td>\n",
       "      <td>0</td>\n",
       "      <td>1481</td>\n",
       "      <td>029011</td>\n",
       "      <td>1801590.0</td>\n",
       "      <td>1620360.0</td>\n",
       "      <td>POLYGON ((-75.70782939948658 35.89756989233159...</td>\n",
       "    </tr>\n",
       "    <tr>\n",
       "      <th>1</th>\n",
       "      <td>0.0</td>\n",
       "      <td>4608</td>\n",
       "      <td>0</td>\n",
       "      <td>1271</td>\n",
       "      <td>028011</td>\n",
       "      <td>1772670.0</td>\n",
       "      <td>1626660.0</td>\n",
       "      <td>POLYGON ((-76.00927205065202 36.00689937966732...</td>\n",
       "    </tr>\n",
       "    <tr>\n",
       "      <th>2</th>\n",
       "      <td>0.0</td>\n",
       "      <td>1060</td>\n",
       "      <td>0</td>\n",
       "      <td>2695</td>\n",
       "      <td>029011</td>\n",
       "      <td>1816230.0</td>\n",
       "      <td>1583940.0</td>\n",
       "      <td>POLYGON ((-75.63450100570053 35.55192775717828...</td>\n",
       "    </tr>\n",
       "    <tr>\n",
       "      <th>3</th>\n",
       "      <td>0.0</td>\n",
       "      <td>198</td>\n",
       "      <td>0</td>\n",
       "      <td>3792</td>\n",
       "      <td>029011</td>\n",
       "      <td>1790370.0</td>\n",
       "      <td>1551030.0</td>\n",
       "      <td>POLYGON ((-75.99243602489075 35.3132232234113,...</td>\n",
       "    </tr>\n",
       "    <tr>\n",
       "      <th>4</th>\n",
       "      <td>0.0</td>\n",
       "      <td>3239</td>\n",
       "      <td>0</td>\n",
       "      <td>500</td>\n",
       "      <td>028012</td>\n",
       "      <td>1731600.0</td>\n",
       "      <td>1499790.0</td>\n",
       "      <td>POLYGON ((-76.7454097877189 34.97277180541865,...</td>\n",
       "    </tr>\n",
       "  </tbody>\n",
       "</table>\n",
       "</div>"
      ],
      "text/plain": [
       "   canopy   col  label   row tile_name          x          y  \\\n",
       "0     0.0   572      0  1481    029011  1801590.0  1620360.0   \n",
       "1     0.0  4608      0  1271    028011  1772670.0  1626660.0   \n",
       "2     0.0  1060      0  2695    029011  1816230.0  1583940.0   \n",
       "3     0.0   198      0  3792    029011  1790370.0  1551030.0   \n",
       "4     0.0  3239      0   500    028012  1731600.0  1499790.0   \n",
       "\n",
       "                                            geometry  \n",
       "0  POLYGON ((-75.70782939948658 35.89756989233159...  \n",
       "1  POLYGON ((-76.00927205065202 36.00689937966732...  \n",
       "2  POLYGON ((-75.63450100570053 35.55192775717828...  \n",
       "3  POLYGON ((-75.99243602489075 35.3132232234113,...  \n",
       "4  POLYGON ((-76.7454097877189 34.97277180541865,...  "
      ]
     },
     "execution_count": 10,
     "metadata": {},
     "output_type": "execute_result"
    }
   ],
   "source": [
    "gdf = gpd.read_file('../train_buffered_points.shp')\n",
    "gdf.head()"
   ]
  },
  {
   "cell_type": "code",
   "execution_count": 11,
   "metadata": {},
   "outputs": [
    {
     "data": {
      "text/plain": [
       "9000"
      ]
     },
     "execution_count": 11,
     "metadata": {},
     "output_type": "execute_result"
    }
   ],
   "source": [
    "gdf = gpd.read_file('../train_buffered_points.shp')\n",
    "all_pix = []\n",
    "for index, row in gdf.iterrows():\n",
    "    all_pix.append(((row['col'], row['row']), row['tile_name']))\n",
    "len(all_pix)"
   ]
  },
  {
   "cell_type": "code",
   "execution_count": 4,
   "metadata": {},
   "outputs": [],
   "source": [
    "def tile_generator(self, pixel_info, batch_size, flatten=False, canopy=False):\n",
    "    ### this is a keras compatible data generator which generates data and labels on the fly \n",
    "    ### from a set of pixel locations, a list of image datasets, and a label dataset\n",
    "    bad_tiles = 0\n",
    "    tile_size = self.tile_length\n",
    "    i = 0\n",
    "    # assuming all images have the same num of bands\n",
    "    band_count = self.l8_dict['028012'][0].count - 1\n",
    "    time_steps = len(self.l8_dict['028012'])\n",
    "    class_count = self.class_count\n",
    "    buffer = math.floor(tile_size / 2)\n",
    "    while True:\n",
    "        lc_batch = np.zeros((batch_size, class_count))\n",
    "        canopy_batch = np.zeros((batch_size, 1))\n",
    "        image_batch = np.zeros((batch_size, time_steps, tile_size, tile_size, band_count))\n",
    "        rnn_image_batch = np.zeros((batch_size, time_steps, band_count))\n",
    "        b = 0\n",
    "        while b < batch_size:\n",
    "            # if we're at the end  of the data just restart\n",
    "            if i >= len(pixel_locations):\n",
    "                i=0\n",
    "            r, c = pixel_info[\"row\"][i], pixel_info[\"col\"][i] ####\n",
    "            tile_num = pixel_info[\"tile_name\"][i] #####\n",
    "            i += 1\n",
    "            tiles_to_read = self.l8_dict[tile_num]\n",
    "            tiles_read = util.read_windows(tiles_to_read, c ,r, buffer, tile_size)\n",
    "            rnn_tiles_read = util.read_windows(tiles_to_read, c ,r, 0, 1)\n",
    "            reshaped_tiles = []\n",
    "            rnn_reshaped_tiles = []\n",
    "            band_avg = [  345.72448081,   352.93755735,   319.34257128,   899.39728239,\n",
    "         649.46125258,   370.53562465, -1084.8218946 ]\n",
    "            band_std = [ 661.75737932,  363.32761072,  425.28671553,  959.63442896,\n",
    "        838.86193201,  501.96992987, 3562.42995552]\n",
    "            for index in range(len(tiles_read)):\n",
    "                rnn_tile = rnn_tiles_read[index][0:7]\n",
    "                tile = tiles_read[index][0:7]\n",
    "                reshaped_tile = reshape_as_image(tile).astype(np.float64)\n",
    "                rnn_reshaped_tile = reshape_as_image(rnn_tile).astype(np.float64)\n",
    "                rnn_reshaped_tile = np.divide(np.subtract(rnn_reshaped_tile,band_avg),band_std)                 \n",
    "                reshaped_tile= np.divide(np.subtract(reshaped_tile, band_avg),band_std)\n",
    "                reshaped_tiles.append(reshaped_tile)\n",
    "                rnn_reshaped_tiles.append(rnn_reshaped_tile)\n",
    "            lc_data = pixel_info[\"label\"][i]\n",
    "            canopy_data = pixel_info[\"label\"][i]\n",
    "            lc_label = self.one_hot_encode(lc_data, 1, class_count)\n",
    "            lc_batch[b] = lc_label.reshape(class_count)\n",
    "            canopy_batch[b] = canopy_data.reshape(1) / 100\n",
    "            rnn_total_tile = np.array((*rnn_reshaped_tiles,))\n",
    "            rnn_image_batch[b] = rnn_total_tile.reshape((len(tiles_read),7))\n",
    "            total_tile = np.array((*reshaped_tiles,))\n",
    "            image_batch[b] = total_tile\n",
    "            b += 1\n",
    "            if canopy:\n",
    "                yield ({\"rnn_input\":rnn_image_batch, \"tile_input\":image_batch}, {'landcover': lc_batch, 'canopy': canopy_batch})\n",
    "            else: \n",
    "                yield (image_batch, lc_batch)"
   ]
  },
  {
   "cell_type": "code",
   "execution_count": 10,
   "metadata": {},
   "outputs": [],
   "source": [
    "train = gpd.read_file('train_buffered_points.shp')"
   ]
  }
 ],
 "metadata": {
  "kernelspec": {
   "display_name": "Python 3",
   "language": "python",
   "name": "python3"
  },
  "language_info": {
   "codemirror_mode": {
    "name": "ipython",
    "version": 3
   },
   "file_extension": ".py",
   "mimetype": "text/x-python",
   "name": "python",
   "nbconvert_exporter": "python",
   "pygments_lexer": "ipython3",
   "version": "3.5.2"
  }
 },
 "nbformat": 4,
 "nbformat_minor": 2
}
