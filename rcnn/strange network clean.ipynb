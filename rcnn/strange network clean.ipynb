{
 "cells": [
  {
   "cell_type": "markdown",
   "metadata": {},
   "source": [
    "## Strange Network Development"
   ]
  },
  {
   "cell_type": "code",
   "execution_count": 1,
   "metadata": {},
   "outputs": [
    {
     "name": "stderr",
     "output_type": "stream",
     "text": [
      "Using TensorFlow backend.\n"
     ]
    }
   ],
   "source": [
    "import comet_ml\n",
    "from comet_ml import Experiment\n",
    "\n",
    "import rasterio\n",
    "import keras\n",
    "import random\n",
    "from keras import backend as K\n",
    "from keras.callbacks import ModelCheckpoint\n",
    "from keras.models import Sequential\n",
    "from keras.layers import Dense, Dropout, Flatten, Reshape, Bidirectional\n",
    "from keras.layers import Conv2D, MaxPooling2D, ConvLSTM2D, TimeDistributed, UpSampling2D, Concatenate, LSTM, concatenate\n",
    "from keras.layers import Activation, BatchNormalization\n",
    "from keras.optimizers import SGD, Adadelta, Adam\n",
    "from keras import Input\n",
    "from keras import Model\n",
    "import matplotlib.pyplot as plt\n",
    "import os\n",
    "import sys\n",
    "from sklearn.utils import class_weight\n",
    "module_path = os.path.abspath(os.path.join('..'))\n",
    "if module_path not in sys.path:\n",
    "    sys.path.append(module_path)\n",
    "import utilities as util\n",
    "import importlib\n",
    "import rnn_tiles\n",
    "import rnn_pixels\n",
    "import numpy as np"
   ]
  },
  {
   "cell_type": "code",
   "execution_count": 17,
   "metadata": {},
   "outputs": [
    {
     "data": {
      "text/plain": [
       "<module 'utilities' from '/host/Code/florence_mapping/utilities.py'>"
      ]
     },
     "execution_count": 17,
     "metadata": {},
     "output_type": "execute_result"
    }
   ],
   "source": [
    "importlib.reload(rnn_pixels)\n",
    "importlib.reload(rnn_tiles)\n",
    "importlib.reload(util)"
   ]
  },
  {
   "cell_type": "markdown",
   "metadata": {},
   "source": [
    "Assign your specific GPU so we don't overlap"
   ]
  },
  {
   "cell_type": "code",
   "execution_count": 2,
   "metadata": {},
   "outputs": [],
   "source": [
    "os.environ[\"CUDA_VISIBLE_DEVICES\"]=\"0\";"
   ]
  },
  {
   "cell_type": "markdown",
   "metadata": {},
   "source": [
    "Is that GPU and only that GPU visible?\n",
    "\n",
    "Note that it will always say GPU:0 but you should just see one"
   ]
  },
  {
   "cell_type": "code",
   "execution_count": 3,
   "metadata": {},
   "outputs": [
    {
     "data": {
      "text/plain": [
       "['/job:localhost/replica:0/task:0/device:GPU:0']"
      ]
     },
     "execution_count": 3,
     "metadata": {},
     "output_type": "execute_result"
    }
   ],
   "source": [
    "from keras import backend as K\n",
    "K.tensorflow_backend._get_available_gpus()"
   ]
  },
  {
   "cell_type": "markdown",
   "metadata": {},
   "source": [
    "Ingest Training Labels\n",
    "\n",
    "Note that these are monster files so be careful how you inspect them, typically you only want to use the `rasterio` windows option"
   ]
  },
  {
   "cell_type": "code",
   "execution_count": 4,
   "metadata": {},
   "outputs": [],
   "source": [
    "lc_labels = rasterio.open('/deep_data/recurrent_data/NLCD_DATA/landcover/NLCD_2011_Land_Cover_L48_20190424.img')\n",
    "canopy_labels = rasterio.open('/deep_data/recurrent_data/NLCD_DATA/canopy/CONUSCartographic_2_8_16/Cartographic/nlcd2011_usfs_conus_canopy_cartographic.img')\n",
    "class_dict = util.indexed_dictionary"
   ]
  },
  {
   "cell_type": "markdown",
   "metadata": {},
   "source": [
    "Ingest the landsat imagery stacked into yearly seasonal tiles"
   ]
  },
  {
   "cell_type": "code",
   "execution_count": 25,
   "metadata": {},
   "outputs": [],
   "source": [
    "tiles = {}\n",
    "landsat_datasets = {}\n",
    "tiles['028012'] = ['20110324', '20110612', '20110831', '20111103']\n",
    "tiles['029011'] = ['20110308', '20110425', '20110831', '20111103']\n",
    "tiles['028011'] = ['20110308', '20110628', '20110831', '20111103']\n",
    "#tiles['028012'] = ['20110831']\n",
    "#tiles['029011'] = ['20110831']\n",
    "#tiles['028011'] = ['20110831']\n",
    "for tile_number, dates in tiles.items():\n",
    "    tile_datasets = []\n",
    "    l8_image_paths = []\n",
    "    for date in dates:\n",
    "        l8_image_paths.append('/deep_data/recurrent_data/tile{}/combined/combined{}.tif'.format(tile_number, date))\n",
    "    for fp in l8_image_paths:\n",
    "        tile_datasets.append(rasterio.open(fp))\n",
    "    landsat_datasets[tile_number] = tile_datasets"
   ]
  },
  {
   "cell_type": "markdown",
   "metadata": {},
   "source": [
    "Set some hyperparameters for the model and data creation."
   ]
  },
  {
   "cell_type": "code",
   "execution_count": 64,
   "metadata": {},
   "outputs": [],
   "source": [
    "tile_size = 5\n",
    "tile_list = ['028012', '029011', '028011']\n",
    "class_count = len(class_dict)\n",
    "epochs = 30\n",
    "batch_size = 25\n",
    "clean_pixels_count = 100000\n",
    "max_count_per_class = 1500\n",
    "steps_division_factor = 10"
   ]
  },
  {
   "cell_type": "markdown",
   "metadata": {},
   "source": [
    "### The next cell is for making pixels and prepping them for training (balancing)\n",
    "\n",
    "This takes a long time and is unnecessary if you have already saved them to text files, if so, load them below."
   ]
  },
  {
   "cell_type": "code",
   "execution_count": 65,
   "metadata": {},
   "outputs": [
    {
     "name": "stdout",
     "output_type": "stream",
     "text": [
      "Beginning balanced pixel creation.\n",
      "Clean pix generated, starting generator.\n",
      "Iterating through data and clipping for balance.\n",
      "train:4269 val:854 test:385\n",
      "\n",
      "Processing Complete.\n"
     ]
    },
    {
     "data": {
      "text/plain": [
       "{'Barren': 57,\n",
       " 'Cultivated': 6177,\n",
       " 'Developed': 137,\n",
       " 'Forest': 13404,\n",
       " 'Water': 13889,\n",
       " 'Wetland': 643}"
      ]
     },
     "execution_count": 65,
     "metadata": {},
     "output_type": "execute_result"
    }
   ],
   "source": [
    "train_px, val_px, test_px, class_count_dict = rnn_pixels.balanced_pix_locations(landsat_datasets, lc_labels, \n",
    "        canopy_labels, tile_size, tile_list, clean_pixels_count, class_count, max_count_per_class, \n",
    "                                                              class_dict, buffer_pix=1)\n",
    "class_count_dict"
   ]
  },
  {
   "cell_type": "markdown",
   "metadata": {},
   "source": [
    "### Load pixels if necessary\n",
    "\n",
    "TODO probably need to change the text file to shapefiles"
   ]
  },
  {
   "cell_type": "code",
   "execution_count": 66,
   "metadata": {
    "scrolled": true
   },
   "outputs": [],
   "source": [
    "#train_px, val_px, test_px = util.read_txt(['train_px.txt', 'val_px.txt', 'test_px.txt'])\n",
    "#train_px = rnn_pixels.delete_bad_tiles(landsat_datasets,lc_labels, canopy_labels, train_px, tile_size)\n",
    "#val_px =  rnn_pixels.delete_bad_tiles(landsat_datasets,lc_labels, canopy_labels, val_px, tile_size)\n",
    "#test_px =  rnn_pixels.delete_bad_tiles(landsat_datasets,lc_labels, canopy_labels, test_px, tile_size)"
   ]
  },
  {
   "cell_type": "markdown",
   "metadata": {},
   "source": [
    "### Create the RNN"
   ]
  },
  {
   "cell_type": "code",
   "execution_count": 67,
   "metadata": {},
   "outputs": [],
   "source": [
    "def strangeBlock_v4(input_block, nb_layers, filters):\n",
    "    x_list = [input_block]\n",
    "    c_temp = input_block\n",
    "    for i in range(nb_layers):\n",
    "        c_l = LSTM(units=filters, activation='elu', return_sequences=True) (c_temp)\n",
    "        x_list.append(c_l)\n",
    "        merge = Concatenate()(x_list)\n",
    "        c_temp = merge\n",
    "    return c_temp"
   ]
  },
  {
   "cell_type": "code",
   "execution_count": 68,
   "metadata": {},
   "outputs": [],
   "source": [
    "def make_MLT_dense(in_shape, in_shape_tile, num_classes):\n",
    "    input_tensor = Input(shape = in_shape, name=\"rnn_input\")\n",
    "    #single pixel model\n",
    "    block = strangeBlock_v4(input_tensor, 5, 12)\n",
    "    block_2 = strangeBlock_v4(block, 3, 20)\n",
    "    final_block = LSTM(64, activation='softmax', return_sequences=False) (block_2)\n",
    "\n",
    "    #cnn model\n",
    "    input_tensor_tile = Input(shape = in_shape_tile, name=\"tile_input\")\n",
    "    cnn_layer1 = ConvLSTM2D(64, kernel_size=2, activation='elu', return_sequences=True)(input_tensor_tile)\n",
    "    # batch norm\n",
    "    cnn_layer2 = ConvLSTM2D(64, kernel_size=2, activation='elu', return_sequences=False) (cnn_layer1)\n",
    "    maxpool = MaxPooling2D(pool_size=(2, 2), strides=None, padding='valid') (cnn_layer2)\n",
    "    flatten = Flatten()(maxpool)\n",
    "    concat = concatenate([final_block, flatten])\n",
    "    \n",
    "    landcover = Dense(num_classes,activation='softmax', name='landcover') (concat)\n",
    "    canopy = Dense(1, name='canopy') (concat)\n",
    "\n",
    "    model = Model(inputs=[input_tensor,input_tensor_tile], outputs=[landcover, canopy])\n",
    "    return model"
   ]
  },
  {
   "cell_type": "code",
   "execution_count": 69,
   "metadata": {},
   "outputs": [
    {
     "name": "stderr",
     "output_type": "stream",
     "text": [
      "COMET INFO: Experiment is live on comet.ml https://www.comet.ml/clifgray/chronos/3727ff80c0cb4aca9ba601b7db703d87\n",
      "\n"
     ]
    }
   ],
   "source": [
    "experiment = Experiment(api_key=\"rMFbl2RlGxNuyyL37dE7qPSfE\",\n",
    "                        project_name=\"chronos\", workspace=\"clifgray\")"
   ]
  },
  {
   "cell_type": "code",
   "execution_count": 70,
   "metadata": {},
   "outputs": [],
   "source": [
    "model = make_MLT_dense((len(tiles['028012']),7),(len(tiles['028012']),tile_size,tile_size,7), class_count)\n",
    "#model.load_weights('mlt_dense_model.hdf5')\n",
    "#model.summary()"
   ]
  },
  {
   "cell_type": "code",
   "execution_count": 71,
   "metadata": {},
   "outputs": [],
   "source": [
    "#model = keras.models.load_model('dense_model.h5')"
   ]
  },
  {
   "cell_type": "markdown",
   "metadata": {},
   "source": [
    "#### Train the Model"
   ]
  },
  {
   "cell_type": "code",
   "execution_count": 72,
   "metadata": {},
   "outputs": [],
   "source": [
    "#filepath = 'mlt_dense_model_pcg.hdf5'#your filepath here\n",
    "#checkpoint = ModelCheckpoint(filepath, monitor='val_landcover_acc', verbose=1, save_best_only=True, mode='max')\n",
    "#callbacks_list = [checkpoint]\n",
    "tile_gen = rnn_tiles.rnn_tile_gen(landsat_datasets, lc_labels, canopy_labels, tile_size, class_count)"
   ]
  },
  {
   "cell_type": "code",
   "execution_count": 73,
   "metadata": {},
   "outputs": [],
   "source": [
    "model.compile(optimizer=Adam(), loss={'landcover':'categorical_crossentropy', 'canopy':'mae'}, metrics={'landcover':['accuracy'], 'canopy':['mae']}, loss_weights={\"landcover\":1, \"canopy\":1})"
   ]
  },
  {
   "cell_type": "code",
   "execution_count": 74,
   "metadata": {
    "scrolled": true
   },
   "outputs": [
    {
     "name": "stdout",
     "output_type": "stream",
     "text": [
      "Epoch 1/30\n",
      "17/17 [==============================] - 10s 612ms/step - loss: 1.6576 - landcover_loss: 1.4409 - canopy_loss: 0.2167 - landcover_acc: 0.5882 - canopy_mean_absolute_error: 0.2167 - val_loss: 1.1880 - val_landcover_loss: 1.0611 - val_canopy_loss: 0.1268 - val_landcover_acc: 0.7867 - val_canopy_mean_absolute_error: 0.1268\n",
      "Epoch 2/30\n",
      "17/17 [==============================] - 2s 107ms/step - loss: 0.7748 - landcover_loss: 0.6218 - canopy_loss: 0.1530 - landcover_acc: 0.8588 - canopy_mean_absolute_error: 0.1530 - val_loss: 0.6301 - val_landcover_loss: 0.5151 - val_canopy_loss: 0.1150 - val_landcover_acc: 0.8533 - val_canopy_mean_absolute_error: 0.1150\n",
      "Epoch 3/30\n",
      "17/17 [==============================] - 2s 107ms/step - loss: 0.5937 - landcover_loss: 0.4503 - canopy_loss: 0.1435 - landcover_acc: 0.8306 - canopy_mean_absolute_error: 0.1435 - val_loss: 0.7226 - val_landcover_loss: 0.5788 - val_canopy_loss: 0.1438 - val_landcover_acc: 0.7867 - val_canopy_mean_absolute_error: 0.1438\n",
      "Epoch 4/30\n",
      "17/17 [==============================] - 2s 105ms/step - loss: 0.5135 - landcover_loss: 0.4043 - canopy_loss: 0.1092 - landcover_acc: 0.8776 - canopy_mean_absolute_error: 0.1092 - val_loss: 0.4394 - val_landcover_loss: 0.3231 - val_canopy_loss: 0.1164 - val_landcover_acc: 0.9067 - val_canopy_mean_absolute_error: 0.1164\n",
      "Epoch 5/30\n",
      "17/17 [==============================] - 2s 104ms/step - loss: 0.4066 - landcover_loss: 0.3180 - canopy_loss: 0.0886 - landcover_acc: 0.8847 - canopy_mean_absolute_error: 0.0886 - val_loss: 0.3491 - val_landcover_loss: 0.2424 - val_canopy_loss: 0.1067 - val_landcover_acc: 0.9467 - val_canopy_mean_absolute_error: 0.1067\n",
      "Epoch 6/30\n",
      "17/17 [==============================] - 2s 105ms/step - loss: 0.4674 - landcover_loss: 0.3793 - canopy_loss: 0.0881 - landcover_acc: 0.8918 - canopy_mean_absolute_error: 0.0881 - val_loss: 0.2982 - val_landcover_loss: 0.1643 - val_canopy_loss: 0.1340 - val_landcover_acc: 0.9600 - val_canopy_mean_absolute_error: 0.1340\n",
      "Epoch 7/30\n",
      "17/17 [==============================] - 2s 105ms/step - loss: 0.4211 - landcover_loss: 0.3453 - canopy_loss: 0.0758 - landcover_acc: 0.9012 - canopy_mean_absolute_error: 0.0758 - val_loss: 0.3082 - val_landcover_loss: 0.2522 - val_canopy_loss: 0.0561 - val_landcover_acc: 0.9333 - val_canopy_mean_absolute_error: 0.0561\n",
      "Epoch 8/30\n",
      "17/17 [==============================] - 2s 106ms/step - loss: 0.3414 - landcover_loss: 0.2669 - canopy_loss: 0.0744 - landcover_acc: 0.9318 - canopy_mean_absolute_error: 0.0744 - val_loss: 0.2510 - val_landcover_loss: 0.1985 - val_canopy_loss: 0.0525 - val_landcover_acc: 0.9333 - val_canopy_mean_absolute_error: 0.0525\n",
      "Epoch 9/30\n",
      "17/17 [==============================] - 2s 104ms/step - loss: 0.3685 - landcover_loss: 0.2982 - canopy_loss: 0.0703 - landcover_acc: 0.9082 - canopy_mean_absolute_error: 0.0703 - val_loss: 0.1924 - val_landcover_loss: 0.1199 - val_canopy_loss: 0.0725 - val_landcover_acc: 0.9733 - val_canopy_mean_absolute_error: 0.0725\n",
      "Epoch 10/30\n",
      "17/17 [==============================] - 2s 104ms/step - loss: 0.3184 - landcover_loss: 0.2404 - canopy_loss: 0.0780 - landcover_acc: 0.9129 - canopy_mean_absolute_error: 0.0780 - val_loss: 0.3986 - val_landcover_loss: 0.2976 - val_canopy_loss: 0.1011 - val_landcover_acc: 0.8933 - val_canopy_mean_absolute_error: 0.1011\n",
      "Epoch 11/30\n",
      "17/17 [==============================] - 2s 104ms/step - loss: 0.2939 - landcover_loss: 0.2108 - canopy_loss: 0.0831 - landcover_acc: 0.9412 - canopy_mean_absolute_error: 0.0831 - val_loss: 0.2486 - val_landcover_loss: 0.1446 - val_canopy_loss: 0.1041 - val_landcover_acc: 0.9600 - val_canopy_mean_absolute_error: 0.1041\n",
      "Epoch 12/30\n",
      "17/17 [==============================] - 2s 104ms/step - loss: 0.3155 - landcover_loss: 0.2291 - canopy_loss: 0.0864 - landcover_acc: 0.9412 - canopy_mean_absolute_error: 0.0864 - val_loss: 0.3747 - val_landcover_loss: 0.3028 - val_canopy_loss: 0.0719 - val_landcover_acc: 0.9067 - val_canopy_mean_absolute_error: 0.0719\n",
      "Epoch 13/30\n",
      "17/17 [==============================] - 2s 105ms/step - loss: 0.3152 - landcover_loss: 0.2472 - canopy_loss: 0.0680 - landcover_acc: 0.9224 - canopy_mean_absolute_error: 0.0680 - val_loss: 0.3012 - val_landcover_loss: 0.2198 - val_canopy_loss: 0.0814 - val_landcover_acc: 0.9200 - val_canopy_mean_absolute_error: 0.0814\n",
      "Epoch 14/30\n",
      "17/17 [==============================] - 2s 104ms/step - loss: 0.3370 - landcover_loss: 0.2634 - canopy_loss: 0.0737 - landcover_acc: 0.9176 - canopy_mean_absolute_error: 0.0737 - val_loss: 0.4364 - val_landcover_loss: 0.3620 - val_canopy_loss: 0.0744 - val_landcover_acc: 0.8800 - val_canopy_mean_absolute_error: 0.0744\n",
      "Epoch 15/30\n",
      "17/17 [==============================] - 2s 108ms/step - loss: 0.2785 - landcover_loss: 0.2082 - canopy_loss: 0.0703 - landcover_acc: 0.9412 - canopy_mean_absolute_error: 0.0703 - val_loss: 0.2431 - val_landcover_loss: 0.1363 - val_canopy_loss: 0.1068 - val_landcover_acc: 0.9600 - val_canopy_mean_absolute_error: 0.1068\n",
      "Epoch 16/30\n",
      "17/17 [==============================] - 2s 106ms/step - loss: 0.2970 - landcover_loss: 0.2329 - canopy_loss: 0.0641 - landcover_acc: 0.9176 - canopy_mean_absolute_error: 0.0641 - val_loss: 0.2278 - val_landcover_loss: 0.1702 - val_canopy_loss: 0.0576 - val_landcover_acc: 0.9333 - val_canopy_mean_absolute_error: 0.0576\n",
      "Epoch 17/30\n",
      "17/17 [==============================] - 2s 107ms/step - loss: 0.3335 - landcover_loss: 0.2625 - canopy_loss: 0.0710 - landcover_acc: 0.9224 - canopy_mean_absolute_error: 0.0710 - val_loss: 0.2282 - val_landcover_loss: 0.1568 - val_canopy_loss: 0.0714 - val_landcover_acc: 0.9467 - val_canopy_mean_absolute_error: 0.0714\n",
      "Epoch 18/30\n",
      "17/17 [==============================] - 2s 105ms/step - loss: 0.2568 - landcover_loss: 0.1966 - canopy_loss: 0.0601 - landcover_acc: 0.9435 - canopy_mean_absolute_error: 0.0601 - val_loss: 0.3025 - val_landcover_loss: 0.2256 - val_canopy_loss: 0.0769 - val_landcover_acc: 0.9333 - val_canopy_mean_absolute_error: 0.0769\n",
      "Epoch 19/30\n",
      "17/17 [==============================] - 2s 106ms/step - loss: 0.3114 - landcover_loss: 0.2469 - canopy_loss: 0.0645 - landcover_acc: 0.9341 - canopy_mean_absolute_error: 0.0645 - val_loss: 0.2017 - val_landcover_loss: 0.1410 - val_canopy_loss: 0.0607 - val_landcover_acc: 0.9733 - val_canopy_mean_absolute_error: 0.0607\n",
      "Epoch 20/30\n",
      "17/17 [==============================] - 2s 106ms/step - loss: 0.2526 - landcover_loss: 0.1958 - canopy_loss: 0.0568 - landcover_acc: 0.9341 - canopy_mean_absolute_error: 0.0568 - val_loss: 0.1912 - val_landcover_loss: 0.1280 - val_canopy_loss: 0.0632 - val_landcover_acc: 0.9467 - val_canopy_mean_absolute_error: 0.0632\n",
      "Epoch 21/30\n",
      "17/17 [==============================] - 2s 104ms/step - loss: 0.2433 - landcover_loss: 0.1934 - canopy_loss: 0.0499 - landcover_acc: 0.9506 - canopy_mean_absolute_error: 0.0499 - val_loss: 0.1891 - val_landcover_loss: 0.1427 - val_canopy_loss: 0.0464 - val_landcover_acc: 0.9600 - val_canopy_mean_absolute_error: 0.0464\n",
      "Epoch 22/30\n",
      "17/17 [==============================] - 2s 104ms/step - loss: 0.2489 - landcover_loss: 0.1903 - canopy_loss: 0.0585 - landcover_acc: 0.9482 - canopy_mean_absolute_error: 0.0585 - val_loss: 0.2582 - val_landcover_loss: 0.1964 - val_canopy_loss: 0.0618 - val_landcover_acc: 0.9200 - val_canopy_mean_absolute_error: 0.0618\n",
      "Epoch 23/30\n",
      "17/17 [==============================] - 2s 105ms/step - loss: 0.2613 - landcover_loss: 0.2119 - canopy_loss: 0.0494 - landcover_acc: 0.9365 - canopy_mean_absolute_error: 0.0494 - val_loss: 0.3490 - val_landcover_loss: 0.2988 - val_canopy_loss: 0.0502 - val_landcover_acc: 0.9467 - val_canopy_mean_absolute_error: 0.0502\n",
      "Epoch 24/30\n",
      "17/17 [==============================] - 2s 106ms/step - loss: 0.2946 - landcover_loss: 0.2402 - canopy_loss: 0.0544 - landcover_acc: 0.9200 - canopy_mean_absolute_error: 0.0544 - val_loss: 0.2088 - val_landcover_loss: 0.1656 - val_canopy_loss: 0.0432 - val_landcover_acc: 0.9467 - val_canopy_mean_absolute_error: 0.0432\n",
      "Epoch 25/30\n",
      "17/17 [==============================] - 2s 104ms/step - loss: 0.2403 - landcover_loss: 0.1853 - canopy_loss: 0.0551 - landcover_acc: 0.9459 - canopy_mean_absolute_error: 0.0551 - val_loss: 0.3072 - val_landcover_loss: 0.2478 - val_canopy_loss: 0.0594 - val_landcover_acc: 0.9333 - val_canopy_mean_absolute_error: 0.0594\n"
     ]
    },
    {
     "name": "stdout",
     "output_type": "stream",
     "text": [
      "Epoch 26/30\n",
      "17/17 [==============================] - 2s 108ms/step - loss: 0.2427 - landcover_loss: 0.1887 - canopy_loss: 0.0541 - landcover_acc: 0.9294 - canopy_mean_absolute_error: 0.0541 - val_loss: 0.2822 - val_landcover_loss: 0.2192 - val_canopy_loss: 0.0630 - val_landcover_acc: 0.9333 - val_canopy_mean_absolute_error: 0.0630\n",
      "Epoch 27/30\n",
      "17/17 [==============================] - 2s 103ms/step - loss: 0.3083 - landcover_loss: 0.2419 - canopy_loss: 0.0664 - landcover_acc: 0.9294 - canopy_mean_absolute_error: 0.0664 - val_loss: 0.1884 - val_landcover_loss: 0.1336 - val_canopy_loss: 0.0549 - val_landcover_acc: 0.9600 - val_canopy_mean_absolute_error: 0.0549\n",
      "Epoch 28/30\n",
      "17/17 [==============================] - 2s 106ms/step - loss: 0.2362 - landcover_loss: 0.1772 - canopy_loss: 0.0590 - landcover_acc: 0.9553 - canopy_mean_absolute_error: 0.0590 - val_loss: 0.2023 - val_landcover_loss: 0.1437 - val_canopy_loss: 0.0586 - val_landcover_acc: 0.9600 - val_canopy_mean_absolute_error: 0.0586\n",
      "Epoch 29/30\n",
      "17/17 [==============================] - 2s 105ms/step - loss: 0.2651 - landcover_loss: 0.2098 - canopy_loss: 0.0553 - landcover_acc: 0.9341 - canopy_mean_absolute_error: 0.0553 - val_loss: 0.2317 - val_landcover_loss: 0.1347 - val_canopy_loss: 0.0970 - val_landcover_acc: 0.9467 - val_canopy_mean_absolute_error: 0.0970\n",
      "Epoch 30/30\n",
      "17/17 [==============================] - 2s 104ms/step - loss: 0.2404 - landcover_loss: 0.1890 - canopy_loss: 0.0514 - landcover_acc: 0.9341 - canopy_mean_absolute_error: 0.0514 - val_loss: 0.1622 - val_landcover_loss: 0.1287 - val_canopy_loss: 0.0335 - val_landcover_acc: 0.9733 - val_canopy_mean_absolute_error: 0.0335\n"
     ]
    }
   ],
   "source": [
    "history = model.fit_generator(generator=tile_gen.tile_generator(train_px, batch_size, flatten=True, canopy=True), \n",
    "                    steps_per_epoch=len(train_px) // batch_size // steps_division_factor, epochs=epochs, verbose=1,\n",
    "                   validation_data=tile_gen.tile_generator(val_px, batch_size, flatten=True, canopy=True),\n",
    "                  validation_steps=len(val_px) // batch_size // steps_division_factor) "
   ]
  },
  {
   "cell_type": "markdown",
   "metadata": {},
   "source": [
    "# Evaluate model"
   ]
  },
  {
   "cell_type": "code",
   "execution_count": 75,
   "metadata": {},
   "outputs": [
    {
     "name": "stdout",
     "output_type": "stream",
     "text": [
      "385/385 [==============================] - 16s 41ms/step\n"
     ]
    }
   ],
   "source": [
    "predictions = model.predict_generator(generator = tile_gen.tile_generator(val_px, batch_size=1, flatten=True, canopy=True), steps=len(test_px) // 1, verbose=1)\n",
    "eval_generator = tile_gen.tile_generator(val_px, batch_size=1, flatten=True, canopy=True)"
   ]
  },
  {
   "cell_type": "code",
   "execution_count": 76,
   "metadata": {},
   "outputs": [],
   "source": [
    "lc_predictions = np.asarray(predictions[0])\n",
    "canopy_pred = np.asarray(predictions[1])\n",
    "lc_predictions = np.argmax(lc_predictions,axis=-1)"
   ]
  },
  {
   "cell_type": "code",
   "execution_count": 77,
   "metadata": {},
   "outputs": [],
   "source": [
    "lc_lab = np.empty(lc_predictions.shape)\n",
    "canopy_true = np.empty(canopy_pred.shape)\n",
    "count = 0\n",
    "while count < len(lc_predictions):\n",
    "        image_b, label_b = next(eval_generator)\n",
    "        #label_b = np.argmax(label_b, axis=-1)\n",
    "        label_lc = np.argmax(label_b['landcover'], axis=-1)\n",
    "        canopy_true[count] = label_b['canopy']\n",
    "        lc_lab[count] = label_lc\n",
    "        count += 1\n",
    "label_index = lc_lab.reshape(len(test_px)*1*1)\n",
    "pred_index = lc_predictions.reshape(len(test_px)*1*1)"
   ]
  },
  {
   "cell_type": "code",
   "execution_count": 78,
   "metadata": {
    "scrolled": false
   },
   "outputs": [
    {
     "name": "stdout",
     "output_type": "stream",
     "text": [
      "Accuracy is 0.9454545454545454\n"
     ]
    },
    {
     "data": {
      "image/png": "[encoded data removed]",
      "text/plain": [
       "<Figure size 720x720 with 2 Axes>"
      ]
     },
     "metadata": {
      "needs_background": "light"
     },
     "output_type": "display_data"
    },
    {
     "data": {
      "image/png": "[encoded data removed]",
      "text/plain": [
       "<Figure size 720x720 with 2 Axes>"
      ]
     },
     "metadata": {
      "needs_background": "light"
     },
     "output_type": "display_data"
    }
   ],
   "source": [
    "np.set_printoptions(precision=2)\n",
    "# Plot non-normalized confusion matrix\n",
    "util.plot_confusion_matrix(label_index.astype(np.int), pred_index.astype(np.int), classes=np.array(list(class_dict)),\n",
    "                      class_dict=class_dict)\n",
    "experiment.log_figure(figure=plt, figure_name=\"unnorm_conf_matrix\")\n",
    "# Plot normalized confusion matrix\n",
    "util.plot_confusion_matrix(label_index.astype(np.int), pred_index.astype(np.int), classes=np.array(list(class_dict)),\n",
    "                      class_dict=class_dict,\n",
    "                      normalize=True,\n",
    "                          title=\" \")\n",
    "experiment.log_figure(figure=plt, figure_name=\"norm_conf_matrix\")\n",
    "count = 0\n",
    "for i in range(len(label_index)):\n",
    "    if(label_index[i] == pred_index[i]):\n",
    "        count+=1\n",
    "\n",
    "val_accuracy=count/len(label_index)\n",
    "print(\"Accuracy is\",val_accuracy)"
   ]
  },
  {
   "cell_type": "code",
   "execution_count": 79,
   "metadata": {},
   "outputs": [
    {
     "name": "stdout",
     "output_type": "stream",
     "text": [
      "[0.11]\n"
     ]
    }
   ],
   "source": [
    "total = 0\n",
    "tot = 0\n",
    "for count in range(len(canopy_pred)):\n",
    "    if canopy_true[count] != 0 and canopy_pred[count] !=0:\n",
    "        if canopy_pred[count] < 0:\n",
    "            canopy_pred[count] = 0\n",
    "        total+= np.absolute(canopy_pred[count] - canopy_true[count])\n",
    "        tot+=1\n",
    "print(total/tot)"
   ]
  },
  {
   "cell_type": "code",
   "execution_count": 80,
   "metadata": {},
   "outputs": [
    {
     "data": {
      "text/plain": [
       "0.915591691191909"
      ]
     },
     "execution_count": 80,
     "metadata": {},
     "output_type": "execute_result"
    }
   ],
   "source": [
    "from sklearn.metrics import r2_score\n",
    "validation_r2 = r2_score(canopy_true, canopy_pred)\n",
    "validation_r2"
   ]
  },
  {
   "cell_type": "code",
   "execution_count": 81,
   "metadata": {},
   "outputs": [],
   "source": [
    "import pandas as pd\n",
    "import seaborn as sns\n",
    "pred_df = pd.DataFrame({'lc_pred': pred_index,\n",
    "                        'lc_true': label_index,\n",
    "                        'canopy_pred': canopy_pred.flatten(),\n",
    "                        'canopy_true': canopy_true.flatten()})"
   ]
  },
  {
   "cell_type": "code",
   "execution_count": 82,
   "metadata": {},
   "outputs": [
    {
     "data": {
      "text/plain": [
       "{'api': 'https://www.comet.ml/api/rest/v1/image/get-image?experimentKey=3727ff80c0cb4aca9ba601b7db703d87&imageId=182c731ebbd644ac97aa5317f5a75e26',\n",
       " 'web': 'https://www.comet.ml/api/image/download?experimentKey=3727ff80c0cb4aca9ba601b7db703d87&imageId=182c731ebbd644ac97aa5317f5a75e26'}"
      ]
     },
     "execution_count": 82,
     "metadata": {},
     "output_type": "execute_result"
    },
    {
     "data": {
      "image/png": "[encoded data removed]",
      "text/plain": [
       "<Figure size 432x432 with 3 Axes>"
      ]
     },
     "metadata": {
      "needs_background": "light"
     },
     "output_type": "display_data"
    }
   ],
   "source": [
    "x=pred_df['canopy_pred']\n",
    "y=pred_df['canopy_true']\n",
    "\n",
    "from scipy.stats import gaussian_kde\n",
    "\n",
    "xy = np.vstack([x,y])\n",
    "z = gaussian_kde(xy)(xy)\n",
    "\n",
    "\n",
    "g = sns.jointplot(x,y, kind='scatter', alpha=0.2)\n",
    "g.ax_joint.set_xticks(np.linspace(0,1,6))\n",
    "g.ax_joint.set_xlabel(\"Predictions\")\n",
    "g.ax_joint.set_ylabel(\"Predictions\")\n",
    "experiment.log_figure(figure_name=\"canopy_scatterplot\")"
   ]
  },
  {
   "cell_type": "code",
   "execution_count": 83,
   "metadata": {},
   "outputs": [],
   "source": [
    "params = {\n",
    "    \"landsat_tiles\":tiles,\n",
    "    \"cnn_tile_size\":tile_size,\n",
    "    \"class_dict\":class_dict,\n",
    "    \"batch_size\":batch_size,\n",
    "    \"clean_pixels_counts\":clean_pixels_count,\n",
    "    \"max_count_per_class\": max_count_per_class,\n",
    "    \"class_count_dict\":['{} : {}'.format(k,v) for k,v in class_count_dict.items()],\n",
    "    \"steps_division_factor\":steps_division_factor,\n",
    "    \"canopy_validation_r2\":validation_r2,\n",
    "    \"lc_validation_acc\":val_accuracy\n",
    "}\n",
    "experiment.log_parameters(params)"
   ]
  },
  {
   "cell_type": "code",
   "execution_count": 84,
   "metadata": {},
   "outputs": [
    {
     "name": "stderr",
     "output_type": "stream",
     "text": [
      "COMET INFO: ----------------------------\n",
      "COMET INFO: Comet.ml Experiment Summary:\n",
      "COMET INFO:   Data:\n",
      "COMET INFO:     url: https://www.comet.ml/clifgray/chronos/3727ff80c0cb4aca9ba601b7db703d87\n",
      "COMET INFO:   Metrics [count] (min, max):\n",
      "COMET INFO:     batch_canopy_loss [60]                        : (0.02368972823023796, 0.2600444555282593)\n",
      "COMET INFO:     batch_canopy_mean_absolute_error [60]         : (0.02368972823023796, 0.2600444555282593)\n",
      "COMET INFO:     batch_landcover_acc [60]                      : (0.0, 1.0)\n",
      "COMET INFO:     batch_landcover_loss [60]                     : (0.04854108765721321, 1.823378562927246)\n",
      "COMET INFO:     batch_loss [60]                               : (0.08979175984859467, 2.0613291263580322)\n",
      "COMET INFO:     canopy_loss [30]                              : (0.04944532397477066, 0.21670501985970667)\n",
      "COMET INFO:     canopy_mean_absolute_error [30]               : (0.04944532397477066, 0.21670501985970667)\n",
      "COMET INFO:     epoch_duration [30]                           : (1.7603970111813396, 10.405107981991023)\n",
      "COMET INFO:     landcover_acc [30]                            : (0.5882352932411081, 0.9552941147018882)\n",
      "COMET INFO:     landcover_loss [30]                           : (0.17722795750288403, 1.4408548334065605)\n",
      "COMET INFO:     loss [30]                                     : (0.23623663888258092, 1.6575598506366505)\n",
      "COMET INFO:     step                                          : 600\n",
      "COMET INFO:     sys.gpu.0.free_memory [2]                     : (444006400.0, 444006400.0)\n",
      "COMET INFO:     sys.gpu.0.gpu_utilization [2]                 : (0.0, 53.0)\n",
      "COMET INFO:     sys.gpu.0.total_memory                        : (11996954624.0, 11996954624.0)\n",
      "COMET INFO:     sys.gpu.0.used_memory [2]                     : (11552948224.0, 11552948224.0)\n",
      "COMET INFO:     sys.gpu.1.free_memory [2]                     : (444006400.0, 444006400.0)\n",
      "COMET INFO:     sys.gpu.1.gpu_utilization [2]                 : (0.0, 0.0)\n",
      "COMET INFO:     sys.gpu.1.total_memory                        : (11996954624.0, 11996954624.0)\n",
      "COMET INFO:     sys.gpu.1.used_memory [2]                     : (11552948224.0, 11552948224.0)\n",
      "COMET INFO:     sys.gpu.2.free_memory [2]                     : (11996954624.0, 11996954624.0)\n",
      "COMET INFO:     sys.gpu.2.gpu_utilization [2]                 : (0.0, 0.0)\n",
      "COMET INFO:     sys.gpu.2.total_memory                        : (11996954624.0, 11996954624.0)\n",
      "COMET INFO:     sys.gpu.2.used_memory [2]                     : (0.0, 0.0)\n",
      "COMET INFO:     sys.gpu.3.free_memory [2]                     : (11921850368.0, 11921850368.0)\n",
      "COMET INFO:     sys.gpu.3.gpu_utilization [2]                 : (0.0, 0.0)\n",
      "COMET INFO:     sys.gpu.3.total_memory                        : (11996954624.0, 11996954624.0)\n",
      "COMET INFO:     sys.gpu.3.used_memory [2]                     : (75104256.0, 75104256.0)\n",
      "COMET INFO:     val_canopy_loss [30]                          : (0.033502829571564995, 0.14379549026489258)\n",
      "COMET INFO:     val_canopy_mean_absolute_error [30]           : (0.033502829571564995, 0.14379549026489258)\n",
      "COMET INFO:     val_landcover_acc [30]                        : (0.7866666714350382, 0.9733333388964335)\n",
      "COMET INFO:     val_landcover_loss [30]                       : (0.11987949162721634, 1.0611492991447449)\n",
      "COMET INFO:     val_loss [30]                                 : (0.16219462951024374, 1.1879727045694988)\n",
      "COMET INFO:     validate_batch_canopy_loss [30]               : (0.03148145601153374, 0.125559002161026)\n",
      "COMET INFO:     validate_batch_canopy_mean_absolute_error [30]: (0.03148145601153374, 0.125559002161026)\n",
      "COMET INFO:     validate_batch_landcover_acc [30]             : (0.7599999904632568, 1.0)\n",
      "COMET INFO:     validate_batch_landcover_loss [30]            : (0.05708886310458183, 1.1547657251358032)\n",
      "COMET INFO:     validate_batch_loss [30]                      : (0.15147490799427032, 1.2803246974945068)\n",
      "COMET INFO:   Other [count]:\n",
      "COMET INFO:     trainable_params: 290823\n",
      "COMET INFO:   Uploads:\n",
      "COMET INFO:     figures: 3\n",
      "COMET INFO: ----------------------------\n",
      "COMET INFO: Uploading stats to Comet before program termination (may take several seconds)\n"
     ]
    }
   ],
   "source": [
    "experiment.end()"
   ]
  },
  {
   "cell_type": "markdown",
   "metadata": {},
   "source": [
    "### Inspect Training Data"
   ]
  },
  {
   "cell_type": "code",
   "execution_count": 40,
   "metadata": {
    "scrolled": true
   },
   "outputs": [
    {
     "name": "stdout",
     "output_type": "stream",
     "text": [
      "7200/7200 [==============================] - 238s 33ms/step\n"
     ]
    }
   ],
   "source": [
    "predictions = model.predict_generator(generator = tile_gen.tile_generator(train_px, batch_size=1, flatten=True, canopy=True), steps=len(train_px) // 1, verbose=1)\n",
    "eval_generator = tile_gen.tile_generator(train_px, batch_size=1, flatten=True, canopy=True)"
   ]
  },
  {
   "cell_type": "code",
   "execution_count": 41,
   "metadata": {},
   "outputs": [],
   "source": [
    "lc_predictions_train = np.asarray(predictions[0])\n",
    "canopy_pred_train = np.asarray(predictions[1])\n",
    "lc_predictions_train = np.argmax(lc_predictions_train,axis=-1)"
   ]
  },
  {
   "cell_type": "code",
   "execution_count": 42,
   "metadata": {},
   "outputs": [],
   "source": [
    "lc_lab_train = np.empty(lc_predictions_train.shape)\n",
    "canopy_true_train = np.empty(canopy_pred_train.shape)\n",
    "count = 0\n",
    "while count < len(lc_predictions_train):\n",
    "        image_b, label_b = next(eval_generator)\n",
    "        #label_b = np.argmax(label_b, axis=-1)\n",
    "        label_lc = np.argmax(label_b['landcover'], axis=-1)\n",
    "        canopy_true_train[count] = label_b['canopy']\n",
    "        lc_lab_train[count] = label_lc\n",
    "        count += 1\n",
    "label_index = lc_lab_train.reshape(len(train_px))\n",
    "pred_index = lc_predictions_train.reshape(len(train_px))"
   ]
  },
  {
   "cell_type": "code",
   "execution_count": 43,
   "metadata": {},
   "outputs": [
    {
     "data": {
      "text/plain": [
       "((array([5540.,  104.,  111.,   79.,   46.,   56.,   63.,   97.,  248.,\n",
       "          856.]),\n",
       "  array([0. , 0.1, 0.2, 0.3, 0.4, 0.5, 0.6, 0.7, 0.8, 0.9, 1. ]),\n",
       "  <a list of 10 Patch objects>),\n",
       " (array([1.00e+00, 0.00e+00, 0.00e+00, 1.00e+00, 1.10e+01, 5.76e+03,\n",
       "         1.14e+02, 6.90e+01, 1.21e+02, 1.12e+03]),\n",
       "  array([-1.21, -0.99, -0.76, -0.54, -0.31, -0.09,  0.14,  0.36,  0.59,\n",
       "          0.81,  1.04], dtype=float32),\n",
       "  <a list of 10 Patch objects>))"
      ]
     },
     "execution_count": 43,
     "metadata": {},
     "output_type": "execute_result"
    },
    {
     "data": {
      "image/png": "[encoded data removed]",
      "text/plain": [
       "<Figure size 432x288 with 1 Axes>"
      ]
     },
     "metadata": {
      "needs_background": "light"
     },
     "output_type": "display_data"
    }
   ],
   "source": [
    "plt.hist(canopy_true_train, alpha=0.75), plt.hist(canopy_pred_train, alpha=0.5)"
   ]
  },
  {
   "cell_type": "code",
   "execution_count": 44,
   "metadata": {},
   "outputs": [
    {
     "data": {
      "text/plain": [
       "0.9298788612419028"
      ]
     },
     "execution_count": 44,
     "metadata": {},
     "output_type": "execute_result"
    }
   ],
   "source": [
    "from sklearn.metrics import r2_score\n",
    "r2_score(canopy_true_train, canopy_pred_train)"
   ]
  },
  {
   "cell_type": "code",
   "execution_count": 45,
   "metadata": {},
   "outputs": [
    {
     "data": {
      "image/png": "[encoded data removed]",
      "text/plain": [
       "<Figure size 432x288 with 1 Axes>"
      ]
     },
     "metadata": {
      "needs_background": "light"
     },
     "output_type": "display_data"
    }
   ],
   "source": [
    "from scipy.stats import gaussian_kde\n",
    "\n",
    "x = (canopy_pred_train * 100).flatten()\n",
    "y = (canopy_true_train * 100).flatten()\n",
    "\n",
    "xy = np.vstack([x,y])\n",
    "z = gaussian_kde(xy)(xy)\n",
    "\n",
    "idx = z.argsort()\n",
    "\n",
    "fig,ax = plt.subplots()\n",
    "ax.scatter(x,y,c=z,s=50,edgecolor='')\n",
    "ax.set_xlabel(\"Predictions\")\n",
    "ax.set_ylabel(\"Annotations\")\n",
    "ax.set_title(\"Canopy Cover Predictions\")\n",
    "plt.show()"
   ]
  }
 ],
 "metadata": {
  "kernelspec": {
   "display_name": "Python 3",
   "language": "python",
   "name": "python3"
  },
  "language_info": {
   "codemirror_mode": {
    "name": "ipython",
    "version": 3
   },
   "file_extension": ".py",
   "mimetype": "text/x-python",
   "name": "python",
   "nbconvert_exporter": "python",
   "pygments_lexer": "ipython3",
   "version": "3.5.2"
  }
 },
 "nbformat": 4,
 "nbformat_minor": 2
}
