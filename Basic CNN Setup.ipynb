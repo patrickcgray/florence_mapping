{
 "cells": [
  {
   "cell_type": "markdown",
   "metadata": {},
   "source": [
    "# Basic CNN Framework for Landsat Classification"
   ]
  },
  {
   "cell_type": "code",
   "execution_count": 1,
   "metadata": {},
   "outputs": [],
   "source": [
    "import rasterio\n",
    "import numpy as np\n",
    "from rasterio.plot import adjust_band\n",
    "import matplotlib.pyplot as plt\n",
    "from rasterio.plot import reshape_as_raster, reshape_as_image\n",
    "from rasterio.plot import show\n",
    "from rasterio.windows import Window\n",
    "from pyproj import Proj, transform\n",
    "import random\n",
    "import math\n",
    "import itertools"
   ]
  },
  {
   "cell_type": "markdown",
   "metadata": {},
   "source": [
    "### importing datasets"
   ]
  },
  {
   "cell_type": "code",
   "execution_count": 2,
   "metadata": {},
   "outputs": [],
   "source": [
    "label_dataset = rasterio.open('/deep_data/landcover_reproject.tif')\n",
    "label_image = label_dataset.read()\n",
    "\n",
    "landsat_dataset = rasterio.open('/deep_data/LC08_CU_028012_20140814_20171017_C01_V01_SR/combined.tif')\n"
   ]
  },
  {
   "cell_type": "code",
   "execution_count": 3,
   "metadata": {},
   "outputs": [
    {
     "name": "stdout",
     "output_type": "stream",
     "text": [
      "Image projection:\n",
      "PROJCS[\"Albers\",GEOGCS[\"WGS 84\",DATUM[\"WGS_1984\",SPHEROID[\"WGS 84\",6378140,298.2569999999957,AUTHORITY[\"EPSG\",\"7030\"]],AUTHORITY[\"EPSG\",\"6326\"]],PRIMEM[\"Greenwich\",0],UNIT[\"degree\",0.0174532925199433],AUTHORITY[\"EPSG\",\"4326\"]],PROJECTION[\"Albers_Conic_Equal_Area\"],PARAMETER[\"standard_parallel_1\",29.5],PARAMETER[\"standard_parallel_2\",45.5],PARAMETER[\"latitude_of_center\",23],PARAMETER[\"longitude_of_center\",-96],PARAMETER[\"false_easting\",0],PARAMETER[\"false_northing\",0],UNIT[\"metre\",1,AUTHORITY[\"EPSG\",\"9001\"]]]\n",
      "Labels projection:\n",
      "EPSG:32618\n"
     ]
    }
   ],
   "source": [
    "# What is the raster's projection?\n",
    "image_proj = landsat_dataset.crs # 4326\n",
    "print('Image projection:')\n",
    "print(image_proj)\n",
    "\n",
    "# What is the raster's projection?\n",
    "label_proj = label_dataset.crs\n",
    "print('Labels projection:')\n",
    "print(label_proj)"
   ]
  },
  {
   "cell_type": "markdown",
   "metadata": {},
   "source": [
    "## Data Generator and Prep Fcns\n",
    "\n",
    "This is a typical Keras generator that I've written to allow it to ingest a set of random pixel locations so we can randomly sample throughout the images."
   ]
  },
  {
   "cell_type": "code",
   "execution_count": 4,
   "metadata": {},
   "outputs": [],
   "source": [
    "def tile_generator(image_datasets, label_dataset, tile_height, tile_width, pixel_locations, batch_size):\n",
    "    ### this is a keras compatible data generator which generates data and labels on the fly \n",
    "    ### from a set of pixel locations, a list of image datasets, and a label dataset\n",
    "    \n",
    "    # pixel locations looks like [r, c, dataset_index]\n",
    "    label_image = label_dataset.read()\n",
    "    label_image[label_image == 255] = 1\n",
    "\n",
    "    c = r = 0\n",
    "    i = 0\n",
    "    \n",
    "    outProj = Proj(label_dataset.crs)\n",
    "\n",
    "    # assuming all images have the same num of bands\n",
    "    band_count = image_datasets[0].count\n",
    "    class_count = len(np.unique(label_image))\n",
    "    buffer = math.ceil(tile_height / 2)\n",
    "  \n",
    "    while True:\n",
    "        image_batch = np.zeros((batch_size, tile_height, tile_width, band_count))\n",
    "        label_batch = np.zeros((batch_size,class_count))\n",
    "        b = 0\n",
    "        while b < batch_size:\n",
    "            # if we're at the end  of the data just restart\n",
    "            if i >= len(pixel_locations):\n",
    "                i=0\n",
    "            c, r = pixel_locations[i][0]\n",
    "            dataset_index = pixel_locations[i][1]\n",
    "            i += 1\n",
    "            tile = image_datasets[dataset_index].read(list(np.arange(1, band_count+1)), window=Window(c-buffer, r-buffer, tile_width, tile_height))\n",
    "            if np.amax(tile) == 0: # don't include if it is part of the image with no pixels\n",
    "                pass\n",
    "            elif np.isnan(tile).any() == True or -9999 in tile: \n",
    "                # we don't want tiles containing nan or -999 this comes from edges\n",
    "                # this also takes a while and is inefficient\n",
    "                pass\n",
    "            else:\n",
    "                tile = adjust_band(tile)\n",
    "                # reshape from raster format to image format\n",
    "                reshaped_tile = reshape_as_image(tile)\n",
    "                middle_pixel_r = r + np.ceil(tile_width/2)\n",
    "                middle_pixel_c = c + np.ceil(tile_height/2)\n",
    "\n",
    "                # find gps of that pixel within the image\n",
    "                (x, y) = image_datasets[dataset_index].xy(middle_pixel_r, middle_pixel_c)\n",
    "\n",
    "                # convert the point we're sampling from to the same projection as the label dataset if necessary\n",
    "                inProj = Proj(image_datasets[dataset_index].crs)\n",
    "                if inProj != outProj:\n",
    "                    x,y = transform(inProj,outProj,x,y)\n",
    "\n",
    "                # reference gps in label_image\n",
    "                row, col = label_dataset.index(x,y)\n",
    "\n",
    "                # find label\n",
    "                label = label_image[:, row, col]\n",
    "                # if this label is part of the unclassified area then ignore\n",
    "                if label == 0 or np.isnan(label).any() == True:\n",
    "                    pass\n",
    "                else:\n",
    "                    # add label to the batch in a one hot encoding style\n",
    "                    label_batch[b][label] = 1\n",
    "                    image_batch[b] = reshaped_tile\n",
    "                    b += 1\n",
    "        yield (image_batch, label_batch)\n",
    "              "
   ]
  },
  {
   "cell_type": "markdown",
   "metadata": {},
   "source": [
    "This function takes in a list of raster datasets and randomly samples `train_count` and `val_count` random pixels from each dataset.\n",
    "\n",
    "It doesn't sample within tile_size / 2 of the edge in order to avoid missing data."
   ]
  },
  {
   "cell_type": "code",
   "execution_count": 5,
   "metadata": {},
   "outputs": [],
   "source": [
    "def gen_pixel_locations(image_datasets, train_count, val_count, tile_size):\n",
    "    ### this function pulls out a randomly selected number of pixels from a list of raster datasets\n",
    "    ### and returns a list of training pixel locations and image indices \n",
    "    ### and a list of validation pixel locations and indices\n",
    "    \n",
    "    ## future improvements could make this select classes evenly\n",
    "    train_pixels = []\n",
    "    val_pixels = []\n",
    "    \n",
    "    buffer = math.ceil(tile_size/2)\n",
    "    \n",
    "    total_count = train_count + val_count\n",
    "    for index, image_dataset in enumerate(image_datasets):\n",
    "        #randomly pick `count` num of pixels from each dataset\n",
    "        img_height, img_width = image_dataset.shape\n",
    "        \n",
    "        rows = range(0+buffer, img_height-buffer)\n",
    "        columns = range(0+buffer, img_width-buffer)\n",
    "        #rows_sub, columns_sub = zip(*random.sample(list(zip(rows, columns)), total_count))\n",
    "        \n",
    "        points = random.sample(set(itertools.product(rows, columns)), total_count)\n",
    "        \n",
    "        dataset_index = [index] * total_count\n",
    "        \n",
    "        dataset_pixels = list(zip(points, dataset_index))\n",
    "        \n",
    "        train_pixels += dataset_pixels[:train_count]\n",
    "        val_pixels += dataset_pixels[train_count:]\n",
    "        \n",
    "        \n",
    "    return (train_pixels, val_pixels)"
   ]
  },
  {
   "cell_type": "markdown",
   "metadata": {},
   "source": [
    "## Test out the generator and data prep functions\n",
    "\n",
    "Let's make sure all this data prep actually works."
   ]
  },
  {
   "cell_type": "code",
   "execution_count": 6,
   "metadata": {},
   "outputs": [],
   "source": [
    "# generate the training and validation pixel locations\n",
    "train_px, val_px = gen_pixel_locations([landsat_dataset], 100, 20, 11)"
   ]
  },
  {
   "cell_type": "code",
   "execution_count": 7,
   "metadata": {},
   "outputs": [
    {
     "name": "stdout",
     "output_type": "stream",
     "text": [
      "Image\n",
      "(2, 11, 11, 7)\n",
      "Label\n",
      "[[0. 0. 0. 0. 0. 0. 0. 0. 0. 0. 0. 0. 0. 0. 0. 0. 0. 0. 0. 0. 0. 1. 0.]\n",
      " [0. 0. 0. 0. 0. 0. 0. 0. 0. 0. 1. 0. 0. 0. 0. 0. 0. 0. 0. 0. 0. 0. 0.]]\n",
      "(2, 23)\n",
      "----\n",
      "Image\n",
      "(2, 11, 11, 7)\n",
      "Label\n",
      "[[0. 0. 0. 0. 0. 0. 0. 0. 0. 0. 0. 0. 1. 0. 0. 0. 0. 0. 0. 0. 0. 0. 0.]\n",
      " [0. 0. 0. 0. 0. 0. 0. 0. 0. 0. 0. 0. 0. 1. 0. 0. 0. 0. 0. 0. 0. 0. 0.]]\n",
      "(2, 23)\n",
      "----\n",
      "Image\n",
      "(2, 11, 11, 7)\n",
      "Label\n",
      "[[0. 0. 0. 0. 0. 0. 0. 0. 0. 0. 0. 0. 0. 1. 0. 0. 0. 0. 0. 0. 0. 0. 0.]\n",
      " [0. 0. 0. 0. 0. 0. 0. 0. 0. 0. 0. 0. 0. 1. 0. 0. 0. 0. 0. 0. 0. 0. 0.]]\n",
      "(2, 23)\n",
      "----\n",
      "Image\n",
      "(2, 11, 11, 7)\n",
      "Label\n",
      "[[0. 0. 0. 0. 0. 0. 0. 0. 0. 0. 0. 0. 1. 0. 0. 0. 0. 0. 0. 0. 0. 0. 0.]\n",
      " [0. 0. 0. 0. 0. 0. 0. 0. 0. 0. 0. 0. 1. 0. 0. 0. 0. 0. 0. 0. 0. 0. 0.]]\n",
      "(2, 23)\n",
      "----\n"
     ]
    }
   ],
   "source": [
    "# print out some image and label batches and check out their shapes\n",
    "im_batch = None\n",
    "\n",
    "count = 0\n",
    "for (im, label) in tile_generator([landsat_dataset], label_dataset, 11, 11, train_px, 2):\n",
    "    if count > 3:\n",
    "        break\n",
    "    print('Image')\n",
    "    print(im.shape)\n",
    "    print('Label')\n",
    "    print(label)\n",
    "    print(label.shape)\n",
    "    print('----')\n",
    "    count += 1\n",
    "    im_batch = im"
   ]
  },
  {
   "cell_type": "markdown",
   "metadata": {},
   "source": [
    "### Visually inspect an image patch\n",
    "\n",
    "While it shouldn't necessarily be recognizable it should look like it has data in it and that it varies somewhat from pixel to pixel."
   ]
  },
  {
   "cell_type": "code",
   "execution_count": 8,
   "metadata": {},
   "outputs": [
    {
     "data": {
      "text/plain": [
       "<matplotlib.image.AxesImage at 0x7f9516b8b240>"
      ]
     },
     "execution_count": 8,
     "metadata": {},
     "output_type": "execute_result"
    },
    {
     "data": {
      "image/png": "[encoded data removed]",
      "text/plain": [
       "<Figure size 1296x360 with 1 Axes>"
      ]
     },
     "metadata": {
      "needs_background": "light"
     },
     "output_type": "display_data"
    }
   ],
   "source": [
    "fig, axs = plt.subplots(1, 1, figsize=(18, 5)) \n",
    "\n",
    "axs.imshow(im_batch[0,:,:,1:4])"
   ]
  },
  {
   "cell_type": "markdown",
   "metadata": {},
   "source": [
    "## Let's get to the CNN Development!!"
   ]
  },
  {
   "cell_type": "code",
   "execution_count": 9,
   "metadata": {},
   "outputs": [],
   "source": [
    "import os\n",
    "os.environ[\"CUDA_DEVICE_ORDER\"]=\"PCI_BUS_ID\";\n",
    "# The GPU id to use\n",
    "# Patrick \"0\"\n",
    "# Feroze  \"1\"\n",
    "# Yousuf  \"2\"\n",
    "# Diego   \"3\"\n",
    "os.environ[\"CUDA_VISIBLE_DEVICES\"]=\"0\";"
   ]
  },
  {
   "cell_type": "code",
   "execution_count": 10,
   "metadata": {},
   "outputs": [
    {
     "name": "stderr",
     "output_type": "stream",
     "text": [
      "Using TensorFlow backend.\n"
     ]
    },
    {
     "data": {
      "text/plain": [
       "['/job:localhost/replica:0/task:0/device:GPU:0']"
      ]
     },
     "execution_count": 10,
     "metadata": {},
     "output_type": "execute_result"
    }
   ],
   "source": [
    "# Do other imports now...\n",
    "import keras\n",
    "from keras import backend as K\n",
    "from keras.models import Sequential\n",
    "from keras.layers import Dense, Dropout, Flatten\n",
    "from keras.layers import Conv2D, MaxPooling2D\n",
    "\n",
    "K.tensorflow_backend._get_available_gpus()"
   ]
  },
  {
   "cell_type": "markdown",
   "metadata": {},
   "source": [
    "### prep some of the hyperparameters"
   ]
  },
  {
   "cell_type": "code",
   "execution_count": 11,
   "metadata": {},
   "outputs": [
    {
     "name": "stdout",
     "output_type": "stream",
     "text": [
      "(11, 11, 7)\n"
     ]
    }
   ],
   "source": [
    "batch_size = 25\n",
    "label_image[label_image == 255] = 1\n",
    "num_classes = len(np.unique(label_image))\n",
    "epochs = 50\n",
    "\n",
    "# input image dimensions\n",
    "img_rows, img_cols = 11, 11\n",
    "img_bands = landsat_dataset.count\n",
    "\n",
    "input_shape = (img_rows, img_cols, img_bands)\n",
    "print(input_shape)"
   ]
  },
  {
   "cell_type": "markdown",
   "metadata": {},
   "source": [
    "### build the model\n",
    "\n",
    "This is just a simple CNN model but it should be able to perform well above random when predicting landcover types if everything is correct thus far."
   ]
  },
  {
   "cell_type": "code",
   "execution_count": 12,
   "metadata": {},
   "outputs": [
    {
     "name": "stdout",
     "output_type": "stream",
     "text": [
      "_________________________________________________________________\n",
      "Layer (type)                 Output Shape              Param #   \n",
      "=================================================================\n",
      "conv2d_1 (Conv2D)            (None, 9, 9, 11)          704       \n",
      "_________________________________________________________________\n",
      "conv2d_2 (Conv2D)            (None, 7, 7, 22)          2200      \n",
      "_________________________________________________________________\n",
      "max_pooling2d_1 (MaxPooling2 (None, 3, 3, 22)          0         \n",
      "_________________________________________________________________\n",
      "dropout_1 (Dropout)          (None, 3, 3, 22)          0         \n",
      "_________________________________________________________________\n",
      "flatten_1 (Flatten)          (None, 198)               0         \n",
      "_________________________________________________________________\n",
      "dense_1 (Dense)              (None, 44)                8756      \n",
      "_________________________________________________________________\n",
      "dropout_2 (Dropout)          (None, 44)                0         \n",
      "_________________________________________________________________\n",
      "dense_2 (Dense)              (None, 23)                1035      \n",
      "=================================================================\n",
      "Total params: 12,695\n",
      "Trainable params: 12,695\n",
      "Non-trainable params: 0\n",
      "_________________________________________________________________\n"
     ]
    }
   ],
   "source": [
    "model = Sequential()\n",
    "model.add(Conv2D(11, kernel_size=(3, 3),\n",
    "                 activation='relu',\n",
    "                 input_shape=input_shape))\n",
    "model.add(Conv2D(22, (3, 3), activation='relu'))\n",
    "model.add(MaxPooling2D(pool_size=(2, 2)))\n",
    "model.add(Dropout(0.25))\n",
    "model.add(Flatten())\n",
    "model.add(Dense(44, activation='relu'))\n",
    "model.add(Dropout(0.5))\n",
    "model.add(Dense(num_classes, activation='softmax'))\n",
    "\n",
    "model.summary()"
   ]
  },
  {
   "cell_type": "markdown",
   "metadata": {},
   "source": [
    "#### Generate the train/validation pixel locations to train with"
   ]
  },
  {
   "cell_type": "code",
   "execution_count": 13,
   "metadata": {},
   "outputs": [],
   "source": [
    "train_px, val_px = gen_pixel_locations(image_datasets=[landsat_dataset], \n",
    "                                       train_count=10000, val_count=50, tile_size=11)"
   ]
  },
  {
   "cell_type": "markdown",
   "metadata": {},
   "source": [
    "#### set up the remaining model hyperparameters and compile"
   ]
  },
  {
   "cell_type": "code",
   "execution_count": 14,
   "metadata": {},
   "outputs": [],
   "source": [
    "sgd = keras.optimizers.SGD(lr=0.01, decay=1e-6, momentum=0.9, nesterov=True)\n",
    "metrics=['accuracy']\n",
    "\n",
    "model.compile(optimizer=sgd, loss='categorical_crossentropy', metrics=metrics)"
   ]
  },
  {
   "cell_type": "markdown",
   "metadata": {},
   "source": [
    "#### TRAIN THE MODEL!"
   ]
  },
  {
   "cell_type": "code",
   "execution_count": 15,
   "metadata": {},
   "outputs": [
    {
     "name": "stdout",
     "output_type": "stream",
     "text": [
      "Epoch 1/50\n",
      "400/400 [==============================] - 19s 49ms/step - loss: 2.1090 - acc: 0.3197 - val_loss: 2.0758 - val_acc: 0.3200\n",
      "Epoch 2/50\n",
      "400/400 [==============================] - 11s 28ms/step - loss: 1.9466 - acc: 0.3505 - val_loss: 1.9430 - val_acc: 0.3000\n",
      "Epoch 3/50\n",
      "400/400 [==============================] - 11s 29ms/step - loss: 1.9167 - acc: 0.3611 - val_loss: 1.9167 - val_acc: 0.2200\n",
      "Epoch 4/50\n",
      "400/400 [==============================] - 11s 29ms/step - loss: 1.8955 - acc: 0.3688 - val_loss: 1.9340 - val_acc: 0.3000\n",
      "Epoch 5/50\n",
      "400/400 [==============================] - 11s 29ms/step - loss: 1.8713 - acc: 0.3730 - val_loss: 1.8560 - val_acc: 0.3800\n",
      "Epoch 6/50\n",
      "400/400 [==============================] - 11s 29ms/step - loss: 1.8680 - acc: 0.3743 - val_loss: 1.8410 - val_acc: 0.3400\n",
      "Epoch 7/50\n",
      "400/400 [==============================] - 11s 29ms/step - loss: 1.8622 - acc: 0.3745 - val_loss: 1.8593 - val_acc: 0.3000\n",
      "Epoch 8/50\n",
      "400/400 [==============================] - 11s 28ms/step - loss: 1.8439 - acc: 0.3820 - val_loss: 1.8682 - val_acc: 0.3400\n",
      "Epoch 9/50\n",
      "400/400 [==============================] - 11s 28ms/step - loss: 1.8404 - acc: 0.3821 - val_loss: 1.7670 - val_acc: 0.4200\n",
      "Epoch 10/50\n",
      "400/400 [==============================] - 11s 28ms/step - loss: 1.8336 - acc: 0.3808 - val_loss: 1.8143 - val_acc: 0.3800\n",
      "Epoch 11/50\n",
      "400/400 [==============================] - 11s 29ms/step - loss: 1.8270 - acc: 0.3847 - val_loss: 1.7985 - val_acc: 0.3600\n",
      "Epoch 12/50\n",
      "400/400 [==============================] - 11s 28ms/step - loss: 1.8136 - acc: 0.3858 - val_loss: 1.7686 - val_acc: 0.3800\n",
      "Epoch 13/50\n",
      "400/400 [==============================] - 11s 29ms/step - loss: 1.8113 - acc: 0.3846 - val_loss: 1.7919 - val_acc: 0.4000\n",
      "Epoch 14/50\n",
      "400/400 [==============================] - 11s 29ms/step - loss: 1.8122 - acc: 0.3874 - val_loss: 1.7673 - val_acc: 0.3000\n",
      "Epoch 15/50\n",
      "400/400 [==============================] - 11s 28ms/step - loss: 1.7961 - acc: 0.3931 - val_loss: 1.7358 - val_acc: 0.4200\n",
      "Epoch 16/50\n",
      "400/400 [==============================] - 11s 28ms/step - loss: 1.7997 - acc: 0.3886 - val_loss: 1.7587 - val_acc: 0.4200\n",
      "Epoch 17/50\n",
      "400/400 [==============================] - 11s 28ms/step - loss: 1.7937 - acc: 0.3925 - val_loss: 1.7687 - val_acc: 0.3000\n",
      "Epoch 18/50\n",
      "400/400 [==============================] - 11s 28ms/step - loss: 1.7894 - acc: 0.3943 - val_loss: 1.7102 - val_acc: 0.4800\n",
      "Epoch 19/50\n",
      "400/400 [==============================] - 11s 28ms/step - loss: 1.7822 - acc: 0.3986 - val_loss: 1.6564 - val_acc: 0.4400\n",
      "Epoch 20/50\n",
      "400/400 [==============================] - 11s 28ms/step - loss: 1.7810 - acc: 0.3960 - val_loss: 1.7079 - val_acc: 0.4800\n",
      "Epoch 21/50\n",
      "400/400 [==============================] - 11s 28ms/step - loss: 1.7743 - acc: 0.3979 - val_loss: 1.7468 - val_acc: 0.3800\n",
      "Epoch 22/50\n",
      "400/400 [==============================] - 11s 28ms/step - loss: 1.7703 - acc: 0.4015 - val_loss: 1.7146 - val_acc: 0.4200\n",
      "Epoch 23/50\n",
      "400/400 [==============================] - 11s 28ms/step - loss: 1.7577 - acc: 0.4049 - val_loss: 1.7638 - val_acc: 0.4400\n",
      "Epoch 24/50\n",
      "400/400 [==============================] - 11s 28ms/step - loss: 1.7647 - acc: 0.4031 - val_loss: 1.7907 - val_acc: 0.3800\n",
      "Epoch 25/50\n",
      "400/400 [==============================] - 11s 28ms/step - loss: 1.7501 - acc: 0.4053 - val_loss: 1.7810 - val_acc: 0.3600\n",
      "Epoch 26/50\n",
      "400/400 [==============================] - 11s 28ms/step - loss: 1.7410 - acc: 0.4084 - val_loss: 1.8256 - val_acc: 0.4400\n",
      "Epoch 27/50\n",
      "400/400 [==============================] - 11s 28ms/step - loss: 1.7450 - acc: 0.4108 - val_loss: 1.9138 - val_acc: 0.2000\n",
      "Epoch 28/50\n",
      "400/400 [==============================] - 11s 29ms/step - loss: 1.7387 - acc: 0.4087 - val_loss: 1.9119 - val_acc: 0.3000\n",
      "Epoch 29/50\n",
      "400/400 [==============================] - 11s 28ms/step - loss: 1.7296 - acc: 0.4128 - val_loss: 1.9000 - val_acc: 0.4000\n",
      "Epoch 30/50\n",
      "400/400 [==============================] - 11s 28ms/step - loss: 1.7233 - acc: 0.4137 - val_loss: 1.9159 - val_acc: 0.2800\n",
      "Epoch 31/50\n",
      "400/400 [==============================] - 11s 28ms/step - loss: 1.7238 - acc: 0.4120 - val_loss: 1.8179 - val_acc: 0.2200\n",
      "Epoch 32/50\n",
      "400/400 [==============================] - 11s 28ms/step - loss: 1.7146 - acc: 0.4158 - val_loss: 1.9068 - val_acc: 0.2200\n",
      "Epoch 33/50\n",
      "400/400 [==============================] - 11s 28ms/step - loss: 1.7086 - acc: 0.4174 - val_loss: 1.9404 - val_acc: 0.2800\n",
      "Epoch 34/50\n",
      "400/400 [==============================] - 11s 28ms/step - loss: 1.6998 - acc: 0.4224 - val_loss: 1.8661 - val_acc: 0.2200\n",
      "Epoch 35/50\n",
      "400/400 [==============================] - 11s 28ms/step - loss: 1.7058 - acc: 0.4179 - val_loss: 2.0812 - val_acc: 0.2200\n",
      "Epoch 36/50\n",
      "400/400 [==============================] - 11s 28ms/step - loss: 1.6919 - acc: 0.4212 - val_loss: 2.0277 - val_acc: 0.4200\n",
      "Epoch 37/50\n",
      "400/400 [==============================] - 11s 28ms/step - loss: 1.6801 - acc: 0.4234 - val_loss: 1.9844 - val_acc: 0.3000\n",
      "Epoch 38/50\n",
      "400/400 [==============================] - 11s 28ms/step - loss: 1.6945 - acc: 0.4140 - val_loss: 1.9541 - val_acc: 0.4200\n",
      "Epoch 39/50\n",
      "400/400 [==============================] - 11s 28ms/step - loss: 1.6822 - acc: 0.4268 - val_loss: 2.0073 - val_acc: 0.1600\n",
      "Epoch 40/50\n",
      "400/400 [==============================] - 11s 28ms/step - loss: 1.6699 - acc: 0.4275 - val_loss: 2.0379 - val_acc: 0.2200\n",
      "Epoch 41/50\n",
      "400/400 [==============================] - 11s 28ms/step - loss: 1.6673 - acc: 0.4251 - val_loss: 1.9089 - val_acc: 0.3600\n",
      "Epoch 42/50\n",
      "400/400 [==============================] - 11s 28ms/step - loss: 1.6641 - acc: 0.4263 - val_loss: 2.3046 - val_acc: 0.2200\n",
      "Epoch 43/50\n",
      "400/400 [==============================] - 11s 28ms/step - loss: 1.6524 - acc: 0.4290 - val_loss: 2.0077 - val_acc: 0.5000\n",
      "Epoch 44/50\n",
      "400/400 [==============================] - 11s 28ms/step - loss: 1.6558 - acc: 0.4272 - val_loss: 1.8961 - val_acc: 0.3600\n",
      "Epoch 45/50\n",
      "400/400 [==============================] - 11s 28ms/step - loss: 1.6582 - acc: 0.4244 - val_loss: 2.0811 - val_acc: 0.3400\n",
      "Epoch 46/50\n",
      "400/400 [==============================] - 11s 28ms/step - loss: 1.6684 - acc: 0.4269 - val_loss: 2.1040 - val_acc: 0.2200\n",
      "Epoch 47/50\n",
      "400/400 [==============================] - 11s 28ms/step - loss: 1.6375 - acc: 0.4321 - val_loss: 2.1965 - val_acc: 0.2200\n",
      "Epoch 48/50\n",
      "400/400 [==============================] - 11s 28ms/step - loss: 1.6453 - acc: 0.4301 - val_loss: 2.1345 - val_acc: 0.3600\n",
      "Epoch 49/50\n",
      "400/400 [==============================] - 11s 28ms/step - loss: 1.6404 - acc: 0.4358 - val_loss: 2.3739 - val_acc: 0.2200\n",
      "Epoch 50/50\n",
      "400/400 [==============================] - 11s 28ms/step - loss: 1.6302 - acc: 0.4334 - val_loss: 2.2294 - val_acc: 0.5000\n"
     ]
    },
    {
     "data": {
      "text/plain": [
       "<keras.callbacks.History at 0x7f94f925fe80>"
      ]
     },
     "execution_count": 15,
     "metadata": {},
     "output_type": "execute_result"
    }
   ],
   "source": [
    "model.fit_generator(generator=tile_generator([landsat_dataset], label_dataset, 11, 11, train_px, batch_size), \n",
    "                    steps_per_epoch=len(train_px) // batch_size, epochs=epochs, verbose=1,\n",
    "                    validation_data=tile_generator([landsat_dataset], label_dataset, 11, 11, val_px, batch_size),\n",
    "                    validation_steps=len(val_px) // batch_size)"
   ]
  },
  {
   "cell_type": "markdown",
   "metadata": {},
   "source": [
    "### Now let's evaluate the Model\n",
    "\n",
    "We'll just generate 500 test pixels to evaluate it on"
   ]
  },
  {
   "cell_type": "code",
   "execution_count": 48,
   "metadata": {},
   "outputs": [],
   "source": [
    "test_px, val_px = gen_pixel_locations([landsat_dataset], train_count=500, val_count=0, tile_size=11)"
   ]
  },
  {
   "cell_type": "markdown",
   "metadata": {},
   "source": [
    "Keras has a built in evaluate_generator function and because we told it above to use accuracy as a metric this function automatically outputs categorical accuracy which is what we want."
   ]
  },
  {
   "cell_type": "code",
   "execution_count": 49,
   "metadata": {},
   "outputs": [
    {
     "name": "stdout",
     "output_type": "stream",
     "text": [
      "20/20 [==============================] - 7s 372ms/step\n"
     ]
    },
    {
     "data": {
      "text/plain": [
       "[1.8179943680763244, 0.446000000834465]"
      ]
     },
     "execution_count": 49,
     "metadata": {},
     "output_type": "execute_result"
    }
   ],
   "source": [
    "model.evaluate_generator(generator=tile_generator([landsat_dataset], label_dataset, 11, 11, test_px, batch_size), \n",
    "                        steps=len(test_px) // batch_size,\n",
    "                         verbose=1)"
   ]
  },
  {
   "cell_type": "markdown",
   "metadata": {},
   "source": [
    "So in this simple model we're getting 37% accuracy across 23 classes which is well above the random accuracy which would be around 4% (aka 1/23). That means we're in business!\n",
    "\n",
    "### Evaluating the model ourselves\n",
    "\n",
    "If we wanted to run this evaluation and take a look at specific predictions and labels we can do that below (albeit more inefficiently) just to get an intuitive understanding of what is going wrong."
   ]
  },
  {
   "cell_type": "code",
   "execution_count": 50,
   "metadata": {},
   "outputs": [
    {
     "name": "stdout",
     "output_type": "stream",
     "text": [
      "20/20 [==============================] - 7s 374ms/step\n"
     ]
    }
   ],
   "source": [
    "predictions = model.predict_generator(generator=tile_generator([landsat_dataset], label_dataset, 11, 11, test_px, batch_size), \n",
    "                        steps=len(test_px) // batch_size,\n",
    "                         verbose=1)\n"
   ]
  },
  {
   "cell_type": "code",
   "execution_count": 51,
   "metadata": {},
   "outputs": [],
   "source": [
    "eval_generator = tile_generator([landsat_dataset], label_dataset, 11, 11, test_px, batch_size=1)"
   ]
  },
  {
   "cell_type": "code",
   "execution_count": 52,
   "metadata": {},
   "outputs": [],
   "source": [
    "labels = np.empty(predictions.shape)\n",
    "count = 0\n",
    "while count < len(test_px):\n",
    "    image_b, label_b = next(eval_generator)\n",
    "    labels[count] = label_b\n",
    "    count += 1"
   ]
  },
  {
   "cell_type": "code",
   "execution_count": 53,
   "metadata": {},
   "outputs": [
    {
     "data": {
      "text/plain": [
       "(500, 23)"
      ]
     },
     "execution_count": 53,
     "metadata": {},
     "output_type": "execute_result"
    }
   ],
   "source": [
    "labels.shape"
   ]
  },
  {
   "cell_type": "code",
   "execution_count": 54,
   "metadata": {},
   "outputs": [],
   "source": [
    "label_index = np.argmax(labels, axis=1)     \n",
    "pred_index = np.argmax(predictions, axis=1)"
   ]
  },
  {
   "cell_type": "code",
   "execution_count": 55,
   "metadata": {},
   "outputs": [
    {
     "data": {
      "text/plain": [
       "array([10,  6, 13, 13, 21, 10, 21, 13, 13, 10])"
      ]
     },
     "execution_count": 55,
     "metadata": {},
     "output_type": "execute_result"
    }
   ],
   "source": [
    "label_index[:10]"
   ]
  },
  {
   "cell_type": "code",
   "execution_count": 56,
   "metadata": {},
   "outputs": [
    {
     "data": {
      "text/plain": [
       "array([10,  6, 13, 13, 21,  6, 21,  4, 13, 13])"
      ]
     },
     "execution_count": 56,
     "metadata": {},
     "output_type": "execute_result"
    }
   ],
   "source": [
    "pred_index[:10]"
   ]
  },
  {
   "cell_type": "code",
   "execution_count": 57,
   "metadata": {},
   "outputs": [],
   "source": [
    "correct_predictions = np.zeros(pred_index.shape)\n",
    "correct_predictions[label_index == pred_index] = 1"
   ]
  },
  {
   "cell_type": "code",
   "execution_count": 58,
   "metadata": {},
   "outputs": [
    {
     "data": {
      "text/plain": [
       "array([1., 1., 1., 1., 1., 0., 1., 0., 1., 0., 0., 0., 0., 1., 0., 1., 0.,\n",
       "       0., 1., 0.])"
      ]
     },
     "execution_count": 58,
     "metadata": {},
     "output_type": "execute_result"
    }
   ],
   "source": [
    "correct_predictions[:20]"
   ]
  },
  {
   "cell_type": "code",
   "execution_count": 59,
   "metadata": {},
   "outputs": [
    {
     "data": {
      "text/plain": [
       "0.446"
      ]
     },
     "execution_count": 59,
     "metadata": {},
     "output_type": "execute_result"
    }
   ],
   "source": [
    "np.count_nonzero(correct_predictions) / len(test_px)"
   ]
  },
  {
   "cell_type": "code",
   "execution_count": null,
   "metadata": {},
   "outputs": [],
   "source": []
  },
  {
   "cell_type": "code",
   "execution_count": 60,
   "metadata": {},
   "outputs": [
    {
     "data": {
      "text/plain": [
       "array([[4.08640160e-04, 4.84855846e-04, 1.17506471e-03, 4.00249753e-03,\n",
       "        1.74783133e-02, 1.57069713e-02, 5.41413985e-02, 4.38049552e-04,\n",
       "        6.92349672e-02, 8.39073583e-03, 2.51662791e-01, 2.36524008e-02,\n",
       "        1.62879273e-01, 2.23872915e-01, 1.16974287e-01, 3.02073397e-02,\n",
       "        2.93572055e-04, 6.55897369e-04, 3.75441625e-03, 4.95439512e-04,\n",
       "        5.92936715e-03, 7.78747909e-03, 3.73290706e-04],\n",
       "       [1.08968852e-04, 1.17197240e-04, 2.54674139e-03, 1.33019453e-02,\n",
       "        1.31508231e-01, 1.38075918e-01, 3.48803282e-01, 2.23744311e-04,\n",
       "        5.90150021e-02, 1.78924971e-03, 1.03307426e-01, 1.88870449e-02,\n",
       "        8.92392397e-02, 6.43814206e-02, 9.69998632e-03, 9.55410209e-03,\n",
       "        9.23416810e-05, 9.80259210e-05, 1.69915496e-03, 2.79611704e-04,\n",
       "        5.52317873e-03, 1.59120408e-03, 1.56987735e-04],\n",
       "       [1.03179598e-04, 8.97636637e-05, 1.08738088e-04, 9.06293455e-04,\n",
       "        1.90031494e-03, 1.43826776e-03, 6.46321522e-03, 5.25143041e-05,\n",
       "        2.95673925e-02, 6.44137105e-03, 2.42942497e-01, 1.04512842e-02,\n",
       "        1.43044546e-01, 3.93453568e-01, 1.24987110e-01, 2.92619299e-02,\n",
       "        7.12684705e-05, 2.15041437e-04, 1.84851664e-03, 1.34285219e-04,\n",
       "        2.31708167e-03, 4.12165932e-03, 8.01886126e-05]], dtype=float32)"
      ]
     },
     "execution_count": 60,
     "metadata": {},
     "output_type": "execute_result"
    }
   ],
   "source": [
    "predictions[:3]"
   ]
  },
  {
   "cell_type": "code",
   "execution_count": 61,
   "metadata": {},
   "outputs": [
    {
     "data": {
      "text/plain": [
       "array([10,  6, 13, 13, 21,  6, 21,  4, 13, 13, 13,  4, 21, 21, 21, 13, 10,\n",
       "        6, 13,  6])"
      ]
     },
     "execution_count": 61,
     "metadata": {},
     "output_type": "execute_result"
    }
   ],
   "source": [
    "np.argmax(predictions, axis=1)[:20]"
   ]
  },
  {
   "cell_type": "code",
   "execution_count": 62,
   "metadata": {},
   "outputs": [
    {
     "data": {
      "text/plain": [
       "array([[0., 0., 0., ..., 0., 0., 0.],\n",
       "       [0., 0., 0., ..., 0., 0., 0.],\n",
       "       [0., 0., 0., ..., 0., 0., 0.],\n",
       "       ...,\n",
       "       [0., 0., 0., ..., 0., 0., 0.],\n",
       "       [0., 0., 0., ..., 0., 0., 0.],\n",
       "       [0., 0., 0., ..., 0., 0., 0.]])"
      ]
     },
     "execution_count": 62,
     "metadata": {},
     "output_type": "execute_result"
    }
   ],
   "source": [
    "labels"
   ]
  },
  {
   "cell_type": "markdown",
   "metadata": {},
   "source": [
    "Now maybe more informatively let's build a confusion matrix using the scikit-learn function.\n",
    "\n",
    "Read the docs here and make this more informative by following some of their examples: https://scikit-learn.org/stable/modules/generated/sklearn.metrics.confusion_matrix.html"
   ]
  },
  {
   "cell_type": "code",
   "execution_count": 63,
   "metadata": {},
   "outputs": [],
   "source": [
    "from sklearn.metrics import confusion_matrix"
   ]
  },
  {
   "cell_type": "code",
   "execution_count": 64,
   "metadata": {},
   "outputs": [],
   "source": [
    "conf_matrix = confusion_matrix(label_index, pred_index)"
   ]
  },
  {
   "cell_type": "code",
   "execution_count": 65,
   "metadata": {},
   "outputs": [
    {
     "data": {
      "text/plain": [
       "array([[ 0,  0,  3,  0,  0,  0,  0,  0,  0,  0,  0,  0,  0,  0,  0,  0,\n",
       "         0,  0],\n",
       "       [ 0,  0,  2,  0,  4,  0,  0,  0,  0,  0,  0,  0,  0,  0,  0,  0,\n",
       "         0,  2],\n",
       "       [ 0,  0,  6,  0,  9,  0,  0,  0,  3,  0,  0,  0,  0,  0,  0,  0,\n",
       "         0,  3],\n",
       "       [ 0,  0,  3,  3,  3,  0,  0,  0,  0,  0,  0,  0,  0,  0,  0,  0,\n",
       "         0,  0],\n",
       "       [ 0,  0,  3,  0, 32,  0,  0,  0,  8,  0,  0, 11,  0,  0,  0,  0,\n",
       "         0,  6],\n",
       "       [ 0,  0,  0,  0,  0,  0,  0,  0,  2,  0,  0,  0,  0,  0,  0,  0,\n",
       "         0,  0],\n",
       "       [ 0,  0,  0,  0,  2,  0,  0,  0,  0,  0,  0,  6,  0,  0,  0,  0,\n",
       "         0,  0],\n",
       "       [ 0,  0,  0,  0,  0,  0,  0,  0,  0,  0,  0,  3,  0,  0,  0,  0,\n",
       "         0,  0],\n",
       "       [ 0,  0,  7,  0, 13,  0,  0,  0, 14,  0,  0, 29,  0,  0,  0,  0,\n",
       "         0,  0],\n",
       "       [ 0,  0,  0,  0,  6,  0,  0,  0,  0,  0,  0, 12,  0,  0,  0,  0,\n",
       "         0,  0],\n",
       "       [ 0,  0,  5,  0, 13,  0,  0,  0,  2,  0,  0, 26,  0,  0,  0,  0,\n",
       "         0,  0],\n",
       "       [ 0,  0,  3,  0, 15,  0,  0,  0,  6,  0,  3, 84,  0,  0,  0,  0,\n",
       "         0,  0],\n",
       "       [ 0,  0,  0,  0,  6,  0,  0,  0,  5,  0,  0, 11,  0,  0,  0,  0,\n",
       "         0,  0],\n",
       "       [ 0,  0,  0,  0,  8,  0,  0,  0,  0,  0,  0,  5,  0,  0,  0,  0,\n",
       "         0,  0],\n",
       "       [ 0,  0,  0,  0,  0,  0,  0,  0,  0,  0,  0,  0,  0,  0,  0,  0,\n",
       "         0, 11],\n",
       "       [ 0,  0,  0,  0,  0,  0,  0,  0,  0,  0,  0,  0,  0,  0,  0,  0,\n",
       "         0,  3],\n",
       "       [ 0,  0,  0,  0,  3,  0,  0,  0,  0,  0,  0,  0,  0,  0,  0,  0,\n",
       "         0,  3],\n",
       "       [ 0,  0,  0,  0,  3,  0,  0,  0,  3,  0,  0,  3,  0,  0,  0,  0,\n",
       "         0, 84]])"
      ]
     },
     "execution_count": 65,
     "metadata": {},
     "output_type": "execute_result"
    }
   ],
   "source": [
    "conf_matrix"
   ]
  },
  {
   "cell_type": "code",
   "execution_count": 66,
   "metadata": {},
   "outputs": [
    {
     "data": {
      "text/plain": [
       "<matplotlib.image.AxesImage at 0x7fd64a01ca20>"
      ]
     },
     "execution_count": 66,
     "metadata": {},
     "output_type": "execute_result"
    },
    {
     "data": {
      "image/png": "[encoded data removed]",
      "text/plain": [
       "<Figure size 288x288 with 1 Axes>"
      ]
     },
     "metadata": {
      "needs_background": "light"
     },
     "output_type": "display_data"
    }
   ],
   "source": [
    "plt.matshow(conf_matrix, cmap=plt.cm.gray)"
   ]
  },
  {
   "cell_type": "code",
   "execution_count": 69,
   "metadata": {},
   "outputs": [
    {
     "data": {
      "text/plain": [
       "<matplotlib.image.AxesImage at 0x7fd5e8e6aeb8>"
      ]
     },
     "execution_count": 69,
     "metadata": {},
     "output_type": "execute_result"
    },
    {
     "data": {
      "image/png": "[encoded data removed]",
      "text/plain": [
       "<Figure size 288x288 with 1 Axes>"
      ]
     },
     "metadata": {
      "needs_background": "light"
     },
     "output_type": "display_data"
    }
   ],
   "source": [
    "row_sums = conf_matrix.sum(axis=1, keepdims=True)\n",
    "norm_conf_matrix = conf_matrix / row_sums\n",
    "plt.matshow(norm_conf_matrix, cmap=plt.cm.gray)"
   ]
  },
  {
   "cell_type": "code",
   "execution_count": 68,
   "metadata": {},
   "outputs": [
    {
     "data": {
      "text/plain": [
       "<matplotlib.image.AxesImage at 0x7fd64a04c7b8>"
      ]
     },
     "execution_count": 68,
     "metadata": {},
     "output_type": "execute_result"
    },
    {
     "data": {
      "image/png": "[encoded data removed]",
      "text/plain": [
       "<Figure size 288x288 with 1 Axes>"
      ]
     },
     "metadata": {
      "needs_background": "light"
     },
     "output_type": "display_data"
    }
   ],
   "source": [
    "np.fill_diagonal(norm_conf_matrix, 0)\n",
    "plt.matshow(norm_conf_matrix, cmap=plt.cm.gray)"
   ]
  },
  {
   "cell_type": "code",
   "execution_count": null,
   "metadata": {},
   "outputs": [],
   "source": []
  }
 ],
 "metadata": {
  "kernelspec": {
   "display_name": "Python 3",
   "language": "python",
   "name": "python3"
  },
  "language_info": {
   "codemirror_mode": {
    "name": "ipython",
    "version": 3
   },
   "file_extension": ".py",
   "mimetype": "text/x-python",
   "name": "python",
   "nbconvert_exporter": "python",
   "pygments_lexer": "ipython3",
   "version": "3.5.2"
  }
 },
 "nbformat": 4,
 "nbformat_minor": 2
}
