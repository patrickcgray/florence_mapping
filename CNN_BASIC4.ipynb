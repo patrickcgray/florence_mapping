{
 "cells": [
  {
   "cell_type": "code",
   "execution_count": 4,
   "metadata": {},
   "outputs": [],
   "source": [
    "import os\n",
    "os.environ[\"CUDE_DEVICE_ORDER\"] = \"PCI_B_US_ID\"\n",
    "os.environ[\"CUDA_VISIBLE_DEVICES\"] =\"3\"\n",
    "import rasterio\n",
    "import numpy as np\n",
    "from rasterio.plot import adjust_band\n",
    "import matplotlib.pyplot as plt\n",
    "from rasterio.plot import reshape_as_raster, reshape_as_image\n",
    "from rasterio.plot import show\n",
    "from itertools import product\n",
    "from rasterio.windows import Window\n",
    "from pyproj import Proj, transform\n",
    "import random\n",
    "import math\n",
    "import itertools"
   ]
  },
  {
   "cell_type": "code",
   "execution_count": 5,
   "metadata": {},
   "outputs": [],
   "source": [
    "label_dataset = rasterio.open('/deep_data/landcover_reproject.tif')\n",
    "label_image = label_dataset.read()\n",
    "\n",
    "image_paths = ['/deep_data/processed_landsat/LC08_CU_027012_20170907_20181121_C01_V01_SR_combined.tif',\n",
    "               '/deep_data/processed_landsat/LC08_CU_028012_20140814_20171017_C01_V01_SR_combined.tif',\n",
    "               '/deep_data/processed_landsat/LC08_CU_028011_20170907_20181130_C01_V01_SR_combined.tif',  \n",
    "               '/deep_data/processed_landsat/LC08_CU_028012_20171002_20171019_C01_V01_SR_combined.tif']\n",
    "\n",
    "landsat_datasets = []\n",
    "for fp in image_paths:\n",
    "    landsat_datasets.append(rasterio.open(fp))\n"
   ]
  },
  {
   "cell_type": "code",
   "execution_count": 40,
   "metadata": {},
   "outputs": [],
   "source": [
    "def tile_generator(image_datasets, label_dataset, tile_height, tile_width, pixel_locations, batch_size):\n",
    "    ### this is a keras compatible data generator which generates data and labels on the fly \n",
    "    ### from a set of pixel locations, a list of image datasets, and a label dataset\n",
    "    \n",
    "    # pixel locations looks like [r, c, dataset_index]\n",
    "    label_image = label_dataset.read()\n",
    "    label_image[label_image == 255] = 1\n",
    "\n",
    "    c = r = 0\n",
    "    i = 0\n",
    "    \n",
    "    outProj = Proj(label_dataset.crs)\n",
    "\n",
    "    # assuming all images have the same num of bands\n",
    "    band_count = image_datasets[0].count\n",
    "    class_count = len(np.unique(label_image))\n",
    "    buffer = math.ceil(tile_height / 2)\n",
    "  \n",
    "    while True:\n",
    "        image_batch = np.zeros((batch_size, tile_height, tile_width, band_count-1)) # take one off because we don't want the QA band\n",
    "        label_batch = np.zeros((batch_size,class_count))\n",
    "        b = 0\n",
    "        while b < batch_size:\n",
    "            # if we're at the end  of the data just restart\n",
    "            if i >= len(pixel_locations):\n",
    "                i=0\n",
    "            c, r = pixel_locations[i][0]\n",
    "            dataset_index = pixel_locations[i][1]\n",
    "            i += 1\n",
    "            tile = image_datasets[dataset_index].read(list(np.arange(1, band_count+1)), window=Window(c-buffer, r-buffer, tile_width, tile_height))\n",
    "            if np.amax(tile) == 0: # don't include if it is part of the image with no pixels\n",
    "                pass\n",
    "            elif np.isnan(tile).any() == True or -9999 in tile: \n",
    "                # we don't want tiles containing nan or -999 this comes from edges\n",
    "                # this also takes a while and is inefficient\n",
    "                pass\n",
    "            elif tile.shape != (band_count, tile_width, tile_height):\n",
    "                print('wrong shape')\n",
    "                print(tile.shape)\n",
    "                # somehow we're randomly getting tiles without the correct dimensions\n",
    "                pass\n",
    "            elif np.isin(tile[7,:,:], [352, 368, 392, 416, 432, 480, 840, 864, 880, 904, 928, 944, 1352]).any() == True:\n",
    "                # make sure pixel doesn't contain clouds\n",
    "                # this is probably pretty inefficient but only checking width x height for each tile\n",
    "                # read more here: https://prd-wret.s3-us-west-2.amazonaws.com/assets/palladium/production/s3fs-public/atoms/files/LSDS-1873_US_Landsat_ARD_DFCB_0.pdf\n",
    "                #print('Found some cloud.')\n",
    "                #print(tile[7,:,:])\n",
    "                pass\n",
    "            else:\n",
    "                tile = adjust_band(tile[0:7])\n",
    "                # reshape from raster format to image format\n",
    "                reshaped_tile = reshape_as_image(tile)\n",
    "\n",
    "                # find gps of that pixel within the image\n",
    "                (x, y) = image_datasets[dataset_index].xy(r, c)\n",
    "\n",
    "                # convert the point we're sampling from to the same projection as the label dataset if necessary\n",
    "                inProj = Proj(image_datasets[dataset_index].crs)\n",
    "                if inProj != outProj:\n",
    "                    x,y = transform(inProj,outProj,x,y)\n",
    "\n",
    "                # reference gps in label_image\n",
    "                row, col = label_dataset.index(x,y)\n",
    "\n",
    "                # find label\n",
    "                label = label_image[:, row, col]\n",
    "                # if this label is part of the unclassified area then ignore\n",
    "                if label == 0 or np.isnan(label).any() == True:\n",
    "                    pass\n",
    "                else:\n",
    "                    # add label to the batch in a one hot encoding style\n",
    "                    label_batch[b][label] = 1\n",
    "                    image_batch[b] = reshaped_tile\n",
    "                    b += 1\n",
    "        yield (image_batch, label_batch)\n"
   ]
  },
  {
   "cell_type": "code",
   "execution_count": null,
   "metadata": {},
   "outputs": [],
   "source": [
    "def gen_balanced_pixel_locations(image_datasets, label_dataset, amount_of_labels, train_amount, val_amount, test_amount, tile_size):\n",
    "    ### this function pulls out a train_count + val_count number of random pixels from a list of raster datasets\n",
    "    ### and returns a list of training pixel locations and image indices \n",
    "    ### and a list of validation pixel locations and indices\n",
    "    \n",
    "\n",
    "    pixels = []\n",
    "    label_image = label_dataset.read()\n",
    "    label_image[label_image == 255] = 1\n",
    "    outProj = Proj(label_dataset.crs)\n",
    "    buffer = math.ceil(tile_size/2)\n",
    "    total_pixels = train_amount + val_amount + test_amount\n",
    "    total_count_per_dataset = math.ceil(total_pixels / len(image_datasets))\n",
    "    bucket_size = math.ceil(total_pixels / (amount_of_labels - 7)) # - 7 because not enough pixels per bucket\n",
    "    label_buckets = np.zeros(amount_of_labels)\n",
    "    \n",
    "    for index, image_dataset in enumerate(image_datasets):\n",
    "        \n",
    "        img_height, img_width = image_dataset.shape\n",
    "        points = set()\n",
    "        #all_points = list(itertools.product(range(0+buffer,img_width-buffer),range(0+buffer,img_height-buffer))) just a test to see whats faster\n",
    "        while len(points) != total_count_per_dataset:\n",
    "            #aPoint = all_points.pop(random.randint(0,len(all_points))) test to see what's faster\n",
    "            aPoint = (random.randint(0+buffer, img_width-buffer), random.randint(0+buffer, img_height-buffer))\n",
    "            c, r = aPoint\n",
    "            (x, y) = image_dataset.xy(r, c)\n",
    "            inProj = Proj(image_dataset.crs)\n",
    "            if inProj != outProj:\n",
    "                x,y = transform(inProj,outProj,x,y)\n",
    "                # reference gps in label_image\n",
    "            row, col = label_dataset.index(x,y)\n",
    "            label = label_image[:, row, col]\n",
    "            if label_buckets[label] != bucket_size and label != 1 and label != 0:\n",
    "                past_size = len(points)\n",
    "                points.add(aPoint)\n",
    "                if past_size != len(points):\n",
    "                    label_buckets[label] +=1\n",
    "        points = zip(points, [index]*total_count_per_dataset)\n",
    "        pixels += points\n",
    "    random.shuffle(pixels)\n",
    "    test_px = pixels[:test_amount]\n",
    "    val_px = pixels[test_amount:(val_amount+test_amount)]\n",
    "    train_px = pixels[(val_amount+test_amount):]\n",
    "    return (train_px, val_px, test_px)"
   ]
  },
  {
   "cell_type": "code",
   "execution_count": 7,
   "metadata": {},
   "outputs": [
    {
     "name": "stdout",
     "output_type": "stream",
     "text": [
      "(64, 64, 7)\n"
     ]
    }
   ],
   "source": [
    "label_image = label_dataset.read()\n",
    "label_image[label_image == 255] = 1\n",
    "num_classes = len(np.unique(label_image))\n",
    "\n",
    "\n",
    "# input image dimensions\n",
    "tile_side = 64\n",
    "img_rows, img_cols = tile_side, tile_side\n",
    "img_bands = landsat_datasets[0].count - 1\n",
    "\n",
    "input_shape = (img_rows, img_cols, img_bands)\n",
    "print(input_shape)"
   ]
  },
  {
   "cell_type": "code",
   "execution_count": 28,
   "metadata": {},
   "outputs": [],
   "source": [
    "(train_px, val_px, test_px) = gen_balanced_pixel_locations(landsat_datasets, label_image, label_dataset, num_classes, 150000, 50000, 10000, tile_side)"
   ]
  },
  {
   "cell_type": "code",
   "execution_count": 36,
   "metadata": {},
   "outputs": [
    {
     "name": "stderr",
     "output_type": "stream",
     "text": [
      "Using TensorFlow backend.\n"
     ]
    }
   ],
   "source": [
    "import keras\n",
    "from keras.models import Sequential\n",
    "from keras.layers import Dense, Dropout, Flatten\n",
    "from keras.layers import Conv2D, MaxPooling2D\n",
    "from keras import backend as K"
   ]
  },
  {
   "cell_type": "code",
   "execution_count": 37,
   "metadata": {},
   "outputs": [],
   "source": [
    "model = Sequential()\n",
    "\n",
    "model.add(Conv2D(tile_side, kernel_size=(3, 3), activation='relu', input_shape=input_shape))\n",
    "model.add(Conv2D(22, (3, 3), activation='relu'))\n",
    "model.add(MaxPooling2D(pool_size=(2, 2)))\n",
    "model.add(Dropout(0.25))\n",
    "\n",
    "model.add(Conv2D(64, (3, 3), padding='same', activation='relu'))\n",
    "model.add(Conv2D(64, (3, 3), activation='relu'))\n",
    "model.add(MaxPooling2D(pool_size=(2, 2)))\n",
    "model.add(Dropout(0.25))\n",
    "\n",
    "model.add(Conv2D(128, (3, 3), padding='same', activation='relu'))\n",
    "model.add(Conv2D(128, (3, 3), activation='relu'))\n",
    "model.add(MaxPooling2D(pool_size=(2, 2)))\n",
    "model.add(Dropout(0.25))\n",
    "\n",
    "model.add(Flatten())\n",
    "model.add(Dense(512, activation='relu'))\n",
    "model.add(Dropout(0.5))\n",
    "model.add(Dense(num_classes, activation='softmax'))"
   ]
  },
  {
   "cell_type": "code",
   "execution_count": 38,
   "metadata": {},
   "outputs": [],
   "source": [
    "batch_size = 25\n",
    "epochs = 100\n",
    "sgd = keras.optimizers.SGD(lr=0.001, decay=1e-6, momentum=0.9, nesterov=True)\n",
    "metrics=['accuracy']\n",
    "\n",
    "model.compile(optimizer=sgd, loss='categorical_crossentropy', metrics=metrics)"
   ]
  },
  {
   "cell_type": "code",
   "execution_count": null,
   "metadata": {},
   "outputs": [
    {
     "name": "stdout",
     "output_type": "stream",
     "text": [
      "Epoch 1/100\n",
      "6000/6000 [==============================] - 344s 57ms/step - loss: 2.2212 - acc: 0.2259 - val_loss: 2.1208 - val_acc: 0.2546\n",
      "Epoch 2/100\n",
      "6000/6000 [==============================] - 329s 55ms/step - loss: 2.1019 - acc: 0.2621 - val_loss: 2.0034 - val_acc: 0.2930\n",
      "Epoch 3/100\n",
      "6000/6000 [==============================] - 323s 54ms/step - loss: 2.0313 - acc: 0.2848 - val_loss: 1.9564 - val_acc: 0.3068\n",
      "Epoch 4/100\n",
      "6000/6000 [==============================] - 324s 54ms/step - loss: 1.9744 - acc: 0.3062 - val_loss: 1.9650 - val_acc: 0.3078\n",
      "Epoch 5/100\n",
      "3248/6000 [===============>..............] - ETA: 1:52 - loss: 1.9324 - acc: 0.3217"
     ]
    }
   ],
   "source": [
    "model.fit_generator(generator=tile_generator(landsat_datasets, label_dataset, tile_side, tile_side, train_px, batch_size), \n",
    "                    steps_per_epoch=len(train_px) // batch_size, epochs=epochs, verbose=1,\n",
    "                    validation_data=tile_generator(landsat_datasets, label_dataset, tile_side, tile_side, val_px, batch_size),\n",
    "                    validation_steps=len(val_px) // batch_size)"
   ]
  },
  {
   "cell_type": "code",
   "execution_count": 29,
   "metadata": {},
   "outputs": [
    {
     "name": "stdout",
     "output_type": "stream",
     "text": [
      "TRAINING BUCKETS\n",
      "[   0.    0. 3591. 8825. 9356. 9430. 9456. 9330. 9378. 9372. 9268. 9392.\n",
      " 9459. 9365. 9379. 9432.   10.  350. 5329.  662. 9304. 9294.   18.]\n",
      "VALIDATION BUCKETS\n",
      "[0.000e+00 0.000e+00 1.244e+03 2.945e+03 3.154e+03 3.097e+03 3.055e+03\n",
      " 3.182e+03 3.101e+03 3.115e+03 3.215e+03 3.109e+03 3.049e+03 3.111e+03\n",
      " 3.116e+03 3.086e+03 4.000e+00 1.170e+02 1.812e+03 2.120e+02 3.089e+03\n",
      " 3.185e+03 2.000e+00]\n"
     ]
    }
   ],
   "source": [
    "#USING BALANCED\n",
    "train_buckets = np.zeros(num_classes)\n",
    "for i in range(len(train_px)):\n",
    "        c, r = train_px[i][0]\n",
    "        (x, y) = landsat_datasets[train_px[i][1]].xy(r, c) \n",
    "        outProj = Proj(label_dataset.crs)\n",
    "        inProj = Proj(landsat_datasets[train_px[i][1]].crs)\n",
    "         #print(train_label_buckets)\n",
    "        if inProj != outProj:\n",
    "            x,y = transform(inProj,outProj,x,y)\n",
    "             # reference gps in label_image\n",
    "        row, col = label_dataset.index(x,y)\n",
    "        label = label_image[:, row, col]\n",
    "        train_buckets[label] +=1\n",
    "print(\"TRAINING BUCKETS\")\n",
    "print(train_buckets)\n",
    "val_buckets = np.zeros(num_classes)\n",
    "for i in range(len(val_px)):\n",
    "        c, r = val_px[i][0]\n",
    "        (x, y) = landsat_datasets[val_px[i][1]].xy(r, c) \n",
    "        outProj = Proj(label_dataset.crs)\n",
    "        inProj = Proj(landsat_datasets[val_px[i][1]].crs)\n",
    "         #print(train_label_buckets)\n",
    "        if inProj != outProj:\n",
    "            x,y = transform(inProj,outProj,x,y)\n",
    "             # reference gps in label_image\n",
    "        row, col =  label_dataset.index(x,y)\n",
    "        label = label_image[:, row, col]\n",
    "        val_buckets[label] +=1\n",
    "print(\"VALIDATION BUCKETS\")\n",
    "print(val_buckets)\n",
    "test_buckets = np.zeros(num_classes)\n",
    "for i in range(len(test_px)):\n",
    "        c, r = test_px[i][0]\n",
    "        (x, y) = landsat_datasets[test_px[i][1]].xy(r, c) \n",
    "        outProj = Proj(label_dataset.crs)\n",
    "        inProj = Proj(landsat_datasets[test_px[i][1]].crs)\n",
    "         #print(train_label_buckets)\n",
    "        if inProj != outProj:\n",
    "            x,y = transform(inProj,outProj,x,y)\n",
    "             # reference gps in label_image\n",
    "        row, col =  label_dataset.index(x,y)\n",
    "        label = label_image[:, row, col]\n",
    "        test_buckets[label] +=1\n",
    "print(\"TEST BUCKETS\")\n",
    "print(test_buckets)"
   ]
  }
 ],
 "metadata": {
  "kernelspec": {
   "display_name": "Python 3",
   "language": "python",
   "name": "python3"
  },
  "language_info": {
   "codemirror_mode": {
    "name": "ipython",
    "version": 3
   },
   "file_extension": ".py",
   "mimetype": "text/x-python",
   "name": "python",
   "nbconvert_exporter": "python",
   "pygments_lexer": "ipython3",
   "version": "3.5.2"
  }
 },
 "nbformat": 4,
 "nbformat_minor": 2
}
