{
 "cells": [
  {
   "cell_type": "markdown",
   "metadata": {},
   "source": [
    "# Clustering and Viz Experimentation"
   ]
  },
  {
   "cell_type": "code",
   "execution_count": 125,
   "metadata": {},
   "outputs": [],
   "source": [
    "import rasterio\n",
    "import numpy as np\n",
    "from rasterio.plot import adjust_band\n",
    "import matplotlib.pyplot as plt\n",
    "from rasterio.plot import reshape_as_raster, reshape_as_image\n",
    "from rasterio.plot import show\n",
    "from rasterio.windows import Window\n",
    "from pyproj import Proj, transform\n",
    "import random\n",
    "import math\n",
    "import itertools\n",
    "import os\n",
    "import sys\n",
    "\n",
    "module_path = os.path.abspath(os.path.join('rcnn/'))\n",
    "if module_path not in sys.path:\n",
    "    sys.path.append(module_path)\n",
    "    \n",
    "import utilities as util\n",
    "import importlib\n",
    "import rnn_tiles\n",
    "import rnn_pixels\n",
    "\n",
    "from sklearn.ensemble import RandomForestClassifier, RandomForestRegressor\n",
    "from sklearn.svm import SVC\n",
    "from sklearn import svm\n",
    "from sklearn.metrics import confusion_matrix, classification_report, accuracy_score\n",
    "import sklearn.metrics as metrics\n",
    "from sklearn.neighbors import KNeighborsClassifier\n",
    "from sklearn.linear_model import LogisticRegression,LinearRegression,Lasso"
   ]
  },
  {
   "cell_type": "code",
   "execution_count": 17,
   "metadata": {},
   "outputs": [
    {
     "data": {
      "text/plain": [
       "<module 'utilities' from '/host/Code/florence_mapping/utilities.py'>"
      ]
     },
     "execution_count": 17,
     "metadata": {},
     "output_type": "execute_result"
    }
   ],
   "source": [
    "importlib.reload(rnn_pixels)\n",
    "importlib.reload(rnn_tiles)\n",
    "importlib.reload(util)"
   ]
  },
  {
   "cell_type": "markdown",
   "metadata": {},
   "source": [
    "### importing datasets"
   ]
  },
  {
   "cell_type": "code",
   "execution_count": 21,
   "metadata": {},
   "outputs": [],
   "source": [
    "lc_labels = rasterio.open('/deep_data/recurrent_data/NLCD_DATA/landcover/NLCD_2011_Land_Cover_L48_20190424.img')\n",
    "canopy_labels = rasterio.open('/deep_data/recurrent_data/NLCD_DATA/canopy/CONUSCartographic_2_8_16/Cartographic/nlcd2011_usfs_conus_canopy_cartographic.img')\n",
    "\n",
    "class_dict = util.indexed_dictionary\n",
    "\n",
    "tiles = {}\n",
    "landsat_datasets = {}\n",
    "tiles['028012'] = ['20110324', '20110612', '20110831', '20111103']\n",
    "tiles['029011'] = ['20110308', '20110425', '20110831', '20111103']\n",
    "tiles['028011'] = ['20110308', '20110628', '20110831', '20111103']\n",
    "#tiles['028012'] = ['20110831']\n",
    "#tiles['029011'] = ['20110831']\n",
    "#tiles['028011'] = ['20110831']\n",
    "for tile_number, dates in tiles.items():\n",
    "    tile_datasets = []\n",
    "    l8_image_paths = []\n",
    "    for date in dates:\n",
    "        l8_image_paths.append('/deep_data/recurrent_data/tile{}/combined/combined{}.tif'.format(tile_number, date))\n",
    "    for fp in l8_image_paths:\n",
    "        tile_datasets.append(rasterio.open(fp))\n",
    "    landsat_datasets[tile_number] = tile_datasets\n",
    "    \n",
    "tile_size = 5\n",
    "tile_list = ['028012', '029011', '028011']\n",
    "class_count = len(class_dict)\n",
    "clean_pixels_count = 3000000\n",
    "max_count_per_class = 600"
   ]
  },
  {
   "cell_type": "markdown",
   "metadata": {},
   "source": [
    "### Training Data "
   ]
  },
  {
   "cell_type": "code",
   "execution_count": null,
   "metadata": {},
   "outputs": [
    {
     "name": "stdout",
     "output_type": "stream",
     "text": [
      "Beginning balanced data creation.\n"
     ]
    }
   ],
   "source": [
    "sk_data, sk_labels, class_count_dict = rnn_pixels.balanced_pix_data(landsat_datasets, lc_labels, canopy_labels, tile_size, tile_list, \n",
    "                           clean_pixels_count, class_count, max_count_per_class, class_dict, buffer_pix=1)\n",
    "\n",
    "sk_data.shape, sk_labels.shape, class_count_dict"
   ]
  },
  {
   "cell_type": "markdown",
   "metadata": {},
   "source": [
    "### Testing Data"
   ]
  },
  {
   "cell_type": "code",
   "execution_count": 58,
   "metadata": {},
   "outputs": [
    {
     "name": "stdout",
     "output_type": "stream",
     "text": [
      "Beginning balanced data creation.\n",
      "Clean pix generated, starting generator.\n",
      "Iterating through data and clipping for balance.\n",
      "34438\n",
      "Processing Complete.\n"
     ]
    },
    {
     "data": {
      "text/plain": [
       "((541, 28), (541, 2), {0: 100, 1: 100, 2: 100, 3: 100, 4: 41, 5: 100})"
      ]
     },
     "execution_count": 58,
     "metadata": {},
     "output_type": "execute_result"
    }
   ],
   "source": [
    "clean_pixels_count_test = 100000\n",
    "max_count_per_class = 100\n",
    "\n",
    "sk_data_test, sk_labels_test, class_count_dict_test = rnn_pixels.balanced_pix_data(landsat_datasets, lc_labels, canopy_labels, tile_size, tile_list, \n",
    "                           clean_pixels_count_test, class_count, max_count_per_class, class_dict, buffer_pix=1)\n",
    "\n",
    "sk_data_test.shape, sk_labels_test.shape, class_count_dict_test"
   ]
  },
  {
   "cell_type": "code",
   "execution_count": 5,
   "metadata": {},
   "outputs": [
    {
     "data": {
      "text/plain": [
       "{0: 'Water',\n",
       " 1: 'Developed',\n",
       " 2: 'Forest',\n",
       " 3: 'Cultivated',\n",
       " 4: 'Barren',\n",
       " 5: 'Wetland'}"
      ]
     },
     "execution_count": 5,
     "metadata": {},
     "output_type": "execute_result"
    }
   ],
   "source": [
    "class_dict"
   ]
  },
  {
   "cell_type": "code",
   "execution_count": 64,
   "metadata": {},
   "outputs": [
    {
     "name": "stdout",
     "output_type": "stream",
     "text": [
      "[array([[0.]]) array([[0.]]) array([[0.98]]) ... array([[0.]])\n",
      " array([[0.]]) array([[0.57]])]\n"
     ]
    }
   ],
   "source": [
    "# Data\n",
    "landcover_train = sk_labels_train[:,0]\n",
    "canopy_train = sk_labels_train[:,1]\n",
    "tiles_train = sk_data_train\n",
    "tiles_test = sk_data_test\n",
    "landcover_test = sk_labels_test[:,0]\n",
    "canopy_test = sk_labels_test[:,1]"
   ]
  },
  {
   "cell_type": "markdown",
   "metadata": {},
   "source": [
    "## Testing Input Size"
   ]
  },
  {
   "cell_type": "code",
   "execution_count": 112,
   "metadata": {},
   "outputs": [
    {
     "name": "stdout",
     "output_type": "stream",
     "text": [
      "Beginning balanced data creation.\n",
      "Clean pix generated, starting generator.\n",
      "Iterating through data and clipping for balance.\n",
      "690979\n",
      "Processing Complete.\n"
     ]
    },
    {
     "ename": "AttributeError",
     "evalue": "'dict' object has no attribute 'append'",
     "output_type": "error",
     "traceback": [
      "\u001b[0;31m---------------------------------------------------------------------------\u001b[0m",
      "\u001b[0;31mAttributeError\u001b[0m                            Traceback (most recent call last)",
      "\u001b[0;32m<ipython-input-112-4d16d5b8d06a>\u001b[0m in \u001b[0;36m<module>\u001b[0;34m\u001b[0m\n\u001b[1;32m      8\u001b[0m     sk_data_train, sk_labels_train, class_count_dict_train = rnn_pixels.balanced_pix_data(landsat_datasets, lc_labels, canopy_labels, tile_size, tile_list, \n\u001b[1;32m      9\u001b[0m                            clean_pixels_count_train, class_count, x, class_dict, buffer_pix=1)\n\u001b[0;32m---> 10\u001b[0;31m     \u001b[0mclass_count_dict\u001b[0m\u001b[0;34m.\u001b[0m\u001b[0mappend\u001b[0m\u001b[0;34m(\u001b[0m\u001b[0mclass_count_dict_train\u001b[0m\u001b[0;34m)\u001b[0m\u001b[0;34m\u001b[0m\u001b[0m\n\u001b[0m\u001b[1;32m     11\u001b[0m \u001b[0;34m\u001b[0m\u001b[0m\n\u001b[1;32m     12\u001b[0m     \u001b[0;31m# Data\u001b[0m\u001b[0;34m\u001b[0m\u001b[0;34m\u001b[0m\u001b[0m\n",
      "\u001b[0;31mAttributeError\u001b[0m: 'dict' object has no attribute 'append'"
     ]
    }
   ],
   "source": [
    "\n",
    "\n",
    "# clean_pixels_count_train = 2000000\n",
    "\n",
    "# max_count_per = []\n",
    "# class_count_dict_array = []\n",
    "# scores = []\n",
    "# for x in range(10,500,10):\n",
    "#     max_count_per.append(x)\n",
    "#     sk_data_train, sk_labels_train, class_count_dict_train = rnn_pixels.balanced_pix_data(landsat_datasets, lc_labels, canopy_labels, tile_size, tile_list, \n",
    "#                            clean_pixels_count_train, class_count, x, class_dict, buffer_pix=1)\n",
    "#     class_count_dict_array.append(class_count_dict_train)\n",
    "    \n",
    "#     # Data\n",
    "#     landcover_train = sk_labels_train[:,0]\n",
    "#     canopy_train = sk_labels_train[:,1]\n",
    "#     tiles_train = sk_data_train\n",
    "#     tiles_test = sk_data_test\n",
    "#     landcover_test = sk_labels_test[:,0]\n",
    "#     canopy_test = sk_labels_test[:,1]\n",
    "    \n",
    "#     # Model\n",
    "#     clf = svm.SVC()\n",
    "#     clf.fit(tiles_train,landcover_train.astype('int'))\n",
    "#     pred_clf = clf.predict(tiles_test)\n",
    "#     scores.append(accuracy_score(landcover_test.astype('int'),pred_clf))"
   ]
  },
  {
   "cell_type": "markdown",
   "metadata": {},
   "source": [
    "## SVM (Landcover)"
   ]
  },
  {
   "cell_type": "code",
   "execution_count": 63,
   "metadata": {},
   "outputs": [
    {
     "name": "stdout",
     "output_type": "stream",
     "text": [
      "Classification Report\n",
      "              precision    recall  f1-score   support\n",
      "\n",
      "           0       0.99      1.00      1.00       100\n",
      "           1       0.95      0.87      0.91       100\n",
      "           2       0.93      0.97      0.95       100\n",
      "           3       0.91      0.93      0.92       100\n",
      "           4       0.70      0.80      0.75        41\n",
      "           5       0.93      0.88      0.90       100\n",
      "\n",
      "    accuracy                           0.92       541\n",
      "   macro avg       0.90      0.91      0.90       541\n",
      "weighted avg       0.92      0.92      0.92       541\n",
      "\n",
      "Confusion Matrix\n",
      "[[100   0   0   0   0   0]\n",
      " [  0  87   0   1  12   0]\n",
      " [  0   0  97   0   1   2]\n",
      " [  0   1   2  93   0   4]\n",
      " [  0   4   1   2  33   1]\n",
      " [  1   0   4   6   1  88]]\n"
     ]
    },
    {
     "name": "stderr",
     "output_type": "stream",
     "text": [
      "/usr/local/lib/python3.5/dist-packages/sklearn/svm/base.py:193: FutureWarning: The default value of gamma will change from 'auto' to 'scale' in version 0.22 to account better for unscaled features. Set gamma explicitly to 'auto' or 'scale' to avoid this warning.\n",
      "  \"avoid this warning.\", FutureWarning)\n"
     ]
    }
   ],
   "source": [
    "#SVM\n",
    "clf = svm.SVC()\n",
    "clf.fit(tiles_train,landcover_train.astype('int'))\n",
    "pred_clf = clf.predict(tiles_test)\n",
    "print('Classification Report')\n",
    "print(classification_report(landcover_test.astype('int'), pred_clf))\n",
    "print('Confusion Matrix')\n",
    "print(confusion_matrix(landcover_test.astype('int'), pred_clf))"
   ]
  },
  {
   "cell_type": "markdown",
   "metadata": {},
   "source": [
    "## RFC (Landcover)"
   ]
  },
  {
   "cell_type": "code",
   "execution_count": 67,
   "metadata": {},
   "outputs": [
    {
     "name": "stdout",
     "output_type": "stream",
     "text": [
      "Classification Report\n",
      "              precision    recall  f1-score   support\n",
      "\n",
      "           0       1.00      1.00      1.00       100\n",
      "           1       0.96      0.90      0.93       100\n",
      "           2       0.95      0.97      0.96       100\n",
      "           3       0.92      0.94      0.93       100\n",
      "           4       0.72      0.80      0.76        41\n",
      "           5       0.93      0.90      0.91       100\n",
      "\n",
      "    accuracy                           0.93       541\n",
      "   macro avg       0.91      0.92      0.92       541\n",
      "weighted avg       0.93      0.93      0.93       541\n",
      "\n",
      "Confusion Matrix\n",
      "[[100   0   0   0   0   0]\n",
      " [  0  90   0   1   9   0]\n",
      " [  0   0  97   0   1   2]\n",
      " [  0   0   1  94   2   3]\n",
      " [  0   4   0   2  33   2]\n",
      " [  0   0   4   5   1  90]]\n"
     ]
    }
   ],
   "source": [
    "#RFC\n",
    "rfc = RandomForestClassifier(n_estimators = 350)\n",
    "rfc.fit(tiles_train,landcover_train.astype('int'))\n",
    "pred_rfc = rfc.predict(tiles_test)\n",
    "print('Classification Report')\n",
    "print(classification_report(landcover_test.astype('int'), pred_rfc))\n",
    "print('Confusion Matrix')\n",
    "print(confusion_matrix(landcover_test.astype('int'), pred_rfc))\n"
   ]
  },
  {
   "cell_type": "markdown",
   "metadata": {},
   "source": [
    "## KNN (Landcover)"
   ]
  },
  {
   "cell_type": "code",
   "execution_count": 68,
   "metadata": {},
   "outputs": [
    {
     "name": "stdout",
     "output_type": "stream",
     "text": [
      "Classification Report\n",
      "              precision    recall  f1-score   support\n",
      "\n",
      "           0       0.98      1.00      0.99       100\n",
      "           1       0.88      0.90      0.89       100\n",
      "           2       0.92      0.99      0.95       100\n",
      "           3       0.90      0.85      0.88       100\n",
      "           4       0.65      0.63      0.64        41\n",
      "           5       0.88      0.84      0.86       100\n",
      "\n",
      "    accuracy                           0.89       541\n",
      "   macro avg       0.87      0.87      0.87       541\n",
      "weighted avg       0.89      0.89      0.89       541\n",
      "\n",
      "Confusion Matrix\n",
      "[[100   0   0   0   0   0]\n",
      " [  0  90   0   0  10   0]\n",
      " [  0   0  99   0   0   1]\n",
      " [  0   2   2  85   3   8]\n",
      " [  0  10   1   2  26   2]\n",
      " [  2   0   6   7   1  84]]\n"
     ]
    }
   ],
   "source": [
    "# KNN\n",
    "knn = KNeighborsClassifier(n_neighbors = 23)\n",
    "knn.fit(tiles_train,landcover_train.astype('int'))\n",
    "pred_knn = knn.predict(tiles_test)\n",
    "print('Classification Report')\n",
    "print(classification_report(landcover_test.astype('int'), pred_knn))\n",
    "print('Confusion Matrix')\n",
    "print(confusion_matrix(landcover_test.astype('int'), pred_knn))"
   ]
  },
  {
   "cell_type": "markdown",
   "metadata": {},
   "source": [
    "## Linear Regression (Canopy)"
   ]
  },
  {
   "cell_type": "code",
   "execution_count": 124,
   "metadata": {},
   "outputs": [
    {
     "name": "stdout",
     "output_type": "stream",
     "text": [
      "Mean Absolute Error: 0.12693645361245082\n",
      "Mean Squared Error: 0.029448327042162343\n",
      "Root Mean Squared Error: 0.17160514864700985\n"
     ]
    },
    {
     "data": {
      "text/plain": [
       "Text(0.5, 1.0, 'Linear Regression')"
      ]
     },
     "execution_count": 124,
     "metadata": {},
     "output_type": "execute_result"
    },
    {
     "data": {
      "image/png": "[encoded data removed]",
      "text/plain": [
       "<Figure size 432x288 with 1 Axes>"
      ]
     },
     "metadata": {
      "needs_background": "light"
     },
     "output_type": "display_data"
    }
   ],
   "source": [
    "LR = LinearRegression()\n",
    "LR.fit(tiles_train,canopy_train)\n",
    "predLR = LR.predict(tiles_test)\n",
    "\n",
    "print('Mean Absolute Error:',metrics.mean_absolute_error(canopy_test, predLR))\n",
    "print('Mean Squared Error:',metrics.mean_squared_error(canopy_test, predLR))\n",
    "print('Root Mean Squared Error:', np.sqrt(metrics.mean_squared_error(canopy_test,predLR)))\n",
    "\n",
    "%matplotlib inline \n",
    "plt.figure(1);\n",
    "plt.scatter(canopy_test, predLR, alpha = .1)\n",
    "plt.plot(canopy_test, canopy_test,color = 'r')\n",
    "plt.xlabel('Canopy Values')\n",
    "plt.ylabel('Predicted Values')\n",
    "plt.title('Linear Regression')"
   ]
  },
  {
   "cell_type": "markdown",
   "metadata": {},
   "source": [
    "## Lasso (Canopy)"
   ]
  },
  {
   "cell_type": "code",
   "execution_count": 128,
   "metadata": {},
   "outputs": [
    {
     "name": "stdout",
     "output_type": "stream",
     "text": [
      "Mean Absolute Error: 0.1853649452526745\n",
      "Mean Squared Error: 0.059990422335287376\n",
      "Root Mean Squared Error: 0.24492942317183408\n"
     ]
    },
    {
     "data": {
      "text/plain": [
       "Text(0.5, 1.0, 'Lasso')"
      ]
     },
     "execution_count": 128,
     "metadata": {},
     "output_type": "execute_result"
    },
    {
     "data": {
      "image/png": "[encoded data removed]",
      "text/plain": [
       "<Figure size 432x288 with 1 Axes>"
      ]
     },
     "metadata": {
      "needs_background": "light"
     },
     "output_type": "display_data"
    }
   ],
   "source": [
    "las= Lasso(alpha = 0.05)\n",
    "las.fit(tiles_train,canopy_train)\n",
    "predLas = las.predict(tiles_test)\n",
    "\n",
    "\n",
    "print('Mean Absolute Error:',metrics.mean_absolute_error(canopy_test, predLas))\n",
    "print('Mean Squared Error:',metrics.mean_squared_error(canopy_test, predLas))\n",
    "print('Root Mean Squared Error:', np.sqrt(metrics.mean_squared_error(canopy_test, predLas)))\n",
    "\n",
    "%matplotlib inline \n",
    "plt.figure(1);\n",
    "plt.scatter(canopy_test, predLas)\n",
    "plt.plot(canopy_test, canopy_test,color = 'r')\n",
    "plt.xlabel('Canopy Values')\n",
    "plt.ylabel('Predicted Values')\n",
    "plt.title('Lasso')"
   ]
  },
  {
   "cell_type": "markdown",
   "metadata": {},
   "source": [
    "## Random Forest Regression"
   ]
  },
  {
   "cell_type": "code",
   "execution_count": 135,
   "metadata": {},
   "outputs": [
    {
     "name": "stdout",
     "output_type": "stream",
     "text": [
      "Mean Absolute Error: 0.03962292051756008\n",
      "Mean Squared Error: 0.009371009242144178\n",
      "Root Mean Squared Error: 0.09680397327663869\n"
     ]
    },
    {
     "name": "stderr",
     "output_type": "stream",
     "text": [
      "/usr/local/lib/python3.5/dist-packages/sklearn/ensemble/forest.py:245: FutureWarning: The default value of n_estimators will change from 10 in version 0.20 to 100 in 0.22.\n",
      "  \"10 in version 0.20 to 100 in 0.22.\", FutureWarning)\n"
     ]
    },
    {
     "data": {
      "text/plain": [
       "Text(0.5, 1.0, 'Random Forest Regression')"
      ]
     },
     "execution_count": 135,
     "metadata": {},
     "output_type": "execute_result"
    },
    {
     "data": {
      "image/png": "[encoded data removed]",
      "text/plain": [
       "<Figure size 432x288 with 1 Axes>"
      ]
     },
     "metadata": {
      "needs_background": "light"
     },
     "output_type": "display_data"
    }
   ],
   "source": [
    "rfr = RandomForestRegressor()\n",
    "rfr.fit(tiles_train,canopy_train)\n",
    "pred_rfr = rfr.predict(tiles_test)\n",
    "\n",
    "print('Mean Absolute Error:',metrics.mean_absolute_error(canopy_test, pred_rfr))\n",
    "print('Mean Squared Error:',metrics.mean_squared_error(canopy_test, pred_rfr))\n",
    "print('Root Mean Squared Error:', np.sqrt(metrics.mean_squared_error(canopy_test,pred_rfr)))\n",
    "\n",
    "%matplotlib inline \n",
    "plt.figure(1);\n",
    "plt.scatter(canopy_test, pred_rfr, alpha = .1)\n",
    "plt.plot(canopy_test, canopy_test,color = 'r')\n",
    "plt.xlabel('Canopy Values')\n",
    "plt.ylabel('Predicted Values')\n",
    "plt.title('Random Forest Regression')"
   ]
  },
  {
   "cell_type": "markdown",
   "metadata": {},
   "source": [
    "## Spectral Signatures\n",
    "\n",
    "Landsat 5 specs from USGS https://www.usgs.gov/land-resources/nli/landsat/landsat-5"
   ]
  },
  {
   "cell_type": "code",
   "execution_count": null,
   "metadata": {},
   "outputs": [],
   "source": [
    "fig, ax = plt.subplots(1,1, figsize=[8,8])\n",
    "\n",
    "# numbers 1-8\n",
    "band_count = np.arange(1,29)\n",
    "\n",
    "for class_index in class_dict:\n",
    "    band_intensity = np.mean(sk_data[sk_labels==class_index, :], axis=0)\n",
    "    ax.plot(band_count, band_intensity, label=class_dict[class_index])\n",
    "# plot them as lines\n",
    "\n",
    "# Add some axis labels\n",
    "ax.set_xlabel('Band #')\n",
    "ax.set_ylabel('Reflectance Value')\n",
    "# Add a title\n",
    "ax.set_title('Band Intensities Full Overview')\n",
    "ax.legend(loc='upper left')\n"
   ]
  },
  {
   "cell_type": "code",
   "execution_count": null,
   "metadata": {},
   "outputs": [],
   "source": [
    "sk_data.reshape(-1,4,7).shape"
   ]
  },
  {
   "cell_type": "code",
   "execution_count": null,
   "metadata": {},
   "outputs": [],
   "source": [
    "fig, ax = plt.subplots(1,1, figsize=[8,8])\n",
    "\n",
    "# numbers 1-8\n",
    "band_count = np.arange(1,8)\n",
    "\n",
    "for class_index in class_dict:\n",
    "    # reshape into 4 time steps of \n",
    "    time_steps = len(tiles['028012'])\n",
    "    band_intensity = np.mean(sk_data[sk_labels==class_index, :].reshape(-1,time_steps,7), axis=(0,1))\n",
    "    ax.plot(band_count, band_intensity, label=class_dict[class_index])\n",
    "# plot them as lines\n",
    "\n",
    "# Add some axis labels\n",
    "ax.set_xlabel('Band #')\n",
    "ax.set_ylabel('Reflectance Value')\n",
    "# Add a title\n",
    "ax.set_title('Band Intensities Full Overview')\n",
    "ax.legend(loc='upper left')\n"
   ]
  },
  {
   "cell_type": "markdown",
   "metadata": {},
   "source": [
    "### Dendrogram"
   ]
  },
  {
   "cell_type": "code",
   "execution_count": null,
   "metadata": {},
   "outputs": [],
   "source": [
    "from scipy.cluster import hierarchy\n",
    "\n",
    "image_avgs = []    \n",
    "for class_index in class_dict:\n",
    "    image_avgs.append(np.mean(sk_data[sk_labels==class_index, :], axis=0))\n",
    "\n",
    "ytdist = np.array(image_avgs)\n",
    "\n",
    "Z = hierarchy.linkage(ytdist, 'single')\n",
    "plt.figure(figsize=(10,10))\n",
    "dn = hierarchy.dendrogram(Z, labels=list(class_dict.values()))"
   ]
  },
  {
   "cell_type": "markdown",
   "metadata": {},
   "source": [
    "### PCA and Clustering"
   ]
  },
  {
   "cell_type": "code",
   "execution_count": null,
   "metadata": {},
   "outputs": [],
   "source": [
    "from sklearn.decomposition import PCA\n",
    "import seaborn as sns\n",
    "import pandas as pd\n",
    "from mpl_toolkits.mplot3d import Axes3D\n",
    "\n",
    "pca = PCA(n_components=3)\n",
    "pca_result = pca.fit_transform(sk_data)\n",
    "\n",
    "print('Explained variation per principal component: {}'.format(pca.explained_variance_ratio_))\n",
    "\n",
    "df = pd.DataFrame({'pca-one':pca_result[:,0],'pca-two':pca_result[:,1],'pca-three':pca_result[:,2], 'y' : sk_labels})"
   ]
  },
  {
   "cell_type": "code",
   "execution_count": null,
   "metadata": {},
   "outputs": [],
   "source": [
    "plt.figure(figsize=(16,10))\n",
    "sns.scatterplot(\n",
    "    x=\"pca-one\", y=\"pca-two\",\n",
    "    hue=\"y\",\n",
    "    palette=sns.color_palette(\"hls\", len(np.unique(sk_labels))),\n",
    "    data=df,\n",
    "    legend=\"full\",\n",
    "    alpha=0.3\n",
    ")"
   ]
  },
  {
   "cell_type": "code",
   "execution_count": null,
   "metadata": {},
   "outputs": [],
   "source": [
    "ax = plt.figure(figsize=(16,10)).gca(projection='3d')\n",
    "ax.scatter(\n",
    "    xs=df[\"pca-one\"], \n",
    "    ys=df[\"pca-two\"], \n",
    "    zs=df[\"pca-three\"], \n",
    "    c=df[\"y\"], \n",
    "    cmap='tab10'\n",
    ")\n",
    "ax.set_xlabel('pca-one')\n",
    "ax.set_ylabel('pca-two')\n",
    "ax.set_zlabel('pca-three')\n",
    "plt.show()"
   ]
  },
  {
   "cell_type": "code",
   "execution_count": null,
   "metadata": {},
   "outputs": [],
   "source": [
    "from time import time\n",
    "from sklearn.manifold import TSNE\n",
    "\n",
    "N = 10000\n",
    "data_subset = sk_data[:N, :]\n",
    "\n",
    "time_start = time()\n",
    "tsne = TSNE(n_components=2, verbose=1, perplexity=50, n_iter=1000)\n",
    "tsne_results = tsne.fit_transform(data_subset)\n",
    "print('t-SNE done! Time elapsed: {} seconds'.format(time()-time_start))"
   ]
  },
  {
   "cell_type": "code",
   "execution_count": null,
   "metadata": {},
   "outputs": [],
   "source": [
    "df_subset = df.loc[:N-1,:].copy()\n",
    "df_subset['tsne-2d-one'] = tsne_results[:,0]\n",
    "df_subset['tsne-2d-two'] = tsne_results[:,1]"
   ]
  },
  {
   "cell_type": "code",
   "execution_count": null,
   "metadata": {},
   "outputs": [],
   "source": [
    "plt.figure(figsize=(16,10))\n",
    "sns.scatterplot(\n",
    "    x=\"tsne-2d-one\", y=\"tsne-2d-two\",\n",
    "    hue=\"y\",\n",
    "    palette=sns.color_palette(\"hls\", len(np.unique(sk_labels))),\n",
    "    data=df_subset,\n",
    "    legend=\"full\",\n",
    "    alpha=0.3\n",
    ")"
   ]
  },
  {
   "cell_type": "code",
   "execution_count": null,
   "metadata": {},
   "outputs": [],
   "source": []
  }
 ],
 "metadata": {
  "kernelspec": {
   "display_name": "Python 3",
   "language": "python",
   "name": "python3"
  },
  "language_info": {
   "codemirror_mode": {
    "name": "ipython",
    "version": 3
   },
   "file_extension": ".py",
   "mimetype": "text/x-python",
   "name": "python",
   "nbconvert_exporter": "python",
   "pygments_lexer": "ipython3",
   "version": "3.5.2"
  }
 },
 "nbformat": 4,
 "nbformat_minor": 2
}
