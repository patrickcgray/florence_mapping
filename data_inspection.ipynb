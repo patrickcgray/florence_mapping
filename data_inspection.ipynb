{
 "cells": [
  {
   "cell_type": "markdown",
   "metadata": {},
   "source": [
    "# Inspecting Data "
   ]
  },
  {
   "cell_type": "code",
   "execution_count": 1,
   "metadata": {},
   "outputs": [],
   "source": [
    "import rasterio\n",
    "import numpy as np\n",
    "from rasterio.plot import adjust_band\n",
    "import matplotlib.pyplot as plt\n",
    "from rasterio.plot import reshape_as_raster, reshape_as_image\n",
    "from rasterio.plot import show\n",
    "from rasterio.windows import Window\n",
    "from pyproj import Proj, transform"
   ]
  },
  {
   "cell_type": "markdown",
   "metadata": {},
   "source": [
    "## First let's inspect our labeled landcover dataset"
   ]
  },
  {
   "cell_type": "code",
   "execution_count": 2,
   "metadata": {},
   "outputs": [
    {
     "name": "stdout",
     "output_type": "stream",
     "text": [
      "Number of bands in image: 1\n",
      "\n",
      "Image size is: 17107 rows x 21332 columns\n",
      "\n",
      "Raster driver: GTiff\n",
      "\n",
      "Image projection:\n",
      "EPSG:32618\n"
     ]
    }
   ],
   "source": [
    "# Open our raster dataset\n",
    "label_dataset = rasterio.open('/deep_data/landcover_reproject.tif')\n",
    "label_image = label_dataset.read()\n",
    "\n",
    "# How many bands does this image have?\n",
    "num_bands = label_dataset.count\n",
    "print('Number of bands in image: {n}\\n'.format(n=num_bands))\n",
    "\n",
    "# How many rows and columns?\n",
    "rows, cols = label_dataset.shape\n",
    "print('Image size is: {r} rows x {c} columns\\n'.format(r=rows, c=cols))\n",
    "\n",
    "# What driver was used to open the raster?\n",
    "driver = label_dataset.driver\n",
    "print('Raster driver: {d}\\n'.format(d=driver))\n",
    "\n",
    "# What is the raster's projection?\n",
    "proj = label_dataset.crs\n",
    "print('Image projection:')\n",
    "print(proj)"
   ]
  },
  {
   "cell_type": "markdown",
   "metadata": {},
   "source": [
    "### What is the pixel size?"
   ]
  },
  {
   "cell_type": "code",
   "execution_count": 3,
   "metadata": {},
   "outputs": [
    {
     "name": "stdout",
     "output_type": "stream",
     "text": [
      "| 30.00, 0.00,-130215.00|\n",
      "| 0.00,-30.00, 4187595.00|\n",
      "| 0.00, 0.00, 1.00|\n"
     ]
    }
   ],
   "source": [
    "gt = label_dataset.transform\n",
    "print(gt)"
   ]
  },
  {
   "cell_type": "code",
   "execution_count": 4,
   "metadata": {},
   "outputs": [
    {
     "name": "stdout",
     "output_type": "stream",
     "text": [
      "30.0\n",
      "30.0\n"
     ]
    }
   ],
   "source": [
    "pixelSizeX = gt[0]\n",
    "pixelSizeY =-gt[4]\n",
    "\n",
    "print(pixelSizeX)\n",
    "print(pixelSizeY)"
   ]
  },
  {
   "cell_type": "markdown",
   "metadata": {},
   "source": [
    "#### What is the image shape?"
   ]
  },
  {
   "cell_type": "code",
   "execution_count": 5,
   "metadata": {},
   "outputs": [
    {
     "data": {
      "text/plain": [
       "(1, 17107, 21332)"
      ]
     },
     "execution_count": 5,
     "metadata": {},
     "output_type": "execute_result"
    }
   ],
   "source": [
    "label_image.shape"
   ]
  },
  {
   "cell_type": "markdown",
   "metadata": {},
   "source": [
    "#### how many classes are there?"
   ]
  },
  {
   "cell_type": "code",
   "execution_count": 6,
   "metadata": {},
   "outputs": [
    {
     "ename": "KeyboardInterrupt",
     "evalue": "",
     "output_type": "error",
     "traceback": [
      "\u001b[0;31m---------------------------------------------------------------------------\u001b[0m",
      "\u001b[0;31mKeyboardInterrupt\u001b[0m                         Traceback (most recent call last)",
      "\u001b[0;32m<ipython-input-6-7149dd3d2f5a>\u001b[0m in \u001b[0;36m<module>\u001b[0;34m\u001b[0m\n\u001b[0;32m----> 1\u001b[0;31m \u001b[0mnp\u001b[0m\u001b[0;34m.\u001b[0m\u001b[0munique\u001b[0m\u001b[0;34m(\u001b[0m\u001b[0mlabel_image\u001b[0m\u001b[0;34m)\u001b[0m\u001b[0;34m\u001b[0m\u001b[0m\n\u001b[0m",
      "\u001b[0;32m/usr/local/lib/python3.5/dist-packages/numpy/lib/arraysetops.py\u001b[0m in \u001b[0;36munique\u001b[0;34m(ar, return_index, return_inverse, return_counts, axis)\u001b[0m\n\u001b[1;32m    262\u001b[0m     \u001b[0mar\u001b[0m \u001b[0;34m=\u001b[0m \u001b[0mnp\u001b[0m\u001b[0;34m.\u001b[0m\u001b[0masanyarray\u001b[0m\u001b[0;34m(\u001b[0m\u001b[0mar\u001b[0m\u001b[0;34m)\u001b[0m\u001b[0;34m\u001b[0m\u001b[0m\n\u001b[1;32m    263\u001b[0m     \u001b[0;32mif\u001b[0m \u001b[0maxis\u001b[0m \u001b[0;32mis\u001b[0m \u001b[0;32mNone\u001b[0m\u001b[0;34m:\u001b[0m\u001b[0;34m\u001b[0m\u001b[0m\n\u001b[0;32m--> 264\u001b[0;31m         \u001b[0mret\u001b[0m \u001b[0;34m=\u001b[0m \u001b[0m_unique1d\u001b[0m\u001b[0;34m(\u001b[0m\u001b[0mar\u001b[0m\u001b[0;34m,\u001b[0m \u001b[0mreturn_index\u001b[0m\u001b[0;34m,\u001b[0m \u001b[0mreturn_inverse\u001b[0m\u001b[0;34m,\u001b[0m \u001b[0mreturn_counts\u001b[0m\u001b[0;34m)\u001b[0m\u001b[0;34m\u001b[0m\u001b[0m\n\u001b[0m\u001b[1;32m    265\u001b[0m         \u001b[0;32mreturn\u001b[0m \u001b[0m_unpack_tuple\u001b[0m\u001b[0;34m(\u001b[0m\u001b[0mret\u001b[0m\u001b[0;34m)\u001b[0m\u001b[0;34m\u001b[0m\u001b[0m\n\u001b[1;32m    266\u001b[0m \u001b[0;34m\u001b[0m\u001b[0m\n",
      "\u001b[0;32m/usr/local/lib/python3.5/dist-packages/numpy/lib/arraysetops.py\u001b[0m in \u001b[0;36m_unique1d\u001b[0;34m(ar, return_index, return_inverse, return_counts)\u001b[0m\n\u001b[1;32m    310\u001b[0m         \u001b[0maux\u001b[0m \u001b[0;34m=\u001b[0m \u001b[0mar\u001b[0m\u001b[0;34m[\u001b[0m\u001b[0mperm\u001b[0m\u001b[0;34m]\u001b[0m\u001b[0;34m\u001b[0m\u001b[0m\n\u001b[1;32m    311\u001b[0m     \u001b[0;32melse\u001b[0m\u001b[0;34m:\u001b[0m\u001b[0;34m\u001b[0m\u001b[0m\n\u001b[0;32m--> 312\u001b[0;31m         \u001b[0mar\u001b[0m\u001b[0;34m.\u001b[0m\u001b[0msort\u001b[0m\u001b[0;34m(\u001b[0m\u001b[0;34m)\u001b[0m\u001b[0;34m\u001b[0m\u001b[0m\n\u001b[0m\u001b[1;32m    313\u001b[0m         \u001b[0maux\u001b[0m \u001b[0;34m=\u001b[0m \u001b[0mar\u001b[0m\u001b[0;34m\u001b[0m\u001b[0m\n\u001b[1;32m    314\u001b[0m     \u001b[0mmask\u001b[0m \u001b[0;34m=\u001b[0m \u001b[0mnp\u001b[0m\u001b[0;34m.\u001b[0m\u001b[0mempty\u001b[0m\u001b[0;34m(\u001b[0m\u001b[0maux\u001b[0m\u001b[0;34m.\u001b[0m\u001b[0mshape\u001b[0m\u001b[0;34m,\u001b[0m \u001b[0mdtype\u001b[0m\u001b[0;34m=\u001b[0m\u001b[0mnp\u001b[0m\u001b[0;34m.\u001b[0m\u001b[0mbool_\u001b[0m\u001b[0;34m)\u001b[0m\u001b[0;34m\u001b[0m\u001b[0m\n",
      "\u001b[0;31mKeyboardInterrupt\u001b[0m: "
     ]
    }
   ],
   "source": [
    "np.unique(label_image)"
   ]
  },
  {
   "cell_type": "markdown",
   "metadata": {},
   "source": [
    "#### For now I'm just combining all pixels currently classified as 255 into class 1\n",
    "\n",
    "But it might be worth combining other classes here too and saving out the raster as something new\n"
   ]
  },
  {
   "cell_type": "code",
   "execution_count": null,
   "metadata": {},
   "outputs": [],
   "source": [
    "label_image[label_image == 255] = 1"
   ]
  },
  {
   "cell_type": "markdown",
   "metadata": {},
   "source": [
    "Let's take a look at it"
   ]
  },
  {
   "cell_type": "code",
   "execution_count": null,
   "metadata": {},
   "outputs": [],
   "source": [
    "fig, ax = plt.subplots(figsize=[15,15])\n",
    "ax.imshow(label_image[0,:,:])"
   ]
  },
  {
   "cell_type": "markdown",
   "metadata": {},
   "source": [
    "Since that isn't very informative let's add a colormap and visualize what's really there"
   ]
  },
  {
   "cell_type": "code",
   "execution_count": null,
   "metadata": {},
   "outputs": [],
   "source": [
    "# next setup a colormap for our map\n",
    "colors = dict((\n",
    "    (11, (0,0,255)),\n",
    "(12, (0,0,255)),\n",
    "(21, (0,0,255)),\n",
    "(22, (0,0,255)),\n",
    "(23, (0,0,255)),\n",
    "(24, (0,0,255)),\n",
    "(31, (0,0,255)),\n",
    "(41, (0,0,255)),\n",
    "(42, (0,0,255)),\n",
    "(43, (0,0,255)),\n",
    "(52, (0,0,255)),\n",
    "(71, (0,0,255)),\n",
    "(81, (0,0,255)),\n",
    "(82, (0,0,255)),\n",
    "(90, (0,0,255)),\n",
    "(95, (0,0,255)),\n",
    "))\n",
    "\n",
    "n = int(np.max(label_image))\n",
    "\n",
    "# Put 0 - 255 as float 0 - 1\n",
    "for k in colors:\n",
    "    v = colors[k]\n",
    "    _v = [_v / 255.0 for _v in v]\n",
    "    colors[k] = _v\n",
    "    \n",
    "index_colors = [colors[key] if key in colors else \n",
    "                (255, 255, 255, 0) for key in range(0, n)]\n",
    "\n",
    "cmap = plt.matplotlib.colors.ListedColormap(index_colors, 'Classification', n)\n",
    "\n",
    "# Now show the class map next to the RGB image\n",
    "\n",
    "fig, axs = plt.subplots(figsize=(15,15))\n",
    "\n",
    "axs.imshow(label_image[0,:, :], cmap=cmap, interpolation='none')\n",
    "#axs.imshow(image[0,:, :], cmap=cmap, interpolation='none')\n",
    "\n",
    "plt.show()"
   ]
  },
  {
   "cell_type": "code",
   "execution_count": null,
   "metadata": {},
   "outputs": [],
   "source": [
    "fig, ax = plt.subplots(figsize=(10,5))\n",
    "show_hist(label_dataset, ax=ax, bins=len(np.unique(label_image)), lw=0.0, stacked=False, \n",
    "               histtype='stepfilled', title=\"Class Distribution\")"
   ]
  },
  {
   "cell_type": "code",
   "execution_count": null,
   "metadata": {},
   "outputs": [],
   "source": [
    "label_dataset.close()"
   ]
  },
  {
   "cell_type": "markdown",
   "metadata": {},
   "source": [
    "## Moving to Landsat Inspection"
   ]
  },
  {
   "cell_type": "code",
   "execution_count": null,
   "metadata": {},
   "outputs": [],
   "source": [
    "image_index = 4"
   ]
  },
  {
   "cell_type": "code",
   "execution_count": null,
   "metadata": {},
   "outputs": [],
   "source": [
    "l8_image_paths = [\n",
    "    '/deep_data/processed_landsat/LC08_CU_027012_20170907_20181121_C01_V01_SR_combined.tif',\n",
    "    '/deep_data/processed_landsat/LC08_CU_028011_20170907_20181130_C01_V01_SR_combined.tif',  \n",
    "    '/deep_data/processed_landsat/LC08_CU_028012_20171002_20171019_C01_V01_SR_combined.tif',\n",
    "    '/deep_data/processed_landsat/LC08_CU_028012_20171103_20190429_C01_V01_SR_combined.tif',\n",
    "    '/deep_data/processed_landsat/LC08_CU_029011_20171018_20190429_C01_V01_SR_combined.tif',\n",
    "]\n",
    "l8_filename = l8_image_paths[image_index]"
   ]
  },
  {
   "cell_type": "code",
   "execution_count": null,
   "metadata": {},
   "outputs": [],
   "source": [
    "#l8_filename = '/deep_data/processed_landsat/LC08_CU_028012_20171002_20171019_C01_V01_SR_combined.tif'\n",
    "\n",
    "image_dataset = rasterio.open(l8_filename)\n",
    "\n",
    "# How many bands does this image have?\n",
    "num_bands = image_dataset.count\n",
    "print('Number of bands in image: {n}\\n'.format(n=num_bands))\n",
    "\n",
    "# How many rows and columns?\n",
    "rows, cols = image_dataset.shape\n",
    "print('Image size is: {r} rows x {c} columns\\n'.format(r=rows, c=cols))\n",
    "\n",
    "# What driver was used to open the raster?\n",
    "driver = image_dataset.driver\n",
    "print('Raster driver: {d}\\n'.format(d=driver))\n",
    "\n",
    "# What is the raster's projection?\n",
    "proj = image_dataset.crs\n",
    "print('Image projection:')\n",
    "print(proj)"
   ]
  },
  {
   "cell_type": "markdown",
   "metadata": {},
   "source": [
    "\n",
    "#### Let's just visualize it to see what's going on"
   ]
  },
  {
   "cell_type": "code",
   "execution_count": null,
   "metadata": {},
   "outputs": [],
   "source": [
    "import matplotlib.pyplot as plt\n",
    "from rasterio.plot import show_hist\n",
    "\n",
    "full_img = image_dataset.read()\n",
    "clipped_img = full_img[[3, 2, 1], :, :]\n",
    "print(clipped_img.shape)\n",
    "fig, ax = plt.subplots(figsize=(10,7))\n",
    "show(clipped_img[:, :, :], ax=ax, transform=image_dataset.transform) # add the transform arg to get it in lat long coords"
   ]
  },
  {
   "cell_type": "markdown",
   "metadata": {},
   "source": [
    "#### Not very informative...\n",
    "\n",
    "Let's try to normalize it with the built in rasterio adjust_band function"
   ]
  },
  {
   "cell_type": "code",
   "execution_count": null,
   "metadata": {},
   "outputs": [],
   "source": [
    "from rasterio.plot import adjust_band, show_hist\n",
    "\n",
    "img_norm = adjust_band(clipped_img) # normalize bands to range between 1.0 to 0.0\n",
    "img_reshaped = reshape_as_image(img_norm) # reshape to [rows, cols, bands]\n",
    "\n",
    "fig, axs = plt.subplots(1, 2, figsize=(10, 5))\n",
    "\n",
    "# the rasterio show function takes in [bands, rows, cols] so we don't need to reshape\n",
    "show(img_norm, ax=axs[0])\n",
    "axs[0].set_title(\"RGB from rasterio show\")\n",
    "\n",
    "# plot with normal matplotlib functions\n",
    "axs[1].imshow(img_reshaped)\n",
    "axs[1].set_title(\"RGB in matplotlib imshow\")"
   ]
  },
  {
   "cell_type": "markdown",
   "metadata": {},
   "source": [
    "Still not very useful, let's check out the historgram and normalize it ourselves"
   ]
  },
  {
   "cell_type": "code",
   "execution_count": null,
   "metadata": {},
   "outputs": [],
   "source": [
    "print(np.amax(full_img))\n",
    "print(np.amin(full_img))"
   ]
  },
  {
   "cell_type": "code",
   "execution_count": null,
   "metadata": {
    "scrolled": false
   },
   "outputs": [],
   "source": [
    "fig, ax = plt.subplots(figsize=(10,5))\n",
    "show_hist(image_dataset, ax=ax, bins=50, lw=0.0, stacked=False, alpha=0.3, \n",
    "               histtype='stepfilled', title=\"Full Histogram\")"
   ]
  },
  {
   "cell_type": "code",
   "execution_count": null,
   "metadata": {},
   "outputs": [],
   "source": [
    "from rasterio.plot import reshape_as_raster, reshape_as_image\n",
    "\n",
    "# Extract reference to SWIR1, NIR, and Red bands\n",
    "index = np.array([3, 2, 1])\n",
    "colors = full_img[index, :, :].astype(np.float64)\n",
    "\n",
    "max_val = 4000\n",
    "min_val = 0\n",
    "\n",
    "# Enforce maximum and minimum values\n",
    "colors[colors[:, :, :] > max_val] = max_val\n",
    "colors[colors[:, :, :] < min_val] = min_val\n",
    "\n",
    "for b in range(colors.shape[0]):\n",
    "    colors[b, :, :] = colors[b, :, :] * 1 / (max_val - min_val)\n",
    "\n",
    "# rasters are in the format [bands, rows, cols] whereas images are typically [rows, cols, bands]\n",
    "# and so our array needs to be reshaped\n",
    "print(colors.shape)\n",
    "colors_reshaped = reshape_as_image(colors)\n",
    "print(colors_reshaped.shape)"
   ]
  },
  {
   "cell_type": "code",
   "execution_count": null,
   "metadata": {},
   "outputs": [],
   "source": [
    "fig, ax = plt.subplots(figsize=(10, 10))\n",
    "\n",
    "# plot with normal matplotlib functions\n",
    "ax.imshow(colors_reshaped)\n",
    "ax.set_title(\"RGB in matplotlib imshow\")"
   ]
  },
  {
   "cell_type": "markdown",
   "metadata": {},
   "source": [
    "### okay that's what it should really look like!"
   ]
  },
  {
   "cell_type": "code",
   "execution_count": null,
   "metadata": {},
   "outputs": [],
   "source": [
    "#### now let's check out the quality band\n",
    "clipped_img = full_img[[7], :, :]\n",
    "print(clipped_img.shape)\n",
    "fig, ax = plt.subplots(figsize=(10,7))\n",
    "show(clipped_img[:, :, :], ax=ax, transform=image_dataset.transform)\n",
    "# show(clipped_img[:, :, :], ax=ax, transform=image_dataset.transform) # add the transform arg to get it in lat long coords"
   ]
  },
  {
   "cell_type": "markdown",
   "metadata": {},
   "source": [
    "Looks good too!\n",
    "\n",
    "### Now let's inspect where it is on the map"
   ]
  },
  {
   "cell_type": "code",
   "execution_count": null,
   "metadata": {},
   "outputs": [],
   "source": [
    "from pyproj import transform\n",
    "# this will get our four corner points\n",
    "raster_utm_points = image_dataset.transform * (0, 0), image_dataset.transform * (image_dataset.width, 0), image_dataset.transform * (image_dataset.width, image_dataset.height), image_dataset.transform * (0, image_dataset.height)\n",
    "\n",
    "# Project all longitudes, latitudes using the pyproj package\n",
    "p1 = Proj(image_dataset.crs) # our current crs\n",
    "p2 = Proj(\"+proj=longlat +ellps=WGS84 +datum=WGS84 +no_defs \") # the crs we want our raster to be in\n",
    "\n",
    "# use the pyproj.transform function to convert the positions to longs, lats\n",
    "lats, longs = transform(p1, p2, np.array(raster_utm_points)[:,0],np.array(raster_utm_points)[:,1])\n",
    "\n",
    "raster_gps_points = list(zip(lats, longs)) # zip up the points so they're in the form [(lat, long), ...]\n",
    "\n",
    "print('raster bounds in UTM 18N:\\n', raster_utm_points, '\\n')\n",
    "print('raster bounds in lat, lon:\\n', raster_gps_points)"
   ]
  },
  {
   "cell_type": "code",
   "execution_count": null,
   "metadata": {},
   "outputs": [],
   "source": [
    "import folium # let's make an interactive map using leaflet\n",
    "\n",
    "# folium requires lat, long but dataset.transform outputs long, lat so reversing them:\n",
    "raster_gps_reversed = list(zip(np.array(raster_gps_points)[:,1], np.array(raster_gps_points)[:,0]))\n",
    "\n",
    "# creating these points just to set the map center\n",
    "lat, long = raster_gps_reversed[1] \n",
    "\n",
    "# create the folium map object\n",
    "m = folium.Map(location=[lat, long], zoom_start=11) # set the map centered around the first point\n",
    "\n",
    "# this actually adds the polygon to the map\n",
    "folium.Polygon(raster_gps_reversed, \n",
    "               popup='Landsat 8 Image Bounds',\n",
    "               color='#3186cc',\n",
    "               fill=True,\n",
    "               fill_color='#3186cc'\n",
    "              ).add_to(m)\n",
    "\n",
    "m"
   ]
  },
  {
   "cell_type": "code",
   "execution_count": null,
   "metadata": {},
   "outputs": [],
   "source": [
    "image_dataset.close()"
   ]
  },
  {
   "cell_type": "markdown",
   "metadata": {},
   "source": [
    "### Sentinel SAR Data"
   ]
  },
  {
   "cell_type": "code",
   "execution_count": null,
   "metadata": {},
   "outputs": [],
   "source": [
    "def plot_image(image, factor=1):\n",
    "    \"\"\"\n",
    "    Utility function for plotting RGB images.\n",
    "    \"\"\"\n",
    "    fig = plt.subplots(nrows=1, ncols=1, figsize=(15, 7))\n",
    "    \n",
    "    if np.issubdtype(image.dtype, np.floating):\n",
    "        plt.imshow(np.minimum(image * factor, 1))\n",
    "    else:\n",
    "        plt.imshow(image)"
   ]
  },
  {
   "cell_type": "code",
   "execution_count": null,
   "metadata": {},
   "outputs": [],
   "source": [
    "\n",
    "s1_image_paths = [\n",
    "    '/deep_data/sentinel_sar/LC08_CU_027012_20170907_20181121_C01_V01_SR_combined/aligned-LC08_CU_027012_20170907_20181121_C01_V01_SR_combined_SAR.tif',\n",
    "    '/deep_data/sentinel_sar/LC08_CU_028011_20170907_20181130_C01_V01_SR_combined/aligned-LC08_CU_028011_20170907_20181130_C01_V01_SR_combined_SAR.tif',\n",
    "    '/deep_data/sentinel_sar/LC08_CU_028012_20171002_20171019_C01_V01_SR_combined/aligned-LC08_CU_028012_20171002_20171019_C01_V01_SR_combined_SAR.tif',\n",
    "    '/deep_data/sentinel_sar/LC08_CU_028012_20171103_20190429_C01_V01_SR_combined/aligned-LC08_CU_028012_20171103_20190429_C01_V01_SR_combined_SAR.tif',\n",
    "    '/deep_data/sentinel_sar/LC08_CU_029011_20171018_20190429_C01_V01_SR_combined/aligned-LC08_CU_029011_20171018_20190429_C01_V01_SR_combined_SAR.tif',\n",
    "]\n",
    "sent1_fn = s1_image_paths[image_index]"
   ]
  },
  {
   "cell_type": "code",
   "execution_count": null,
   "metadata": {},
   "outputs": [],
   "source": [
    "image_dataset = rasterio.open(sent1_fn)\n",
    "# How many bands does this image have?\n",
    "num_bands = image_dataset.count\n",
    "print('Number of bands in image: {n}\\n'.format(n=num_bands))\n",
    "\n",
    "# How many rows and columns?\n",
    "rows, cols = image_dataset.shape\n",
    "print('Image size is: {r} rows x {c} columns\\n'.format(r=rows, c=cols))\n",
    "\n",
    "# What driver was used to open the raster?\n",
    "driver = image_dataset.driver\n",
    "print('Raster driver: {d}\\n'.format(d=driver))\n",
    "\n",
    "# What is the raster's projection?\n",
    "proj = image_dataset.crs\n",
    "print('Image projection:')\n",
    "print(proj)\n",
    "\n",
    "pixelSizeX, pixelSizeY  = image_dataset.res\n",
    "print(pixelSizeX)\n",
    "print(pixelSizeY)"
   ]
  },
  {
   "cell_type": "code",
   "execution_count": null,
   "metadata": {},
   "outputs": [],
   "source": [
    "plot_image(image_dataset.read()[0,:,:])"
   ]
  },
  {
   "cell_type": "code",
   "execution_count": null,
   "metadata": {},
   "outputs": [],
   "source": [
    "fig, ax = plt.subplots(figsize=(10,5))\n",
    "show_hist(image_dataset, ax=ax, bins=500, lw=0.0, stacked=False, histtype='stepfilled', title=\"Sent1 Intensity Histogram\")"
   ]
  },
  {
   "cell_type": "code",
   "execution_count": null,
   "metadata": {},
   "outputs": [],
   "source": [
    "s1_raster_utm_points = image_dataset.transform * (0, 0), image_dataset.transform * (image_dataset.width, 0), image_dataset.transform * (image_dataset.width, image_dataset.height), image_dataset.transform * (0, image_dataset.height)\n",
    "\n",
    "# Project all longitudes, latitudes using the pyproj package\n",
    "p1 = Proj(image_dataset.crs) # our current crs\n",
    "p2 = Proj(\"+proj=longlat +ellps=WGS84 +datum=WGS84 +no_defs \") # the crs we want our raster to be in\n",
    "\n",
    "# use the pyproj.transform function to convert the positions to longs, lats\n",
    "lats, longs = transform(p1, p2, np.array(s1_raster_utm_points)[:,0],np.array(s1_raster_utm_points)[:,1])\n",
    "\n",
    "s1_raster_gps_points = list(zip(lats, longs)) # zip up the points so they're in the form [(lat, long), ...]\n",
    "\n",
    "# folium requires lat, long but dataset.transform outputs long, lat so reversing them:\n",
    "s1_raster_gps_reversed = list(zip(np.array(s1_raster_gps_points)[:,1], np.array(s1_raster_gps_points)[:,0]))\n",
    "\n",
    "# creating these points just to set the map center\n",
    "lat, long = raster_gps_reversed[1] \n",
    "\n",
    "# create the folium map object\n",
    "m = folium.Map(location=[lat, long], zoom_start=8) # set the map centered around the first point\n",
    "\n",
    "# this actually adds the polygon to the map\n",
    "folium.Polygon(raster_gps_reversed, \n",
    "               popup='Landsat 8 Image Bounds',\n",
    "               color='#800080',\n",
    "               fill=True,\n",
    "               fill_color='#800080'\n",
    "              ).add_to(m)\n",
    "\n",
    "folium.Polygon(s1_raster_gps_reversed, \n",
    "               popup='Sentinel-1 Image Bounds',\n",
    "               color='#3186cc',\n",
    "               fill=True,\n",
    "               fill_color='#3186cc'\n",
    "              ).add_to(m)\n",
    "\n",
    "m"
   ]
  },
  {
   "cell_type": "code",
   "execution_count": null,
   "metadata": {},
   "outputs": [],
   "source": [
    "image_dataset.close()"
   ]
  },
  {
   "cell_type": "code",
   "execution_count": null,
   "metadata": {},
   "outputs": [],
   "source": [
    "dem_image_paths = [\n",
    "    '/deep_data/sentinel_sar/LC08_CU_027012_20170907_20181121_C01_V01_SR_combined_dem/aligned-wms_DEM_EPSG4326_-79.69001_33.95762_-77.7672_35.51886__4500X4631_ShowLogo_False_tiff_depth=32f.tiff',\n",
    "    '/deep_data/sentinel_sar/LC08_CU_028011_20170907_20181130_C01_V01_SR_combined_dem/aligned-wms_DEM_EPSG4326_-77.7672_35.00779_-75.79042_36.58923__4500X4262_ShowLogo_False_tiff_depth=32f.tiff',\n",
    "    '/deep_data/sentinel_sar/LC08_CU_028012_20171002_20171019_C01_V01_SR_combined_dem/aligned-wms_DEM_EPSG4326_-79.69001_33.95762_-77.7672_35.51886__4500X4631_ShowLogo_False_tiff_depth=32f.tiff',\n",
    "    '/deep_data/sentinel_sar/LC08_CU_028012_20171103_20190429_C01_V01_SR_combined_dem/aligned-wms_DEM_EPSG4326_-78.07896_33.69485_-76.14021_35.27466__4500X4248_ShowLogo_False_tiff_depth=32f.tiff',\n",
    "    '/deep_data/sentinel_sar/LC08_CU_029011_20171018_20190429_C01_V01_SR_combined_dem/aligned-wms_DEM_EPSG4326_-76.14021_34.71847_-74.14865_36.318__4500X4408_ShowLogo_False_tiff_depth=32f.tiff',\n",
    "\n",
    "]\n",
    "dem_fn = dem_image_paths[image_index]"
   ]
  },
  {
   "cell_type": "code",
   "execution_count": null,
   "metadata": {},
   "outputs": [],
   "source": [
    "image_dataset = rasterio.open(dem_fn)\n",
    "# How many bands does this image have?\n",
    "num_bands = image_dataset.count\n",
    "print('Number of bands in image: {n}\\n'.format(n=num_bands))\n",
    "\n",
    "# How many rows and columns?\n",
    "rows, cols = image_dataset.shape\n",
    "print('Image size is: {r} rows x {c} columns\\n'.format(r=rows, c=cols))\n",
    "\n",
    "# What driver was used to open the raster?\n",
    "driver = image_dataset.driver\n",
    "print('Raster driver: {d}\\n'.format(d=driver))\n",
    "\n",
    "# What is the raster's projection?\n",
    "proj = image_dataset.crs\n",
    "print('Image projection:')\n",
    "print(proj)\n",
    "\n",
    "pixelSizeX, pixelSizeY  = image_dataset.res\n",
    "print(pixelSizeX)\n",
    "print(pixelSizeY)"
   ]
  },
  {
   "cell_type": "code",
   "execution_count": null,
   "metadata": {},
   "outputs": [],
   "source": [
    "dem_image = image_dataset.read()[0,:,:]\n",
    "plot_image(dem_image, 1 / np.amax(dem_image))"
   ]
  },
  {
   "cell_type": "code",
   "execution_count": null,
   "metadata": {},
   "outputs": [],
   "source": [
    "fig, ax = plt.subplots(figsize=(10,5))\n",
    "show_hist(image_dataset, ax=ax, bins=50, lw=0.0, stacked=False, alpha=0.3, \n",
    "               histtype='stepfilled', title=\"Full Histogram\")"
   ]
  },
  {
   "cell_type": "code",
   "execution_count": null,
   "metadata": {},
   "outputs": [],
   "source": [
    "np.median(image_dataset.read())"
   ]
  },
  {
   "cell_type": "code",
   "execution_count": null,
   "metadata": {
    "scrolled": false
   },
   "outputs": [],
   "source": [
    "dem_raster_utm_points = image_dataset.transform * (0, 0), image_dataset.transform * (image_dataset.width, 0), image_dataset.transform * (image_dataset.width, image_dataset.height), image_dataset.transform * (0, image_dataset.height)\n",
    "\n",
    "# Project all longitudes, latitudes using the pyproj package\n",
    "p1 = Proj(image_dataset.crs) # our current crs\n",
    "p2 = Proj(\"+proj=longlat +ellps=WGS84 +datum=WGS84 +no_defs \") # the crs we want our raster to be in\n",
    "\n",
    "# use the pyproj.transform function to convert the positions to longs, lats\n",
    "lats, longs = transform(p1, p2, np.array(dem_raster_utm_points)[:,0],np.array(dem_raster_utm_points)[:,1])\n",
    "\n",
    "dem_raster_gps_points = list(zip(lats, longs)) # zip up the points so they're in the form [(lat, long), ...]\n",
    "\n",
    "# folium requires lat, long but dataset.transform outputs long, lat so reversing them:\n",
    "dem_raster_gps_reversed = list(zip(np.array(s1_raster_gps_points)[:,1], np.array(s1_raster_gps_points)[:,0]))\n",
    "\n",
    "# creating these points just to set the map center\n",
    "lat, long = raster_gps_reversed[1] \n",
    "\n",
    "# create the folium map object\n",
    "m = folium.Map(location=[lat, long], zoom_start=8) # set the map centered around the first point\n",
    "\n",
    "# this actually adds the polygon to the map\n",
    "folium.Polygon(raster_gps_reversed, \n",
    "               popup='Landsat 8 Image Bounds',\n",
    "               color='#800080',\n",
    "               fill=True,\n",
    "               fill_color='#800080'\n",
    "              ).add_to(m)\n",
    "\n",
    "folium.Polygon(s1_raster_gps_reversed, \n",
    "               popup='Sentinel-1 Image Bounds',\n",
    "               color='#3186cc',\n",
    "               fill=True,\n",
    "               fill_color='#3186cc'\n",
    "              ).add_to(m)\n",
    "\n",
    "folium.Polygon(dem_raster_gps_reversed, \n",
    "               popup='DEM Image Bounds',\n",
    "               color='#ffdab9',\n",
    "               fill=True,\n",
    "               fill_color='#ffdab9'\n",
    "              ).add_to(m)\n",
    "\n",
    "m"
   ]
  },
  {
   "cell_type": "code",
   "execution_count": null,
   "metadata": {},
   "outputs": [],
   "source": [
    "image_dataset.close()"
   ]
  },
  {
   "cell_type": "code",
   "execution_count": null,
   "metadata": {},
   "outputs": [],
   "source": []
  }
 ],
 "metadata": {
  "kernelspec": {
   "display_name": "Python 3",
   "language": "python",
   "name": "python3"
  },
  "language_info": {
   "codemirror_mode": {
    "name": "ipython",
    "version": 3
   },
   "file_extension": ".py",
   "mimetype": "text/x-python",
   "name": "python",
   "nbconvert_exporter": "python",
   "pygments_lexer": "ipython3",
   "version": "3.5.2"
  }
 },
 "nbformat": 4,
 "nbformat_minor": 2
}
